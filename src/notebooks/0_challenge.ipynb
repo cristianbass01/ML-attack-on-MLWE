{
 "cells": [
  {
   "cell_type": "markdown",
   "id": "ae46095b",
   "metadata": {},
   "source": [
    "# Load params from challenge\n",
    "\n",
    "Trying to solve the challenges on: https://bochum-challeng.es/challenges/kyber"
   ]
  },
  {
   "cell_type": "code",
   "execution_count": null,
   "id": "6fbb560c",
   "metadata": {},
   "outputs": [
    {
     "name": "stdout",
     "output_type": "stream",
     "text": [
      "dict_keys(['bkz', 'bit', 'n', 'k', 'q', 'eta1', 'eta2', 'du', 'dv', 'A', 't', 'ct'])\n"
     ]
    }
   ],
   "source": [
    "import importlib.util\n",
    "\n",
    "def load_module_as_dict(file_path):\n",
    "    spec = importlib.util.spec_from_file_location(\"kyber_module\", file_path)\n",
    "    module = importlib.util.module_from_spec(spec)\n",
    "    spec.loader.exec_module(module)\n",
    "    \n",
    "    # Extract all attributes that don't start with \"__\"\n",
    "    return {k: v for k, v in vars(module).items() if not k.startswith(\"__\")}\n",
    "\n",
    "# Example usage\n",
    "file_path = \"./../challenge/Kyber-128-k8.py\"\n",
    "params_dict = load_module_as_dict(file_path)\n",
    "print(params_dict.keys())"
   ]
  },
  {
   "cell_type": "code",
   "execution_count": null,
   "id": "32788dfd",
   "metadata": {},
   "outputs": [],
   "source": [
    "kyber = Kyber(params_dict)\n",
    "A_lwe, b_lwe = transform_lwe(params_dict['A'], params_dict['t'])"
   ]
  }
 ],
 "metadata": {
  "language_info": {
   "name": "python"
  }
 },
 "nbformat": 4,
 "nbformat_minor": 5
}
