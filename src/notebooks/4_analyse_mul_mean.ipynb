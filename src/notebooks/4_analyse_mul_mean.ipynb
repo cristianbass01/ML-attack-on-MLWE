{
 "cells": [
  {
   "cell_type": "markdown",
   "id": "11d31cf1",
   "metadata": {},
   "source": [
    "### Analyse the output file to retrive statistics on the run"
   ]
  },
  {
   "cell_type": "code",
   "execution_count": 9,
   "id": "d24a6bb6",
   "metadata": {},
   "outputs": [],
   "source": [
    "import re\n",
    "import ast\n",
    "import numpy as np\n",
    "import glob\n",
    "import os\n",
    "import pandas as pd\n",
    "\n",
    "from plotly import graph_objects as go"
   ]
  },
  {
   "cell_type": "code",
   "execution_count": 10,
   "id": "c05a92c1",
   "metadata": {},
   "outputs": [
    {
     "name": "stdout",
     "output_type": "stream",
     "text": [
      "Found 67 output files.\n"
     ]
    }
   ],
   "source": [
    "output_files = \"../cluster/outputs/new_means/*.out\"\n",
    "\n",
    "if isinstance(output_files, str):\n",
    "    output_files = sorted(glob.glob(output_files))\n",
    "    if not output_files:\n",
    "        print(\"No output files found.\")\n",
    "        exit(1)\n",
    "  \n",
    "print(f\"Found {len(output_files)} output files.\")"
   ]
  },
  {
   "cell_type": "code",
   "execution_count": 11,
   "id": "0e21955a",
   "metadata": {},
   "outputs": [],
   "source": [
    "def parse_output_file(output_file):\n",
    "    \"\"\"Parse the output file and extract relevant statistics.\"\"\"\n",
    "    print(f\"Parsing output file: {output_file}\")\n",
    "\n",
    "    # Statistics from the output file\n",
    "    with open(output_file, 'r') as file:\n",
    "        content = file.readlines()\n",
    "        processed_content = []\n",
    "        for line in content:\n",
    "            if '.-' in line:\n",
    "                split_lines = line.replace('.-', '.\\n-').splitlines()\n",
    "                processed_content.extend(split_lines)\n",
    "            else:\n",
    "                processed_content.append(line)\n",
    "        content = [line for line in processed_content if line.strip()]\n",
    "\n",
    "    results = {\n",
    "        \"output_file\": os.path.basename(output_file),\n",
    "        'parameters': {},\n",
    "        'attack_times': []\n",
    "    }\n",
    "\n",
    "    # Extract dictionary from the first line using ast.literal_eval for safety\n",
    "    parameters_line = content[0]\n",
    "    results['parameters'] = ast.literal_eval(parameters_line.strip().split(\"Parameters: \")[1])\n",
    "\n",
    "    # Iterate through the file content and parse relevant data\n",
    "    for counter in range(1, len(content)):\n",
    "        line = content[counter]\n",
    "        attack_time_match = re.match(r\"Attack \\d+/\\d+ completed in ([\\d.]+) seconds\\.\", line)\n",
    "        if attack_time_match:\n",
    "            attack_time = float(attack_time_match.group(1))\n",
    "            results['attack_times'].append(attack_time)\n",
    "        \n",
    "\n",
    "    return results"
   ]
  },
  {
   "cell_type": "markdown",
   "id": "bc4ba1c0",
   "metadata": {},
   "source": [
    "Parameters used:"
   ]
  },
  {
   "cell_type": "code",
   "execution_count": 48,
   "id": "e400220e",
   "metadata": {},
   "outputs": [
    {
     "name": "stdout",
     "output_type": "stream",
     "text": [
      "Parsing output file: ../cluster/outputs/new_means/attack_6338001.out\n",
      "Parsing output file: ../cluster/outputs/new_means/attack_6338002.out\n",
      "Parsing output file: ../cluster/outputs/new_means/attack_6338003.out\n",
      "Parsing output file: ../cluster/outputs/new_means/attack_6338004.out\n",
      "Parsing output file: ../cluster/outputs/new_means/attack_6338005.out\n",
      "Parsing output file: ../cluster/outputs/new_means/attack_6338006.out\n",
      "Parsing output file: ../cluster/outputs/new_means/attack_6338007.out\n",
      "Parsing output file: ../cluster/outputs/new_means/attack_6338008.out\n",
      "Parsing output file: ../cluster/outputs/new_means/attack_6338009.out\n",
      "Parsing output file: ../cluster/outputs/new_means/attack_6338010.out\n",
      "Parsing output file: ../cluster/outputs/new_means/attack_6338011.out\n",
      "Parsing output file: ../cluster/outputs/new_means/attack_6338012.out\n",
      "Parsing output file: ../cluster/outputs/new_means/attack_6338013.out\n",
      "Parsing output file: ../cluster/outputs/new_means/attack_6338014.out\n",
      "Parsing output file: ../cluster/outputs/new_means/attack_6338015.out\n",
      "Parsing output file: ../cluster/outputs/new_means/attack_6338016.out\n",
      "Parsing output file: ../cluster/outputs/new_means/attack_6338017.out\n",
      "Parsing output file: ../cluster/outputs/new_means/attack_6338018.out\n",
      "Parsing output file: ../cluster/outputs/new_means/attack_6338019.out\n",
      "Parsing output file: ../cluster/outputs/new_means/attack_6338020.out\n",
      "Parsing output file: ../cluster/outputs/new_means/attack_6338021.out\n",
      "Parsing output file: ../cluster/outputs/new_means/attack_6338022.out\n",
      "Parsing output file: ../cluster/outputs/new_means/attack_6338023.out\n",
      "Parsing output file: ../cluster/outputs/new_means/attack_6338024.out\n",
      "Parsing output file: ../cluster/outputs/new_means/attack_6338025.out\n",
      "Parsing output file: ../cluster/outputs/new_means/attack_6338026.out\n",
      "Parsing output file: ../cluster/outputs/new_means/attack_6338027.out\n",
      "Parsing output file: ../cluster/outputs/new_means/attack_6338028.out\n",
      "Parsing output file: ../cluster/outputs/new_means/attack_6338029.out\n",
      "Parsing output file: ../cluster/outputs/new_means/attack_6338030.out\n",
      "Parsing output file: ../cluster/outputs/new_means/attack_6338031.out\n",
      "Parsing output file: ../cluster/outputs/new_means/attack_6338032.out\n",
      "Parsing output file: ../cluster/outputs/new_means/attack_6338033.out\n",
      "Parsing output file: ../cluster/outputs/new_means/attack_6338034.out\n",
      "Parsing output file: ../cluster/outputs/new_means/attack_6338035.out\n",
      "Parsing output file: ../cluster/outputs/new_means/attack_6338036.out\n",
      "Parsing output file: ../cluster/outputs/new_means/attack_6338041.out\n",
      "Parsing output file: ../cluster/outputs/new_means/attack_6338042.out\n",
      "Parsing output file: ../cluster/outputs/new_means/attack_6338043.out\n",
      "Parsing output file: ../cluster/outputs/new_means/attack_6338044.out\n",
      "Parsing output file: ../cluster/outputs/new_means/attack_6338045.out\n",
      "Parsing output file: ../cluster/outputs/new_means/attack_6338047.out\n",
      "Parsing output file: ../cluster/outputs/new_means/attack_6338049.out\n",
      "Parsing output file: ../cluster/outputs/new_means/attack_6338050.out\n",
      "Parsing output file: ../cluster/outputs/new_means/attack_6338051.out\n",
      "Parsing output file: ../cluster/outputs/new_means/attack_6338052.out\n",
      "Parsing output file: ../cluster/outputs/new_means/attack_6338053.out\n",
      "Parsing output file: ../cluster/outputs/new_means/attack_6338054.out\n",
      "Parsing output file: ../cluster/outputs/new_means/attack_6338055.out\n",
      "Parsing output file: ../cluster/outputs/new_means/attack_6338056.out\n",
      "Parsing output file: ../cluster/outputs/new_means/attack_6338057.out\n",
      "Parsing output file: ../cluster/outputs/new_means/attack_6338058.out\n",
      "Parsing output file: ../cluster/outputs/new_means/attack_6338059.out\n",
      "Parsing output file: ../cluster/outputs/new_means/attack_6338060.out\n",
      "Parsing output file: ../cluster/outputs/new_means/attack_6338061.out\n",
      "Parsing output file: ../cluster/outputs/new_means/attack_6338062.out\n",
      "Parsing output file: ../cluster/outputs/new_means/attack_6338063.out\n",
      "Parsing output file: ../cluster/outputs/new_means/attack_6338064.out\n",
      "Parsing output file: ../cluster/outputs/new_means/attack_6338065.out\n",
      "Parsing output file: ../cluster/outputs/new_means/attack_6338472.out\n",
      "Parsing output file: ../cluster/outputs/new_means/attack_6338473.out\n",
      "Parsing output file: ../cluster/outputs/new_means/attack_6338487.out\n",
      "Parsing output file: ../cluster/outputs/new_means/attack_6338492.out\n",
      "Parsing output file: ../cluster/outputs/new_means/attack_6338715.out\n",
      "Parsing output file: ../cluster/outputs/new_means/attack_6338720.out\n",
      "Parsing output file: ../cluster/outputs/new_means/attack_6338722.out\n",
      "Parsing output file: ../cluster/outputs/new_means/attack_6340216.out\n"
     ]
    }
   ],
   "source": [
    "results = []\n",
    "for output_file in output_files:\n",
    "    result = parse_output_file(output_file)\n",
    "    results.append(result)\n",
    "\n",
    "# Prepare a list to collect rows for the DataFrame\n",
    "rows = []\n",
    "\n",
    "for result in results:\n",
    "    params = result['parameters']\n",
    "    matrix_config = params.get('matrix_config', None)\n",
    "    if matrix_config not in ['salsa', 'dual']:\n",
    "        continue  # skip unknown configs\n",
    "    row = {\n",
    "        'n': params.get('n'),\n",
    "        'q': params.get('q'),\n",
    "        'secret_type': params.get('secret_type'),\n",
    "        'eta': params.get('eta'),\n",
    "        'penalty': params.get('penalty'),\n",
    "        'bkz_block_sizes': params.get('bkz_block_sizes'),\n",
    "        'matrix_config': matrix_config,\n",
    "        'mean': round(np.mean(result['attack_times']), 2) if result['attack_times'] else np.nan,\n",
    "        'std': round(np.std(result['attack_times']), 2) if result['attack_times'] else np.nan,\n",
    "        'num_attacks': len(result['attack_times']) if result['attack_times'] else 0,\n",
    "        'output_file': result['output_file']\n",
    "    }\n",
    "    rows.append(row)\n",
    "\n",
    "df_stats = pd.DataFrame(rows)\n",
    "\n",
    "# Pivot to get mean/std/count/output_file for salsa and dual in separate columns\n",
    "df_summary = df_stats.pivot_table(\n",
    "    index=['n', 'q', 'secret_type', 'eta', 'penalty', 'bkz_block_sizes'],\n",
    "    columns='matrix_config',\n",
    "    values=['mean', 'std', 'num_attacks', 'output_file'],\n",
    "    aggfunc={'mean': 'mean', 'std': 'mean', 'num_attacks': 'sum', 'output_file': lambda x: ','.join(x)}\n",
    ").reset_index()\n",
    "\n",
    "# Flatten MultiIndex columns\n",
    "df_summary.columns = ['_'.join(col).strip('_') for col in df_summary.columns.values]"
   ]
  },
  {
   "cell_type": "code",
   "execution_count": 52,
   "id": "d40aea39",
   "metadata": {},
   "outputs": [
    {
     "data": {
      "text/html": [
       "<div>\n",
       "<style scoped>\n",
       "    .dataframe tbody tr th:only-of-type {\n",
       "        vertical-align: middle;\n",
       "    }\n",
       "\n",
       "    .dataframe tbody tr th {\n",
       "        vertical-align: top;\n",
       "    }\n",
       "\n",
       "    .dataframe thead th {\n",
       "        text-align: right;\n",
       "    }\n",
       "</style>\n",
       "<table border=\"1\" class=\"dataframe\">\n",
       "  <thead>\n",
       "    <tr style=\"text-align: right;\">\n",
       "      <th></th>\n",
       "      <th>n</th>\n",
       "      <th>q</th>\n",
       "      <th>secret_type</th>\n",
       "      <th>eta</th>\n",
       "      <th>penalty</th>\n",
       "      <th>bkz_block_sizes</th>\n",
       "      <th>mean_dual</th>\n",
       "      <th>mean_salsa</th>\n",
       "      <th>num_attacks_dual</th>\n",
       "      <th>num_attacks_salsa</th>\n",
       "      <th>output_file_dual</th>\n",
       "      <th>output_file_salsa</th>\n",
       "      <th>std_dual</th>\n",
       "      <th>std_salsa</th>\n",
       "    </tr>\n",
       "  </thead>\n",
       "  <tbody>\n",
       "    <tr>\n",
       "      <th>1</th>\n",
       "      <td>32</td>\n",
       "      <td>3329</td>\n",
       "      <td>binary</td>\n",
       "      <td>3</td>\n",
       "      <td>4</td>\n",
       "      <td>4:42:2</td>\n",
       "      <td>9.21</td>\n",
       "      <td>3.07</td>\n",
       "      <td>10</td>\n",
       "      <td>10</td>\n",
       "      <td>attack_6338003.out</td>\n",
       "      <td>attack_6338004.out</td>\n",
       "      <td>2.130</td>\n",
       "      <td>1.25</td>\n",
       "    </tr>\n",
       "    <tr>\n",
       "      <th>5</th>\n",
       "      <td>40</td>\n",
       "      <td>3329</td>\n",
       "      <td>binary</td>\n",
       "      <td>3</td>\n",
       "      <td>4</td>\n",
       "      <td>4:42:2</td>\n",
       "      <td>13.29</td>\n",
       "      <td>6.44</td>\n",
       "      <td>10</td>\n",
       "      <td>10</td>\n",
       "      <td>attack_6338007.out</td>\n",
       "      <td>attack_6338008.out</td>\n",
       "      <td>1.210</td>\n",
       "      <td>1.70</td>\n",
       "    </tr>\n",
       "    <tr>\n",
       "      <th>9</th>\n",
       "      <td>50</td>\n",
       "      <td>3329</td>\n",
       "      <td>binary</td>\n",
       "      <td>3</td>\n",
       "      <td>4</td>\n",
       "      <td>4:42:2</td>\n",
       "      <td>59.44</td>\n",
       "      <td>15.73</td>\n",
       "      <td>10</td>\n",
       "      <td>10</td>\n",
       "      <td>attack_6338011.out</td>\n",
       "      <td>attack_6338012.out</td>\n",
       "      <td>2.980</td>\n",
       "      <td>2.95</td>\n",
       "    </tr>\n",
       "    <tr>\n",
       "      <th>13</th>\n",
       "      <td>64</td>\n",
       "      <td>3329</td>\n",
       "      <td>binary</td>\n",
       "      <td>3</td>\n",
       "      <td>4</td>\n",
       "      <td>4:42:2</td>\n",
       "      <td>89.94</td>\n",
       "      <td>24.46</td>\n",
       "      <td>10</td>\n",
       "      <td>10</td>\n",
       "      <td>attack_6338015.out</td>\n",
       "      <td>attack_6338016.out</td>\n",
       "      <td>10.640</td>\n",
       "      <td>1.69</td>\n",
       "    </tr>\n",
       "    <tr>\n",
       "      <th>17</th>\n",
       "      <td>70</td>\n",
       "      <td>3329</td>\n",
       "      <td>binary</td>\n",
       "      <td>3</td>\n",
       "      <td>4</td>\n",
       "      <td>4:42:2</td>\n",
       "      <td>131.18</td>\n",
       "      <td>24.48</td>\n",
       "      <td>10</td>\n",
       "      <td>10</td>\n",
       "      <td>attack_6338019.out</td>\n",
       "      <td>attack_6338020.out</td>\n",
       "      <td>10.520</td>\n",
       "      <td>2.36</td>\n",
       "    </tr>\n",
       "    <tr>\n",
       "      <th>21</th>\n",
       "      <td>80</td>\n",
       "      <td>3329</td>\n",
       "      <td>binary</td>\n",
       "      <td>3</td>\n",
       "      <td>4</td>\n",
       "      <td>4:42:2</td>\n",
       "      <td>223.46</td>\n",
       "      <td>43.68</td>\n",
       "      <td>10</td>\n",
       "      <td>10</td>\n",
       "      <td>attack_6338023.out</td>\n",
       "      <td>attack_6338024.out</td>\n",
       "      <td>10.110</td>\n",
       "      <td>6.00</td>\n",
       "    </tr>\n",
       "    <tr>\n",
       "      <th>25</th>\n",
       "      <td>90</td>\n",
       "      <td>3329</td>\n",
       "      <td>binary</td>\n",
       "      <td>3</td>\n",
       "      <td>4</td>\n",
       "      <td>4:42:2</td>\n",
       "      <td>285.36</td>\n",
       "      <td>438.74</td>\n",
       "      <td>10</td>\n",
       "      <td>10</td>\n",
       "      <td>attack_6338027.out</td>\n",
       "      <td>attack_6338028.out</td>\n",
       "      <td>9.770</td>\n",
       "      <td>128.74</td>\n",
       "    </tr>\n",
       "    <tr>\n",
       "      <th>29</th>\n",
       "      <td>100</td>\n",
       "      <td>3329</td>\n",
       "      <td>binary</td>\n",
       "      <td>3</td>\n",
       "      <td>4</td>\n",
       "      <td>4:42:2</td>\n",
       "      <td>454.22</td>\n",
       "      <td>681.94</td>\n",
       "      <td>20</td>\n",
       "      <td>10</td>\n",
       "      <td>attack_6338031.out,attack_6340216.out</td>\n",
       "      <td>attack_6338032.out</td>\n",
       "      <td>14.035</td>\n",
       "      <td>35.91</td>\n",
       "    </tr>\n",
       "    <tr>\n",
       "      <th>31</th>\n",
       "      <td>110</td>\n",
       "      <td>3329</td>\n",
       "      <td>binary</td>\n",
       "      <td>3</td>\n",
       "      <td>4</td>\n",
       "      <td>4:42:2</td>\n",
       "      <td>1629.40</td>\n",
       "      <td>2087.31</td>\n",
       "      <td>10</td>\n",
       "      <td>10</td>\n",
       "      <td>attack_6338035.out</td>\n",
       "      <td>attack_6338036.out</td>\n",
       "      <td>562.110</td>\n",
       "      <td>977.87</td>\n",
       "    </tr>\n",
       "  </tbody>\n",
       "</table>\n",
       "</div>"
      ],
      "text/plain": [
       "      n     q secret_type  eta  penalty bkz_block_sizes  mean_dual  \\\n",
       "1    32  3329      binary    3        4          4:42:2       9.21   \n",
       "5    40  3329      binary    3        4          4:42:2      13.29   \n",
       "9    50  3329      binary    3        4          4:42:2      59.44   \n",
       "13   64  3329      binary    3        4          4:42:2      89.94   \n",
       "17   70  3329      binary    3        4          4:42:2     131.18   \n",
       "21   80  3329      binary    3        4          4:42:2     223.46   \n",
       "25   90  3329      binary    3        4          4:42:2     285.36   \n",
       "29  100  3329      binary    3        4          4:42:2     454.22   \n",
       "31  110  3329      binary    3        4          4:42:2    1629.40   \n",
       "\n",
       "    mean_salsa  num_attacks_dual  num_attacks_salsa  \\\n",
       "1         3.07                10                 10   \n",
       "5         6.44                10                 10   \n",
       "9        15.73                10                 10   \n",
       "13       24.46                10                 10   \n",
       "17       24.48                10                 10   \n",
       "21       43.68                10                 10   \n",
       "25      438.74                10                 10   \n",
       "29      681.94                20                 10   \n",
       "31     2087.31                10                 10   \n",
       "\n",
       "                         output_file_dual   output_file_salsa  std_dual  \\\n",
       "1                      attack_6338003.out  attack_6338004.out     2.130   \n",
       "5                      attack_6338007.out  attack_6338008.out     1.210   \n",
       "9                      attack_6338011.out  attack_6338012.out     2.980   \n",
       "13                     attack_6338015.out  attack_6338016.out    10.640   \n",
       "17                     attack_6338019.out  attack_6338020.out    10.520   \n",
       "21                     attack_6338023.out  attack_6338024.out    10.110   \n",
       "25                     attack_6338027.out  attack_6338028.out     9.770   \n",
       "29  attack_6338031.out,attack_6340216.out  attack_6338032.out    14.035   \n",
       "31                     attack_6338035.out  attack_6338036.out   562.110   \n",
       "\n",
       "    std_salsa  \n",
       "1        1.25  \n",
       "5        1.70  \n",
       "9        2.95  \n",
       "13       1.69  \n",
       "17       2.36  \n",
       "21       6.00  \n",
       "25     128.74  \n",
       "29      35.91  \n",
       "31     977.87  "
      ]
     },
     "execution_count": 52,
     "metadata": {},
     "output_type": "execute_result"
    }
   ],
   "source": [
    "df_summary_sub = df_summary[\n",
    "  (df_summary['eta'] == 3) &\n",
    "  (df_summary['secret_type'] == 'binary') &\n",
    "  (df_summary['penalty'] == 4)\n",
    "]\n",
    "df_summary_sub"
   ]
  },
  {
   "cell_type": "code",
   "execution_count": 53,
   "id": "e404adec",
   "metadata": {},
   "outputs": [
    {
     "data": {
      "application/vnd.plotly.v1+json": {
       "config": {
        "plotlyServerURL": "https://plot.ly"
       },
       "data": [
        {
         "line": {
          "color": "blue"
         },
         "mode": "lines+markers",
         "name": "dual",
         "type": "scatter",
         "x": {
          "bdata": "ICgyQEZQWmRu",
          "dtype": "i1"
         },
         "y": {
          "bdata": "7FG4HoVrIkAUrkfhepQqQLgehetRuE1AXI/C9Sh8VkD2KFyPwmVgQB+F61G47mtA9ihcj8LVcUDsUbgehWN8QJqZmZmZdZlA",
          "dtype": "f8"
         }
        },
        {
         "fill": "toself",
         "fillcolor": "rgba(0, 0, 255, 0.15)",
         "hoverinfo": "skip",
         "line": {
          "color": "rgba(255,255,255,0)"
         },
         "showlegend": false,
         "type": "scatter",
         "x": {
          "bdata": "ICgyQEZQWmRubmRaUEZAMigg",
          "dtype": "i1"
         },
         "y": {
          "bdata": "rkfhehSuJkAAAAAAAAAtQPUoXI/CNU9AhetRuB4lWUBnZmZmZrZhQArXo3A9Mm1ArkfhehRyckCvR+F6FER9QOxRuB4FH6FAXI/C9SitkEApXI/C9YJ7QD4K16NwOXFANDMzMzOrakAL16NwPSpeQDMzMzMz01NAexSuR+E6TEAoXI/C9SgoQFO4HoXrURxA",
          "dtype": "f8"
         }
        },
        {
         "line": {
          "color": "red"
         },
         "mode": "lines+markers",
         "name": "salsa",
         "type": "scatter",
         "x": {
          "bdata": "ICgyQEZQWmRu",
          "dtype": "i1"
         },
         "y": {
          "bdata": "j8L1KFyPCEDD9Shcj8IZQPYoXI/CdS9A9ihcj8J1OEB7FK5H4Xo4QNejcD0K10VApHA9Ctdre0DsUbgehU+FQIXrUbieTqBA",
          "dtype": "f8"
         }
        },
        {
         "fill": "toself",
         "fillcolor": "rgba(255, 0, 0, 0.15)",
         "hoverinfo": "skip",
         "line": {
          "color": "rgba(255,255,255,0)"
         },
         "showlegend": false,
         "type": "scatter",
         "x": {
          "bdata": "ICgyQEZQWmRubmRaUEZAMigg",
          "dtype": "i1"
         },
         "y": {
          "bdata": "SOF6FK5HEUBI4XoUrkcgQK5H4XoUrjJAZ2ZmZmYmOkDXo3A9Ctc6QNejcD0K10hApHA9Cte7gUDNzMzMzG6GQI/C9Shc8qdA9ihcj8JVkUAL16NwPTCEQAAAAAAAYHNA16NwPQrXQkAfhetRuB42QIXrUbgexTZAkML1KFyPKUD2KFyPwvUSQB6F61G4Hv0/",
          "dtype": "f8"
         }
        }
       ],
       "layout": {
        "autosize": true,
        "height": 600,
        "margin": {
         "b": 40,
         "l": 40,
         "r": 20,
         "t": 40
        },
        "showlegend": false,
        "template": {
         "data": {
          "bar": [
           {
            "error_x": {
             "color": "#2a3f5f"
            },
            "error_y": {
             "color": "#2a3f5f"
            },
            "marker": {
             "line": {
              "color": "white",
              "width": 0.5
             },
             "pattern": {
              "fillmode": "overlay",
              "size": 10,
              "solidity": 0.2
             }
            },
            "type": "bar"
           }
          ],
          "barpolar": [
           {
            "marker": {
             "line": {
              "color": "white",
              "width": 0.5
             },
             "pattern": {
              "fillmode": "overlay",
              "size": 10,
              "solidity": 0.2
             }
            },
            "type": "barpolar"
           }
          ],
          "carpet": [
           {
            "aaxis": {
             "endlinecolor": "#2a3f5f",
             "gridcolor": "#C8D4E3",
             "linecolor": "#C8D4E3",
             "minorgridcolor": "#C8D4E3",
             "startlinecolor": "#2a3f5f"
            },
            "baxis": {
             "endlinecolor": "#2a3f5f",
             "gridcolor": "#C8D4E3",
             "linecolor": "#C8D4E3",
             "minorgridcolor": "#C8D4E3",
             "startlinecolor": "#2a3f5f"
            },
            "type": "carpet"
           }
          ],
          "choropleth": [
           {
            "colorbar": {
             "outlinewidth": 0,
             "ticks": ""
            },
            "type": "choropleth"
           }
          ],
          "contour": [
           {
            "colorbar": {
             "outlinewidth": 0,
             "ticks": ""
            },
            "colorscale": [
             [
              0,
              "#0d0887"
             ],
             [
              0.1111111111111111,
              "#46039f"
             ],
             [
              0.2222222222222222,
              "#7201a8"
             ],
             [
              0.3333333333333333,
              "#9c179e"
             ],
             [
              0.4444444444444444,
              "#bd3786"
             ],
             [
              0.5555555555555556,
              "#d8576b"
             ],
             [
              0.6666666666666666,
              "#ed7953"
             ],
             [
              0.7777777777777778,
              "#fb9f3a"
             ],
             [
              0.8888888888888888,
              "#fdca26"
             ],
             [
              1,
              "#f0f921"
             ]
            ],
            "type": "contour"
           }
          ],
          "contourcarpet": [
           {
            "colorbar": {
             "outlinewidth": 0,
             "ticks": ""
            },
            "type": "contourcarpet"
           }
          ],
          "heatmap": [
           {
            "colorbar": {
             "outlinewidth": 0,
             "ticks": ""
            },
            "colorscale": [
             [
              0,
              "#0d0887"
             ],
             [
              0.1111111111111111,
              "#46039f"
             ],
             [
              0.2222222222222222,
              "#7201a8"
             ],
             [
              0.3333333333333333,
              "#9c179e"
             ],
             [
              0.4444444444444444,
              "#bd3786"
             ],
             [
              0.5555555555555556,
              "#d8576b"
             ],
             [
              0.6666666666666666,
              "#ed7953"
             ],
             [
              0.7777777777777778,
              "#fb9f3a"
             ],
             [
              0.8888888888888888,
              "#fdca26"
             ],
             [
              1,
              "#f0f921"
             ]
            ],
            "type": "heatmap"
           }
          ],
          "histogram": [
           {
            "marker": {
             "pattern": {
              "fillmode": "overlay",
              "size": 10,
              "solidity": 0.2
             }
            },
            "type": "histogram"
           }
          ],
          "histogram2d": [
           {
            "colorbar": {
             "outlinewidth": 0,
             "ticks": ""
            },
            "colorscale": [
             [
              0,
              "#0d0887"
             ],
             [
              0.1111111111111111,
              "#46039f"
             ],
             [
              0.2222222222222222,
              "#7201a8"
             ],
             [
              0.3333333333333333,
              "#9c179e"
             ],
             [
              0.4444444444444444,
              "#bd3786"
             ],
             [
              0.5555555555555556,
              "#d8576b"
             ],
             [
              0.6666666666666666,
              "#ed7953"
             ],
             [
              0.7777777777777778,
              "#fb9f3a"
             ],
             [
              0.8888888888888888,
              "#fdca26"
             ],
             [
              1,
              "#f0f921"
             ]
            ],
            "type": "histogram2d"
           }
          ],
          "histogram2dcontour": [
           {
            "colorbar": {
             "outlinewidth": 0,
             "ticks": ""
            },
            "colorscale": [
             [
              0,
              "#0d0887"
             ],
             [
              0.1111111111111111,
              "#46039f"
             ],
             [
              0.2222222222222222,
              "#7201a8"
             ],
             [
              0.3333333333333333,
              "#9c179e"
             ],
             [
              0.4444444444444444,
              "#bd3786"
             ],
             [
              0.5555555555555556,
              "#d8576b"
             ],
             [
              0.6666666666666666,
              "#ed7953"
             ],
             [
              0.7777777777777778,
              "#fb9f3a"
             ],
             [
              0.8888888888888888,
              "#fdca26"
             ],
             [
              1,
              "#f0f921"
             ]
            ],
            "type": "histogram2dcontour"
           }
          ],
          "mesh3d": [
           {
            "colorbar": {
             "outlinewidth": 0,
             "ticks": ""
            },
            "type": "mesh3d"
           }
          ],
          "parcoords": [
           {
            "line": {
             "colorbar": {
              "outlinewidth": 0,
              "ticks": ""
             }
            },
            "type": "parcoords"
           }
          ],
          "pie": [
           {
            "automargin": true,
            "type": "pie"
           }
          ],
          "scatter": [
           {
            "fillpattern": {
             "fillmode": "overlay",
             "size": 10,
             "solidity": 0.2
            },
            "type": "scatter"
           }
          ],
          "scatter3d": [
           {
            "line": {
             "colorbar": {
              "outlinewidth": 0,
              "ticks": ""
             }
            },
            "marker": {
             "colorbar": {
              "outlinewidth": 0,
              "ticks": ""
             }
            },
            "type": "scatter3d"
           }
          ],
          "scattercarpet": [
           {
            "marker": {
             "colorbar": {
              "outlinewidth": 0,
              "ticks": ""
             }
            },
            "type": "scattercarpet"
           }
          ],
          "scattergeo": [
           {
            "marker": {
             "colorbar": {
              "outlinewidth": 0,
              "ticks": ""
             }
            },
            "type": "scattergeo"
           }
          ],
          "scattergl": [
           {
            "marker": {
             "colorbar": {
              "outlinewidth": 0,
              "ticks": ""
             }
            },
            "type": "scattergl"
           }
          ],
          "scattermap": [
           {
            "marker": {
             "colorbar": {
              "outlinewidth": 0,
              "ticks": ""
             }
            },
            "type": "scattermap"
           }
          ],
          "scattermapbox": [
           {
            "marker": {
             "colorbar": {
              "outlinewidth": 0,
              "ticks": ""
             }
            },
            "type": "scattermapbox"
           }
          ],
          "scatterpolar": [
           {
            "marker": {
             "colorbar": {
              "outlinewidth": 0,
              "ticks": ""
             }
            },
            "type": "scatterpolar"
           }
          ],
          "scatterpolargl": [
           {
            "marker": {
             "colorbar": {
              "outlinewidth": 0,
              "ticks": ""
             }
            },
            "type": "scatterpolargl"
           }
          ],
          "scatterternary": [
           {
            "marker": {
             "colorbar": {
              "outlinewidth": 0,
              "ticks": ""
             }
            },
            "type": "scatterternary"
           }
          ],
          "surface": [
           {
            "colorbar": {
             "outlinewidth": 0,
             "ticks": ""
            },
            "colorscale": [
             [
              0,
              "#0d0887"
             ],
             [
              0.1111111111111111,
              "#46039f"
             ],
             [
              0.2222222222222222,
              "#7201a8"
             ],
             [
              0.3333333333333333,
              "#9c179e"
             ],
             [
              0.4444444444444444,
              "#bd3786"
             ],
             [
              0.5555555555555556,
              "#d8576b"
             ],
             [
              0.6666666666666666,
              "#ed7953"
             ],
             [
              0.7777777777777778,
              "#fb9f3a"
             ],
             [
              0.8888888888888888,
              "#fdca26"
             ],
             [
              1,
              "#f0f921"
             ]
            ],
            "type": "surface"
           }
          ],
          "table": [
           {
            "cells": {
             "fill": {
              "color": "#EBF0F8"
             },
             "line": {
              "color": "white"
             }
            },
            "header": {
             "fill": {
              "color": "#C8D4E3"
             },
             "line": {
              "color": "white"
             }
            },
            "type": "table"
           }
          ]
         },
         "layout": {
          "annotationdefaults": {
           "arrowcolor": "#2a3f5f",
           "arrowhead": 0,
           "arrowwidth": 1
          },
          "autotypenumbers": "strict",
          "coloraxis": {
           "colorbar": {
            "outlinewidth": 0,
            "ticks": ""
           }
          },
          "colorscale": {
           "diverging": [
            [
             0,
             "#8e0152"
            ],
            [
             0.1,
             "#c51b7d"
            ],
            [
             0.2,
             "#de77ae"
            ],
            [
             0.3,
             "#f1b6da"
            ],
            [
             0.4,
             "#fde0ef"
            ],
            [
             0.5,
             "#f7f7f7"
            ],
            [
             0.6,
             "#e6f5d0"
            ],
            [
             0.7,
             "#b8e186"
            ],
            [
             0.8,
             "#7fbc41"
            ],
            [
             0.9,
             "#4d9221"
            ],
            [
             1,
             "#276419"
            ]
           ],
           "sequential": [
            [
             0,
             "#0d0887"
            ],
            [
             0.1111111111111111,
             "#46039f"
            ],
            [
             0.2222222222222222,
             "#7201a8"
            ],
            [
             0.3333333333333333,
             "#9c179e"
            ],
            [
             0.4444444444444444,
             "#bd3786"
            ],
            [
             0.5555555555555556,
             "#d8576b"
            ],
            [
             0.6666666666666666,
             "#ed7953"
            ],
            [
             0.7777777777777778,
             "#fb9f3a"
            ],
            [
             0.8888888888888888,
             "#fdca26"
            ],
            [
             1,
             "#f0f921"
            ]
           ],
           "sequentialminus": [
            [
             0,
             "#0d0887"
            ],
            [
             0.1111111111111111,
             "#46039f"
            ],
            [
             0.2222222222222222,
             "#7201a8"
            ],
            [
             0.3333333333333333,
             "#9c179e"
            ],
            [
             0.4444444444444444,
             "#bd3786"
            ],
            [
             0.5555555555555556,
             "#d8576b"
            ],
            [
             0.6666666666666666,
             "#ed7953"
            ],
            [
             0.7777777777777778,
             "#fb9f3a"
            ],
            [
             0.8888888888888888,
             "#fdca26"
            ],
            [
             1,
             "#f0f921"
            ]
           ]
          },
          "colorway": [
           "#636efa",
           "#EF553B",
           "#00cc96",
           "#ab63fa",
           "#FFA15A",
           "#19d3f3",
           "#FF6692",
           "#B6E880",
           "#FF97FF",
           "#FECB52"
          ],
          "font": {
           "color": "#2a3f5f"
          },
          "geo": {
           "bgcolor": "white",
           "lakecolor": "white",
           "landcolor": "white",
           "showlakes": true,
           "showland": true,
           "subunitcolor": "#C8D4E3"
          },
          "hoverlabel": {
           "align": "left"
          },
          "hovermode": "closest",
          "mapbox": {
           "style": "light"
          },
          "paper_bgcolor": "white",
          "plot_bgcolor": "white",
          "polar": {
           "angularaxis": {
            "gridcolor": "#EBF0F8",
            "linecolor": "#EBF0F8",
            "ticks": ""
           },
           "bgcolor": "white",
           "radialaxis": {
            "gridcolor": "#EBF0F8",
            "linecolor": "#EBF0F8",
            "ticks": ""
           }
          },
          "scene": {
           "xaxis": {
            "backgroundcolor": "white",
            "gridcolor": "#DFE8F3",
            "gridwidth": 2,
            "linecolor": "#EBF0F8",
            "showbackground": true,
            "ticks": "",
            "zerolinecolor": "#EBF0F8"
           },
           "yaxis": {
            "backgroundcolor": "white",
            "gridcolor": "#DFE8F3",
            "gridwidth": 2,
            "linecolor": "#EBF0F8",
            "showbackground": true,
            "ticks": "",
            "zerolinecolor": "#EBF0F8"
           },
           "zaxis": {
            "backgroundcolor": "white",
            "gridcolor": "#DFE8F3",
            "gridwidth": 2,
            "linecolor": "#EBF0F8",
            "showbackground": true,
            "ticks": "",
            "zerolinecolor": "#EBF0F8"
           }
          },
          "shapedefaults": {
           "line": {
            "color": "#2a3f5f"
           }
          },
          "ternary": {
           "aaxis": {
            "gridcolor": "#DFE8F3",
            "linecolor": "#A2B1C6",
            "ticks": ""
           },
           "baxis": {
            "gridcolor": "#DFE8F3",
            "linecolor": "#A2B1C6",
            "ticks": ""
           },
           "bgcolor": "white",
           "caxis": {
            "gridcolor": "#DFE8F3",
            "linecolor": "#A2B1C6",
            "ticks": ""
           }
          },
          "title": {
           "x": 0.05
          },
          "xaxis": {
           "automargin": true,
           "gridcolor": "#EBF0F8",
           "linecolor": "#EBF0F8",
           "ticks": "",
           "title": {
            "standoff": 15
           },
           "zerolinecolor": "#EBF0F8",
           "zerolinewidth": 2
          },
          "yaxis": {
           "automargin": true,
           "gridcolor": "#EBF0F8",
           "linecolor": "#EBF0F8",
           "ticks": "",
           "title": {
            "standoff": 15
           },
           "zerolinecolor": "#EBF0F8",
           "zerolinewidth": 2
          }
         }
        },
        "width": 800,
        "xaxis": {
         "title": {
          "text": "n"
         }
        },
        "yaxis": {
         "title": {
          "text": "Seconds (log scale)"
         },
         "type": "log"
        }
       }
      }
     },
     "metadata": {},
     "output_type": "display_data"
    }
   ],
   "source": [
    "fig = go.Figure()\n",
    "\n",
    "df_summary_sub = df_summary_sub.dropna(subset=['mean_dual', 'mean_salsa', 'std_dual', 'std_salsa'])\n",
    "\n",
    "# Plot mean_dual with std as a filled area\n",
    "fig.add_trace(go.Scatter(\n",
    "    x=df_summary_sub['n'],\n",
    "    y=df_summary_sub['mean_dual'],\n",
    "    mode='lines+markers',\n",
    "    name='dual',\n",
    "    line=dict(color='blue')\n",
    "))\n",
    "\n",
    "fig.add_trace(go.Scatter(\n",
    "    x=pd.concat([df_summary_sub['n'], df_summary_sub['n'].iloc[::-1]], axis=0),\n",
    "    y=pd.concat([\n",
    "        df_summary_sub['mean_dual'] + df_summary_sub['std_dual'],\n",
    "        (df_summary_sub['mean_dual'] - df_summary_sub['std_dual']).iloc[::-1]\n",
    "    ], axis=0),\n",
    "    fill='toself',\n",
    "    fillcolor='rgba(0, 0, 255, 0.15)',\n",
    "    line=dict(color='rgba(255,255,255,0)'),\n",
    "    hoverinfo=\"skip\",\n",
    "    showlegend=False\n",
    "))\n",
    "\n",
    "# Plot mean_salsa with std as a filled area\n",
    "fig.add_trace(go.Scatter(\n",
    "    x=df_summary_sub['n'],\n",
    "    y=df_summary_sub['mean_salsa'],\n",
    "    mode='lines+markers',\n",
    "    name='salsa',\n",
    "    line=dict(color='red')\n",
    "))\n",
    "\n",
    "fig.add_trace(go.Scatter(\n",
    "    x=pd.concat([df_summary_sub['n'], df_summary_sub['n'].iloc[::-1]], axis=0),\n",
    "    y=pd.concat([\n",
    "        df_summary_sub['mean_salsa'] + df_summary_sub['std_salsa'],\n",
    "        (df_summary_sub['mean_salsa'] - df_summary_sub['std_salsa']).iloc[::-1]\n",
    "    ], axis=0),\n",
    "    fill='toself',\n",
    "    fillcolor='rgba(255, 0, 0, 0.15)',\n",
    "    line=dict(color='rgba(255,255,255,0)'),\n",
    "    hoverinfo=\"skip\",\n",
    "    showlegend=False\n",
    "))\n",
    "\n",
    "fig.update_layout(\n",
    "    xaxis_title='n',\n",
    "    yaxis_title='Seconds (log scale)',\n",
    "    #legend_title='Lattice Embedding',\n",
    "    showlegend=False,\n",
    "    width=800,\n",
    "    height=600,\n",
    "    template='plotly_white',\n",
    "    autosize=True,\n",
    "    margin=dict(l=40, r=20, t=40, b=40),\n",
    "    yaxis_type='log'\n",
    ")\n",
    "\n",
    "fig.show()"
   ]
  }
 ],
 "metadata": {
  "kernelspec": {
   "display_name": "mlwe",
   "language": "python",
   "name": "python3"
  },
  "language_info": {
   "codemirror_mode": {
    "name": "ipython",
    "version": 3
   },
   "file_extension": ".py",
   "mimetype": "text/x-python",
   "name": "python",
   "nbconvert_exporter": "python",
   "pygments_lexer": "ipython3",
   "version": "3.12.9"
  }
 },
 "nbformat": 4,
 "nbformat_minor": 5
}
