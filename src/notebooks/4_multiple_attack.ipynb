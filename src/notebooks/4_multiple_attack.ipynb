{
 "cells": [
  {
   "cell_type": "code",
   "execution_count": 2,
   "id": "830e8ab0",
   "metadata": {},
   "outputs": [],
   "source": [
    "import sys\n",
    "import os\n",
    "import glob\n",
    "\n",
    "# Add the parent directory to sys.path\n",
    "sys.path.append(os.path.abspath(os.path.join(os.getcwd(), '..')))\n",
    "\n",
    "from ml_attack import LWEDataset\n",
    "from ml_attack.utils import get_percentage_true_b, get_train_default_params\n",
    "\n",
    "import numpy as np\n",
    "from collections import defaultdict\n",
    "from tqdm import tqdm\n",
    "\n",
    "from plotly import graph_objects as go\n"
   ]
  },
  {
   "cell_type": "markdown",
   "id": "9bc54380",
   "metadata": {},
   "source": [
    "# Multiple attack\n",
    "\n",
    "Attacking multiple hamming weights over multiple checkpoints"
   ]
  },
  {
   "cell_type": "code",
   "execution_count": 13,
   "id": "9a3cce3a",
   "metadata": {},
   "outputs": [
    {
     "name": "stdout",
     "output_type": "stream",
     "text": [
      "Found 7 output files.\n"
     ]
    }
   ],
   "source": [
    "filenames = \"./../data/dual/data_n_128_k_1_s_binary_2c7a7_*.pkl\"\n",
    "\n",
    "def extract_filenumber(f):\n",
    "    return float(os.path.splitext(os.path.basename(f))[0].split('_')[-1])\n",
    "\n",
    "if isinstance(filenames, str):\n",
    "    filenames = sorted(glob.glob(filenames))\n",
    "    if not filenames:\n",
    "        print(\"No output files found.\")\n",
    "        exit(1)\n",
    "  \n",
    "numbers = range(1, 48, 4)\n",
    "filenames = sorted(filenames, key=extract_filenumber)\n",
    "filenames = set([f for f in filenames if extract_filenumber(f) in numbers] + [filenames[-1]])\n",
    "print(f\"Found {len(filenames)} output files.\")"
   ]
  },
  {
   "cell_type": "code",
   "execution_count": 3,
   "id": "4cc26517",
   "metadata": {},
   "outputs": [
    {
     "name": "stderr",
     "output_type": "stream",
     "text": [
      "Processing ./../reduced_data/dual/data_n_128_k_1_s_binary_cdec2_1.pkl: 100%|██████████| 8/8 [00:25<00:00,  3.23s/it]\n",
      "Processing ./../reduced_data/dual/data_n_128_k_1_s_binary_cdec2_5.pkl: 100%|██████████| 8/8 [00:26<00:00,  3.26s/it]\n",
      "Processing ./../reduced_data/dual/data_n_128_k_1_s_binary_cdec2_9.pkl: 100%|██████████| 8/8 [00:26<00:00,  3.27s/it]\n",
      "Processing ./../reduced_data/dual/data_n_128_k_1_s_binary_cdec2_13.pkl: 100%|██████████| 8/8 [00:26<00:00,  3.31s/it]\n",
      "Processing ./../reduced_data/dual/data_n_128_k_1_s_binary_cdec2_17.pkl: 100%|██████████| 8/8 [00:27<00:00,  3.40s/it]\n",
      "Processing ./../reduced_data/dual/data_n_128_k_1_s_binary_cdec2_21.pkl: 100%|██████████| 8/8 [00:25<00:00,  3.25s/it]\n",
      "Processing ./../reduced_data/dual/data_n_128_k_1_s_binary_cdec2_25.pkl: 100%|██████████| 8/8 [00:27<00:00,  3.39s/it]\n",
      "Processing ./../reduced_data/dual/data_n_128_k_1_s_binary_cdec2_29.pkl: 100%|██████████| 8/8 [00:27<00:00,  3.49s/it]\n",
      "Processing ./../reduced_data/dual/data_n_128_k_1_s_binary_cdec2_31.pkl: 100%|██████████| 8/8 [00:29<00:00,  3.69s/it]\n"
     ]
    }
   ],
   "source": [
    "percentages_b = defaultdict()\n",
    "num_rep = 4 # Number of repetitions for each hamming weight\n",
    "\n",
    "for filename in filenames:\n",
    "    dataset = LWEDataset.load_reduced(filename)\n",
    "    dataset.params['verbose'] = False\n",
    "    dataset.params['seed'] = None\n",
    "    dataset.params['secret_type'] = 'binary'\n",
    "    \n",
    "    hw_results = {}\n",
    "    choosen_hw = range(1, dataset.params['n'] // 2, 8)\n",
    "\n",
    "    for hw in tqdm(choosen_hw, desc=f\"Processing {filename}\"):\n",
    "        all_perc_b = []\n",
    "        dataset.params['hw'] = hw\n",
    "        for _ in range(num_rep):\n",
    "            dataset.initialize_secret()\n",
    "            dataset.approximate_b()\n",
    "            percentage_b = get_percentage_true_b(dataset, verbose=False)\n",
    "            all_perc_b.append(percentage_b)\n",
    "        hw_results[hw] = np.mean(all_perc_b)\n",
    "\n",
    "    percentages_b[filename] = hw_results"
   ]
  },
  {
   "cell_type": "code",
   "execution_count": 4,
   "id": "d053839e",
   "metadata": {},
   "outputs": [
    {
     "data": {
      "application/vnd.plotly.v1+json": {
       "config": {
        "plotlyServerURL": "https://plot.ly"
       },
       "data": [
        {
         "mode": "lines+markers",
         "name": "data_n_128_k_1_s_binary_cdec2_1.pkl",
         "type": "scatter",
         "x": [
          1,
          9,
          17,
          25,
          33,
          41,
          49,
          57
         ],
         "y": [
          0.9623566284342491,
          0.866097626033609,
          0.7352627367297946,
          0.7086556415044011,
          0.6600426780474793,
          0.6364363830354761,
          0.6190817551347026,
          0.6118464923979728
         ]
        },
        {
         "mode": "lines+markers",
         "name": "data_n_128_k_1_s_binary_cdec2_5.pkl",
         "type": "scatter",
         "x": [
          1,
          9,
          17,
          25,
          33,
          41,
          49,
          57
         ],
         "y": [
          0.9777744630071599,
          0.868619066560594,
          0.7901584460355343,
          0.7498342614691063,
          0.6880635110050385,
          0.6758817289843543,
          0.664329753381066,
          0.6506397507292495
         ]
        },
        {
         "mode": "lines+markers",
         "name": "data_n_128_k_1_s_binary_cdec2_9.pkl",
         "type": "scatter",
         "x": [
          1,
          9,
          17,
          25,
          33,
          41,
          49,
          57
         ],
         "y": [
          0.9762945089343942,
          0.8883037694013304,
          0.8404851962958132,
          0.7777977044476326,
          0.7370712142950306,
          0.7270118690491718,
          0.7044476327116211,
          0.7001923829398722
         ]
        },
        {
         "mode": "lines+markers",
         "name": "data_n_128_k_1_s_binary_cdec2_13.pkl",
         "type": "scatter",
         "x": [
          1,
          9,
          17,
          25,
          33,
          41,
          49,
          57
         ],
         "y": [
          0.9765462239583333,
          0.9032063802083334,
          0.8535970052083334,
          0.8015625,
          0.7758626302083333,
          0.7598470052083333,
          0.741650390625,
          0.732080078125
         ]
        },
        {
         "mode": "lines+markers",
         "name": "data_n_128_k_1_s_binary_cdec2_17.pkl",
         "type": "scatter",
         "x": [
          1,
          9,
          17,
          25,
          33,
          41,
          49,
          57
         ],
         "y": [
          0.9812662760416666,
          0.910546875,
          0.8652343750000001,
          0.8214029947916668,
          0.7942708333333334,
          0.7701822916666666,
          0.75791015625,
          0.7518391927083333
         ]
        },
        {
         "mode": "lines+markers",
         "name": "data_n_128_k_1_s_binary_cdec2_21.pkl",
         "type": "scatter",
         "x": [
          1,
          9,
          17,
          25,
          33,
          41,
          49,
          57
         ],
         "y": [
          0.9811197916666666,
          0.9197591145833335,
          0.86591796875,
          0.8379557291666667,
          0.7979166666666667,
          0.7861490885416667,
          0.7725748697916666,
          0.7629720052083333
         ]
        },
        {
         "mode": "lines+markers",
         "name": "data_n_128_k_1_s_binary_cdec2_25.pkl",
         "type": "scatter",
         "x": [
          1,
          9,
          17,
          25,
          33,
          41,
          49,
          57
         ],
         "y": [
          0.9827962239583332,
          0.9227050781249999,
          0.8785807291666667,
          0.8383138020833333,
          0.8096191406250001,
          0.7879231770833333,
          0.7761881510416667,
          0.770654296875
         ]
        },
        {
         "mode": "lines+markers",
         "name": "data_n_128_k_1_s_binary_cdec2_29.pkl",
         "type": "scatter",
         "x": [
          1,
          9,
          17,
          25,
          33,
          41,
          49,
          57
         ],
         "y": [
          0.9815592447916667,
          0.9279622395833333,
          0.8789713541666666,
          0.8414225260416667,
          0.8157714843749999,
          0.7962890625,
          0.7866210937499999,
          0.7756184895833333
         ]
        },
        {
         "mode": "lines+markers",
         "name": "data_n_128_k_1_s_binary_cdec2_31.pkl",
         "type": "scatter",
         "x": [
          1,
          9,
          17,
          25,
          33,
          41,
          49,
          57
         ],
         "y": [
          0.9839192708333333,
          0.9263997395833333,
          0.882080078125,
          0.8462565104166667,
          0.8191243489583333,
          0.7972819010416666,
          0.786083984375,
          0.782275390625
         ]
        }
       ],
       "layout": {
        "bargap": 0.2,
        "height": 400,
        "margin": {
         "b": 20,
         "l": 20,
         "r": 20,
         "t": 10
        },
        "showlegend": false,
        "template": {
         "data": {
          "bar": [
           {
            "error_x": {
             "color": "#2a3f5f"
            },
            "error_y": {
             "color": "#2a3f5f"
            },
            "marker": {
             "line": {
              "color": "white",
              "width": 0.5
             },
             "pattern": {
              "fillmode": "overlay",
              "size": 10,
              "solidity": 0.2
             }
            },
            "type": "bar"
           }
          ],
          "barpolar": [
           {
            "marker": {
             "line": {
              "color": "white",
              "width": 0.5
             },
             "pattern": {
              "fillmode": "overlay",
              "size": 10,
              "solidity": 0.2
             }
            },
            "type": "barpolar"
           }
          ],
          "carpet": [
           {
            "aaxis": {
             "endlinecolor": "#2a3f5f",
             "gridcolor": "#C8D4E3",
             "linecolor": "#C8D4E3",
             "minorgridcolor": "#C8D4E3",
             "startlinecolor": "#2a3f5f"
            },
            "baxis": {
             "endlinecolor": "#2a3f5f",
             "gridcolor": "#C8D4E3",
             "linecolor": "#C8D4E3",
             "minorgridcolor": "#C8D4E3",
             "startlinecolor": "#2a3f5f"
            },
            "type": "carpet"
           }
          ],
          "choropleth": [
           {
            "colorbar": {
             "outlinewidth": 0,
             "ticks": ""
            },
            "type": "choropleth"
           }
          ],
          "contour": [
           {
            "colorbar": {
             "outlinewidth": 0,
             "ticks": ""
            },
            "colorscale": [
             [
              0,
              "#0d0887"
             ],
             [
              0.1111111111111111,
              "#46039f"
             ],
             [
              0.2222222222222222,
              "#7201a8"
             ],
             [
              0.3333333333333333,
              "#9c179e"
             ],
             [
              0.4444444444444444,
              "#bd3786"
             ],
             [
              0.5555555555555556,
              "#d8576b"
             ],
             [
              0.6666666666666666,
              "#ed7953"
             ],
             [
              0.7777777777777778,
              "#fb9f3a"
             ],
             [
              0.8888888888888888,
              "#fdca26"
             ],
             [
              1,
              "#f0f921"
             ]
            ],
            "type": "contour"
           }
          ],
          "contourcarpet": [
           {
            "colorbar": {
             "outlinewidth": 0,
             "ticks": ""
            },
            "type": "contourcarpet"
           }
          ],
          "heatmap": [
           {
            "colorbar": {
             "outlinewidth": 0,
             "ticks": ""
            },
            "colorscale": [
             [
              0,
              "#0d0887"
             ],
             [
              0.1111111111111111,
              "#46039f"
             ],
             [
              0.2222222222222222,
              "#7201a8"
             ],
             [
              0.3333333333333333,
              "#9c179e"
             ],
             [
              0.4444444444444444,
              "#bd3786"
             ],
             [
              0.5555555555555556,
              "#d8576b"
             ],
             [
              0.6666666666666666,
              "#ed7953"
             ],
             [
              0.7777777777777778,
              "#fb9f3a"
             ],
             [
              0.8888888888888888,
              "#fdca26"
             ],
             [
              1,
              "#f0f921"
             ]
            ],
            "type": "heatmap"
           }
          ],
          "histogram": [
           {
            "marker": {
             "pattern": {
              "fillmode": "overlay",
              "size": 10,
              "solidity": 0.2
             }
            },
            "type": "histogram"
           }
          ],
          "histogram2d": [
           {
            "colorbar": {
             "outlinewidth": 0,
             "ticks": ""
            },
            "colorscale": [
             [
              0,
              "#0d0887"
             ],
             [
              0.1111111111111111,
              "#46039f"
             ],
             [
              0.2222222222222222,
              "#7201a8"
             ],
             [
              0.3333333333333333,
              "#9c179e"
             ],
             [
              0.4444444444444444,
              "#bd3786"
             ],
             [
              0.5555555555555556,
              "#d8576b"
             ],
             [
              0.6666666666666666,
              "#ed7953"
             ],
             [
              0.7777777777777778,
              "#fb9f3a"
             ],
             [
              0.8888888888888888,
              "#fdca26"
             ],
             [
              1,
              "#f0f921"
             ]
            ],
            "type": "histogram2d"
           }
          ],
          "histogram2dcontour": [
           {
            "colorbar": {
             "outlinewidth": 0,
             "ticks": ""
            },
            "colorscale": [
             [
              0,
              "#0d0887"
             ],
             [
              0.1111111111111111,
              "#46039f"
             ],
             [
              0.2222222222222222,
              "#7201a8"
             ],
             [
              0.3333333333333333,
              "#9c179e"
             ],
             [
              0.4444444444444444,
              "#bd3786"
             ],
             [
              0.5555555555555556,
              "#d8576b"
             ],
             [
              0.6666666666666666,
              "#ed7953"
             ],
             [
              0.7777777777777778,
              "#fb9f3a"
             ],
             [
              0.8888888888888888,
              "#fdca26"
             ],
             [
              1,
              "#f0f921"
             ]
            ],
            "type": "histogram2dcontour"
           }
          ],
          "mesh3d": [
           {
            "colorbar": {
             "outlinewidth": 0,
             "ticks": ""
            },
            "type": "mesh3d"
           }
          ],
          "parcoords": [
           {
            "line": {
             "colorbar": {
              "outlinewidth": 0,
              "ticks": ""
             }
            },
            "type": "parcoords"
           }
          ],
          "pie": [
           {
            "automargin": true,
            "type": "pie"
           }
          ],
          "scatter": [
           {
            "fillpattern": {
             "fillmode": "overlay",
             "size": 10,
             "solidity": 0.2
            },
            "type": "scatter"
           }
          ],
          "scatter3d": [
           {
            "line": {
             "colorbar": {
              "outlinewidth": 0,
              "ticks": ""
             }
            },
            "marker": {
             "colorbar": {
              "outlinewidth": 0,
              "ticks": ""
             }
            },
            "type": "scatter3d"
           }
          ],
          "scattercarpet": [
           {
            "marker": {
             "colorbar": {
              "outlinewidth": 0,
              "ticks": ""
             }
            },
            "type": "scattercarpet"
           }
          ],
          "scattergeo": [
           {
            "marker": {
             "colorbar": {
              "outlinewidth": 0,
              "ticks": ""
             }
            },
            "type": "scattergeo"
           }
          ],
          "scattergl": [
           {
            "marker": {
             "colorbar": {
              "outlinewidth": 0,
              "ticks": ""
             }
            },
            "type": "scattergl"
           }
          ],
          "scattermap": [
           {
            "marker": {
             "colorbar": {
              "outlinewidth": 0,
              "ticks": ""
             }
            },
            "type": "scattermap"
           }
          ],
          "scattermapbox": [
           {
            "marker": {
             "colorbar": {
              "outlinewidth": 0,
              "ticks": ""
             }
            },
            "type": "scattermapbox"
           }
          ],
          "scatterpolar": [
           {
            "marker": {
             "colorbar": {
              "outlinewidth": 0,
              "ticks": ""
             }
            },
            "type": "scatterpolar"
           }
          ],
          "scatterpolargl": [
           {
            "marker": {
             "colorbar": {
              "outlinewidth": 0,
              "ticks": ""
             }
            },
            "type": "scatterpolargl"
           }
          ],
          "scatterternary": [
           {
            "marker": {
             "colorbar": {
              "outlinewidth": 0,
              "ticks": ""
             }
            },
            "type": "scatterternary"
           }
          ],
          "surface": [
           {
            "colorbar": {
             "outlinewidth": 0,
             "ticks": ""
            },
            "colorscale": [
             [
              0,
              "#0d0887"
             ],
             [
              0.1111111111111111,
              "#46039f"
             ],
             [
              0.2222222222222222,
              "#7201a8"
             ],
             [
              0.3333333333333333,
              "#9c179e"
             ],
             [
              0.4444444444444444,
              "#bd3786"
             ],
             [
              0.5555555555555556,
              "#d8576b"
             ],
             [
              0.6666666666666666,
              "#ed7953"
             ],
             [
              0.7777777777777778,
              "#fb9f3a"
             ],
             [
              0.8888888888888888,
              "#fdca26"
             ],
             [
              1,
              "#f0f921"
             ]
            ],
            "type": "surface"
           }
          ],
          "table": [
           {
            "cells": {
             "fill": {
              "color": "#EBF0F8"
             },
             "line": {
              "color": "white"
             }
            },
            "header": {
             "fill": {
              "color": "#C8D4E3"
             },
             "line": {
              "color": "white"
             }
            },
            "type": "table"
           }
          ]
         },
         "layout": {
          "annotationdefaults": {
           "arrowcolor": "#2a3f5f",
           "arrowhead": 0,
           "arrowwidth": 1
          },
          "autotypenumbers": "strict",
          "coloraxis": {
           "colorbar": {
            "outlinewidth": 0,
            "ticks": ""
           }
          },
          "colorscale": {
           "diverging": [
            [
             0,
             "#8e0152"
            ],
            [
             0.1,
             "#c51b7d"
            ],
            [
             0.2,
             "#de77ae"
            ],
            [
             0.3,
             "#f1b6da"
            ],
            [
             0.4,
             "#fde0ef"
            ],
            [
             0.5,
             "#f7f7f7"
            ],
            [
             0.6,
             "#e6f5d0"
            ],
            [
             0.7,
             "#b8e186"
            ],
            [
             0.8,
             "#7fbc41"
            ],
            [
             0.9,
             "#4d9221"
            ],
            [
             1,
             "#276419"
            ]
           ],
           "sequential": [
            [
             0,
             "#0d0887"
            ],
            [
             0.1111111111111111,
             "#46039f"
            ],
            [
             0.2222222222222222,
             "#7201a8"
            ],
            [
             0.3333333333333333,
             "#9c179e"
            ],
            [
             0.4444444444444444,
             "#bd3786"
            ],
            [
             0.5555555555555556,
             "#d8576b"
            ],
            [
             0.6666666666666666,
             "#ed7953"
            ],
            [
             0.7777777777777778,
             "#fb9f3a"
            ],
            [
             0.8888888888888888,
             "#fdca26"
            ],
            [
             1,
             "#f0f921"
            ]
           ],
           "sequentialminus": [
            [
             0,
             "#0d0887"
            ],
            [
             0.1111111111111111,
             "#46039f"
            ],
            [
             0.2222222222222222,
             "#7201a8"
            ],
            [
             0.3333333333333333,
             "#9c179e"
            ],
            [
             0.4444444444444444,
             "#bd3786"
            ],
            [
             0.5555555555555556,
             "#d8576b"
            ],
            [
             0.6666666666666666,
             "#ed7953"
            ],
            [
             0.7777777777777778,
             "#fb9f3a"
            ],
            [
             0.8888888888888888,
             "#fdca26"
            ],
            [
             1,
             "#f0f921"
            ]
           ]
          },
          "colorway": [
           "#636efa",
           "#EF553B",
           "#00cc96",
           "#ab63fa",
           "#FFA15A",
           "#19d3f3",
           "#FF6692",
           "#B6E880",
           "#FF97FF",
           "#FECB52"
          ],
          "font": {
           "color": "#2a3f5f"
          },
          "geo": {
           "bgcolor": "white",
           "lakecolor": "white",
           "landcolor": "white",
           "showlakes": true,
           "showland": true,
           "subunitcolor": "#C8D4E3"
          },
          "hoverlabel": {
           "align": "left"
          },
          "hovermode": "closest",
          "mapbox": {
           "style": "light"
          },
          "paper_bgcolor": "white",
          "plot_bgcolor": "white",
          "polar": {
           "angularaxis": {
            "gridcolor": "#EBF0F8",
            "linecolor": "#EBF0F8",
            "ticks": ""
           },
           "bgcolor": "white",
           "radialaxis": {
            "gridcolor": "#EBF0F8",
            "linecolor": "#EBF0F8",
            "ticks": ""
           }
          },
          "scene": {
           "xaxis": {
            "backgroundcolor": "white",
            "gridcolor": "#DFE8F3",
            "gridwidth": 2,
            "linecolor": "#EBF0F8",
            "showbackground": true,
            "ticks": "",
            "zerolinecolor": "#EBF0F8"
           },
           "yaxis": {
            "backgroundcolor": "white",
            "gridcolor": "#DFE8F3",
            "gridwidth": 2,
            "linecolor": "#EBF0F8",
            "showbackground": true,
            "ticks": "",
            "zerolinecolor": "#EBF0F8"
           },
           "zaxis": {
            "backgroundcolor": "white",
            "gridcolor": "#DFE8F3",
            "gridwidth": 2,
            "linecolor": "#EBF0F8",
            "showbackground": true,
            "ticks": "",
            "zerolinecolor": "#EBF0F8"
           }
          },
          "shapedefaults": {
           "line": {
            "color": "#2a3f5f"
           }
          },
          "ternary": {
           "aaxis": {
            "gridcolor": "#DFE8F3",
            "linecolor": "#A2B1C6",
            "ticks": ""
           },
           "baxis": {
            "gridcolor": "#DFE8F3",
            "linecolor": "#A2B1C6",
            "ticks": ""
           },
           "bgcolor": "white",
           "caxis": {
            "gridcolor": "#DFE8F3",
            "linecolor": "#A2B1C6",
            "ticks": ""
           }
          },
          "title": {
           "x": 0.05
          },
          "xaxis": {
           "automargin": true,
           "gridcolor": "#EBF0F8",
           "linecolor": "#EBF0F8",
           "ticks": "",
           "title": {
            "standoff": 15
           },
           "zerolinecolor": "#EBF0F8",
           "zerolinewidth": 2
          },
          "yaxis": {
           "automargin": true,
           "gridcolor": "#EBF0F8",
           "linecolor": "#EBF0F8",
           "ticks": "",
           "title": {
            "standoff": 15
           },
           "zerolinecolor": "#EBF0F8",
           "zerolinewidth": 2
          }
         }
        },
        "width": 550,
        "xaxis": {
         "title": {
          "text": "Hamming Weight"
         }
        },
        "yaxis": {
         "title": {
          "text": "Percentage of True b"
         }
        }
       }
      }
     },
     "metadata": {},
     "output_type": "display_data"
    }
   ],
   "source": [
    "fig = go.Figure()\n",
    "\n",
    "for filename in filenames:\n",
    "  hw = list(percentages_b[filename].keys())\n",
    "  values = list(percentages_b[filename].values())\n",
    "  fig.add_trace(go.Scatter(x=hw, y=values, mode='lines+markers', name=os.path.basename(filename)))\n",
    "\n",
    "fig.update_layout(\n",
    "  xaxis_title='Hamming Weight',\n",
    "  yaxis_title='Percentage of True b',\n",
    "  template='plotly_white',\n",
    "  bargap=0.2,\n",
    "  margin=dict(l=20, r=20, t=10, b=20),\n",
    "  width=550,\n",
    "  height=400,\n",
    "  showlegend=False\n",
    ")\n",
    "\n",
    "fig.show()"
   ]
  },
  {
   "cell_type": "code",
   "execution_count": null,
   "id": "bacdc033",
   "metadata": {},
   "outputs": [
    {
     "data": {
      "application/vnd.plotly.v1+json": {
       "config": {
        "plotlyServerURL": "https://plot.ly"
       },
       "data": [
        {
         "mode": "markers+lines",
         "name": "HW 1",
         "type": "scatter",
         "x": [
          1,
          5,
          9,
          13,
          17,
          21,
          25,
          29,
          31
         ],
         "y": [
          0.9623566284342491,
          0.9777744630071599,
          0.9762945089343942,
          0.9765462239583333,
          0.9812662760416666,
          0.9811197916666666,
          0.9827962239583332,
          0.9815592447916667,
          0.9839192708333333
         ]
        },
        {
         "mode": "markers+lines",
         "name": "HW 9",
         "type": "scatter",
         "x": [
          1,
          5,
          9,
          13,
          17,
          21,
          25,
          29,
          31
         ],
         "y": [
          0.866097626033609,
          0.868619066560594,
          0.8883037694013304,
          0.9032063802083334,
          0.910546875,
          0.9197591145833335,
          0.9227050781249999,
          0.9279622395833333,
          0.9263997395833333
         ]
        },
        {
         "mode": "markers+lines",
         "name": "HW 17",
         "type": "scatter",
         "x": [
          1,
          5,
          9,
          13,
          17,
          21,
          25,
          29,
          31
         ],
         "y": [
          0.7352627367297946,
          0.7901584460355343,
          0.8404851962958132,
          0.8535970052083334,
          0.8652343750000001,
          0.86591796875,
          0.8785807291666667,
          0.8789713541666666,
          0.882080078125
         ]
        },
        {
         "mode": "markers+lines",
         "name": "HW 25",
         "type": "scatter",
         "x": [
          1,
          5,
          9,
          13,
          17,
          21,
          25,
          29,
          31
         ],
         "y": [
          0.7086556415044011,
          0.7498342614691063,
          0.7777977044476326,
          0.8015625,
          0.8214029947916668,
          0.8379557291666667,
          0.8383138020833333,
          0.8414225260416667,
          0.8462565104166667
         ]
        },
        {
         "mode": "markers+lines",
         "name": "HW 33",
         "type": "scatter",
         "x": [
          1,
          5,
          9,
          13,
          17,
          21,
          25,
          29,
          31
         ],
         "y": [
          0.6600426780474793,
          0.6880635110050385,
          0.7370712142950306,
          0.7758626302083333,
          0.7942708333333334,
          0.7979166666666667,
          0.8096191406250001,
          0.8157714843749999,
          0.8191243489583333
         ]
        },
        {
         "mode": "markers+lines",
         "name": "HW 41",
         "type": "scatter",
         "x": [
          1,
          5,
          9,
          13,
          17,
          21,
          25,
          29,
          31
         ],
         "y": [
          0.6364363830354761,
          0.6758817289843543,
          0.7270118690491718,
          0.7598470052083333,
          0.7701822916666666,
          0.7861490885416667,
          0.7879231770833333,
          0.7962890625,
          0.7972819010416666
         ]
        },
        {
         "mode": "markers+lines",
         "name": "HW 49",
         "type": "scatter",
         "x": [
          1,
          5,
          9,
          13,
          17,
          21,
          25,
          29,
          31
         ],
         "y": [
          0.6190817551347026,
          0.664329753381066,
          0.7044476327116211,
          0.741650390625,
          0.75791015625,
          0.7725748697916666,
          0.7761881510416667,
          0.7866210937499999,
          0.786083984375
         ]
        },
        {
         "mode": "markers+lines",
         "name": "HW 57",
         "type": "scatter",
         "x": [
          1,
          5,
          9,
          13,
          17,
          21,
          25,
          29,
          31
         ],
         "y": [
          0.6118464923979728,
          0.6506397507292495,
          0.7001923829398722,
          0.732080078125,
          0.7518391927083333,
          0.7629720052083333,
          0.770654296875,
          0.7756184895833333,
          0.782275390625
         ]
        }
       ],
       "layout": {
        "height": 450,
        "legend": {
         "title": {
          "text": "Hamming Weight"
         }
        },
        "template": {
         "data": {
          "bar": [
           {
            "error_x": {
             "color": "#2a3f5f"
            },
            "error_y": {
             "color": "#2a3f5f"
            },
            "marker": {
             "line": {
              "color": "white",
              "width": 0.5
             },
             "pattern": {
              "fillmode": "overlay",
              "size": 10,
              "solidity": 0.2
             }
            },
            "type": "bar"
           }
          ],
          "barpolar": [
           {
            "marker": {
             "line": {
              "color": "white",
              "width": 0.5
             },
             "pattern": {
              "fillmode": "overlay",
              "size": 10,
              "solidity": 0.2
             }
            },
            "type": "barpolar"
           }
          ],
          "carpet": [
           {
            "aaxis": {
             "endlinecolor": "#2a3f5f",
             "gridcolor": "#C8D4E3",
             "linecolor": "#C8D4E3",
             "minorgridcolor": "#C8D4E3",
             "startlinecolor": "#2a3f5f"
            },
            "baxis": {
             "endlinecolor": "#2a3f5f",
             "gridcolor": "#C8D4E3",
             "linecolor": "#C8D4E3",
             "minorgridcolor": "#C8D4E3",
             "startlinecolor": "#2a3f5f"
            },
            "type": "carpet"
           }
          ],
          "choropleth": [
           {
            "colorbar": {
             "outlinewidth": 0,
             "ticks": ""
            },
            "type": "choropleth"
           }
          ],
          "contour": [
           {
            "colorbar": {
             "outlinewidth": 0,
             "ticks": ""
            },
            "colorscale": [
             [
              0,
              "#0d0887"
             ],
             [
              0.1111111111111111,
              "#46039f"
             ],
             [
              0.2222222222222222,
              "#7201a8"
             ],
             [
              0.3333333333333333,
              "#9c179e"
             ],
             [
              0.4444444444444444,
              "#bd3786"
             ],
             [
              0.5555555555555556,
              "#d8576b"
             ],
             [
              0.6666666666666666,
              "#ed7953"
             ],
             [
              0.7777777777777778,
              "#fb9f3a"
             ],
             [
              0.8888888888888888,
              "#fdca26"
             ],
             [
              1,
              "#f0f921"
             ]
            ],
            "type": "contour"
           }
          ],
          "contourcarpet": [
           {
            "colorbar": {
             "outlinewidth": 0,
             "ticks": ""
            },
            "type": "contourcarpet"
           }
          ],
          "heatmap": [
           {
            "colorbar": {
             "outlinewidth": 0,
             "ticks": ""
            },
            "colorscale": [
             [
              0,
              "#0d0887"
             ],
             [
              0.1111111111111111,
              "#46039f"
             ],
             [
              0.2222222222222222,
              "#7201a8"
             ],
             [
              0.3333333333333333,
              "#9c179e"
             ],
             [
              0.4444444444444444,
              "#bd3786"
             ],
             [
              0.5555555555555556,
              "#d8576b"
             ],
             [
              0.6666666666666666,
              "#ed7953"
             ],
             [
              0.7777777777777778,
              "#fb9f3a"
             ],
             [
              0.8888888888888888,
              "#fdca26"
             ],
             [
              1,
              "#f0f921"
             ]
            ],
            "type": "heatmap"
           }
          ],
          "histogram": [
           {
            "marker": {
             "pattern": {
              "fillmode": "overlay",
              "size": 10,
              "solidity": 0.2
             }
            },
            "type": "histogram"
           }
          ],
          "histogram2d": [
           {
            "colorbar": {
             "outlinewidth": 0,
             "ticks": ""
            },
            "colorscale": [
             [
              0,
              "#0d0887"
             ],
             [
              0.1111111111111111,
              "#46039f"
             ],
             [
              0.2222222222222222,
              "#7201a8"
             ],
             [
              0.3333333333333333,
              "#9c179e"
             ],
             [
              0.4444444444444444,
              "#bd3786"
             ],
             [
              0.5555555555555556,
              "#d8576b"
             ],
             [
              0.6666666666666666,
              "#ed7953"
             ],
             [
              0.7777777777777778,
              "#fb9f3a"
             ],
             [
              0.8888888888888888,
              "#fdca26"
             ],
             [
              1,
              "#f0f921"
             ]
            ],
            "type": "histogram2d"
           }
          ],
          "histogram2dcontour": [
           {
            "colorbar": {
             "outlinewidth": 0,
             "ticks": ""
            },
            "colorscale": [
             [
              0,
              "#0d0887"
             ],
             [
              0.1111111111111111,
              "#46039f"
             ],
             [
              0.2222222222222222,
              "#7201a8"
             ],
             [
              0.3333333333333333,
              "#9c179e"
             ],
             [
              0.4444444444444444,
              "#bd3786"
             ],
             [
              0.5555555555555556,
              "#d8576b"
             ],
             [
              0.6666666666666666,
              "#ed7953"
             ],
             [
              0.7777777777777778,
              "#fb9f3a"
             ],
             [
              0.8888888888888888,
              "#fdca26"
             ],
             [
              1,
              "#f0f921"
             ]
            ],
            "type": "histogram2dcontour"
           }
          ],
          "mesh3d": [
           {
            "colorbar": {
             "outlinewidth": 0,
             "ticks": ""
            },
            "type": "mesh3d"
           }
          ],
          "parcoords": [
           {
            "line": {
             "colorbar": {
              "outlinewidth": 0,
              "ticks": ""
             }
            },
            "type": "parcoords"
           }
          ],
          "pie": [
           {
            "automargin": true,
            "type": "pie"
           }
          ],
          "scatter": [
           {
            "fillpattern": {
             "fillmode": "overlay",
             "size": 10,
             "solidity": 0.2
            },
            "type": "scatter"
           }
          ],
          "scatter3d": [
           {
            "line": {
             "colorbar": {
              "outlinewidth": 0,
              "ticks": ""
             }
            },
            "marker": {
             "colorbar": {
              "outlinewidth": 0,
              "ticks": ""
             }
            },
            "type": "scatter3d"
           }
          ],
          "scattercarpet": [
           {
            "marker": {
             "colorbar": {
              "outlinewidth": 0,
              "ticks": ""
             }
            },
            "type": "scattercarpet"
           }
          ],
          "scattergeo": [
           {
            "marker": {
             "colorbar": {
              "outlinewidth": 0,
              "ticks": ""
             }
            },
            "type": "scattergeo"
           }
          ],
          "scattergl": [
           {
            "marker": {
             "colorbar": {
              "outlinewidth": 0,
              "ticks": ""
             }
            },
            "type": "scattergl"
           }
          ],
          "scattermap": [
           {
            "marker": {
             "colorbar": {
              "outlinewidth": 0,
              "ticks": ""
             }
            },
            "type": "scattermap"
           }
          ],
          "scattermapbox": [
           {
            "marker": {
             "colorbar": {
              "outlinewidth": 0,
              "ticks": ""
             }
            },
            "type": "scattermapbox"
           }
          ],
          "scatterpolar": [
           {
            "marker": {
             "colorbar": {
              "outlinewidth": 0,
              "ticks": ""
             }
            },
            "type": "scatterpolar"
           }
          ],
          "scatterpolargl": [
           {
            "marker": {
             "colorbar": {
              "outlinewidth": 0,
              "ticks": ""
             }
            },
            "type": "scatterpolargl"
           }
          ],
          "scatterternary": [
           {
            "marker": {
             "colorbar": {
              "outlinewidth": 0,
              "ticks": ""
             }
            },
            "type": "scatterternary"
           }
          ],
          "surface": [
           {
            "colorbar": {
             "outlinewidth": 0,
             "ticks": ""
            },
            "colorscale": [
             [
              0,
              "#0d0887"
             ],
             [
              0.1111111111111111,
              "#46039f"
             ],
             [
              0.2222222222222222,
              "#7201a8"
             ],
             [
              0.3333333333333333,
              "#9c179e"
             ],
             [
              0.4444444444444444,
              "#bd3786"
             ],
             [
              0.5555555555555556,
              "#d8576b"
             ],
             [
              0.6666666666666666,
              "#ed7953"
             ],
             [
              0.7777777777777778,
              "#fb9f3a"
             ],
             [
              0.8888888888888888,
              "#fdca26"
             ],
             [
              1,
              "#f0f921"
             ]
            ],
            "type": "surface"
           }
          ],
          "table": [
           {
            "cells": {
             "fill": {
              "color": "#EBF0F8"
             },
             "line": {
              "color": "white"
             }
            },
            "header": {
             "fill": {
              "color": "#C8D4E3"
             },
             "line": {
              "color": "white"
             }
            },
            "type": "table"
           }
          ]
         },
         "layout": {
          "annotationdefaults": {
           "arrowcolor": "#2a3f5f",
           "arrowhead": 0,
           "arrowwidth": 1
          },
          "autotypenumbers": "strict",
          "coloraxis": {
           "colorbar": {
            "outlinewidth": 0,
            "ticks": ""
           }
          },
          "colorscale": {
           "diverging": [
            [
             0,
             "#8e0152"
            ],
            [
             0.1,
             "#c51b7d"
            ],
            [
             0.2,
             "#de77ae"
            ],
            [
             0.3,
             "#f1b6da"
            ],
            [
             0.4,
             "#fde0ef"
            ],
            [
             0.5,
             "#f7f7f7"
            ],
            [
             0.6,
             "#e6f5d0"
            ],
            [
             0.7,
             "#b8e186"
            ],
            [
             0.8,
             "#7fbc41"
            ],
            [
             0.9,
             "#4d9221"
            ],
            [
             1,
             "#276419"
            ]
           ],
           "sequential": [
            [
             0,
             "#0d0887"
            ],
            [
             0.1111111111111111,
             "#46039f"
            ],
            [
             0.2222222222222222,
             "#7201a8"
            ],
            [
             0.3333333333333333,
             "#9c179e"
            ],
            [
             0.4444444444444444,
             "#bd3786"
            ],
            [
             0.5555555555555556,
             "#d8576b"
            ],
            [
             0.6666666666666666,
             "#ed7953"
            ],
            [
             0.7777777777777778,
             "#fb9f3a"
            ],
            [
             0.8888888888888888,
             "#fdca26"
            ],
            [
             1,
             "#f0f921"
            ]
           ],
           "sequentialminus": [
            [
             0,
             "#0d0887"
            ],
            [
             0.1111111111111111,
             "#46039f"
            ],
            [
             0.2222222222222222,
             "#7201a8"
            ],
            [
             0.3333333333333333,
             "#9c179e"
            ],
            [
             0.4444444444444444,
             "#bd3786"
            ],
            [
             0.5555555555555556,
             "#d8576b"
            ],
            [
             0.6666666666666666,
             "#ed7953"
            ],
            [
             0.7777777777777778,
             "#fb9f3a"
            ],
            [
             0.8888888888888888,
             "#fdca26"
            ],
            [
             1,
             "#f0f921"
            ]
           ]
          },
          "colorway": [
           "#636efa",
           "#EF553B",
           "#00cc96",
           "#ab63fa",
           "#FFA15A",
           "#19d3f3",
           "#FF6692",
           "#B6E880",
           "#FF97FF",
           "#FECB52"
          ],
          "font": {
           "color": "#2a3f5f"
          },
          "geo": {
           "bgcolor": "white",
           "lakecolor": "white",
           "landcolor": "white",
           "showlakes": true,
           "showland": true,
           "subunitcolor": "#C8D4E3"
          },
          "hoverlabel": {
           "align": "left"
          },
          "hovermode": "closest",
          "mapbox": {
           "style": "light"
          },
          "paper_bgcolor": "white",
          "plot_bgcolor": "white",
          "polar": {
           "angularaxis": {
            "gridcolor": "#EBF0F8",
            "linecolor": "#EBF0F8",
            "ticks": ""
           },
           "bgcolor": "white",
           "radialaxis": {
            "gridcolor": "#EBF0F8",
            "linecolor": "#EBF0F8",
            "ticks": ""
           }
          },
          "scene": {
           "xaxis": {
            "backgroundcolor": "white",
            "gridcolor": "#DFE8F3",
            "gridwidth": 2,
            "linecolor": "#EBF0F8",
            "showbackground": true,
            "ticks": "",
            "zerolinecolor": "#EBF0F8"
           },
           "yaxis": {
            "backgroundcolor": "white",
            "gridcolor": "#DFE8F3",
            "gridwidth": 2,
            "linecolor": "#EBF0F8",
            "showbackground": true,
            "ticks": "",
            "zerolinecolor": "#EBF0F8"
           },
           "zaxis": {
            "backgroundcolor": "white",
            "gridcolor": "#DFE8F3",
            "gridwidth": 2,
            "linecolor": "#EBF0F8",
            "showbackground": true,
            "ticks": "",
            "zerolinecolor": "#EBF0F8"
           }
          },
          "shapedefaults": {
           "line": {
            "color": "#2a3f5f"
           }
          },
          "ternary": {
           "aaxis": {
            "gridcolor": "#DFE8F3",
            "linecolor": "#A2B1C6",
            "ticks": ""
           },
           "baxis": {
            "gridcolor": "#DFE8F3",
            "linecolor": "#A2B1C6",
            "ticks": ""
           },
           "bgcolor": "white",
           "caxis": {
            "gridcolor": "#DFE8F3",
            "linecolor": "#A2B1C6",
            "ticks": ""
           }
          },
          "title": {
           "x": 0.05
          },
          "xaxis": {
           "automargin": true,
           "gridcolor": "#EBF0F8",
           "linecolor": "#EBF0F8",
           "ticks": "",
           "title": {
            "standoff": 15
           },
           "zerolinecolor": "#EBF0F8",
           "zerolinewidth": 2
          },
          "yaxis": {
           "automargin": true,
           "gridcolor": "#EBF0F8",
           "linecolor": "#EBF0F8",
           "ticks": "",
           "title": {
            "standoff": 15
           },
           "zerolinecolor": "#EBF0F8",
           "zerolinewidth": 2
          }
         }
        },
        "title": {
         "text": "Percentage of True b per File for Each Hamming Weight"
        },
        "width": 700,
        "xaxis": {
         "title": {
          "text": "File Number"
         }
        },
        "yaxis": {
         "title": {
          "text": "Percentage of True b"
         }
        }
       }
      }
     },
     "metadata": {},
     "output_type": "display_data"
    }
   ],
   "source": [
    "fig = go.Figure()\n",
    "\n",
    "hw_list = list(choosen_hw)\n",
    "file_numbers = [int(os.path.splitext(os.path.basename(f))[0].split('_')[-1]) for f in filenames]\n",
    "\n",
    "for hw in hw_list:\n",
    "  percentages = [percentages_b[filename][hw] for filename in filenames]\n",
    "  fig.add_trace(go.Scatter(\n",
    "    x=file_numbers,\n",
    "    y=percentages,\n",
    "    mode='markers+lines',\n",
    "    name=f'HW {hw}'\n",
    "  ))\n",
    "\n",
    "fig.update_layout(\n",
    "  xaxis_title='File Number',\n",
    "  yaxis_title='Percentage of True b',\n",
    "  title='Percentage of True b per File for Each Hamming Weight',\n",
    "  legend_title='Hamming Weight',\n",
    "  template='plotly_white',\n",
    "  bargap=0.2,\n",
    "  margin=dict(l=20, r=20, t=10, b=20),\n",
    "  width=550,\n",
    "  height=400,\n",
    "  showlegend=False\n",
    ")\n",
    "\n",
    "fig.show()\n"
   ]
  },
  {
   "cell_type": "markdown",
   "id": "cbb57063",
   "metadata": {},
   "source": [
    "## Multiple training"
   ]
  },
  {
   "cell_type": "code",
   "execution_count": null,
   "id": "8848289f",
   "metadata": {},
   "outputs": [
    {
     "name": "stdout",
     "output_type": "stream",
     "text": [
      "Found 35 output files.\n"
     ]
    }
   ],
   "source": [
    "filenames = \"./../data/salsa/data_n_128_k_1_s_binary_2c7a7_*.pkl\"\n",
    "\n",
    "def extract_filenumber(f):\n",
    "    return int(os.path.splitext(os.path.basename(f))[0].split('_')[-1])\n",
    "\n",
    "\n",
    "if isinstance(filenames, str):\n",
    "    filenames = sorted(glob.glob(filenames))\n",
    "    if not filenames:\n",
    "        print(\"No output files found.\")\n",
    "        exit(1)\n",
    "  \n",
    "filenames = sorted(filenames, key=extract_filenumber)\n",
    "print(f\"Found {len(filenames)} output files.\")"
   ]
  },
  {
   "cell_type": "code",
   "execution_count": 4,
   "id": "47674008",
   "metadata": {},
   "outputs": [
    {
     "name": "stderr",
     "output_type": "stream",
     "text": [
      "Processing ./../reduced_data/salsa/data_n_128_k_1_s_binary_cdec2_1.pkl:   0%|          | 0/63 [00:00<?, ?it/s]Extension for Scikit-learn* enabled (https://github.com/uxlfoundation/scikit-learn-intelex)\n"
     ]
    },
    {
     "name": "stdout",
     "output_type": "stream",
     "text": [
      "✔️ Patched scikit-learn (once).\n",
      "Using RANSAC with residual threshold: 1859.089494887215\n",
      "Using RANSAC with min_samples: 135\n",
      "Using RANSAC with optimal max_trials: 100\n"
     ]
    },
    {
     "name": "stderr",
     "output_type": "stream",
     "text": [
      "Processing ./../reduced_data/salsa/data_n_128_k_1_s_binary_cdec2_1.pkl:   2%|▏         | 1/63 [02:56<3:02:03, 176.18s/it]"
     ]
    },
    {
     "name": "stdout",
     "output_type": "stream",
     "text": [
      "RANSAC inliers: 1252 / 1348\n",
      "Using RANSAC with residual threshold: 1859.089494887215\n",
      "Using RANSAC with min_samples: 140\n",
      "Using RANSAC with optimal max_trials: 100\n"
     ]
    },
    {
     "name": "stderr",
     "output_type": "stream",
     "text": [
      "Processing ./../reduced_data/salsa/data_n_128_k_1_s_binary_cdec2_1.pkl:   3%|▎         | 2/63 [05:39<2:51:31, 168.71s/it]"
     ]
    },
    {
     "name": "stdout",
     "output_type": "stream",
     "text": [
      "RANSAC inliers: 1282 / 1348\n",
      "Using RANSAC with residual threshold: 1859.089494887215\n",
      "Using RANSAC with min_samples: 146\n",
      "Using RANSAC with optimal max_trials: 100\n"
     ]
    },
    {
     "name": "stderr",
     "output_type": "stream",
     "text": [
      "Processing ./../reduced_data/salsa/data_n_128_k_1_s_binary_cdec2_1.pkl:   5%|▍         | 3/63 [08:16<2:43:25, 163.42s/it]"
     ]
    },
    {
     "name": "stdout",
     "output_type": "stream",
     "text": [
      "RANSAC inliers: 1139 / 1348\n",
      "Using RANSAC with residual threshold: 1859.089494887215\n",
      "Using RANSAC with min_samples: 152\n",
      "Using RANSAC with optimal max_trials: 100\n"
     ]
    },
    {
     "name": "stderr",
     "output_type": "stream",
     "text": [
      "Processing ./../reduced_data/salsa/data_n_128_k_1_s_binary_cdec2_1.pkl:   6%|▋         | 4/63 [10:40<2:32:59, 155.58s/it]"
     ]
    },
    {
     "name": "stdout",
     "output_type": "stream",
     "text": [
      "RANSAC inliers: 1151 / 1348\n",
      "Using RANSAC with residual threshold: 1859.089494887215\n",
      "Using RANSAC with min_samples: 158\n",
      "Using RANSAC with optimal max_trials: 100\n"
     ]
    },
    {
     "name": "stderr",
     "output_type": "stream",
     "text": [
      "Processing ./../reduced_data/salsa/data_n_128_k_1_s_binary_cdec2_1.pkl:   6%|▋         | 4/63 [12:56<3:10:52, 194.11s/it]\n"
     ]
    },
    {
     "name": "stdout",
     "output_type": "stream",
     "text": [
      "RANSAC inliers: 1093 / 1348\n"
     ]
    },
    {
     "name": "stderr",
     "output_type": "stream",
     "text": [
      "Processing ./../reduced_data/salsa/data_n_128_k_1_s_binary_cdec2_2.pkl:   0%|          | 0/59 [00:00<?, ?it/s]"
     ]
    },
    {
     "name": "stdout",
     "output_type": "stream",
     "text": [
      "Using RANSAC with residual threshold: 1654.1667842149413\n",
      "Using RANSAC with min_samples: 154\n",
      "Using RANSAC with optimal max_trials: 100\n"
     ]
    },
    {
     "name": "stderr",
     "output_type": "stream",
     "text": [
      "Processing ./../reduced_data/salsa/data_n_128_k_1_s_binary_cdec2_2.pkl:   0%|          | 0/59 [02:21<?, ?it/s]\n"
     ]
    },
    {
     "name": "stdout",
     "output_type": "stream",
     "text": [
      "RANSAC inliers: 1056 / 1388\n"
     ]
    },
    {
     "name": "stderr",
     "output_type": "stream",
     "text": [
      "Processing ./../reduced_data/salsa/data_n_128_k_1_s_binary_cdec2_3.pkl:   0%|          | 0/59 [00:00<?, ?it/s]"
     ]
    },
    {
     "name": "stdout",
     "output_type": "stream",
     "text": [
      "Using RANSAC with residual threshold: 1760.881810343897\n",
      "Using RANSAC with min_samples: 152\n",
      "Using RANSAC with optimal max_trials: 100\n"
     ]
    },
    {
     "name": "stderr",
     "output_type": "stream",
     "text": [
      "Processing ./../reduced_data/salsa/data_n_128_k_1_s_binary_cdec2_3.pkl:   0%|          | 0/59 [02:23<?, ?it/s]\n"
     ]
    },
    {
     "name": "stdout",
     "output_type": "stream",
     "text": [
      "RANSAC inliers: 1108 / 1416\n"
     ]
    },
    {
     "name": "stderr",
     "output_type": "stream",
     "text": [
      "Processing ./../reduced_data/salsa/data_n_128_k_1_s_binary_cdec2_4.pkl:   0%|          | 0/59 [00:00<?, ?it/s]"
     ]
    },
    {
     "name": "stdout",
     "output_type": "stream",
     "text": [
      "Using RANSAC with residual threshold: 1805.7290079078864\n",
      "Using RANSAC with min_samples: 151\n",
      "Using RANSAC with optimal max_trials: 100\n"
     ]
    },
    {
     "name": "stderr",
     "output_type": "stream",
     "text": [
      "Processing ./../reduced_data/salsa/data_n_128_k_1_s_binary_cdec2_4.pkl:   0%|          | 0/59 [02:15<?, ?it/s]\n"
     ]
    },
    {
     "name": "stdout",
     "output_type": "stream",
     "text": [
      "RANSAC inliers: 1201 / 1433\n"
     ]
    },
    {
     "name": "stderr",
     "output_type": "stream",
     "text": [
      "Processing ./../reduced_data/salsa/data_n_128_k_1_s_binary_cdec2_5.pkl:   0%|          | 0/59 [00:00<?, ?it/s]"
     ]
    },
    {
     "name": "stdout",
     "output_type": "stream",
     "text": [
      "Using RANSAC with residual threshold: 1790.516894642438\n",
      "Using RANSAC with min_samples: 150\n",
      "Using RANSAC with optimal max_trials: 100\n"
     ]
    },
    {
     "name": "stderr",
     "output_type": "stream",
     "text": [
      "Processing ./../reduced_data/salsa/data_n_128_k_1_s_binary_cdec2_5.pkl:   0%|          | 0/59 [02:12<?, ?it/s]\n"
     ]
    },
    {
     "name": "stdout",
     "output_type": "stream",
     "text": [
      "RANSAC inliers: 1140 / 1449\n"
     ]
    },
    {
     "name": "stderr",
     "output_type": "stream",
     "text": [
      "Processing ./../reduced_data/salsa/data_n_128_k_1_s_binary_cdec2_6.pkl:   0%|          | 0/59 [00:00<?, ?it/s]"
     ]
    },
    {
     "name": "stdout",
     "output_type": "stream",
     "text": [
      "Using RANSAC with residual threshold: 1787.779139043747\n",
      "Using RANSAC with min_samples: 149\n",
      "Using RANSAC with optimal max_trials: 100\n"
     ]
    },
    {
     "name": "stderr",
     "output_type": "stream",
     "text": [
      "Processing ./../reduced_data/salsa/data_n_128_k_1_s_binary_cdec2_6.pkl:   0%|          | 0/59 [02:08<?, ?it/s]\n"
     ]
    },
    {
     "name": "stdout",
     "output_type": "stream",
     "text": [
      "RANSAC inliers: 1256 / 1464\n"
     ]
    },
    {
     "name": "stderr",
     "output_type": "stream",
     "text": [
      "Processing ./../reduced_data/salsa/data_n_128_k_1_s_binary_cdec2_7.pkl:   0%|          | 0/59 [00:00<?, ?it/s]"
     ]
    },
    {
     "name": "stdout",
     "output_type": "stream",
     "text": [
      "Using RANSAC with residual threshold: 1765.7357531635362\n",
      "Using RANSAC with min_samples: 148\n",
      "Using RANSAC with optimal max_trials: 100\n"
     ]
    },
    {
     "name": "stderr",
     "output_type": "stream",
     "text": [
      "Processing ./../reduced_data/salsa/data_n_128_k_1_s_binary_cdec2_7.pkl:   0%|          | 0/59 [02:23<?, ?it/s]\n"
     ]
    },
    {
     "name": "stdout",
     "output_type": "stream",
     "text": [
      "RANSAC inliers: 1213 / 1476\n"
     ]
    },
    {
     "name": "stderr",
     "output_type": "stream",
     "text": [
      "Processing ./../reduced_data/salsa/data_n_128_k_1_s_binary_cdec2_8.pkl:   0%|          | 0/59 [00:00<?, ?it/s]"
     ]
    },
    {
     "name": "stdout",
     "output_type": "stream",
     "text": [
      "Using RANSAC with residual threshold: 1722.2926580578574\n",
      "Using RANSAC with min_samples: 147\n",
      "Using RANSAC with optimal max_trials: 100\n"
     ]
    },
    {
     "name": "stderr",
     "output_type": "stream",
     "text": [
      "Processing ./../reduced_data/salsa/data_n_128_k_1_s_binary_cdec2_8.pkl:   0%|          | 0/59 [02:20<?, ?it/s]\n"
     ]
    },
    {
     "name": "stdout",
     "output_type": "stream",
     "text": [
      "RANSAC inliers: 1207 / 1487\n"
     ]
    },
    {
     "name": "stderr",
     "output_type": "stream",
     "text": [
      "Processing ./../reduced_data/salsa/data_n_128_k_1_s_binary_cdec2_9.pkl:   0%|          | 0/59 [00:00<?, ?it/s]"
     ]
    },
    {
     "name": "stdout",
     "output_type": "stream",
     "text": [
      "Using RANSAC with residual threshold: 1727.9661455016992\n",
      "Using RANSAC with min_samples: 146\n",
      "Using RANSAC with optimal max_trials: 100\n"
     ]
    },
    {
     "name": "stderr",
     "output_type": "stream",
     "text": [
      "Processing ./../reduced_data/salsa/data_n_128_k_1_s_binary_cdec2_9.pkl:   2%|▏         | 1/59 [02:08<2:04:40, 128.98s/it]"
     ]
    },
    {
     "name": "stdout",
     "output_type": "stream",
     "text": [
      "RANSAC inliers: 1203 / 1496\n",
      "Using RANSAC with residual threshold: 1727.9661455016992\n",
      "Using RANSAC with min_samples: 148\n",
      "Using RANSAC with optimal max_trials: 100\n"
     ]
    },
    {
     "name": "stderr",
     "output_type": "stream",
     "text": [
      "Processing ./../reduced_data/salsa/data_n_128_k_1_s_binary_cdec2_9.pkl:   2%|▏         | 1/59 [04:17<4:08:34, 257.14s/it]\n"
     ]
    },
    {
     "name": "stdout",
     "output_type": "stream",
     "text": [
      "RANSAC inliers: 1221 / 1496\n"
     ]
    },
    {
     "name": "stderr",
     "output_type": "stream",
     "text": [
      "Processing ./../reduced_data/salsa/data_n_128_k_1_s_binary_cdec2_10.pkl:   0%|          | 0/58 [00:00<?, ?it/s]"
     ]
    },
    {
     "name": "stdout",
     "output_type": "stream",
     "text": [
      "Using RANSAC with residual threshold: 1761.6853436411393\n",
      "Using RANSAC with min_samples: 148\n",
      "Using RANSAC with optimal max_trials: 100\n"
     ]
    },
    {
     "name": "stderr",
     "output_type": "stream",
     "text": [
      "Processing ./../reduced_data/salsa/data_n_128_k_1_s_binary_cdec2_10.pkl:   0%|          | 0/58 [02:10<?, ?it/s]\n"
     ]
    },
    {
     "name": "stdout",
     "output_type": "stream",
     "text": [
      "RANSAC inliers: 1243 / 1505\n"
     ]
    },
    {
     "name": "stderr",
     "output_type": "stream",
     "text": [
      "Processing ./../reduced_data/salsa/data_n_128_k_1_s_binary_cdec2_11.pkl:   0%|          | 0/58 [00:00<?, ?it/s]"
     ]
    },
    {
     "name": "stdout",
     "output_type": "stream",
     "text": [
      "Using RANSAC with residual threshold: 1667.9797660643248\n",
      "Using RANSAC with min_samples: 147\n",
      "Using RANSAC with optimal max_trials: 100\n"
     ]
    },
    {
     "name": "stderr",
     "output_type": "stream",
     "text": [
      "Processing ./../reduced_data/salsa/data_n_128_k_1_s_binary_cdec2_11.pkl:   0%|          | 0/58 [02:07<?, ?it/s]"
     ]
    },
    {
     "name": "stdout",
     "output_type": "stream",
     "text": [
      "RANSAC inliers: 1299 / 1514\n"
     ]
    },
    {
     "name": "stderr",
     "output_type": "stream",
     "text": [
      "\n",
      "Processing ./../reduced_data/salsa/data_n_128_k_1_s_binary_cdec2_12.pkl:   0%|          | 0/58 [00:00<?, ?it/s]"
     ]
    },
    {
     "name": "stdout",
     "output_type": "stream",
     "text": [
      "Using RANSAC with residual threshold: 1694.5253760271635\n",
      "Using RANSAC with min_samples: 146\n",
      "Using RANSAC with optimal max_trials: 100\n"
     ]
    },
    {
     "name": "stderr",
     "output_type": "stream",
     "text": [
      "Processing ./../reduced_data/salsa/data_n_128_k_1_s_binary_cdec2_12.pkl:   0%|          | 0/58 [02:14<?, ?it/s]\n"
     ]
    },
    {
     "name": "stdout",
     "output_type": "stream",
     "text": [
      "RANSAC inliers: 1233 / 1520\n"
     ]
    },
    {
     "name": "stderr",
     "output_type": "stream",
     "text": [
      "Processing ./../reduced_data/salsa/data_n_128_k_1_s_binary_cdec2_13.pkl:   0%|          | 0/58 [00:00<?, ?it/s]"
     ]
    },
    {
     "name": "stdout",
     "output_type": "stream",
     "text": [
      "Using RANSAC with residual threshold: 1699.1643534396549\n",
      "Using RANSAC with min_samples: 145\n",
      "Using RANSAC with optimal max_trials: 100\n"
     ]
    },
    {
     "name": "stderr",
     "output_type": "stream",
     "text": [
      "Processing ./../reduced_data/salsa/data_n_128_k_1_s_binary_cdec2_13.pkl:   0%|          | 0/58 [02:18<?, ?it/s]"
     ]
    },
    {
     "name": "stdout",
     "output_type": "stream",
     "text": [
      "RANSAC inliers: 1291 / 1526\n"
     ]
    },
    {
     "name": "stderr",
     "output_type": "stream",
     "text": [
      "\n",
      "Processing ./../reduced_data/salsa/data_n_128_k_1_s_binary_cdec2_14.pkl:   0%|          | 0/58 [00:00<?, ?it/s]"
     ]
    },
    {
     "name": "stdout",
     "output_type": "stream",
     "text": [
      "Using RANSAC with residual threshold: 1676.6920558051202\n",
      "Using RANSAC with min_samples: 145\n",
      "Using RANSAC with optimal max_trials: 100\n"
     ]
    },
    {
     "name": "stderr",
     "output_type": "stream",
     "text": [
      "Processing ./../reduced_data/salsa/data_n_128_k_1_s_binary_cdec2_14.pkl:   0%|          | 0/58 [02:22<?, ?it/s]\n"
     ]
    },
    {
     "name": "stdout",
     "output_type": "stream",
     "text": [
      "RANSAC inliers: 1246 / 1530\n"
     ]
    },
    {
     "name": "stderr",
     "output_type": "stream",
     "text": [
      "Processing ./../reduced_data/salsa/data_n_128_k_1_s_binary_cdec2_15.pkl:   0%|          | 0/58 [00:00<?, ?it/s]"
     ]
    },
    {
     "name": "stdout",
     "output_type": "stream",
     "text": [
      "Using RANSAC with residual threshold: 1636.4360665788322\n",
      "Using RANSAC with min_samples: 144\n",
      "Using RANSAC with optimal max_trials: 100\n"
     ]
    },
    {
     "name": "stderr",
     "output_type": "stream",
     "text": [
      "Processing ./../reduced_data/salsa/data_n_128_k_1_s_binary_cdec2_15.pkl:   0%|          | 0/58 [02:22<?, ?it/s]\n"
     ]
    },
    {
     "name": "stdout",
     "output_type": "stream",
     "text": [
      "RANSAC inliers: 1241 / 1533\n"
     ]
    },
    {
     "name": "stderr",
     "output_type": "stream",
     "text": [
      "Processing ./../reduced_data/salsa/data_n_128_k_1_s_binary_cdec2_16.pkl:   0%|          | 0/58 [00:00<?, ?it/s]"
     ]
    },
    {
     "name": "stdout",
     "output_type": "stream",
     "text": [
      "Using RANSAC with residual threshold: 1636.9990073301817\n",
      "Using RANSAC with min_samples: 143\n",
      "Using RANSAC with optimal max_trials: 100\n"
     ]
    },
    {
     "name": "stderr",
     "output_type": "stream",
     "text": [
      "Processing ./../reduced_data/salsa/data_n_128_k_1_s_binary_cdec2_16.pkl:   0%|          | 0/58 [02:32<?, ?it/s]\n"
     ]
    },
    {
     "name": "stdout",
     "output_type": "stream",
     "text": [
      "RANSAC inliers: 1215 / 1534\n"
     ]
    },
    {
     "name": "stderr",
     "output_type": "stream",
     "text": [
      "Processing ./../reduced_data/salsa/data_n_128_k_1_s_binary_cdec2_17.pkl:   0%|          | 0/58 [00:00<?, ?it/s]"
     ]
    },
    {
     "name": "stdout",
     "output_type": "stream",
     "text": [
      "Using RANSAC with residual threshold: 1590.2377180786525\n",
      "Using RANSAC with min_samples: 143\n",
      "Using RANSAC with optimal max_trials: 100\n"
     ]
    },
    {
     "name": "stderr",
     "output_type": "stream",
     "text": [
      "Processing ./../reduced_data/salsa/data_n_128_k_1_s_binary_cdec2_17.pkl:   0%|          | 0/58 [02:23<?, ?it/s]\n"
     ]
    },
    {
     "name": "stdout",
     "output_type": "stream",
     "text": [
      "RANSAC inliers: 1203 / 1535\n"
     ]
    },
    {
     "name": "stderr",
     "output_type": "stream",
     "text": [
      "Processing ./../reduced_data/salsa/data_n_128_k_1_s_binary_cdec2_18.pkl:   0%|          | 0/58 [00:00<?, ?it/s]"
     ]
    },
    {
     "name": "stdout",
     "output_type": "stream",
     "text": [
      "Using RANSAC with residual threshold: 1584.5332909093452\n",
      "Using RANSAC with min_samples: 142\n",
      "Using RANSAC with optimal max_trials: 100\n"
     ]
    },
    {
     "name": "stderr",
     "output_type": "stream",
     "text": [
      "Processing ./../reduced_data/salsa/data_n_128_k_1_s_binary_cdec2_18.pkl:   0%|          | 0/58 [02:20<?, ?it/s]"
     ]
    },
    {
     "name": "stdout",
     "output_type": "stream",
     "text": [
      "RANSAC inliers: 1190 / 1535\n"
     ]
    },
    {
     "name": "stderr",
     "output_type": "stream",
     "text": [
      "\n",
      "Processing ./../reduced_data/salsa/data_n_128_k_1_s_binary_cdec2_19.pkl:   0%|          | 0/58 [00:00<?, ?it/s]"
     ]
    },
    {
     "name": "stdout",
     "output_type": "stream",
     "text": [
      "Using RANSAC with residual threshold: 1588.367558218185\n",
      "Using RANSAC with min_samples: 142\n",
      "Using RANSAC with optimal max_trials: 100\n"
     ]
    },
    {
     "name": "stderr",
     "output_type": "stream",
     "text": [
      "Processing ./../reduced_data/salsa/data_n_128_k_1_s_binary_cdec2_19.pkl:   0%|          | 0/58 [02:26<?, ?it/s]\n"
     ]
    },
    {
     "name": "stdout",
     "output_type": "stream",
     "text": [
      "RANSAC inliers: 1256 / 1535\n"
     ]
    },
    {
     "name": "stderr",
     "output_type": "stream",
     "text": [
      "Processing ./../reduced_data/salsa/data_n_128_k_1_s_binary_cdec2_20.pkl:   0%|          | 0/58 [00:00<?, ?it/s]"
     ]
    },
    {
     "name": "stdout",
     "output_type": "stream",
     "text": [
      "Using RANSAC with residual threshold: 1584.5332909093452\n",
      "Using RANSAC with min_samples: 142\n",
      "Using RANSAC with optimal max_trials: 100\n"
     ]
    },
    {
     "name": "stderr",
     "output_type": "stream",
     "text": [
      "Processing ./../reduced_data/salsa/data_n_128_k_1_s_binary_cdec2_20.pkl:   2%|▏         | 1/58 [02:16<2:09:48, 136.63s/it]"
     ]
    },
    {
     "name": "stdout",
     "output_type": "stream",
     "text": [
      "RANSAC inliers: 1245 / 1536\n",
      "Using RANSAC with residual threshold: 1584.5332909093452\n",
      "Using RANSAC with min_samples: 143\n",
      "Using RANSAC with optimal max_trials: 100\n"
     ]
    },
    {
     "name": "stderr",
     "output_type": "stream",
     "text": [
      "Processing ./../reduced_data/salsa/data_n_128_k_1_s_binary_cdec2_20.pkl:   3%|▎         | 2/58 [04:43<2:13:07, 142.63s/it]"
     ]
    },
    {
     "name": "stdout",
     "output_type": "stream",
     "text": [
      "RANSAC inliers: 1247 / 1536\n",
      "Using RANSAC with residual threshold: 1584.5332909093452\n",
      "Using RANSAC with min_samples: 144\n",
      "Using RANSAC with optimal max_trials: 100\n"
     ]
    },
    {
     "name": "stderr",
     "output_type": "stream",
     "text": [
      "Processing ./../reduced_data/salsa/data_n_128_k_1_s_binary_cdec2_20.pkl:   3%|▎         | 2/58 [07:04<3:17:52, 212.01s/it]"
     ]
    },
    {
     "name": "stdout",
     "output_type": "stream",
     "text": [
      "RANSAC inliers: 1160 / 1536\n"
     ]
    },
    {
     "name": "stderr",
     "output_type": "stream",
     "text": [
      "\n",
      "Processing ./../reduced_data/salsa/data_n_128_k_1_s_binary_cdec2_21.pkl:   0%|          | 0/56 [00:00<?, ?it/s]"
     ]
    },
    {
     "name": "stdout",
     "output_type": "stream",
     "text": [
      "Using RANSAC with residual threshold: 1563.4339608694702\n",
      "Using RANSAC with min_samples: 143\n",
      "Using RANSAC with optimal max_trials: 100\n"
     ]
    },
    {
     "name": "stderr",
     "output_type": "stream",
     "text": [
      "Processing ./../reduced_data/salsa/data_n_128_k_1_s_binary_cdec2_21.pkl:   0%|          | 0/56 [02:31<?, ?it/s]\n"
     ]
    },
    {
     "name": "stdout",
     "output_type": "stream",
     "text": [
      "RANSAC inliers: 1260 / 1536\n"
     ]
    },
    {
     "name": "stderr",
     "output_type": "stream",
     "text": [
      "Processing ./../reduced_data/salsa/data_n_128_k_1_s_binary_cdec2_22.pkl:   0%|          | 0/56 [00:00<?, ?it/s]"
     ]
    },
    {
     "name": "stdout",
     "output_type": "stream",
     "text": [
      "Using RANSAC with residual threshold: 1563.4339608694702\n",
      "Using RANSAC with min_samples: 143\n",
      "Using RANSAC with optimal max_trials: 100\n"
     ]
    },
    {
     "name": "stderr",
     "output_type": "stream",
     "text": [
      "Processing ./../reduced_data/salsa/data_n_128_k_1_s_binary_cdec2_22.pkl:   0%|          | 0/56 [03:02<?, ?it/s]"
     ]
    },
    {
     "name": "stdout",
     "output_type": "stream",
     "text": [
      "RANSAC inliers: 1253 / 1536\n"
     ]
    },
    {
     "name": "stderr",
     "output_type": "stream",
     "text": [
      "\n",
      "Processing ./../reduced_data/salsa/data_n_128_k_1_s_binary_cdec2_23.pkl:   0%|          | 0/56 [00:00<?, ?it/s]"
     ]
    },
    {
     "name": "stdout",
     "output_type": "stream",
     "text": [
      "Using RANSAC with residual threshold: 1578.7206054270653\n",
      "Using RANSAC with min_samples: 143\n",
      "Using RANSAC with optimal max_trials: 100\n"
     ]
    },
    {
     "name": "stderr",
     "output_type": "stream",
     "text": [
      "Processing ./../reduced_data/salsa/data_n_128_k_1_s_binary_cdec2_23.pkl:   0%|          | 0/56 [02:22<?, ?it/s]\n"
     ]
    },
    {
     "name": "stdout",
     "output_type": "stream",
     "text": [
      "RANSAC inliers: 1197 / 1536\n"
     ]
    },
    {
     "name": "stderr",
     "output_type": "stream",
     "text": [
      "Processing ./../reduced_data/salsa/data_n_128_k_1_s_binary_cdec2_24.pkl:   0%|          | 0/56 [00:00<?, ?it/s]"
     ]
    },
    {
     "name": "stdout",
     "output_type": "stream",
     "text": [
      "Using RANSAC with residual threshold: 1551.244419812687\n",
      "Using RANSAC with min_samples: 142\n",
      "Using RANSAC with optimal max_trials: 100\n"
     ]
    },
    {
     "name": "stderr",
     "output_type": "stream",
     "text": [
      "Processing ./../reduced_data/salsa/data_n_128_k_1_s_binary_cdec2_24.pkl:   0%|          | 0/56 [02:41<?, ?it/s]"
     ]
    },
    {
     "name": "stdout",
     "output_type": "stream",
     "text": [
      "RANSAC inliers: 1173 / 1536\n"
     ]
    },
    {
     "name": "stderr",
     "output_type": "stream",
     "text": [
      "\n",
      "Processing ./../reduced_data/salsa/data_n_128_k_1_s_binary_cdec2_25.pkl:   0%|          | 0/56 [00:00<?, ?it/s]"
     ]
    },
    {
     "name": "stdout",
     "output_type": "stream",
     "text": [
      "Using RANSAC with residual threshold: 1551.244419812687\n",
      "Using RANSAC with min_samples: 142\n",
      "Using RANSAC with optimal max_trials: 100\n"
     ]
    },
    {
     "name": "stderr",
     "output_type": "stream",
     "text": [
      "Processing ./../reduced_data/salsa/data_n_128_k_1_s_binary_cdec2_25.pkl:   0%|          | 0/56 [02:34<?, ?it/s]"
     ]
    },
    {
     "name": "stdout",
     "output_type": "stream",
     "text": [
      "RANSAC inliers: 1217 / 1536\n"
     ]
    },
    {
     "name": "stderr",
     "output_type": "stream",
     "text": [
      "\n",
      "Processing ./../reduced_data/salsa/data_n_128_k_1_s_binary_cdec2_26.pkl:   0%|          | 0/56 [00:00<?, ?it/s]"
     ]
    },
    {
     "name": "stdout",
     "output_type": "stream",
     "text": [
      "Using RANSAC with residual threshold: 1537.8782461560475\n",
      "Using RANSAC with min_samples: 142\n",
      "Using RANSAC with optimal max_trials: 100\n"
     ]
    },
    {
     "name": "stderr",
     "output_type": "stream",
     "text": [
      "Processing ./../reduced_data/salsa/data_n_128_k_1_s_binary_cdec2_26.pkl:   0%|          | 0/56 [02:30<?, ?it/s]"
     ]
    },
    {
     "name": "stdout",
     "output_type": "stream",
     "text": [
      "RANSAC inliers: 1195 / 1536\n"
     ]
    },
    {
     "name": "stderr",
     "output_type": "stream",
     "text": [
      "\n",
      "Processing ./../reduced_data/salsa/data_n_128_k_1_s_binary_cdec2_27.pkl:   0%|          | 0/56 [00:00<?, ?it/s]"
     ]
    },
    {
     "name": "stdout",
     "output_type": "stream",
     "text": [
      "Using RANSAC with residual threshold: 1537.8782461560475\n",
      "Using RANSAC with min_samples: 142\n",
      "Using RANSAC with optimal max_trials: 100\n"
     ]
    },
    {
     "name": "stderr",
     "output_type": "stream",
     "text": [
      "Processing ./../reduced_data/salsa/data_n_128_k_1_s_binary_cdec2_27.pkl:   0%|          | 0/56 [02:28<?, ?it/s]\n"
     ]
    },
    {
     "name": "stdout",
     "output_type": "stream",
     "text": [
      "RANSAC inliers: 1215 / 1536\n"
     ]
    },
    {
     "name": "stderr",
     "output_type": "stream",
     "text": [
      "Processing ./../reduced_data/salsa/data_n_128_k_1_s_binary_cdec2_28.pkl:   0%|          | 0/56 [00:00<?, ?it/s]"
     ]
    },
    {
     "name": "stdout",
     "output_type": "stream",
     "text": [
      "Using RANSAC with residual threshold: 1537.8782461560475\n",
      "Using RANSAC with min_samples: 142\n",
      "Using RANSAC with optimal max_trials: 100\n"
     ]
    },
    {
     "name": "stderr",
     "output_type": "stream",
     "text": [
      "Processing ./../reduced_data/salsa/data_n_128_k_1_s_binary_cdec2_28.pkl:   0%|          | 0/56 [03:03<?, ?it/s]"
     ]
    },
    {
     "name": "stdout",
     "output_type": "stream",
     "text": [
      "RANSAC inliers: 1212 / 1536\n"
     ]
    },
    {
     "name": "stderr",
     "output_type": "stream",
     "text": [
      "\n",
      "Processing ./../reduced_data/salsa/data_n_128_k_1_s_binary_cdec2_29.pkl:   0%|          | 0/56 [00:00<?, ?it/s]"
     ]
    },
    {
     "name": "stdout",
     "output_type": "stream",
     "text": [
      "Using RANSAC with residual threshold: 1537.8782461560475\n",
      "Using RANSAC with min_samples: 141\n",
      "Using RANSAC with optimal max_trials: 100\n"
     ]
    },
    {
     "name": "stderr",
     "output_type": "stream",
     "text": [
      "Processing ./../reduced_data/salsa/data_n_128_k_1_s_binary_cdec2_29.pkl:   2%|▏         | 1/56 [03:11<2:55:06, 191.02s/it]"
     ]
    },
    {
     "name": "stdout",
     "output_type": "stream",
     "text": [
      "RANSAC inliers: 1256 / 1536\n",
      "Using RANSAC with residual threshold: 1537.8782461560475\n",
      "Using RANSAC with min_samples: 142\n",
      "Using RANSAC with optimal max_trials: 100\n"
     ]
    },
    {
     "name": "stderr",
     "output_type": "stream",
     "text": [
      "Processing ./../reduced_data/salsa/data_n_128_k_1_s_binary_cdec2_29.pkl:   2%|▏         | 1/56 [05:39<5:10:57, 339.23s/it]\n"
     ]
    },
    {
     "name": "stdout",
     "output_type": "stream",
     "text": [
      "RANSAC inliers: 1222 / 1536\n"
     ]
    },
    {
     "name": "stderr",
     "output_type": "stream",
     "text": [
      "Processing ./../reduced_data/salsa/data_n_128_k_1_s_binary_cdec2_30.pkl:   0%|          | 0/55 [00:00<?, ?it/s]"
     ]
    },
    {
     "name": "stdout",
     "output_type": "stream",
     "text": [
      "Using RANSAC with residual threshold: 1537.8782461560475\n",
      "Using RANSAC with min_samples: 142\n",
      "Using RANSAC with optimal max_trials: 100\n"
     ]
    },
    {
     "name": "stderr",
     "output_type": "stream",
     "text": [
      "Processing ./../reduced_data/salsa/data_n_128_k_1_s_binary_cdec2_30.pkl:   0%|          | 0/55 [02:39<?, ?it/s]"
     ]
    },
    {
     "name": "stdout",
     "output_type": "stream",
     "text": [
      "RANSAC inliers: 1183 / 1536\n"
     ]
    },
    {
     "name": "stderr",
     "output_type": "stream",
     "text": [
      "\n",
      "Processing ./../reduced_data/salsa/data_n_128_k_1_s_binary_cdec2_31.pkl:   0%|          | 0/55 [00:00<?, ?it/s]"
     ]
    },
    {
     "name": "stdout",
     "output_type": "stream",
     "text": [
      "Using RANSAC with residual threshold: 1537.8782461560475\n",
      "Using RANSAC with min_samples: 142\n",
      "Using RANSAC with optimal max_trials: 100\n"
     ]
    },
    {
     "name": "stderr",
     "output_type": "stream",
     "text": [
      "Processing ./../reduced_data/salsa/data_n_128_k_1_s_binary_cdec2_31.pkl:   0%|          | 0/55 [02:35<?, ?it/s]"
     ]
    },
    {
     "name": "stdout",
     "output_type": "stream",
     "text": [
      "RANSAC inliers: 1165 / 1536\n"
     ]
    },
    {
     "name": "stderr",
     "output_type": "stream",
     "text": [
      "\n",
      "Processing ./../reduced_data/salsa/data_n_128_k_1_s_binary_cdec2_32.pkl:   0%|          | 0/55 [00:00<?, ?it/s]"
     ]
    },
    {
     "name": "stdout",
     "output_type": "stream",
     "text": [
      "Using RANSAC with residual threshold: 1537.8782461560475\n",
      "Using RANSAC with min_samples: 142\n",
      "Using RANSAC with optimal max_trials: 100\n"
     ]
    },
    {
     "name": "stderr",
     "output_type": "stream",
     "text": [
      "Processing ./../reduced_data/salsa/data_n_128_k_1_s_binary_cdec2_32.pkl:   0%|          | 0/55 [01:58<?, ?it/s]\n"
     ]
    },
    {
     "name": "stdout",
     "output_type": "stream",
     "text": [
      "RANSAC inliers: 1209 / 1536\n"
     ]
    },
    {
     "name": "stderr",
     "output_type": "stream",
     "text": [
      "Processing ./../reduced_data/salsa/data_n_128_k_1_s_binary_cdec2_33.pkl:   0%|          | 0/55 [00:00<?, ?it/s]"
     ]
    },
    {
     "name": "stdout",
     "output_type": "stream",
     "text": [
      "Using RANSAC with residual threshold: 1537.8782461560475\n",
      "Using RANSAC with min_samples: 142\n",
      "Using RANSAC with optimal max_trials: 100\n"
     ]
    },
    {
     "name": "stderr",
     "output_type": "stream",
     "text": [
      "Processing ./../reduced_data/salsa/data_n_128_k_1_s_binary_cdec2_33.pkl:   0%|          | 0/55 [01:44<?, ?it/s]\n"
     ]
    },
    {
     "name": "stdout",
     "output_type": "stream",
     "text": [
      "RANSAC inliers: 1241 / 1536\n"
     ]
    },
    {
     "name": "stderr",
     "output_type": "stream",
     "text": [
      "Processing ./../reduced_data/salsa/data_n_128_k_1_s_binary_cdec2_34.pkl:   0%|          | 0/55 [00:00<?, ?it/s]"
     ]
    },
    {
     "name": "stdout",
     "output_type": "stream",
     "text": [
      "Using RANSAC with residual threshold: 1537.8782461560475\n",
      "Using RANSAC with min_samples: 141\n",
      "Using RANSAC with optimal max_trials: 100\n"
     ]
    },
    {
     "name": "stderr",
     "output_type": "stream",
     "text": [
      "Processing ./../reduced_data/salsa/data_n_128_k_1_s_binary_cdec2_34.pkl:   0%|          | 0/55 [02:33<?, ?it/s]\n"
     ]
    },
    {
     "name": "stdout",
     "output_type": "stream",
     "text": [
      "RANSAC inliers: 1215 / 1536\n"
     ]
    },
    {
     "name": "stderr",
     "output_type": "stream",
     "text": [
      "Processing ./../reduced_data/salsa/data_n_128_k_1_s_binary_cdec2_35.pkl:   0%|          | 0/55 [00:00<?, ?it/s]"
     ]
    },
    {
     "name": "stdout",
     "output_type": "stream",
     "text": [
      "Using RANSAC with residual threshold: 1537.8782461560475\n",
      "Using RANSAC with min_samples: 141\n",
      "Using RANSAC with optimal max_trials: 100\n"
     ]
    },
    {
     "name": "stderr",
     "output_type": "stream",
     "text": [
      "Processing ./../reduced_data/salsa/data_n_128_k_1_s_binary_cdec2_35.pkl:   2%|▏         | 1/55 [02:50<2:33:13, 170.24s/it]"
     ]
    },
    {
     "name": "stdout",
     "output_type": "stream",
     "text": [
      "RANSAC inliers: 1217 / 1536\n",
      "Using RANSAC with residual threshold: 1537.8782461560475\n",
      "Using RANSAC with min_samples: 142\n",
      "Using RANSAC with optimal max_trials: 100\n"
     ]
    },
    {
     "name": "stderr",
     "output_type": "stream",
     "text": [
      "Processing ./../reduced_data/salsa/data_n_128_k_1_s_binary_cdec2_35.pkl:   2%|▏         | 1/55 [05:13<4:42:08, 313.49s/it]"
     ]
    },
    {
     "name": "stdout",
     "output_type": "stream",
     "text": [
      "RANSAC inliers: 1198 / 1536\n"
     ]
    },
    {
     "name": "stderr",
     "output_type": "stream",
     "text": [
      "\n"
     ]
    },
    {
     "data": {
      "text/plain": [
       "{1: 1,\n",
       " 2: 1,\n",
       " 3: 1,\n",
       " 4: 1,\n",
       " 5: 9,\n",
       " 6: 20,\n",
       " 7: 20,\n",
       " 8: 29,\n",
       " 9: 35,\n",
       " 10: -1,\n",
       " 11: -1,\n",
       " 12: -1,\n",
       " 13: -1,\n",
       " 14: -1,\n",
       " 15: -1,\n",
       " 16: -1,\n",
       " 17: -1,\n",
       " 18: -1,\n",
       " 19: -1,\n",
       " 20: -1,\n",
       " 21: -1,\n",
       " 22: -1,\n",
       " 23: -1,\n",
       " 24: -1,\n",
       " 25: -1,\n",
       " 26: -1,\n",
       " 27: -1,\n",
       " 28: -1,\n",
       " 29: -1,\n",
       " 30: -1,\n",
       " 31: -1,\n",
       " 32: -1,\n",
       " 33: -1,\n",
       " 34: -1,\n",
       " 35: -1,\n",
       " 36: -1,\n",
       " 37: -1,\n",
       " 38: -1,\n",
       " 39: -1,\n",
       " 40: -1,\n",
       " 41: -1,\n",
       " 42: -1,\n",
       " 43: -1,\n",
       " 44: -1,\n",
       " 45: -1,\n",
       " 46: -1,\n",
       " 47: -1,\n",
       " 48: -1,\n",
       " 49: -1,\n",
       " 50: -1,\n",
       " 51: -1,\n",
       " 52: -1,\n",
       " 53: -1,\n",
       " 54: -1,\n",
       " 55: -1,\n",
       " 56: -1,\n",
       " 57: -1,\n",
       " 58: -1,\n",
       " 59: -1,\n",
       " 60: -1,\n",
       " 61: -1,\n",
       " 62: -1,\n",
       " 63: -1}"
      ]
     },
     "execution_count": 4,
     "metadata": {},
     "output_type": "execute_result"
    }
   ],
   "source": [
    "secret_type = 'binary'\n",
    "n = 128\n",
    "choosen_hw = range(1, n // 2)\n",
    "\n",
    "train_args= get_train_default_params()\n",
    "train_args.update({\n",
    "    'epsilon': 1.1,\n",
    "    'use_ransac': True,\n",
    "    'train_percentages': [0.1]\n",
    "})\n",
    "\n",
    "success_dict = {hw: -1 for hw in choosen_hw}\n",
    "\n",
    "for filename in filenames:\n",
    "    # Load the dataset\n",
    "    dataset = LWEDataset.load_reduced(filename)\n",
    "    dataset.params['secret_type'] = secret_type\n",
    "    dataset.params['verbose'] = False\n",
    "    file_number = int(os.path.splitext(os.path.basename(filename))[0].split('_')[-1])\n",
    "\n",
    "    success_hw = []\n",
    "    \n",
    "    for hw in tqdm(choosen_hw, desc=f\"Processing {filename}\"):\n",
    "        dataset.params['hw'] = hw\n",
    "        dataset.initialize_secret()\n",
    "        dataset.params.update(train_args)\n",
    "        found, _ = dataset.train()\n",
    "        if found:\n",
    "            success_dict[hw] = file_number\n",
    "            success_hw.append(hw)\n",
    "        else:\n",
    "            break\n",
    "    \n",
    "    choosen_hw = [h for h in choosen_hw if h not in success_hw]\n",
    "\n",
    "success_dict"
   ]
  },
  {
   "cell_type": "code",
   "execution_count": 3,
   "id": "2763ea17",
   "metadata": {},
   "outputs": [
    {
     "name": "stdout",
     "output_type": "stream",
     "text": [
      "Trained with params {'train_percentages': 1.0, 'epsilon': 1.1, 'max_iter': 20000, 'alpha': 0.0001, 'warm_start': False, 'fit_intercept': True, 'tol': 1e-05, 'use_ransac': False, 'residual_factor': 1.5, 'min_samples': None, 'max_trials': None}, success_dict: {1: 1, 2: 1, 3: 7, 4: 7, 5: 8, 6: 11, 7: 12, 8: 15, 9: 15, 10: 20, 11: 20, 12: 20, 13: 24, 14: 26, 15: 26, 16: 26, 17: 26, 18: 26, 19: 27, 20: 30, 21: 33, 22: 34, 23: 35, 24: 35, 25: 35, 26: -1, 27: -1, 28: -1, 29: -1, 30: -1, 31: -1, 32: -1, 33: -1, 34: -1, 35: -1, 36: -1, 37: -1, 38: -1, 39: -1, 40: -1, 41: -1, 42: -1, 43: -1, 44: -1, 45: -1, 46: -1, 47: -1, 48: -1, 49: -1, 50: -1, 51: -1, 52: -1, 53: -1, 54: -1, 55: -1, 56: -1, 57: -1, 58: -1, 59: -1, 60: -1, 61: -1, 62: -1, 63: -1}\n",
      "Trained with params {'train_percentages': 1.0, 'epsilon': 1.0, 'max_iter': 20000, 'alpha': 0.0001, 'warm_start': False, 'fit_intercept': True, 'tol': 1e-05, 'use_ransac': False, 'residual_factor': 1.5, 'min_samples': None, 'max_trials': None}, success_dict: {1: 1, 2: 1, 3: 1, 4: 7, 5: 7, 6: 11, 7: 12, 8: 15, 9: 15, 10: 17, 11: 20, 12: 20, 13: 23, 14: 26, 15: 26, 16: 26, 17: 26, 18: 26, 19: 27, 20: 30, 21: 33, 22: 34, 23: -1, 24: -1, 25: -1, 26: -1, 27: -1, 28: -1, 29: -1, 30: -1, 31: -1, 32: -1, 33: -1, 34: -1, 35: -1, 36: -1, 37: -1, 38: -1, 39: -1, 40: -1, 41: -1, 42: -1, 43: -1, 44: -1, 45: -1, 46: -1, 47: -1, 48: -1, 49: -1, 50: -1, 51: -1, 52: -1, 53: -1, 54: -1, 55: -1, 56: -1, 57: -1, 58: -1, 59: -1, 60: -1, 61: -1, 62: -1, 63: -1}\n",
      "Trained with params {'train_percentages': 1.0, 'epsilon': 1.05, 'max_iter': 20000, 'alpha': 0.0001, 'warm_start': False, 'fit_intercept': True, 'tol': 1e-05, 'use_ransac': False, 'residual_factor': 1.5, 'min_samples': None, 'max_trials': None}, success_dict: {1: 1, 2: 1, 3: 1, 4: 7, 5: 7, 6: 11, 7: 12, 8: 15, 9: 15, 10: 20, 11: 20, 12: 20, 13: 23, 14: 26, 15: 26, 16: 26, 17: 26, 18: 26, 19: 27, 20: 30, 21: 33, 22: 34, 23: -1, 24: -1, 25: -1, 26: -1, 27: -1, 28: -1, 29: -1, 30: -1, 31: -1, 32: -1, 33: -1, 34: -1, 35: -1, 36: -1, 37: -1, 38: -1, 39: -1, 40: -1, 41: -1, 42: -1, 43: -1, 44: -1, 45: -1, 46: -1, 47: -1, 48: -1, 49: -1, 50: -1, 51: -1, 52: -1, 53: -1, 54: -1, 55: -1, 56: -1, 57: -1, 58: -1, 59: -1, 60: -1, 61: -1, 62: -1, 63: -1}\n",
      "Trained with params {'train_percentages': 1.0, 'epsilon': 1.15, 'max_iter': 20000, 'alpha': 0.0001, 'warm_start': False, 'fit_intercept': True, 'tol': 1e-05, 'use_ransac': False, 'residual_factor': 1.5, 'min_samples': None, 'max_trials': None}, success_dict: {1: 1, 2: 1, 3: 7, 4: 7, 5: 8, 6: 11, 7: 12, 8: 15, 9: 15, 10: 20, 11: 20, 12: 26, 13: 26, 14: 26, 15: 26, 16: 26, 17: 26, 18: -1, 19: -1, 20: -1, 21: -1, 22: -1, 23: -1, 24: -1, 25: -1, 26: -1, 27: -1, 28: -1, 29: -1, 30: -1, 31: -1, 32: -1, 33: -1, 34: -1, 35: -1, 36: -1, 37: -1, 38: -1, 39: -1, 40: -1, 41: -1, 42: -1, 43: -1, 44: -1, 45: -1, 46: -1, 47: -1, 48: -1, 49: -1, 50: -1, 51: -1, 52: -1, 53: -1, 54: -1, 55: -1, 56: -1, 57: -1, 58: -1, 59: -1, 60: -1, 61: -1, 62: -1, 63: -1}\n",
      "Trained with params {'train_percentages': 1.0, 'epsilon': 1.2, 'max_iter': 20000, 'alpha': 0.0001, 'warm_start': False, 'fit_intercept': True, 'tol': 1e-05, 'use_ransac': False, 'residual_factor': 1.5, 'min_samples': None, 'max_trials': None}, success_dict: {1: 1, 2: 1, 3: 7, 4: 7, 5: 8, 6: 12, 7: 12, 8: 20, 9: 20, 10: 20, 11: 20, 12: 26, 13: 26, 14: 29, 15: 29, 16: 31, 17: 31, 18: -1, 19: -1, 20: -1, 21: -1, 22: -1, 23: -1, 24: -1, 25: -1, 26: -1, 27: -1, 28: -1, 29: -1, 30: -1, 31: -1, 32: -1, 33: -1, 34: -1, 35: -1, 36: -1, 37: -1, 38: -1, 39: -1, 40: -1, 41: -1, 42: -1, 43: -1, 44: -1, 45: -1, 46: -1, 47: -1, 48: -1, 49: -1, 50: -1, 51: -1, 52: -1, 53: -1, 54: -1, 55: -1, 56: -1, 57: -1, 58: -1, 59: -1, 60: -1, 61: -1, 62: -1, 63: -1}\n",
      "Trained with params {'train_percentages': 1.0, 'epsilon': 1.3, 'max_iter': 20000, 'alpha': 0.0001, 'warm_start': False, 'fit_intercept': True, 'tol': 1e-05, 'use_ransac': False, 'residual_factor': 1.5, 'min_samples': None, 'max_trials': None}, success_dict: {1: 1, 2: 1, 3: 7, 4: 8, 5: 12, 6: 12, 7: 20, 8: 21, 9: 21, 10: 22, 11: 26, 12: 29, 13: 29, 14: 35, 15: -1, 16: -1, 17: -1, 18: -1, 19: -1, 20: -1, 21: -1, 22: -1, 23: -1, 24: -1, 25: -1, 26: -1, 27: -1, 28: -1, 29: -1, 30: -1, 31: -1, 32: -1, 33: -1, 34: -1, 35: -1, 36: -1, 37: -1, 38: -1, 39: -1, 40: -1, 41: -1, 42: -1, 43: -1, 44: -1, 45: -1, 46: -1, 47: -1, 48: -1, 49: -1, 50: -1, 51: -1, 52: -1, 53: -1, 54: -1, 55: -1, 56: -1, 57: -1, 58: -1, 59: -1, 60: -1, 61: -1, 62: -1, 63: -1}\n",
      "Trained with params {'train_percentages': 1.0, 'epsilon': 1.35, 'max_iter': 20000, 'alpha': 0.0001, 'warm_start': False, 'fit_intercept': True, 'tol': 1e-05, 'use_ransac': False, 'residual_factor': 1.5, 'min_samples': None, 'max_trials': None}, success_dict: {1: 1, 2: 1, 3: 7, 4: 9, 5: 12, 6: 14, 7: 20, 8: 22, 9: 22, 10: 25, 11: 33, 12: 33, 13: 33, 14: -1, 15: -1, 16: -1, 17: -1, 18: -1, 19: -1, 20: -1, 21: -1, 22: -1, 23: -1, 24: -1, 25: -1, 26: -1, 27: -1, 28: -1, 29: -1, 30: -1, 31: -1, 32: -1, 33: -1, 34: -1, 35: -1, 36: -1, 37: -1, 38: -1, 39: -1, 40: -1, 41: -1, 42: -1, 43: -1, 44: -1, 45: -1, 46: -1, 47: -1, 48: -1, 49: -1, 50: -1, 51: -1, 52: -1, 53: -1, 54: -1, 55: -1, 56: -1, 57: -1, 58: -1, 59: -1, 60: -1, 61: -1, 62: -1, 63: -1}\n",
      "Trained with params {'train_percentages': 1.0, 'epsilon': 1.4, 'max_iter': 20000, 'alpha': 0.0001, 'warm_start': False, 'fit_intercept': True, 'tol': 1e-05, 'use_ransac': False, 'residual_factor': 1.5, 'min_samples': None, 'max_trials': None}, success_dict: {1: 1, 2: 1, 3: 8, 4: 9, 5: 14, 6: 15, 7: 20, 8: 22, 9: 22, 10: 25, 11: 34, 12: 34, 13: 35, 14: -1, 15: -1, 16: -1, 17: -1, 18: -1, 19: -1, 20: -1, 21: -1, 22: -1, 23: -1, 24: -1, 25: -1, 26: -1, 27: -1, 28: -1, 29: -1, 30: -1, 31: -1, 32: -1, 33: -1, 34: -1, 35: -1, 36: -1, 37: -1, 38: -1, 39: -1, 40: -1, 41: -1, 42: -1, 43: -1, 44: -1, 45: -1, 46: -1, 47: -1, 48: -1, 49: -1, 50: -1, 51: -1, 52: -1, 53: -1, 54: -1, 55: -1, 56: -1, 57: -1, 58: -1, 59: -1, 60: -1, 61: -1, 62: -1, 63: -1}\n",
      "Trained with params {'train_percentages': 1.0, 'epsilon': 2, 'max_iter': 20000, 'alpha': 0.0001, 'warm_start': False, 'fit_intercept': True, 'tol': 1e-05, 'use_ransac': False, 'residual_factor': 1.5, 'min_samples': None, 'max_trials': None}, success_dict: {1: 1, 2: 1, 3: 19, 4: 23, 5: 24, 6: 26, 7: 28, 8: -1, 9: -1, 10: -1, 11: -1, 12: -1, 13: -1, 14: -1, 15: -1, 16: -1, 17: -1, 18: -1, 19: -1, 20: -1, 21: -1, 22: -1, 23: -1, 24: -1, 25: -1, 26: -1, 27: -1, 28: -1, 29: -1, 30: -1, 31: -1, 32: -1, 33: -1, 34: -1, 35: -1, 36: -1, 37: -1, 38: -1, 39: -1, 40: -1, 41: -1, 42: -1, 43: -1, 44: -1, 45: -1, 46: -1, 47: -1, 48: -1, 49: -1, 50: -1, 51: -1, 52: -1, 53: -1, 54: -1, 55: -1, 56: -1, 57: -1, 58: -1, 59: -1, 60: -1, 61: -1, 62: -1, 63: -1}\n"
     ]
    }
   ],
   "source": [
    "from itertools import product\n",
    "\n",
    "# Define the grid of hyperparameters to search\n",
    "param_grid = get_train_default_params()\n",
    "param_grid.update({\n",
    "  'epsilon': [1.1, 1.0, 1.05, 1.15, 1.2, 1.3, 1.35, 1.4, 2],\n",
    "  'use_ransac': False,\n",
    "})\n",
    "\n",
    "# Ensure all values in param_grid are lists for product()\n",
    "for k, v in param_grid.items():\n",
    "  if not isinstance(v, list):\n",
    "    param_grid[k] = [v]\n",
    "\n",
    "# Generate all combinations of hyperparameters\n",
    "param_names = list(param_grid.keys())\n",
    "param_combinations = list(product(*param_grid.values()))\n",
    "\n",
    "results = []\n",
    "secret_type = 'binary'\n",
    "n = 128\n",
    "choosen_hw = list(range(1, n // 2))\n",
    "\n",
    "for params in param_combinations:\n",
    "  grid_train_args = dict(zip(param_names, params))\n",
    "  grid_success_dict = {hw: -1 for hw in choosen_hw}\n",
    "  remaining_hw = choosen_hw.copy()\n",
    "  for filename in filenames:\n",
    "    dataset = LWEDataset.load_reduced(filename)\n",
    "    dataset.params['secret_type'] = secret_type\n",
    "    dataset.params['verbose'] = False\n",
    "    file_number = int(os.path.splitext(os.path.basename(filename))[0].split('_')[-1])\n",
    "    success_hw = []\n",
    "    for hw in remaining_hw:\n",
    "      dataset.params['hw'] = hw\n",
    "      dataset.initialize_secret()\n",
    "      dataset.params.update(grid_train_args)\n",
    "      found, _ = dataset.train()\n",
    "      if found:\n",
    "        grid_success_dict[hw] = file_number\n",
    "        success_hw.append(hw)\n",
    "      else:\n",
    "        break\n",
    "    remaining_hw = [h for h in remaining_hw if h not in success_hw]\n",
    "    if not remaining_hw:\n",
    "      break\n",
    "  # Save results for this hyperparameter combination\n",
    "  results.append({'params': grid_train_args, 'success_dict': grid_success_dict})\n",
    "  print(f\"Trained with params {grid_train_args}, success_dict: {grid_success_dict}\")"
   ]
  },
  {
   "cell_type": "code",
   "execution_count": 4,
   "id": "aabfd0aa",
   "metadata": {},
   "outputs": [
    {
     "data": {
      "application/vnd.plotly.v1+json": {
       "config": {
        "plotlyServerURL": "https://plot.ly"
       },
       "data": [
        {
         "mode": "lines+markers",
         "name": "epsilon=1.1",
         "type": "scatter",
         "x": [
          1,
          2,
          3,
          4,
          5,
          6,
          7,
          8,
          9,
          10,
          11,
          12,
          13,
          14,
          15,
          16,
          17,
          18,
          19,
          20,
          21,
          22,
          23,
          24,
          25
         ],
         "y": [
          1,
          1,
          7,
          7,
          8,
          11,
          12,
          15,
          15,
          20,
          20,
          20,
          24,
          26,
          26,
          26,
          26,
          26,
          27,
          30,
          33,
          34,
          35,
          35,
          35
         ]
        },
        {
         "mode": "lines+markers",
         "name": "epsilon=1.0",
         "type": "scatter",
         "x": [
          1,
          2,
          3,
          4,
          5,
          6,
          7,
          8,
          9,
          10,
          11,
          12,
          13,
          14,
          15,
          16,
          17,
          18,
          19,
          20,
          21,
          22
         ],
         "y": [
          1,
          1,
          1,
          7,
          7,
          11,
          12,
          15,
          15,
          17,
          20,
          20,
          23,
          26,
          26,
          26,
          26,
          26,
          27,
          30,
          33,
          34
         ]
        },
        {
         "mode": "lines+markers",
         "name": "epsilon=1.05",
         "type": "scatter",
         "x": [
          1,
          2,
          3,
          4,
          5,
          6,
          7,
          8,
          9,
          10,
          11,
          12,
          13,
          14,
          15,
          16,
          17,
          18,
          19,
          20,
          21,
          22
         ],
         "y": [
          1,
          1,
          1,
          7,
          7,
          11,
          12,
          15,
          15,
          20,
          20,
          20,
          23,
          26,
          26,
          26,
          26,
          26,
          27,
          30,
          33,
          34
         ]
        },
        {
         "mode": "lines+markers",
         "name": "epsilon=1.15",
         "type": "scatter",
         "x": [
          1,
          2,
          3,
          4,
          5,
          6,
          7,
          8,
          9,
          10,
          11,
          12,
          13,
          14,
          15,
          16,
          17
         ],
         "y": [
          1,
          1,
          7,
          7,
          8,
          11,
          12,
          15,
          15,
          20,
          20,
          26,
          26,
          26,
          26,
          26,
          26
         ]
        },
        {
         "mode": "lines+markers",
         "name": "epsilon=1.2",
         "type": "scatter",
         "x": [
          1,
          2,
          3,
          4,
          5,
          6,
          7,
          8,
          9,
          10,
          11,
          12,
          13,
          14,
          15,
          16,
          17
         ],
         "y": [
          1,
          1,
          7,
          7,
          8,
          12,
          12,
          20,
          20,
          20,
          20,
          26,
          26,
          29,
          29,
          31,
          31
         ]
        },
        {
         "mode": "lines+markers",
         "name": "epsilon=1.3",
         "type": "scatter",
         "x": [
          1,
          2,
          3,
          4,
          5,
          6,
          7,
          8,
          9,
          10,
          11,
          12,
          13,
          14
         ],
         "y": [
          1,
          1,
          7,
          8,
          12,
          12,
          20,
          21,
          21,
          22,
          26,
          29,
          29,
          35
         ]
        },
        {
         "mode": "lines+markers",
         "name": "epsilon=1.35",
         "type": "scatter",
         "x": [
          1,
          2,
          3,
          4,
          5,
          6,
          7,
          8,
          9,
          10,
          11,
          12,
          13
         ],
         "y": [
          1,
          1,
          7,
          9,
          12,
          14,
          20,
          22,
          22,
          25,
          33,
          33,
          33
         ]
        },
        {
         "mode": "lines+markers",
         "name": "epsilon=1.4",
         "type": "scatter",
         "x": [
          1,
          2,
          3,
          4,
          5,
          6,
          7,
          8,
          9,
          10,
          11,
          12,
          13
         ],
         "y": [
          1,
          1,
          8,
          9,
          14,
          15,
          20,
          22,
          22,
          25,
          34,
          34,
          35
         ]
        },
        {
         "mode": "lines+markers",
         "name": "epsilon=2",
         "type": "scatter",
         "x": [
          1,
          2,
          3,
          4,
          5,
          6,
          7
         ],
         "y": [
          1,
          1,
          19,
          23,
          24,
          26,
          28
         ]
        }
       ],
       "layout": {
        "autosize": true,
        "height": 400,
        "margin": {
         "b": 40,
         "l": 40,
         "r": 20,
         "t": 40
        },
        "template": {
         "data": {
          "bar": [
           {
            "error_x": {
             "color": "#2a3f5f"
            },
            "error_y": {
             "color": "#2a3f5f"
            },
            "marker": {
             "line": {
              "color": "#E5ECF6",
              "width": 0.5
             },
             "pattern": {
              "fillmode": "overlay",
              "size": 10,
              "solidity": 0.2
             }
            },
            "type": "bar"
           }
          ],
          "barpolar": [
           {
            "marker": {
             "line": {
              "color": "#E5ECF6",
              "width": 0.5
             },
             "pattern": {
              "fillmode": "overlay",
              "size": 10,
              "solidity": 0.2
             }
            },
            "type": "barpolar"
           }
          ],
          "carpet": [
           {
            "aaxis": {
             "endlinecolor": "#2a3f5f",
             "gridcolor": "white",
             "linecolor": "white",
             "minorgridcolor": "white",
             "startlinecolor": "#2a3f5f"
            },
            "baxis": {
             "endlinecolor": "#2a3f5f",
             "gridcolor": "white",
             "linecolor": "white",
             "minorgridcolor": "white",
             "startlinecolor": "#2a3f5f"
            },
            "type": "carpet"
           }
          ],
          "choropleth": [
           {
            "colorbar": {
             "outlinewidth": 0,
             "ticks": ""
            },
            "type": "choropleth"
           }
          ],
          "contour": [
           {
            "colorbar": {
             "outlinewidth": 0,
             "ticks": ""
            },
            "colorscale": [
             [
              0,
              "#0d0887"
             ],
             [
              0.1111111111111111,
              "#46039f"
             ],
             [
              0.2222222222222222,
              "#7201a8"
             ],
             [
              0.3333333333333333,
              "#9c179e"
             ],
             [
              0.4444444444444444,
              "#bd3786"
             ],
             [
              0.5555555555555556,
              "#d8576b"
             ],
             [
              0.6666666666666666,
              "#ed7953"
             ],
             [
              0.7777777777777778,
              "#fb9f3a"
             ],
             [
              0.8888888888888888,
              "#fdca26"
             ],
             [
              1,
              "#f0f921"
             ]
            ],
            "type": "contour"
           }
          ],
          "contourcarpet": [
           {
            "colorbar": {
             "outlinewidth": 0,
             "ticks": ""
            },
            "type": "contourcarpet"
           }
          ],
          "heatmap": [
           {
            "colorbar": {
             "outlinewidth": 0,
             "ticks": ""
            },
            "colorscale": [
             [
              0,
              "#0d0887"
             ],
             [
              0.1111111111111111,
              "#46039f"
             ],
             [
              0.2222222222222222,
              "#7201a8"
             ],
             [
              0.3333333333333333,
              "#9c179e"
             ],
             [
              0.4444444444444444,
              "#bd3786"
             ],
             [
              0.5555555555555556,
              "#d8576b"
             ],
             [
              0.6666666666666666,
              "#ed7953"
             ],
             [
              0.7777777777777778,
              "#fb9f3a"
             ],
             [
              0.8888888888888888,
              "#fdca26"
             ],
             [
              1,
              "#f0f921"
             ]
            ],
            "type": "heatmap"
           }
          ],
          "histogram": [
           {
            "marker": {
             "pattern": {
              "fillmode": "overlay",
              "size": 10,
              "solidity": 0.2
             }
            },
            "type": "histogram"
           }
          ],
          "histogram2d": [
           {
            "colorbar": {
             "outlinewidth": 0,
             "ticks": ""
            },
            "colorscale": [
             [
              0,
              "#0d0887"
             ],
             [
              0.1111111111111111,
              "#46039f"
             ],
             [
              0.2222222222222222,
              "#7201a8"
             ],
             [
              0.3333333333333333,
              "#9c179e"
             ],
             [
              0.4444444444444444,
              "#bd3786"
             ],
             [
              0.5555555555555556,
              "#d8576b"
             ],
             [
              0.6666666666666666,
              "#ed7953"
             ],
             [
              0.7777777777777778,
              "#fb9f3a"
             ],
             [
              0.8888888888888888,
              "#fdca26"
             ],
             [
              1,
              "#f0f921"
             ]
            ],
            "type": "histogram2d"
           }
          ],
          "histogram2dcontour": [
           {
            "colorbar": {
             "outlinewidth": 0,
             "ticks": ""
            },
            "colorscale": [
             [
              0,
              "#0d0887"
             ],
             [
              0.1111111111111111,
              "#46039f"
             ],
             [
              0.2222222222222222,
              "#7201a8"
             ],
             [
              0.3333333333333333,
              "#9c179e"
             ],
             [
              0.4444444444444444,
              "#bd3786"
             ],
             [
              0.5555555555555556,
              "#d8576b"
             ],
             [
              0.6666666666666666,
              "#ed7953"
             ],
             [
              0.7777777777777778,
              "#fb9f3a"
             ],
             [
              0.8888888888888888,
              "#fdca26"
             ],
             [
              1,
              "#f0f921"
             ]
            ],
            "type": "histogram2dcontour"
           }
          ],
          "mesh3d": [
           {
            "colorbar": {
             "outlinewidth": 0,
             "ticks": ""
            },
            "type": "mesh3d"
           }
          ],
          "parcoords": [
           {
            "line": {
             "colorbar": {
              "outlinewidth": 0,
              "ticks": ""
             }
            },
            "type": "parcoords"
           }
          ],
          "pie": [
           {
            "automargin": true,
            "type": "pie"
           }
          ],
          "scatter": [
           {
            "fillpattern": {
             "fillmode": "overlay",
             "size": 10,
             "solidity": 0.2
            },
            "type": "scatter"
           }
          ],
          "scatter3d": [
           {
            "line": {
             "colorbar": {
              "outlinewidth": 0,
              "ticks": ""
             }
            },
            "marker": {
             "colorbar": {
              "outlinewidth": 0,
              "ticks": ""
             }
            },
            "type": "scatter3d"
           }
          ],
          "scattercarpet": [
           {
            "marker": {
             "colorbar": {
              "outlinewidth": 0,
              "ticks": ""
             }
            },
            "type": "scattercarpet"
           }
          ],
          "scattergeo": [
           {
            "marker": {
             "colorbar": {
              "outlinewidth": 0,
              "ticks": ""
             }
            },
            "type": "scattergeo"
           }
          ],
          "scattergl": [
           {
            "marker": {
             "colorbar": {
              "outlinewidth": 0,
              "ticks": ""
             }
            },
            "type": "scattergl"
           }
          ],
          "scattermap": [
           {
            "marker": {
             "colorbar": {
              "outlinewidth": 0,
              "ticks": ""
             }
            },
            "type": "scattermap"
           }
          ],
          "scattermapbox": [
           {
            "marker": {
             "colorbar": {
              "outlinewidth": 0,
              "ticks": ""
             }
            },
            "type": "scattermapbox"
           }
          ],
          "scatterpolar": [
           {
            "marker": {
             "colorbar": {
              "outlinewidth": 0,
              "ticks": ""
             }
            },
            "type": "scatterpolar"
           }
          ],
          "scatterpolargl": [
           {
            "marker": {
             "colorbar": {
              "outlinewidth": 0,
              "ticks": ""
             }
            },
            "type": "scatterpolargl"
           }
          ],
          "scatterternary": [
           {
            "marker": {
             "colorbar": {
              "outlinewidth": 0,
              "ticks": ""
             }
            },
            "type": "scatterternary"
           }
          ],
          "surface": [
           {
            "colorbar": {
             "outlinewidth": 0,
             "ticks": ""
            },
            "colorscale": [
             [
              0,
              "#0d0887"
             ],
             [
              0.1111111111111111,
              "#46039f"
             ],
             [
              0.2222222222222222,
              "#7201a8"
             ],
             [
              0.3333333333333333,
              "#9c179e"
             ],
             [
              0.4444444444444444,
              "#bd3786"
             ],
             [
              0.5555555555555556,
              "#d8576b"
             ],
             [
              0.6666666666666666,
              "#ed7953"
             ],
             [
              0.7777777777777778,
              "#fb9f3a"
             ],
             [
              0.8888888888888888,
              "#fdca26"
             ],
             [
              1,
              "#f0f921"
             ]
            ],
            "type": "surface"
           }
          ],
          "table": [
           {
            "cells": {
             "fill": {
              "color": "#EBF0F8"
             },
             "line": {
              "color": "white"
             }
            },
            "header": {
             "fill": {
              "color": "#C8D4E3"
             },
             "line": {
              "color": "white"
             }
            },
            "type": "table"
           }
          ]
         },
         "layout": {
          "annotationdefaults": {
           "arrowcolor": "#2a3f5f",
           "arrowhead": 0,
           "arrowwidth": 1
          },
          "autotypenumbers": "strict",
          "coloraxis": {
           "colorbar": {
            "outlinewidth": 0,
            "ticks": ""
           }
          },
          "colorscale": {
           "diverging": [
            [
             0,
             "#8e0152"
            ],
            [
             0.1,
             "#c51b7d"
            ],
            [
             0.2,
             "#de77ae"
            ],
            [
             0.3,
             "#f1b6da"
            ],
            [
             0.4,
             "#fde0ef"
            ],
            [
             0.5,
             "#f7f7f7"
            ],
            [
             0.6,
             "#e6f5d0"
            ],
            [
             0.7,
             "#b8e186"
            ],
            [
             0.8,
             "#7fbc41"
            ],
            [
             0.9,
             "#4d9221"
            ],
            [
             1,
             "#276419"
            ]
           ],
           "sequential": [
            [
             0,
             "#0d0887"
            ],
            [
             0.1111111111111111,
             "#46039f"
            ],
            [
             0.2222222222222222,
             "#7201a8"
            ],
            [
             0.3333333333333333,
             "#9c179e"
            ],
            [
             0.4444444444444444,
             "#bd3786"
            ],
            [
             0.5555555555555556,
             "#d8576b"
            ],
            [
             0.6666666666666666,
             "#ed7953"
            ],
            [
             0.7777777777777778,
             "#fb9f3a"
            ],
            [
             0.8888888888888888,
             "#fdca26"
            ],
            [
             1,
             "#f0f921"
            ]
           ],
           "sequentialminus": [
            [
             0,
             "#0d0887"
            ],
            [
             0.1111111111111111,
             "#46039f"
            ],
            [
             0.2222222222222222,
             "#7201a8"
            ],
            [
             0.3333333333333333,
             "#9c179e"
            ],
            [
             0.4444444444444444,
             "#bd3786"
            ],
            [
             0.5555555555555556,
             "#d8576b"
            ],
            [
             0.6666666666666666,
             "#ed7953"
            ],
            [
             0.7777777777777778,
             "#fb9f3a"
            ],
            [
             0.8888888888888888,
             "#fdca26"
            ],
            [
             1,
             "#f0f921"
            ]
           ]
          },
          "colorway": [
           "#636efa",
           "#EF553B",
           "#00cc96",
           "#ab63fa",
           "#FFA15A",
           "#19d3f3",
           "#FF6692",
           "#B6E880",
           "#FF97FF",
           "#FECB52"
          ],
          "font": {
           "color": "#2a3f5f"
          },
          "geo": {
           "bgcolor": "white",
           "lakecolor": "white",
           "landcolor": "#E5ECF6",
           "showlakes": true,
           "showland": true,
           "subunitcolor": "white"
          },
          "hoverlabel": {
           "align": "left"
          },
          "hovermode": "closest",
          "mapbox": {
           "style": "light"
          },
          "paper_bgcolor": "white",
          "plot_bgcolor": "#E5ECF6",
          "polar": {
           "angularaxis": {
            "gridcolor": "white",
            "linecolor": "white",
            "ticks": ""
           },
           "bgcolor": "#E5ECF6",
           "radialaxis": {
            "gridcolor": "white",
            "linecolor": "white",
            "ticks": ""
           }
          },
          "scene": {
           "xaxis": {
            "backgroundcolor": "#E5ECF6",
            "gridcolor": "white",
            "gridwidth": 2,
            "linecolor": "white",
            "showbackground": true,
            "ticks": "",
            "zerolinecolor": "white"
           },
           "yaxis": {
            "backgroundcolor": "#E5ECF6",
            "gridcolor": "white",
            "gridwidth": 2,
            "linecolor": "white",
            "showbackground": true,
            "ticks": "",
            "zerolinecolor": "white"
           },
           "zaxis": {
            "backgroundcolor": "#E5ECF6",
            "gridcolor": "white",
            "gridwidth": 2,
            "linecolor": "white",
            "showbackground": true,
            "ticks": "",
            "zerolinecolor": "white"
           }
          },
          "shapedefaults": {
           "line": {
            "color": "#2a3f5f"
           }
          },
          "ternary": {
           "aaxis": {
            "gridcolor": "white",
            "linecolor": "white",
            "ticks": ""
           },
           "baxis": {
            "gridcolor": "white",
            "linecolor": "white",
            "ticks": ""
           },
           "bgcolor": "#E5ECF6",
           "caxis": {
            "gridcolor": "white",
            "linecolor": "white",
            "ticks": ""
           }
          },
          "title": {
           "x": 0.05
          },
          "xaxis": {
           "automargin": true,
           "gridcolor": "white",
           "linecolor": "white",
           "ticks": "",
           "title": {
            "standoff": 15
           },
           "zerolinecolor": "white",
           "zerolinewidth": 2
          },
          "yaxis": {
           "automargin": true,
           "gridcolor": "white",
           "linecolor": "white",
           "ticks": "",
           "title": {
            "standoff": 15
           },
           "zerolinecolor": "white",
           "zerolinewidth": 2
          }
         }
        },
        "width": 800,
        "xaxis": {
         "title": {
          "text": "Hamming Weight"
         }
        },
        "yaxis": {
         "title": {
          "text": "Hours"
         }
        }
       }
      }
     },
     "metadata": {},
     "output_type": "display_data"
    }
   ],
   "source": [
    "from collections import defaultdict\n",
    "\n",
    "# Group results by identical success_dict values\n",
    "grouped = defaultdict(list)\n",
    "for i, res in enumerate(results):\n",
    "  key = tuple(sorted(res['success_dict'].items()))\n",
    "  grouped[key].append(i)\n",
    "\n",
    "# Find the unique parameter sets for each group\n",
    "group_params = []\n",
    "for indices in grouped.values():\n",
    "  params_list = [results[idx]['params'] for idx in indices]\n",
    "  group_params.append(params_list)\n",
    "\n",
    "# Find which features differ between groups\n",
    "def get_differing_keys(param_groups):\n",
    "  # param_groups: list of list of dicts (params for each group)\n",
    "  all_keys = set()\n",
    "  for group in param_groups:\n",
    "    for params in group:\n",
    "      all_keys.update(params.keys())\n",
    "  differing_keys = set()\n",
    "  for key in all_keys:\n",
    "    values = set(tuple(params.get(key, None) for params in group) for group in param_groups)\n",
    "    if len(values) > 1:\n",
    "      differing_keys.add(key)\n",
    "  return differing_keys\n",
    "\n",
    "differing_keys = get_differing_keys(group_params)\n",
    "\n",
    "# Print sets of indices that are grouped together, and only the differing features\n",
    "for indices in grouped.values():\n",
    "  if len(indices) > 1:\n",
    "    params_list = [results[idx]['params'] for idx in indices]\n",
    "    print(\"Grouped together:\", indices)\n",
    "    for params in params_list:\n",
    "      diff_params = {k: v for k, v in params.items() if k in differing_keys}\n",
    "      print(diff_params)\n",
    "\n",
    "fig = go.Figure()\n",
    "for indices in grouped.values():\n",
    "  idx = indices[0]\n",
    "  res = results[idx]\n",
    "  y = list(res['success_dict'].values())\n",
    "\n",
    "  y = [val for val in y if val != -1]\n",
    "  x = [k for k, val in res['success_dict'].items() if val != -1]\n",
    "\n",
    "  label = ', '.join(f'{k}={v}' for k, v in res['params'].items() if k in differing_keys)\n",
    "  fig.add_trace(go.Scatter(x=x, y=y, mode='lines+markers', name=label))\n",
    "\n",
    "fig.update_layout(\n",
    "  xaxis_title='Hamming Weight',\n",
    "  yaxis_title='Hours',\n",
    "  width= 800,\n",
    "  height= 400,\n",
    "  autosize=True,\n",
    "  margin=dict(l=40, r=20, t=40, b=40),\n",
    ")\n",
    "fig.show()\n",
    "\n"
   ]
  },
  {
   "cell_type": "markdown",
   "id": "6a12de0f",
   "metadata": {},
   "source": [
    "# Mean STD"
   ]
  },
  {
   "cell_type": "code",
   "execution_count": 4,
   "id": "ee35cabe",
   "metadata": {},
   "outputs": [
    {
     "data": {
      "text/plain": [
       "{'n': 128,\n",
       " 'q': 3329,\n",
       " 'k': 1,\n",
       " 'secret_type': 'binary',\n",
       " 'eta': 3,\n",
       " 'gaussian_std': 2,\n",
       " 'hw': -1,\n",
       " 'error_type': 'cbd',\n",
       " 'num_gen': 4,\n",
       " 'add_noise': True,\n",
       " 'mod_q': True,\n",
       " 'seed': 0,\n",
       " 'approximation_std': 3,\n",
       " 'approximation_threshold': 0.01,\n",
       " 'save_to': '../data/dual',\n",
       " 'float_type': 'd',\n",
       " 'matrix_config': 'dual',\n",
       " 'reduction_std': 2,\n",
       " 'reduction_factor': 0.875,\n",
       " 'reduction_resampling': True,\n",
       " 'min_samples': 0,\n",
       " 'num_matrices': 63,\n",
       " 'algos': ['flatter', 'BKZ2.0'],\n",
       " 'lookback': 4,\n",
       " 'bkz_block_sizes': '40:40:1',\n",
       " 'bkz_deltas': [0.96, 0.99],\n",
       " 'flatter_alphas': [0.04, 0.025],\n",
       " 'penalty': 4,\n",
       " 'verbose': True,\n",
       " 'checkpoint_filename': './best_reduction',\n",
       " 'reload_checkpoint': False,\n",
       " 'warmup_steps': 10,\n",
       " 'flatter_alpha': 0.001,\n",
       " 'bkz_delta': 0.99,\n",
       " 'use_polish': True}"
      ]
     },
     "execution_count": 4,
     "metadata": {},
     "output_type": "execute_result"
    }
   ],
   "source": [
    "LWEDataset.load_params_from_file(\"./../data/dual/data_n_128_k_1_s_binary_2c7a7_1.0.pkl\")"
   ]
  },
  {
   "cell_type": "code",
   "execution_count": 17,
   "id": "b939baef",
   "metadata": {},
   "outputs": [
    {
     "data": {
      "application/vnd.plotly.v1+json": {
       "config": {
        "plotlyServerURL": "https://plot.ly"
       },
       "data": [
        {
         "line": {
          "color": "blue"
         },
         "mode": "lines+markers",
         "name": "dual mean",
         "type": "scatter",
         "x": [
          1.015070289903217,
          2.0908698270055983,
          3.093639367686378,
          4.101159815457132,
          5.114046902656555,
          6.139202313688067,
          7.188542134099537,
          8.23720388836331,
          9.259056282904414,
          10.27058593319522,
          11.355875687003136,
          12.444315051436424,
          13.506796677708627,
          14.615293645262717,
          15.620969638427098,
          16.649499266280067,
          17.662619434197744,
          18.736238265103765,
          19.766337140136294,
          20.812341391576663,
          21.81626252412796,
          22.829010053210787
         ],
         "y": [
          2563.4080954779183,
          2349.6207705946126,
          2284.201303448323,
          2247.3897053300793,
          2221.4292444857897,
          2201.370949213276,
          2184.864640776658,
          2171.047807991817,
          2160.203868447929,
          2150.8263753481624,
          2141.008689363519,
          2132.3421182248576,
          2124.742652081676,
          2117.0757417487303,
          2111.0614030821,
          2105.0740523200775,
          2099.794877361581,
          2094.643837146412,
          2089.449884703938,
          2084.704437285675,
          2080.5761477179585,
          2076.3855077688654
         ]
        },
        {
         "fill": "toself",
         "fillcolor": "rgba(0, 0, 255, 0.15)",
         "hoverinfo": "skip",
         "line": {
          "color": "rgba(255,255,255,0)"
         },
         "showlegend": false,
         "type": "scatter",
         "x": [
          1.015070289903217,
          2.0908698270055983,
          3.093639367686378,
          4.101159815457132,
          5.114046902656555,
          6.139202313688067,
          7.188542134099537,
          8.23720388836331,
          9.259056282904414,
          10.27058593319522,
          11.355875687003136,
          12.444315051436424,
          13.506796677708627,
          14.615293645262717,
          15.620969638427098,
          16.649499266280067,
          17.662619434197744,
          18.736238265103765,
          19.766337140136294,
          20.812341391576663,
          21.81626252412796,
          22.829010053210787,
          22.829010053210787,
          21.81626252412796,
          20.812341391576663,
          19.766337140136294,
          18.736238265103765,
          17.662619434197744,
          16.649499266280067,
          15.620969638427098,
          14.615293645262717,
          13.506796677708627,
          12.444315051436424,
          11.355875687003136,
          10.27058593319522,
          9.259056282904414,
          8.23720388836331,
          7.188542134099537,
          6.139202313688067,
          5.114046902656555,
          4.101159815457132,
          3.093639367686378,
          2.0908698270055983,
          1.015070289903217
         ],
         "y": [
          2677.5512353465124,
          2446.6245386935875,
          2375.5872691129916,
          2335.686182585424,
          2308.039914473169,
          2286.60786551811,
          2268.8665054728085,
          2254.4196404757768,
          2242.1405245152537,
          2231.8259998875587,
          2221.526076027535,
          2211.7287883353233,
          2203.683039362688,
          2195.4930755797536,
          2189.209604047735,
          2183.106842496147,
          2177.3976383931904,
          2172.2976737102877,
          2167.1695127759263,
          2162.281456111584,
          2157.7783552565174,
          2153.2485506578932,
          1999.5224648798373,
          2003.3739401793996,
          2007.127418459766,
          2011.73025663195,
          2016.9900005825361,
          2022.1921163299712,
          2027.0412621440084,
          2032.9132021164646,
          2038.658407917707,
          2045.8022648006645,
          2052.955448114392,
          2060.4913026995027,
          2069.826750808766,
          2078.267212380604,
          2087.6759755078574,
          2100.862776080507,
          2116.1340329084424,
          2134.8185744984103,
          2159.0932280747347,
          2192.8153377836543,
          2252.6170024956377,
          2449.2649556093243
         ]
        },
        {
         "line": {
          "color": "red"
         },
         "mode": "lines+markers",
         "name": "salsa mean",
         "type": "scatter",
         "x": [
          1.0707340368297364,
          2.077664086487558,
          3.139514580302768,
          4.253393220769034,
          5.390227528545592,
          6.448363388843006,
          7.4562814176082615,
          8.519231922229132,
          9.592611479295625,
          10.66045690913995,
          11.785647259420818,
          12.803509825136926,
          13.819570431841745,
          14.96199687262376,
          15.97041687005096,
          16.981754544840918,
          17.984078695376713,
          19.1323530299796,
          20.135077335238456,
          21.151385589970484,
          22.288814851575427,
          23.415010844336617
         ],
         "y": [
          2565.5446569471787,
          2362.325530963818,
          2291.019057706729,
          2251.580333490926,
          2223.5414988497655,
          2203.322263778664,
          2186.8322693861523,
          2172.924088287084,
          2160.4393332114723,
          2149.2605671097626,
          2139.2822867087193,
          2131.183282417396,
          2123.7965126968,
          2116.2815887870966,
          2110.846312624434,
          2105.3608551126626,
          2100.439084014674,
          2094.766138493422,
          2090.40283779934,
          2086.3577220725906,
          2081.4411358735724,
          2076.703739297018
         ]
        },
        {
         "fill": "toself",
         "fillcolor": "rgba(255, 0, 0, 0.15)",
         "hoverinfo": "skip",
         "line": {
          "color": "rgba(255,255,255,0)"
         },
         "showlegend": false,
         "type": "scatter",
         "x": [
          1.0707340368297364,
          2.077664086487558,
          3.139514580302768,
          4.253393220769034,
          5.390227528545592,
          6.448363388843006,
          7.4562814176082615,
          8.519231922229132,
          9.592611479295625,
          10.66045690913995,
          11.785647259420818,
          12.803509825136926,
          13.819570431841745,
          14.96199687262376,
          15.97041687005096,
          16.981754544840918,
          17.984078695376713,
          19.1323530299796,
          20.135077335238456,
          21.151385589970484,
          22.288814851575427,
          23.415010844336617,
          23.415010844336617,
          22.288814851575427,
          21.151385589970484,
          20.135077335238456,
          19.1323530299796,
          17.984078695376713,
          16.981754544840918,
          15.97041687005096,
          14.96199687262376,
          13.819570431841745,
          12.803509825136926,
          11.785647259420818,
          10.66045690913995,
          9.592611479295625,
          8.519231922229132,
          7.4562814176082615,
          6.448363388843006,
          5.390227528545592,
          4.253393220769034,
          3.139514580302768,
          2.077664086487558,
          1.0707340368297364
         ],
         "y": [
          2680.7849682938067,
          2460.338442312895,
          2381.777663971557,
          2339.5140797020613,
          2309.78045609892,
          2287.687401611013,
          2269.8147177099518,
          2255.9133911658296,
          2242.18138105972,
          2231.000182641131,
          2220.652551640121,
          2212.0068730045646,
          2204.225958188735,
          2196.671076108957,
          2190.8326404753398,
          2184.7242853729017,
          2179.0638254689056,
          2172.9241487773834,
          2168.1714607871063,
          2163.6608790558394,
          2158.4278780322534,
          2153.2806478354446,
          2000.1268307585913,
          2004.4543937148917,
          2009.0545650893416,
          2012.6342148115739,
          2016.608128209461,
          2021.8143425604424,
          2025.9974248524234,
          2030.8599847735286,
          2035.892101465236,
          2043.3670672048654,
          2050.359691830228,
          2057.9120217773175,
          2067.5209515783945,
          2078.6972853632246,
          2089.9347854083385,
          2103.849821062353,
          2118.957125946315,
          2137.302541600611,
          2163.6465872797908,
          2200.2604514419013,
          2264.312619614741,
          2450.3043456005507
         ]
        }
       ],
       "layout": {
        "bargap": 0.2,
        "height": 450,
        "margin": {
         "b": 20,
         "l": 20,
         "r": 20,
         "t": 10
        },
        "showlegend": false,
        "template": {
         "data": {
          "bar": [
           {
            "error_x": {
             "color": "#2a3f5f"
            },
            "error_y": {
             "color": "#2a3f5f"
            },
            "marker": {
             "line": {
              "color": "white",
              "width": 0.5
             },
             "pattern": {
              "fillmode": "overlay",
              "size": 10,
              "solidity": 0.2
             }
            },
            "type": "bar"
           }
          ],
          "barpolar": [
           {
            "marker": {
             "line": {
              "color": "white",
              "width": 0.5
             },
             "pattern": {
              "fillmode": "overlay",
              "size": 10,
              "solidity": 0.2
             }
            },
            "type": "barpolar"
           }
          ],
          "carpet": [
           {
            "aaxis": {
             "endlinecolor": "#2a3f5f",
             "gridcolor": "#C8D4E3",
             "linecolor": "#C8D4E3",
             "minorgridcolor": "#C8D4E3",
             "startlinecolor": "#2a3f5f"
            },
            "baxis": {
             "endlinecolor": "#2a3f5f",
             "gridcolor": "#C8D4E3",
             "linecolor": "#C8D4E3",
             "minorgridcolor": "#C8D4E3",
             "startlinecolor": "#2a3f5f"
            },
            "type": "carpet"
           }
          ],
          "choropleth": [
           {
            "colorbar": {
             "outlinewidth": 0,
             "ticks": ""
            },
            "type": "choropleth"
           }
          ],
          "contour": [
           {
            "colorbar": {
             "outlinewidth": 0,
             "ticks": ""
            },
            "colorscale": [
             [
              0,
              "#0d0887"
             ],
             [
              0.1111111111111111,
              "#46039f"
             ],
             [
              0.2222222222222222,
              "#7201a8"
             ],
             [
              0.3333333333333333,
              "#9c179e"
             ],
             [
              0.4444444444444444,
              "#bd3786"
             ],
             [
              0.5555555555555556,
              "#d8576b"
             ],
             [
              0.6666666666666666,
              "#ed7953"
             ],
             [
              0.7777777777777778,
              "#fb9f3a"
             ],
             [
              0.8888888888888888,
              "#fdca26"
             ],
             [
              1,
              "#f0f921"
             ]
            ],
            "type": "contour"
           }
          ],
          "contourcarpet": [
           {
            "colorbar": {
             "outlinewidth": 0,
             "ticks": ""
            },
            "type": "contourcarpet"
           }
          ],
          "heatmap": [
           {
            "colorbar": {
             "outlinewidth": 0,
             "ticks": ""
            },
            "colorscale": [
             [
              0,
              "#0d0887"
             ],
             [
              0.1111111111111111,
              "#46039f"
             ],
             [
              0.2222222222222222,
              "#7201a8"
             ],
             [
              0.3333333333333333,
              "#9c179e"
             ],
             [
              0.4444444444444444,
              "#bd3786"
             ],
             [
              0.5555555555555556,
              "#d8576b"
             ],
             [
              0.6666666666666666,
              "#ed7953"
             ],
             [
              0.7777777777777778,
              "#fb9f3a"
             ],
             [
              0.8888888888888888,
              "#fdca26"
             ],
             [
              1,
              "#f0f921"
             ]
            ],
            "type": "heatmap"
           }
          ],
          "histogram": [
           {
            "marker": {
             "pattern": {
              "fillmode": "overlay",
              "size": 10,
              "solidity": 0.2
             }
            },
            "type": "histogram"
           }
          ],
          "histogram2d": [
           {
            "colorbar": {
             "outlinewidth": 0,
             "ticks": ""
            },
            "colorscale": [
             [
              0,
              "#0d0887"
             ],
             [
              0.1111111111111111,
              "#46039f"
             ],
             [
              0.2222222222222222,
              "#7201a8"
             ],
             [
              0.3333333333333333,
              "#9c179e"
             ],
             [
              0.4444444444444444,
              "#bd3786"
             ],
             [
              0.5555555555555556,
              "#d8576b"
             ],
             [
              0.6666666666666666,
              "#ed7953"
             ],
             [
              0.7777777777777778,
              "#fb9f3a"
             ],
             [
              0.8888888888888888,
              "#fdca26"
             ],
             [
              1,
              "#f0f921"
             ]
            ],
            "type": "histogram2d"
           }
          ],
          "histogram2dcontour": [
           {
            "colorbar": {
             "outlinewidth": 0,
             "ticks": ""
            },
            "colorscale": [
             [
              0,
              "#0d0887"
             ],
             [
              0.1111111111111111,
              "#46039f"
             ],
             [
              0.2222222222222222,
              "#7201a8"
             ],
             [
              0.3333333333333333,
              "#9c179e"
             ],
             [
              0.4444444444444444,
              "#bd3786"
             ],
             [
              0.5555555555555556,
              "#d8576b"
             ],
             [
              0.6666666666666666,
              "#ed7953"
             ],
             [
              0.7777777777777778,
              "#fb9f3a"
             ],
             [
              0.8888888888888888,
              "#fdca26"
             ],
             [
              1,
              "#f0f921"
             ]
            ],
            "type": "histogram2dcontour"
           }
          ],
          "mesh3d": [
           {
            "colorbar": {
             "outlinewidth": 0,
             "ticks": ""
            },
            "type": "mesh3d"
           }
          ],
          "parcoords": [
           {
            "line": {
             "colorbar": {
              "outlinewidth": 0,
              "ticks": ""
             }
            },
            "type": "parcoords"
           }
          ],
          "pie": [
           {
            "automargin": true,
            "type": "pie"
           }
          ],
          "scatter": [
           {
            "fillpattern": {
             "fillmode": "overlay",
             "size": 10,
             "solidity": 0.2
            },
            "type": "scatter"
           }
          ],
          "scatter3d": [
           {
            "line": {
             "colorbar": {
              "outlinewidth": 0,
              "ticks": ""
             }
            },
            "marker": {
             "colorbar": {
              "outlinewidth": 0,
              "ticks": ""
             }
            },
            "type": "scatter3d"
           }
          ],
          "scattercarpet": [
           {
            "marker": {
             "colorbar": {
              "outlinewidth": 0,
              "ticks": ""
             }
            },
            "type": "scattercarpet"
           }
          ],
          "scattergeo": [
           {
            "marker": {
             "colorbar": {
              "outlinewidth": 0,
              "ticks": ""
             }
            },
            "type": "scattergeo"
           }
          ],
          "scattergl": [
           {
            "marker": {
             "colorbar": {
              "outlinewidth": 0,
              "ticks": ""
             }
            },
            "type": "scattergl"
           }
          ],
          "scattermap": [
           {
            "marker": {
             "colorbar": {
              "outlinewidth": 0,
              "ticks": ""
             }
            },
            "type": "scattermap"
           }
          ],
          "scattermapbox": [
           {
            "marker": {
             "colorbar": {
              "outlinewidth": 0,
              "ticks": ""
             }
            },
            "type": "scattermapbox"
           }
          ],
          "scatterpolar": [
           {
            "marker": {
             "colorbar": {
              "outlinewidth": 0,
              "ticks": ""
             }
            },
            "type": "scatterpolar"
           }
          ],
          "scatterpolargl": [
           {
            "marker": {
             "colorbar": {
              "outlinewidth": 0,
              "ticks": ""
             }
            },
            "type": "scatterpolargl"
           }
          ],
          "scatterternary": [
           {
            "marker": {
             "colorbar": {
              "outlinewidth": 0,
              "ticks": ""
             }
            },
            "type": "scatterternary"
           }
          ],
          "surface": [
           {
            "colorbar": {
             "outlinewidth": 0,
             "ticks": ""
            },
            "colorscale": [
             [
              0,
              "#0d0887"
             ],
             [
              0.1111111111111111,
              "#46039f"
             ],
             [
              0.2222222222222222,
              "#7201a8"
             ],
             [
              0.3333333333333333,
              "#9c179e"
             ],
             [
              0.4444444444444444,
              "#bd3786"
             ],
             [
              0.5555555555555556,
              "#d8576b"
             ],
             [
              0.6666666666666666,
              "#ed7953"
             ],
             [
              0.7777777777777778,
              "#fb9f3a"
             ],
             [
              0.8888888888888888,
              "#fdca26"
             ],
             [
              1,
              "#f0f921"
             ]
            ],
            "type": "surface"
           }
          ],
          "table": [
           {
            "cells": {
             "fill": {
              "color": "#EBF0F8"
             },
             "line": {
              "color": "white"
             }
            },
            "header": {
             "fill": {
              "color": "#C8D4E3"
             },
             "line": {
              "color": "white"
             }
            },
            "type": "table"
           }
          ]
         },
         "layout": {
          "annotationdefaults": {
           "arrowcolor": "#2a3f5f",
           "arrowhead": 0,
           "arrowwidth": 1
          },
          "autotypenumbers": "strict",
          "coloraxis": {
           "colorbar": {
            "outlinewidth": 0,
            "ticks": ""
           }
          },
          "colorscale": {
           "diverging": [
            [
             0,
             "#8e0152"
            ],
            [
             0.1,
             "#c51b7d"
            ],
            [
             0.2,
             "#de77ae"
            ],
            [
             0.3,
             "#f1b6da"
            ],
            [
             0.4,
             "#fde0ef"
            ],
            [
             0.5,
             "#f7f7f7"
            ],
            [
             0.6,
             "#e6f5d0"
            ],
            [
             0.7,
             "#b8e186"
            ],
            [
             0.8,
             "#7fbc41"
            ],
            [
             0.9,
             "#4d9221"
            ],
            [
             1,
             "#276419"
            ]
           ],
           "sequential": [
            [
             0,
             "#0d0887"
            ],
            [
             0.1111111111111111,
             "#46039f"
            ],
            [
             0.2222222222222222,
             "#7201a8"
            ],
            [
             0.3333333333333333,
             "#9c179e"
            ],
            [
             0.4444444444444444,
             "#bd3786"
            ],
            [
             0.5555555555555556,
             "#d8576b"
            ],
            [
             0.6666666666666666,
             "#ed7953"
            ],
            [
             0.7777777777777778,
             "#fb9f3a"
            ],
            [
             0.8888888888888888,
             "#fdca26"
            ],
            [
             1,
             "#f0f921"
            ]
           ],
           "sequentialminus": [
            [
             0,
             "#0d0887"
            ],
            [
             0.1111111111111111,
             "#46039f"
            ],
            [
             0.2222222222222222,
             "#7201a8"
            ],
            [
             0.3333333333333333,
             "#9c179e"
            ],
            [
             0.4444444444444444,
             "#bd3786"
            ],
            [
             0.5555555555555556,
             "#d8576b"
            ],
            [
             0.6666666666666666,
             "#ed7953"
            ],
            [
             0.7777777777777778,
             "#fb9f3a"
            ],
            [
             0.8888888888888888,
             "#fdca26"
            ],
            [
             1,
             "#f0f921"
            ]
           ]
          },
          "colorway": [
           "#636efa",
           "#EF553B",
           "#00cc96",
           "#ab63fa",
           "#FFA15A",
           "#19d3f3",
           "#FF6692",
           "#B6E880",
           "#FF97FF",
           "#FECB52"
          ],
          "font": {
           "color": "#2a3f5f"
          },
          "geo": {
           "bgcolor": "white",
           "lakecolor": "white",
           "landcolor": "white",
           "showlakes": true,
           "showland": true,
           "subunitcolor": "#C8D4E3"
          },
          "hoverlabel": {
           "align": "left"
          },
          "hovermode": "closest",
          "mapbox": {
           "style": "light"
          },
          "paper_bgcolor": "white",
          "plot_bgcolor": "white",
          "polar": {
           "angularaxis": {
            "gridcolor": "#EBF0F8",
            "linecolor": "#EBF0F8",
            "ticks": ""
           },
           "bgcolor": "white",
           "radialaxis": {
            "gridcolor": "#EBF0F8",
            "linecolor": "#EBF0F8",
            "ticks": ""
           }
          },
          "scene": {
           "xaxis": {
            "backgroundcolor": "white",
            "gridcolor": "#DFE8F3",
            "gridwidth": 2,
            "linecolor": "#EBF0F8",
            "showbackground": true,
            "ticks": "",
            "zerolinecolor": "#EBF0F8"
           },
           "yaxis": {
            "backgroundcolor": "white",
            "gridcolor": "#DFE8F3",
            "gridwidth": 2,
            "linecolor": "#EBF0F8",
            "showbackground": true,
            "ticks": "",
            "zerolinecolor": "#EBF0F8"
           },
           "zaxis": {
            "backgroundcolor": "white",
            "gridcolor": "#DFE8F3",
            "gridwidth": 2,
            "linecolor": "#EBF0F8",
            "showbackground": true,
            "ticks": "",
            "zerolinecolor": "#EBF0F8"
           }
          },
          "shapedefaults": {
           "line": {
            "color": "#2a3f5f"
           }
          },
          "ternary": {
           "aaxis": {
            "gridcolor": "#DFE8F3",
            "linecolor": "#A2B1C6",
            "ticks": ""
           },
           "baxis": {
            "gridcolor": "#DFE8F3",
            "linecolor": "#A2B1C6",
            "ticks": ""
           },
           "bgcolor": "white",
           "caxis": {
            "gridcolor": "#DFE8F3",
            "linecolor": "#A2B1C6",
            "ticks": ""
           }
          },
          "title": {
           "x": 0.05
          },
          "xaxis": {
           "automargin": true,
           "gridcolor": "#EBF0F8",
           "linecolor": "#EBF0F8",
           "ticks": "",
           "title": {
            "standoff": 15
           },
           "zerolinecolor": "#EBF0F8",
           "zerolinewidth": 2
          },
          "yaxis": {
           "automargin": true,
           "gridcolor": "#EBF0F8",
           "linecolor": "#EBF0F8",
           "ticks": "",
           "title": {
            "standoff": 15
           },
           "zerolinecolor": "#EBF0F8",
           "zerolinewidth": 2
          }
         }
        },
        "width": 700,
        "xaxis": {
         "title": {
          "text": "Hour"
         }
        },
        "yaxis": {
         "title": {
          "text": "Standard Deviation of B"
         }
        }
       }
      }
     },
     "metadata": {},
     "output_type": "display_data"
    }
   ],
   "source": [
    "file_sets = [\n",
    "  #\"./../data/dual/data_n_128_k_1_s_binary_2c7a7_*.pkl\",\n",
    " #\"./../data/salsa/data_n_128_k_1_s_binary_2c7a7_*.pkl\"\n",
    "  \"./../data/dual/data_n_150_k_1_s_binary_70e6e_*.pkl\",\n",
    "  \"./../data/salsa/data_n_150_k_1_s_binary_70e6e_*.pkl\"\n",
    "]\n",
    "\n",
    "mean_stds = []\n",
    "std_stds = []\n",
    "file_nums = []\n",
    "\n",
    "for file_set in file_sets:\n",
    "  files = sorted(glob.glob(file_set), key=extract_filenumber)\n",
    "  means = []\n",
    "  stds = []\n",
    "  nums = []\n",
    "  for f in files:\n",
    "    ds = LWEDataset.load_reduced(f)\n",
    "    _, _, std_B = ds.get_b_distribution()\n",
    "    means.append(np.mean(std_B))\n",
    "    stds.append(np.std(std_B))\n",
    "    nums.append(ds.reduction_time / 3600)\n",
    "  mean_stds.append(means)\n",
    "  std_stds.append(stds)\n",
    "  file_nums.append(nums)\n",
    "\n",
    "# Make all lists in mean_stds, std_stds, and file_nums the same length by truncating to the minimum length\n",
    "min_len = min(len(lst) for lst in mean_stds)\n",
    "mean_stds = [lst[:min_len] for lst in mean_stds]\n",
    "std_stds = [lst[:min_len] for lst in std_stds]\n",
    "file_nums = [lst[:min_len] for lst in file_nums]\n",
    "\n",
    "fig = go.Figure()\n",
    "\n",
    "labels = ['dual', 'salsa']\n",
    "colors = ['blue', 'red']\n",
    "\n",
    "for i, label in enumerate(labels):\n",
    "  fig.add_trace(go.Scatter(\n",
    "    x=file_nums[i],\n",
    "    y=mean_stds[i],\n",
    "    mode='lines+markers',\n",
    "    name=f'{label} mean',\n",
    "    line=dict(color=colors[i])\n",
    "  ))\n",
    "  fig.add_trace(go.Scatter(\n",
    "    x=file_nums[i] + file_nums[i][::-1],\n",
    "    y=(np.array(mean_stds[i]) + np.array(std_stds[i])).tolist() + (np.array(mean_stds[i]) - np.array(std_stds[i]))[::-1].tolist(),\n",
    "    fill='toself',\n",
    "    fillcolor=f'rgba({0 if i == 0 else 255}, 0, {255 if i == 0 else 0}, 0.15)',\n",
    "    line=dict(color='rgba(255,255,255,0)'),\n",
    "    hoverinfo=\"skip\",\n",
    "    showlegend=False\n",
    "  ))\n",
    "\n",
    "fig.update_layout(\n",
    "  xaxis_title='Hour',\n",
    "  yaxis_title='Standard Deviation of B',\n",
    "  template='plotly_white',\n",
    "  width=700,\n",
    "  height=450,\n",
    "  bargap=0.2,\n",
    "  margin=dict(l=20, r=20, t=10, b=20),\n",
    "  showlegend=False,\n",
    ")\n",
    "\n",
    "fig.show()\n",
    "\n",
    "fig.write_image(\"salsa_dual_std_b.pdf\")"
   ]
  }
 ],
 "metadata": {
  "kernelspec": {
   "display_name": "mlwe",
   "language": "python",
   "name": "python3"
  },
  "language_info": {
   "codemirror_mode": {
    "name": "ipython",
    "version": 3
   },
   "file_extension": ".py",
   "mimetype": "text/x-python",
   "name": "python",
   "nbconvert_exporter": "python",
   "pygments_lexer": "ipython3",
   "version": "3.12.9"
  }
 },
 "nbformat": 4,
 "nbformat_minor": 5
}
