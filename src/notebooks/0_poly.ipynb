{
 "cells": [
  {
   "cell_type": "code",
   "execution_count": 91,
   "metadata": {},
   "outputs": [],
   "source": [
    "from kyber_py.mlwe import MLWE\n",
    "from kyber_py import PolynomialRing as pr\n",
    "from kyber_py import Module as m\n",
    "import os\n",
    "import numpy as np\n",
    "from pathlib import Path\n",
    "\n",
    "def increase_byte(input_bytes, N):\n",
    "    return (int.from_bytes(input_bytes, byteorder='big') + N).to_bytes(len(input_bytes), byteorder='big')\n",
    "\n",
    "n = 50\n",
    "q = 137\n",
    "k = 1\n",
    "logq = int(np.log2(q))\n",
    "seed = 0\n",
    "\n",
    "params = {\n",
    "    'n': n,\n",
    "    'q': q,\n",
    "    'k': k,\n",
    "    'seed': seed\n",
    "}\n",
    "\n",
    "mlwe = MLWE(params)\n",
    "input_bytes = mlwe.get_random_bytes()\n"
   ]
  },
  {
   "cell_type": "code",
   "execution_count": 92,
   "metadata": {},
   "outputs": [],
   "source": [
    "tiny_A = np.zeros((params[\"n\"]*4*k, params[\"n\"]*k))\n",
    "for i in range(0, 4*params[\"n\"]*k, k):\n",
    "    increased_bytes = increase_byte(input_bytes, i)\n",
    "    A = mlwe.generate_A(increased_bytes).to_list()\n",
    "    tiny_A[i:i+k] = np.array(A).astype(int).reshape((k, params[\"n\"]*k))"
   ]
  },
  {
   "cell_type": "code",
   "execution_count": 93,
   "metadata": {},
   "outputs": [
    {
     "data": {
      "text/plain": [
       "array([[ 73.,  96.,  66., ..., 114.,  50., 123.],\n",
       "       [ 42.,  38.,  12., ..., 108., 106.,  88.],\n",
       "       [ 27.,   3., 113., ...,  15.,  95.,  14.],\n",
       "       ...,\n",
       "       [ 75.,  23.,  25., ..., 113., 129.,  92.],\n",
       "       [ 91.,  60., 126., ...,  95.,  42.,  11.],\n",
       "       [ 21.,  33., 136., ...,  46.,  78.,  84.]], shape=(200, 50))"
      ]
     },
     "execution_count": 93,
     "metadata": {},
     "output_type": "execute_result"
    }
   ],
   "source": [
    "tiny_A"
   ]
  },
  {
   "cell_type": "code",
   "execution_count": 94,
   "metadata": {},
   "outputs": [
    {
     "data": {
      "text/plain": [
       "array([[ 294, 1765, 1659, ..., 2537, 1583, 1416],\n",
       "       [3034, 2509, 2328, ..., 2279,  980, 1815],\n",
       "       [1686, 1499,   77, ..., 3178,  733,  966],\n",
       "       ...,\n",
       "       [2580, 2533, 2800, ..., 1777, 2283,  348],\n",
       "       [2296, 1418, 1547, ..., 1452, 1178, 2569],\n",
       "       [ 889, 3045,  730, ...,  304, 2227,  753]], shape=(2048, 512))"
      ]
     },
     "execution_count": 94,
     "metadata": {},
     "output_type": "execute_result"
    }
   ],
   "source": [
    "path = \"/home/cristian/Documents/thesis/references/repos/LWE-benchmarking/data/benchmark_paper_data/n256_k2_logq12/origA_n256_k2_loq12.npy\"\n",
    "\n",
    "tiny_A = np.load(path, allow_pickle=True)\n",
    "tiny_A"
   ]
  },
  {
   "cell_type": "code",
   "execution_count": 10,
   "metadata": {},
   "outputs": [
    {
     "name": "stdout",
     "output_type": "stream",
     "text": [
      "64 145601 6\n"
     ]
    },
    {
     "ename": "KeyboardInterrupt",
     "evalue": "",
     "output_type": "error",
     "traceback": [
      "\u001b[31m---------------------------------------------------------------------------\u001b[39m",
      "\u001b[31mKeyboardInterrupt\u001b[39m                         Traceback (most recent call last)",
      "\u001b[36mCell\u001b[39m\u001b[36m \u001b[39m\u001b[32mIn[10]\u001b[39m\u001b[32m, line 6\u001b[39m\n\u001b[32m      4\u001b[39m \u001b[38;5;28;01mfor\u001b[39;00m q \u001b[38;5;129;01min\u001b[39;00m \u001b[38;5;28mrange\u001b[39m(\u001b[32m100000\u001b[39m, \u001b[32m1000000\u001b[39m):\n\u001b[32m      5\u001b[39m     \u001b[38;5;28;01mif\u001b[39;00m isprime(q) \u001b[38;5;129;01mand\u001b[39;00m n <= totient(q):\n\u001b[32m----> \u001b[39m\u001b[32m6\u001b[39m         root = \u001b[43mfind_root_of_unity\u001b[49m\u001b[43m(\u001b[49m\u001b[43mn\u001b[49m\u001b[43m,\u001b[49m\u001b[43m \u001b[49m\u001b[43mq\u001b[49m\u001b[43m)\u001b[49m\n\u001b[32m      7\u001b[39m         \u001b[38;5;28;01mif\u001b[39;00m root != \u001b[38;5;28;01mNone\u001b[39;00m \u001b[38;5;129;01mand\u001b[39;00m root < \u001b[32m10\u001b[39m:\n\u001b[32m      8\u001b[39m           \u001b[38;5;28mprint\u001b[39m(n, q, root)\n",
      "\u001b[36mFile \u001b[39m\u001b[32m~/miniconda3/envs/mlwe/lib/python3.12/site-packages/kyber_py/utils.py:60\u001b[39m, in \u001b[36mfind_root_of_unity\u001b[39m\u001b[34m(n, q)\u001b[39m\n\u001b[32m     58\u001b[39m divisors = get_divisors(n)[:-\u001b[32m1\u001b[39m]  \u001b[38;5;66;03m# Exclude n itself\u001b[39;00m\n\u001b[32m     59\u001b[39m \u001b[38;5;28;01mfor\u001b[39;00m omega \u001b[38;5;129;01min\u001b[39;00m \u001b[38;5;28mrange\u001b[39m(\u001b[32m2\u001b[39m, q):\n\u001b[32m---> \u001b[39m\u001b[32m60\u001b[39m     \u001b[38;5;28;01mif\u001b[39;00m \u001b[38;5;28;43mpow\u001b[39;49m\u001b[43m(\u001b[49m\u001b[43momega\u001b[49m\u001b[43m,\u001b[49m\u001b[43m \u001b[49m\u001b[43mn\u001b[49m\u001b[43m,\u001b[49m\u001b[43m \u001b[49m\u001b[43mq\u001b[49m\u001b[43m)\u001b[49m == \u001b[32m1\u001b[39m:\n\u001b[32m     61\u001b[39m         \u001b[38;5;28;01mif\u001b[39;00m \u001b[38;5;28mall\u001b[39m(\u001b[38;5;28mpow\u001b[39m(omega, d, q) != \u001b[32m1\u001b[39m \u001b[38;5;28;01mfor\u001b[39;00m d \u001b[38;5;129;01min\u001b[39;00m divisors):\n\u001b[32m     62\u001b[39m             \u001b[38;5;28;01mreturn\u001b[39;00m omega\n",
      "\u001b[31mKeyboardInterrupt\u001b[39m: "
     ]
    }
   ],
   "source": [
    "from kyber_py.utils import find_root_of_unity, isprime, totient\n",
    "\n",
    "for n in range(64, 65):\n",
    "    for q in range(100000, 1000000):\n",
    "        if isprime(q) and n <= totient(q):\n",
    "            root = find_root_of_unity(n, q)\n",
    "            if root != None and root < 10:\n",
    "              print(n, q, root)"
   ]
  },
  {
   "cell_type": "markdown",
   "metadata": {},
   "source": [
    "# Small Module-LWE"
   ]
  },
  {
   "cell_type": "code",
   "execution_count": 96,
   "metadata": {},
   "outputs": [],
   "source": [
    "n = 8\n",
    "q = 17\n",
    "k = 2\n",
    "logq = int(np.log2(q))\n",
    "seed = 0\n",
    "\n",
    "params = {\n",
    "    'n': n,\n",
    "    'q': q,\n",
    "    'k': k,\n",
    "    'seed': seed\n",
    "}\n",
    "\n",
    "mlwe = MLWE(params)\n",
    "input_bytes = mlwe.get_random_bytes()\n"
   ]
  },
  {
   "cell_type": "code",
   "execution_count": 97,
   "metadata": {},
   "outputs": [
    {
     "data": {
      "text/plain": [
       "[[[1, -7, -5, -1, 2, -6, -7, 5], [-5, -4, -7, -1, -1, -7, -6, -5]],\n",
       " [[-5, -6, 2, -1, 4, -7, 1, 4], [8, 5, 3, 0, 3, -6, 1, 1]]]"
      ]
     },
     "execution_count": 97,
     "metadata": {},
     "output_type": "execute_result"
    }
   ],
   "source": [
    "A = mlwe.generate_A(input_bytes)\n",
    "A.reduce_symmetric_mod().to_list()"
   ]
  },
  {
   "cell_type": "code",
   "execution_count": 98,
   "metadata": {},
   "outputs": [
    {
     "data": {
      "text/plain": [
       "[[[-1, 1, 1, -1, 0, 1, 1, 0]], [[2, -1, 0, 0, -2, -2, -1, 1]]]"
      ]
     },
     "execution_count": 98,
     "metadata": {},
     "output_type": "execute_result"
    }
   ],
   "source": [
    "s = mlwe.generate_secret(input_bytes)\n",
    "s.reduce_symmetric_mod().to_list()"
   ]
  },
  {
   "cell_type": "code",
   "execution_count": 99,
   "metadata": {},
   "outputs": [
    {
     "data": {
      "text/plain": [
       "[[[0, 0, 0, 1, -1, 0, -1, -1]], [[-2, 1, 1, -2, -1, 0, 0, -1]]]"
      ]
     },
     "execution_count": 99,
     "metadata": {},
     "output_type": "execute_result"
    }
   ],
   "source": [
    "e = mlwe.generate_error(input_bytes)\n",
    "e.reduce_symmetric_mod().to_list()"
   ]
  },
  {
   "cell_type": "code",
   "execution_count": 100,
   "metadata": {},
   "outputs": [
    {
     "data": {
      "text/plain": [
       "[[[-4, -1, 6, -5, 1, -3, 8, -4]], [[-4, 5, 5, 0, -3, -8, 3, -3]]]"
      ]
     },
     "execution_count": 100,
     "metadata": {},
     "output_type": "execute_result"
    }
   ],
   "source": [
    "(A @ s).to_list()"
   ]
  },
  {
   "cell_type": "code",
   "execution_count": 101,
   "metadata": {},
   "outputs": [
    {
     "data": {
      "text/plain": [
       "[[[8, 8, -2, 0, 1, -7, -3, 5], [-2, 0, 7, -5, -5, 7, -3, -1]],\n",
       " [[2, 7, -4, 1, -8, -4, 7, 6], [-2, 0, 7, -2, 7, -7, 3, -5]]]"
      ]
     },
     "execution_count": 101,
     "metadata": {},
     "output_type": "execute_result"
    }
   ],
   "source": [
    "A_hat = A.to_ntt()\n",
    "A_hat.to_list()"
   ]
  },
  {
   "cell_type": "code",
   "execution_count": 102,
   "metadata": {},
   "outputs": [
    {
     "data": {
      "text/plain": [
       "[[[1, 1, -3, 3, -1, -1, -1, 1]], [[-1, -2, 1, -4, 5, 0, 3, 2]]]"
      ]
     },
     "execution_count": 102,
     "metadata": {},
     "output_type": "execute_result"
    }
   ],
   "source": [
    "s_hat = s.to_ntt()\n",
    "s_hat.to_list()"
   ]
  },
  {
   "cell_type": "code",
   "execution_count": 103,
   "metadata": {},
   "outputs": [
    {
     "data": {
      "text/plain": [
       "[[[-2, 0, 0, 0, 2, 2, 0, -2]], [[-2, -2, -4, 4, 0, 0, -2, 2]]]"
      ]
     },
     "execution_count": 103,
     "metadata": {},
     "output_type": "execute_result"
    }
   ],
   "source": [
    "e_hat = e.to_ntt()\n",
    "e_hat.to_list()"
   ]
  },
  {
   "cell_type": "code",
   "execution_count": 104,
   "metadata": {},
   "outputs": [
    {
     "data": {
      "text/plain": [
       "[[[1, 3, -7, -5, -2, 7, 8, 0]], [[-6, -4, 8, 6, -4, -6, 6, -8]]]"
      ]
     },
     "execution_count": 104,
     "metadata": {},
     "output_type": "execute_result"
    }
   ],
   "source": [
    "(A_hat @ s_hat).to_list()"
   ]
  },
  {
   "cell_type": "markdown",
   "metadata": {},
   "source": [
    "# Size in bigger poly with hamming"
   ]
  },
  {
   "cell_type": "code",
   "execution_count": 105,
   "metadata": {},
   "outputs": [],
   "source": [
    "n = 256\n",
    "q = 3329\n",
    "k = 2\n",
    "logq = int(np.log2(q))\n",
    "seed = 1\n",
    "\n",
    "params = {\n",
    "    'n': n,\n",
    "    'q': q,\n",
    "    'k': k,\n",
    "    'seed': seed\n",
    "}\n",
    "\n",
    "mlwe = MLWE(params)\n",
    "input_bytes = mlwe.get_random_bytes()"
   ]
  },
  {
   "cell_type": "code",
   "execution_count": 106,
   "metadata": {},
   "outputs": [
    {
     "name": "stdout",
     "output_type": "stream",
     "text": [
      "Size of A: 1664\n",
      "Size of s: 2\n",
      "Size of e: 2\n",
      "Size of A_hat: 1663\n",
      "Size of s_hat: 1663\n",
      "Size of e_hat: 1663\n"
     ]
    }
   ],
   "source": [
    "max_hamming = 10\n",
    "\n",
    "A = mlwe.generate_A(input_bytes)\n",
    "s = mlwe.generate_secret(input_bytes, max_hamming)\n",
    "e = mlwe.generate_error(input_bytes, max_hamming)\n",
    "print(\"Size of A:\", A.size())\n",
    "print(\"Size of s:\", s.size())\n",
    "print(\"Size of e:\", e.size())\n",
    "\n",
    "A_hat = A.to_ntt()\n",
    "s_hat = s.to_ntt()\n",
    "e_hat = e.to_ntt()\n",
    "print(\"Size of A_hat:\", A_hat.size())\n",
    "print(\"Size of s_hat:\", s_hat.size())\n",
    "print(\"Size of e_hat:\", e_hat.size())"
   ]
  },
  {
   "cell_type": "code",
   "execution_count": 114,
   "metadata": {},
   "outputs": [
    {
     "data": {
      "text/plain": [
       "0"
      ]
     },
     "execution_count": 114,
     "metadata": {},
     "output_type": "execute_result"
    }
   ],
   "source": [
    "B = A @ s + e\n",
    "\n",
    "B_hat = B.to_ntt()\n",
    "m.distance((B_hat - e_hat).from_ntt(), B - e)"
   ]
  },
  {
   "cell_type": "code",
   "execution_count": 70,
   "metadata": {},
   "outputs": [
    {
     "data": {
      "text/plain": [
       "[1 + x]\n",
       "[    0]"
      ]
     },
     "execution_count": 70,
     "metadata": {},
     "output_type": "execute_result"
    }
   ],
   "source": [
    "from kyber_py import Module\n",
    "\n",
    "m = Module(2, 11)\n",
    "\n",
    "A_00 = np.array([1, 0])\n",
    "A_01 = np.array([0, 0])\n",
    "A_10 = np.array([0, 0])\n",
    "A_11 = np.array([0, 0])\n",
    "\n",
    "S_00 = np.array([1, 1])\n",
    "S_10 = np.array([0, 0])\n",
    "\n",
    "A = m.from_list([   [ A_00.tolist(), A_01.tolist()  ],\n",
    "                    [ A_10.tolist(), A_11.tolist()  ]   ])\n",
    "\n",
    "s = m.from_list([   [ S_00.tolist()  ],\n",
    "                    [ S_10.tolist()  ]   ])\n",
    "\n",
    "(A @ s)"
   ]
  },
  {
   "cell_type": "code",
   "execution_count": 67,
   "metadata": {},
   "outputs": [
    {
     "data": {
      "text/plain": [
       "array([1, 0])"
      ]
     },
     "execution_count": 67,
     "metadata": {},
     "output_type": "execute_result"
    }
   ],
   "source": [
    "A_00 * S_00 + A_01 * S_10"
   ]
  }
 ],
 "metadata": {
  "kernelspec": {
   "display_name": "mlwe",
   "language": "python",
   "name": "python3"
  },
  "language_info": {
   "codemirror_mode": {
    "name": "ipython",
    "version": 3
   },
   "file_extension": ".py",
   "mimetype": "text/x-python",
   "name": "python",
   "nbconvert_exporter": "python",
   "pygments_lexer": "ipython3",
   "version": "3.12.9"
  }
 },
 "nbformat": 4,
 "nbformat_minor": 2
}
