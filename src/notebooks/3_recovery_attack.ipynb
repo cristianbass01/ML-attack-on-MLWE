{
 "cells": [
  {
   "cell_type": "markdown",
   "metadata": {},
   "source": [
    "# Training Notebook"
   ]
  },
  {
   "cell_type": "code",
   "execution_count": 2,
   "metadata": {},
   "outputs": [
    {
     "name": "stderr",
     "output_type": "stream",
     "text": [
      "/home/cristian/miniconda3/envs/mlwe/lib/python3.12/site-packages/g6k/__init__.py:23: UserWarning: pkg_resources is deprecated as an API. See https://setuptools.pypa.io/en/latest/pkg_resources.html. The pkg_resources package is slated for removal as early as 2025-11-30. Refrain from using this package or pin to Setuptools<81.\n",
      "  from .siever_params import SieverParams  # noqa\n"
     ]
    }
   ],
   "source": [
    "import sys\n",
    "import os\n",
    "\n",
    "# Add the parent directory to sys.path\n",
    "sys.path.append(os.path.abspath(os.path.join(os.getcwd(), '..')))\n",
    "\n",
    "from kyber.mlwe import MLWE\n",
    "from ml_attack import check_secret, clean_secret, get_no_mod, LWEDataset, get_filename_from_params\n",
    "from ml_attack.utils import get_lwe_default_params, get_reduction_default_params, get_continuous_reduction_default_params, get_default_params, get_b_distribution, get_percentage_true_b, get_true_mask, \\\n",
    "    get_vector_distribution\n",
    "from ml_attack.train import LinearComplex, train_until_stall\n",
    "\n",
    "import numpy as np\n",
    "import torch\n",
    "import torch.nn as nn\n",
    "from scipy.stats import norm\n",
    "\n",
    "from sklearn.metrics import confusion_matrix, classification_report\n",
    "from sklearn.linear_model import HuberRegressor"
   ]
  },
  {
   "cell_type": "markdown",
   "metadata": {},
   "source": [
    "## Dataset creation"
   ]
  },
  {
   "cell_type": "markdown",
   "metadata": {},
   "source": [
    "Training debug:"
   ]
  },
  {
   "cell_type": "code",
   "execution_count": 5,
   "metadata": {},
   "outputs": [
    {
     "name": "stdout",
     "output_type": "stream",
     "text": [
      "Loading dataset from ./../reduced_data/data_n_128_k_1_s_binary_f4818_48.pkl\n"
     ]
    }
   ],
   "source": [
    "params = get_default_params()\n",
    "params.update({\n",
    "    'n': 128,\n",
    "    'q': 3329,\n",
    "    'secret_type': 'binary',\n",
    "\n",
    "    'num_gen': 4,\n",
    "    'seed': 0,\n",
    "    \n",
    "    'reduction_factor': 0.875,\n",
    "    'reduction_resampling': True,\n",
    "    \n",
    "    'penalty': 4,\n",
    "    'verbose': True,\n",
    "    'save_to': './../data/'\n",
    "})\n",
    "\n",
    "filename = get_filename_from_params(params)\n",
    "\n",
    "filename = \"./../reduced_data/data_n_128_k_1_s_binary_f4818_48.pkl\"\n",
    "\n",
    "reload = True\n",
    "if os.path.exists(filename) and reload:\n",
    "    print(f\"Loading dataset from {filename}\")\n",
    "    dataset = LWEDataset.load_reduced(filename)\n",
    "    params = dataset.params\n",
    "else:\n",
    "    print(f\"Generating dataset and saving to {filename}\")\n",
    "    dataset = LWEDataset(params)\n",
    "    dataset.initialize()\n",
    "    dataset.reduction()\n",
    "    dataset.approximate_b()\n",
    "    dataset.save_reduced()"
   ]
  },
  {
   "cell_type": "code",
   "execution_count": 6,
   "metadata": {},
   "outputs": [],
   "source": [
    "dataset.initialize_secret()\n",
    "dataset.approximate_b()"
   ]
  },
  {
   "cell_type": "code",
   "execution_count": 7,
   "metadata": {},
   "outputs": [
    {
     "name": "stdout",
     "output_type": "stream",
     "text": [
      "True B is the best candidate: 27270 / 39996 (68.18%)\n"
     ]
    },
    {
     "data": {
      "text/plain": [
       "np.float64(0.6818181818181818)"
      ]
     },
     "execution_count": 7,
     "metadata": {},
     "output_type": "execute_result"
    }
   ],
   "source": [
    "get_percentage_true_b(dataset, verbose=True)"
   ]
  },
  {
   "cell_type": "code",
   "execution_count": 5,
   "metadata": {},
   "outputs": [],
   "source": [
    "#for idx, value in enumerate(b_real):\n",
    "#  print(f\"Index {idx}: True B = {value}, best_b = {dataset.b_candidates[idx][np.argmax(dataset.b_probs[idx])]}, prob = {np.max(dataset.b_probs[idx]):.4f}\")"
   ]
  },
  {
   "cell_type": "markdown",
   "metadata": {},
   "source": [
    "IDEA: recover real b from approximated reduced b\n",
    "-> Seems not working"
   ]
  },
  {
   "cell_type": "code",
   "execution_count": null,
   "metadata": {},
   "outputs": [
    {
     "name": "stdout",
     "output_type": "stream",
     "text": [
      "Shape of A: (167, 112, 128)\n",
      "Shape of B: (167, 112)\n",
      "Shape of R: (167, 240, 112)\n",
      "Shape of RA: (167, 240, 128)\n"
     ]
    },
    {
     "ename": "ValueError",
     "evalue": "cannot reshape array of size 39996 into shape (167,newaxis,1)",
     "output_type": "error",
     "traceback": [
      "\u001b[0;31m---------------------------------------------------------------------------\u001b[0m",
      "\u001b[0;31mValueError\u001b[0m                                Traceback (most recent call last)",
      "Cell \u001b[0;32mIn[9], line 16\u001b[0m\n\u001b[1;32m     13\u001b[0m RA[RA \u001b[38;5;241m>\u001b[39m q \u001b[38;5;241m/\u001b[39m\u001b[38;5;241m/\u001b[39m \u001b[38;5;241m2\u001b[39m] \u001b[38;5;241m-\u001b[39m\u001b[38;5;241m=\u001b[39m q\n\u001b[1;32m     14\u001b[0m \u001b[38;5;28mprint\u001b[39m(\u001b[38;5;124mf\u001b[39m\u001b[38;5;124m\"\u001b[39m\u001b[38;5;124mShape of RA: \u001b[39m\u001b[38;5;132;01m{\u001b[39;00mRA\u001b[38;5;241m.\u001b[39mshape\u001b[38;5;132;01m}\u001b[39;00m\u001b[38;5;124m\"\u001b[39m)\n\u001b[0;32m---> 16\u001b[0m Rb \u001b[38;5;241m=\u001b[39m \u001b[43mnp\u001b[49m\u001b[38;5;241;43m.\u001b[39;49m\u001b[43marray\u001b[49m\u001b[43m(\u001b[49m\u001b[43mdataset\u001b[49m\u001b[38;5;241;43m.\u001b[39;49m\u001b[43mbest_b\u001b[49m\u001b[43m)\u001b[49m\u001b[38;5;241;43m.\u001b[39;49m\u001b[43mreshape\u001b[49m\u001b[43m(\u001b[49m\u001b[43mbatch_size\u001b[49m\u001b[43m,\u001b[49m\u001b[43m \u001b[49m\u001b[38;5;241;43m-\u001b[39;49m\u001b[38;5;241;43m1\u001b[39;49m\u001b[43m,\u001b[49m\u001b[43m \u001b[49m\u001b[38;5;241;43m1\u001b[39;49m\u001b[43m)\u001b[49m\n\u001b[1;32m     17\u001b[0m \u001b[38;5;28mprint\u001b[39m(\u001b[38;5;124mf\u001b[39m\u001b[38;5;124m\"\u001b[39m\u001b[38;5;124mShape of Rb: \u001b[39m\u001b[38;5;132;01m{\u001b[39;00mRb\u001b[38;5;241m.\u001b[39mshape\u001b[38;5;132;01m}\u001b[39;00m\u001b[38;5;124m\"\u001b[39m)\n\u001b[1;32m     19\u001b[0m b_real \u001b[38;5;241m=\u001b[39m get_no_mod(params, A, dataset\u001b[38;5;241m.\u001b[39msecret, B)\u001b[38;5;241m.\u001b[39mreshape(batch_size, \u001b[38;5;241m-\u001b[39m\u001b[38;5;241m1\u001b[39m, \u001b[38;5;241m1\u001b[39m)\n",
      "\u001b[0;31mValueError\u001b[0m: cannot reshape array of size 39996 into shape (167,newaxis,1)"
     ]
    }
   ],
   "source": [
    "q = params['q']\n",
    "\n",
    "A = np.stack([dataset.A[i] for i in dataset.indices])\n",
    "B = np.stack([dataset.B[i] for i in dataset.indices])\n",
    "batch_size, m, n = A.shape\n",
    "print(f\"Shape of A: {A.shape}\")\n",
    "print(f\"Shape of B: {B.shape}\")\n",
    "\n",
    "R = dataset.R\n",
    "print(f\"Shape of R: {R.shape}\")\n",
    "\n",
    "RA = R @ A % q\n",
    "RA[RA > q // 2] -= q\n",
    "print(f\"Shape of RA: {RA.shape}\")\n",
    "\n",
    "Rb = np.array(dataset.best_b).reshape(batch_size, -1, 1)\n",
    "print(f\"Shape of Rb: {Rb.shape}\")\n",
    "\n",
    "b_real = get_no_mod(params, A, dataset.secret, B).reshape(batch_size, -1, 1)\n",
    "print(f\"Shape of b_real: {b_real.shape}\")"
   ]
  },
  {
   "cell_type": "code",
   "execution_count": null,
   "metadata": {},
   "outputs": [
    {
     "name": "stdout",
     "output_type": "stream",
     "text": [
      "Shape of std_b: (39, 60)\n",
      "Det: 7775100061539390838314905510079722288876042707760630293127826525112188626504198409567314368635645340053270064556670976\n"
     ]
    }
   ],
   "source": [
    "# Compute norms\n",
    "R_norm = np.linalg.norm(R, axis=2)      # Frobenius norm of each R matrix\n",
    "RA_norm = np.linalg.norm(RA, axis=2)    # Frobenius norm of each RA matrix\n",
    "\n",
    "_, var_s, _ = get_vector_distribution(params, params[\"secret_type\"])\n",
    "_, var_e, _ = get_vector_distribution(params, params[\"error_type\"])\n",
    "\n",
    "std_Rb = np.sqrt(RA_norm**2 * var_s + R_norm**2 * var_e)\n",
    "print(f\"Shape of std_b: {std_Rb.shape}\")\n",
    "\n",
    "p = 0.75\n",
    "S_inv = norm.ppf((p + 1) / 2)\n",
    "upper_bound = q / (2*S_inv)\n",
    "\n",
    "w = params['penalty']\n",
    "hermite = 1.02\n",
    "\n"
   ]
  },
  {
   "cell_type": "code",
   "execution_count": 9,
   "metadata": {},
   "outputs": [
    {
     "name": "stdout",
     "output_type": "stream",
     "text": [
      "Secret guessed correctly!\n"
     ]
    }
   ],
   "source": [
    "A_reduced = dataset.get_A()\n",
    "best_b = np.array(dataset.best_b)\n",
    "\n",
    "# 1) Train until stall\n",
    "use_gradient = False\n",
    "if use_gradient:\n",
    "    lr = 1e-3\n",
    "    check_every = 10\n",
    "\n",
    "    # Check if GPU is available and use it if possible\n",
    "    device = torch.device(\"cuda\" if torch.cuda.is_available() else \"cpu\")\n",
    "    model = LinearComplex(params).to(device)\n",
    "    A_reduced = torch.tensor(A_reduced, dtype=torch.float).to(device)\n",
    "    best_b = torch.tensor(best_b, dtype=torch.float).to(device)\n",
    "\n",
    "    epoch = 0\n",
    "    loss, epoch = train_until_stall(model, A_reduced, best_b, dataset, epoch=epoch)\n",
    "    if loss == 0:\n",
    "        print(\"Secret guessed correctly at epoch {}!\".format(epoch))\n",
    "    else:\n",
    "        print(f\"Stalling detected at loss {loss:.4f}.\")\n",
    "\n",
    "    raw_guessed_secret = model.guessed_secret.detach().cpu()\n",
    "else:\n",
    "    model = HuberRegressor(fit_intercept=True, max_iter=10000, alpha=0.0001, epsilon=1.25)\n",
    "    raw_guessed_secret = model.fit(A_reduced, best_b).coef_\n",
    "\n",
    "    guessed_secret = clean_secret(raw_guessed_secret, params)\n",
    "    if check_secret(guessed_secret, dataset.A, dataset.B, params):\n",
    "        print(\"Secret guessed correctly!\")\n",
    "    else:\n",
    "        print(\"Wrong secret guessed!\")"
   ]
  },
  {
   "cell_type": "code",
   "execution_count": 10,
   "metadata": {},
   "outputs": [
    {
     "name": "stdout",
     "output_type": "stream",
     "text": [
      "Number of outliers detected by model: 1133\n",
      "Number of actual outliers among detected: 0\n",
      "Fraction of detected outliers that are actual: 0.00%\n"
     ]
    }
   ],
   "source": [
    "real_mask = get_true_mask(dataset)\n",
    "outlier_mask = model.outliers_\n",
    "# Compare not mask to outlier_mask to see how many outliers are actual outliers\n",
    "num_outliers = np.sum(outlier_mask)\n",
    "num_actual_outliers = np.sum(outlier_mask & (~real_mask))\n",
    "print(f\"Number of outliers detected by model: {num_outliers}\")\n",
    "print(f\"Number of actual outliers among detected: {num_actual_outliers}\")\n",
    "if num_outliers > 0:\n",
    "  print(f\"Fraction of detected outliers that are actual: {num_actual_outliers / num_outliers:.2%}\")"
   ]
  },
  {
   "cell_type": "code",
   "execution_count": 11,
   "metadata": {},
   "outputs": [
    {
     "name": "stdout",
     "output_type": "stream",
     "text": [
      "True B is the best candidate: 1207 / 1207 (100.00%)\n"
     ]
    },
    {
     "data": {
      "text/plain": [
       "np.float64(1.0)"
      ]
     },
     "execution_count": 11,
     "metadata": {},
     "output_type": "execute_result"
    }
   ],
   "source": [
    "non_outlier_indices = np.where(~outlier_mask)[0]\n",
    "get_percentage_true_b(dataset, verbose=True, indices=non_outlier_indices)"
   ]
  },
  {
   "cell_type": "code",
   "execution_count": 12,
   "metadata": {},
   "outputs": [
    {
     "name": "stdout",
     "output_type": "stream",
     "text": [
      "Raw Guessed secret: [-3.30121720e-02  9.94070836e-01  1.00088861e+00  2.44779457e-02\n",
      "  2.87433294e-02  8.21152801e-02  1.96291540e+00  1.25796908e-03\n",
      " -2.00125692e+00 -4.33339175e-02  1.92993940e+00  1.01227460e+00\n",
      " -1.02322144e+00 -9.61276681e-01 -1.03169826e+00 -2.80201576e-03\n",
      "  9.80239215e-01  1.02770001e+00  2.31378724e-02  3.33541469e-02\n",
      "  2.16773082e-03 -1.03868079e+00  1.00786894e+00  1.96812631e+00\n",
      "  1.90708957e-02 -2.53998183e-02  2.00452338e-02  9.78496181e-01\n",
      "  3.13591396e-02  9.95787920e-01 -1.05617563e+00 -9.96587743e-01]\n",
      "Guessed secret: [ 0.  1.  1.  0.  0.  0.  2.  0. -2.  0.  2.  1. -1. -1. -1.  0.  1.  1.\n",
      "  0.  0.  0. -1.  1.  2.  0.  0.  0.  1.  0.  1. -1. -1.]\n",
      "Actual secret: [ 0  1  1  0  0  0  2  0 -2  0  2  1 -1 -1 -1  0  1  1  0  0  0 -1  1  2\n",
      "  0  0  0  1  0  1 -1 -1]\n"
     ]
    }
   ],
   "source": [
    "# Check the guessed secret\n",
    "raw_guessed_secret = raw_guessed_secret.cpu().detach().numpy() if use_gradient else raw_guessed_secret\n",
    "guessed_secret = clean_secret(raw_guessed_secret, params)\n",
    "\n",
    "real_secret = dataset.get_secret()\n",
    "\n",
    "print(\"Raw Guessed secret:\", raw_guessed_secret)\n",
    "print(\"Guessed secret:\", guessed_secret)\n",
    "print(\"Actual secret:\", real_secret)"
   ]
  },
  {
   "cell_type": "code",
   "execution_count": 13,
   "metadata": {},
   "outputs": [],
   "source": [
    "# Check the differences between the guessed and actual secret\n",
    "diff = guessed_secret - real_secret\n",
    "raw_diff = raw_guessed_secret[diff != 0]\n",
    "raw_diff[raw_diff > params['q'] // 2] -= params['q']\n",
    "diff_indices = np.nonzero(diff)\n",
    "if len(diff[diff != 0]) > 0:\n",
    "    print(\"Number of differences:\", len(diff[diff != 0]))\n",
    "    print(\"Difference:\", raw_diff)\n",
    "    print(\"real_secret:\", real_secret[diff != 0])\n",
    "    print(\"guessed_secret:\", guessed_secret[diff != 0])\n",
    "    print(\"Indices of differences:\", diff_indices)"
   ]
  },
  {
   "cell_type": "code",
   "execution_count": 14,
   "metadata": {},
   "outputs": [
    {
     "name": "stdout",
     "output_type": "stream",
     "text": [
      "Sorted uncertain indices: [ 5 10 30  9 13 21  6 19  0 23 14 28  4 17 25  3 12 18 27 26 16 24 11 22\n",
      "  1 29 31 15 20  7  8  2]\n",
      "Sorted uncertain values: [0.082 0.07  0.056 0.043 0.039 0.039 0.037 0.033 0.033 0.032 0.032 0.031\n",
      " 0.029 0.028 0.025 0.024 0.023 0.023 0.022 0.02  0.02  0.019 0.012 0.008\n",
      " 0.006 0.004 0.003 0.003 0.002 0.001 0.001 0.001]\n"
     ]
    }
   ],
   "source": [
    "close_to_integer = np.abs(raw_guessed_secret - np.round(raw_guessed_secret))\n",
    "sorted_indices = np.argsort(-close_to_integer)\n",
    "print(\"Sorted uncertain indices:\", sorted_indices)\n",
    "print(\"Sorted uncertain values:\", np.round(close_to_integer[sorted_indices], 3))\n",
    "\n",
    "if len(diff_indices[0]) > 0:\n",
    "  diff_indices_in_sorted = [np.where(sorted_indices == i)[0][0] for i in diff_indices[0]]\n",
    "  print(\"Worst case scenario:\", max(diff_indices_in_sorted))"
   ]
  },
  {
   "cell_type": "code",
   "execution_count": 15,
   "metadata": {},
   "outputs": [
    {
     "name": "stdout",
     "output_type": "stream",
     "text": [
      "Number of uncertain values: 0\n",
      "Number of brute force attempts required: 1\n",
      "Real uncertain secret: []\n"
     ]
    }
   ],
   "source": [
    "from itertools import product\n",
    "\n",
    "# Find values in raw_guessed_secret that are within ±0.1 of an integer\n",
    "close_to_integer = np.abs(raw_guessed_secret - np.round(raw_guessed_secret)) < 0.2\n",
    "uncertain_count = np.sum(~close_to_integer)\n",
    "print(\"Number of uncertain values:\", uncertain_count)\n",
    "\n",
    "# Calculate the number of brute force attacks to perform\n",
    "brute_force_attempts = 2 ** uncertain_count\n",
    "print(\"Number of brute force attempts required:\", brute_force_attempts)\n",
    "\n",
    "# Get the indices of uncertain values\n",
    "uncertain_indices = np.where(~close_to_integer)[0]\n",
    "\n",
    "real_uncertain_secret = real_secret[uncertain_indices]\n",
    "print(\"Real uncertain secret:\", real_uncertain_secret)\n",
    "\n",
    "# Perform brute force attack\n",
    "raw_uncertain_secret = raw_guessed_secret[uncertain_indices]\n",
    "raw_uncertain_secret[raw_uncertain_secret > params['q'] // 2] -= params['q']\n",
    "raw_uncertain_secret = raw_uncertain_secret[np.abs(raw_uncertain_secret) <= params['eta']]\n",
    "\n",
    "lower_values = np.floor(raw_uncertain_secret)\n",
    "upper_values = np.ceil(raw_uncertain_secret)\n",
    "\n",
    "#values = product(*zip(lower_values, upper_values))\n",
    "\n",
    "#for value in values:\n",
    "#    print(\"Trying values:\", value)\n",
    "    # Create a copy of the guessed secret\n",
    "#    brute_force_secret = copy.deepcopy(guessed_secret)\n",
    "    # Update the uncertain values with the current combination\n",
    "#    for idx, val in zip(uncertain_indices, value):\n",
    "#        brute_force_secret[idx] = val\n",
    "    # Check if the guessed secret is correct\n",
    "#    if check_secret(brute_force_secret, dataset.A, dataset.B, params):\n",
    "#        print(\"Brute force attack successful! Guessed secret:\", brute_force_secret)\n",
    "#        break"
   ]
  },
  {
   "cell_type": "code",
   "execution_count": 16,
   "metadata": {},
   "outputs": [
    {
     "name": "stdout",
     "output_type": "stream",
     "text": [
      "Confusion Matrix:\n",
      "       |  -2.0  -1.0   0.0   1.0   2.0 | Accuracy\n",
      "-------------------------------------------------\n",
      "  -2.0 |     1     0     0     0     0 | 100.0%\n",
      "  -1.0 |     0     6     0     0     0 | 100.0%\n",
      "   0.0 |     0     0    14     0     0 | 100.0%\n",
      "   1.0 |     0     0     0     8     0 | 100.0%\n",
      "   2.0 |     0     0     0     0     3 | 100.0%\n",
      "\n",
      "Classification Report:\n",
      "              precision    recall  f1-score   support\n",
      "\n",
      "          -2       1.00      1.00      1.00         1\n",
      "          -1       1.00      1.00      1.00         6\n",
      "           0       1.00      1.00      1.00        14\n",
      "           1       1.00      1.00      1.00         8\n",
      "           2       1.00      1.00      1.00         3\n",
      "\n",
      "    accuracy                           1.00        32\n",
      "   macro avg       1.00      1.00      1.00        32\n",
      "weighted avg       1.00      1.00      1.00        32\n",
      "\n"
     ]
    }
   ],
   "source": [
    "def report(real_secret, guessed_secret):\n",
    "    \"\"\"\n",
    "    Print classification report and confusion matrix.\n",
    "    \"\"\"\n",
    "  \n",
    "    # Get unique sorted labels and compute confusion matrix\n",
    "    labels = np.unique(np.concatenate((real_secret, guessed_secret)))\n",
    "    cm = confusion_matrix(real_secret, guessed_secret, labels=labels)\n",
    "\n",
    "    # Header\n",
    "    header = \"       |\" + \"\".join([f\"{l:>6}\" for l in labels]) + \" | Accuracy\"\n",
    "    print(\"Confusion Matrix:\")\n",
    "    print(header)\n",
    "    print(\"-\" * len(header))\n",
    "\n",
    "    # Rows\n",
    "    for i, row in enumerate(cm):\n",
    "        label = f\"{labels[i]:>6} |\"\n",
    "        values = \"\".join([f\"{v:6}\" for v in row])\n",
    "\n",
    "        correct = row[i]\n",
    "        total = row.sum()\n",
    "        acc = correct / total if total > 0 else 0.0\n",
    "        print(label + values + f\" | {acc:4.1%}\")\n",
    "\n",
    "    # Print classification report\n",
    "    print(\"\\nClassification Report:\")\n",
    "    print(classification_report(real_secret, guessed_secret, zero_division=0))\n",
    "\n",
    "report(real_secret, guessed_secret)"
   ]
  }
 ],
 "metadata": {
  "kernelspec": {
   "display_name": "mlwe",
   "language": "python",
   "name": "python3"
  },
  "language_info": {
   "codemirror_mode": {
    "name": "ipython",
    "version": 3
   },
   "file_extension": ".py",
   "mimetype": "text/x-python",
   "name": "python",
   "nbconvert_exporter": "python",
   "pygments_lexer": "ipython3",
   "version": "3.12.9"
  }
 },
 "nbformat": 4,
 "nbformat_minor": 2
}
