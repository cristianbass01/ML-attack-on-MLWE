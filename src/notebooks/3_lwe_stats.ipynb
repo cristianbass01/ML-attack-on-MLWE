{
 "cells": [
  {
   "cell_type": "markdown",
   "metadata": {},
   "source": [
    "# Statistics for LWE"
   ]
  },
  {
   "cell_type": "code",
   "execution_count": 2,
   "metadata": {},
   "outputs": [],
   "source": [
    "import sys\n",
    "import os\n",
    "\n",
    "# Add the parent directory to sys.path\n",
    "sys.path.append(os.path.abspath(os.path.join(os.getcwd(), '..')))\n",
    "\n",
    "from ml_attack import LWEDataset, get_filename_from_params, check_secret, get_default_params, get_b_distribution\n",
    "\n",
    "import torch\n",
    "\n",
    "import numpy as np\n",
    "from scipy.stats import norm\n",
    "\n",
    "import matplotlib.pyplot as plt\n",
    "import plotly.graph_objs as go"
   ]
  },
  {
   "cell_type": "markdown",
   "metadata": {},
   "source": [
    "## Dataset correctness"
   ]
  },
  {
   "cell_type": "markdown",
   "metadata": {},
   "source": [
    "Function to check the correctness of the algorithm (based on the error distribution):"
   ]
  },
  {
   "cell_type": "code",
   "execution_count": 38,
   "metadata": {},
   "outputs": [
    {
     "name": "stdout",
     "output_type": "stream",
     "text": [
      "All samples satisfy the LWE equation.\n",
      "All samples satisfy the LWE equation.\n",
      "All samples satisfy the LWE equation.\n",
      "All samples satisfy the LWE equation.\n"
     ]
    }
   ],
   "source": [
    "# Check correctness of the LWE dataset\n",
    "def check_lwe_dataset(params, num_gen=1, add_noise=True, mod_q=True, reduce=False):\n",
    "    params.update({\n",
    "        'num_gen': num_gen,\n",
    "        'add_noise': add_noise,\n",
    "        'mod_q': mod_q\n",
    "    })\n",
    "    dataset = LWEDataset(params)\n",
    "    dataset.initialize()\n",
    "    if reduce:\n",
    "        dataset.reduction()\n",
    "\n",
    "    A = dataset.get_A()\n",
    "    B = dataset.get_B()\n",
    "    secret = dataset.get_secret()\n",
    "\n",
    "    e = B - np.tensordot(A, secret, axes=1)\n",
    "    \n",
    "    e %= params['q']\n",
    "    e[e > params['q'] // 2] -= params['q']\n",
    "    \n",
    "    if add_noise:\n",
    "        match params['error_type']:\n",
    "            case 'binary':\n",
    "                assert np.allclose(e, np.zeros_like(e) + 0.5, atol=0.5), \"Error vector is not 0 or 1\"\n",
    "            case 'ternary':\n",
    "                assert np.allclose(e, np.zeros_like(e), atol=1), f\"Error vector is not close to zero +- 1\"\n",
    "            case 'cbd':\n",
    "                assert np.allclose(e, np.zeros_like(e), atol=params['eta']), f\"Error vector is not close to zero +- {params['eta']}\"\n",
    "            case _:\n",
    "                raise ValueError(\"Unknown error type\")\n",
    "    else:\n",
    "        assert np.allclose(e, np.zeros_like(e), atol=1e-5), \"Error vector is not close to zero\"\n",
    "\n",
    "    print(\"All samples satisfy the LWE equation.\")\n",
    "\n",
    "# Check correctness of the LWE dataset\n",
    "params = get_default_params()\n",
    "params.update({\n",
    "    'n': 100,\n",
    "    'q': 3329,\n",
    "    'k': 1,\n",
    "    'secret_type': 'binary',\n",
    "    'error_type': 'cbd',\n",
    "    'seed': 0,\n",
    "    'verbose' : True\n",
    "})\n",
    "\n",
    "\n",
    "check_lwe_dataset(params=params, num_gen=100, add_noise=True, mod_q=True)\n",
    "check_lwe_dataset(params=params, num_gen=100, add_noise=False, mod_q=False)\n",
    "check_lwe_dataset(params=params, num_gen=100, add_noise=False, mod_q=True)\n",
    "check_lwe_dataset(params=params, num_gen=100, add_noise=True, mod_q=False)\n",
    "\n",
    "#check_lwe_dataset(params=params, num_gen=2, add_noise=False, mod_q=True, reduce=True)\n",
    "\n",
    "# This check will fail because the error propagates (but it does not become uniform)\n",
    "#check_lwe_dataset(params=params, num_samples=200, add_noise=True, mod_q=True, reduce=True)\n"
   ]
  },
  {
   "cell_type": "markdown",
   "metadata": {},
   "source": [
    "## Check B distribution and sampled B"
   ]
  },
  {
   "cell_type": "code",
   "execution_count": null,
   "metadata": {},
   "outputs": [
    {
     "name": "stdout",
     "output_type": "stream",
     "text": [
      "Generating dataset and saving to ./../data/data_n_100_k_1_s_cbd_6b161.pkl\n"
     ]
    }
   ],
   "source": [
    "params = get_default_params()\n",
    "params.update({\n",
    "    'n': 100,\n",
    "    'q': 3329,\n",
    "    'k': 1,\n",
    "    'num_gen': 1,\n",
    "    'secret_type': 'cbd',\n",
    "    'error_type': 'cbd',\n",
    "    'seed': 0,\n",
    "    \n",
    "    'algos': ['BKZ2.0'],\n",
    "    'bkz_block_sizes': [4, 20, 30],\n",
    "    'penalty': 4,\n",
    "    'verbose': True,\n",
    "    \n",
    "    'save_to': './../data/'\n",
    "})\n",
    "\n",
    "filename = get_filename_from_params(params)\n",
    "\n",
    "reload = True\n",
    "if os.path.exists(filename) and reload:\n",
    "    print(f\"Loading dataset from {filename}\")\n",
    "    dataset = LWEDataset.load_reduced(filename)\n",
    "else:\n",
    "    print(f\"Generating dataset and saving to {filename}\")\n",
    "    dataset = LWEDataset(params)\n",
    "    dataset.initialize()\n",
    "    dataset.reduction()\n",
    "    dataset.approximate_b()\n",
    "    dataset.save_reduced()"
   ]
  },
  {
   "cell_type": "code",
   "execution_count": null,
   "metadata": {},
   "outputs": [
    {
     "name": "stdout",
     "output_type": "stream",
     "text": [
      "Candidates: [-20744. -17415. -14086. -10757.  -7428.  -4099.   -770.   2559.   5888.\n",
      "   9217.  12546.  15875.  19204.  22533.],\n",
      "Probs: [0.0151426  0.02900192 0.04959182 0.0757095  0.10319241 0.12557469\n",
      " 0.13643115 0.13233722 0.11460603 0.08861148 0.06116874 0.03769868\n",
      " 0.02074339 0.01019038]\n"
     ]
    },
    {
     "data": {
      "application/vnd.plotly.v1+json": {
       "config": {
        "plotlyServerURL": "https://plot.ly"
       },
       "data": [
        {
         "line": {
          "color": "blue"
         },
         "mode": "lines",
         "name": "Normal Distribution",
         "type": "scatter",
         "x": {
          "bdata": "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",
          "dtype": "f8"
         },
         "y": {
          "bdata": "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",
          "dtype": "f8"
         }
        }
       ],
       "layout": {
        "bargap": 0.2,
        "height": 400,
        "margin": {
         "b": 20,
         "l": 20,
         "r": 20,
         "t": 10
        },
        "shapes": [
         {
          "line": {
           "color": "yellow",
           "dash": "dash"
          },
          "name": "+4 std",
          "type": "line",
          "x0": 29658.903384987112,
          "x1": 29658.903384987112,
          "xref": "x",
          "y0": 0,
          "y1": 1,
          "yref": "y domain"
         },
         {
          "line": {
           "color": "yellow",
           "dash": "dash"
          },
          "name": "-4 std",
          "type": "line",
          "x0": -29658.903384987112,
          "x1": -29658.903384987112,
          "xref": "x",
          "y0": 0,
          "y1": 1,
          "yref": "y domain"
         },
         {
          "line": {
           "color": "gray",
           "dash": "dash"
          },
          "opacity": 0.5,
          "type": "line",
          "x0": -37389,
          "x1": -37389,
          "xref": "x",
          "y0": 0,
          "y1": 1,
          "yref": "y domain"
         },
         {
          "line": {
           "color": "gray",
           "dash": "dash"
          },
          "opacity": 0.5,
          "type": "line",
          "x0": -34060,
          "x1": -34060,
          "xref": "x",
          "y0": 0,
          "y1": 1,
          "yref": "y domain"
         },
         {
          "line": {
           "color": "gray",
           "dash": "dash"
          },
          "opacity": 0.5,
          "type": "line",
          "x0": -30731,
          "x1": -30731,
          "xref": "x",
          "y0": 0,
          "y1": 1,
          "yref": "y domain"
         },
         {
          "line": {
           "color": "gray",
           "dash": "dash"
          },
          "opacity": 0.5,
          "type": "line",
          "x0": -27402,
          "x1": -27402,
          "xref": "x",
          "y0": 0,
          "y1": 1,
          "yref": "y domain"
         },
         {
          "line": {
           "color": "gray",
           "dash": "dash"
          },
          "opacity": 0.5,
          "type": "line",
          "x0": -24073,
          "x1": -24073,
          "xref": "x",
          "y0": 0,
          "y1": 1,
          "yref": "y domain"
         },
         {
          "line": {
           "color": "gray",
           "dash": "dash"
          },
          "opacity": 0.5,
          "type": "line",
          "x0": -20744,
          "x1": -20744,
          "xref": "x",
          "y0": 0,
          "y1": 1,
          "yref": "y domain"
         },
         {
          "line": {
           "color": "gray",
           "dash": "dash"
          },
          "opacity": 0.5,
          "type": "line",
          "x0": -17415,
          "x1": -17415,
          "xref": "x",
          "y0": 0,
          "y1": 1,
          "yref": "y domain"
         },
         {
          "line": {
           "color": "gray",
           "dash": "dash"
          },
          "opacity": 0.5,
          "type": "line",
          "x0": -14086,
          "x1": -14086,
          "xref": "x",
          "y0": 0,
          "y1": 1,
          "yref": "y domain"
         },
         {
          "line": {
           "color": "gray",
           "dash": "dash"
          },
          "opacity": 0.5,
          "type": "line",
          "x0": -10757,
          "x1": -10757,
          "xref": "x",
          "y0": 0,
          "y1": 1,
          "yref": "y domain"
         },
         {
          "line": {
           "color": "gray",
           "dash": "dash"
          },
          "opacity": 0.5,
          "type": "line",
          "x0": -7428,
          "x1": -7428,
          "xref": "x",
          "y0": 0,
          "y1": 1,
          "yref": "y domain"
         },
         {
          "line": {
           "color": "gray",
           "dash": "dash"
          },
          "opacity": 0.5,
          "type": "line",
          "x0": -4099,
          "x1": -4099,
          "xref": "x",
          "y0": 0,
          "y1": 1,
          "yref": "y domain"
         },
         {
          "line": {
           "color": "gray",
           "dash": "dash"
          },
          "opacity": 0.5,
          "type": "line",
          "x0": -770,
          "x1": -770,
          "xref": "x",
          "y0": 0,
          "y1": 1,
          "yref": "y domain"
         },
         {
          "line": {
           "color": "gray",
           "dash": "dash"
          },
          "opacity": 0.5,
          "type": "line",
          "x0": 2559,
          "x1": 2559,
          "xref": "x",
          "y0": 0,
          "y1": 1,
          "yref": "y domain"
         },
         {
          "line": {
           "color": "gray",
           "dash": "dash"
          },
          "opacity": 0.5,
          "type": "line",
          "x0": 5888,
          "x1": 5888,
          "xref": "x",
          "y0": 0,
          "y1": 1,
          "yref": "y domain"
         },
         {
          "line": {
           "color": "gray",
           "dash": "dash"
          },
          "opacity": 0.5,
          "type": "line",
          "x0": 9217,
          "x1": 9217,
          "xref": "x",
          "y0": 0,
          "y1": 1,
          "yref": "y domain"
         },
         {
          "line": {
           "color": "gray",
           "dash": "dash"
          },
          "opacity": 0.5,
          "type": "line",
          "x0": 12546,
          "x1": 12546,
          "xref": "x",
          "y0": 0,
          "y1": 1,
          "yref": "y domain"
         },
         {
          "line": {
           "color": "gray",
           "dash": "dash"
          },
          "opacity": 0.5,
          "type": "line",
          "x0": 15875,
          "x1": 15875,
          "xref": "x",
          "y0": 0,
          "y1": 1,
          "yref": "y domain"
         },
         {
          "line": {
           "color": "gray",
           "dash": "dash"
          },
          "opacity": 0.5,
          "type": "line",
          "x0": 19204,
          "x1": 19204,
          "xref": "x",
          "y0": 0,
          "y1": 1,
          "yref": "y domain"
         },
         {
          "line": {
           "color": "gray",
           "dash": "dash"
          },
          "opacity": 0.5,
          "type": "line",
          "x0": 22533,
          "x1": 22533,
          "xref": "x",
          "y0": 0,
          "y1": 1,
          "yref": "y domain"
         },
         {
          "line": {
           "color": "gray",
           "dash": "dash"
          },
          "opacity": 0.5,
          "type": "line",
          "x0": 25862,
          "x1": 25862,
          "xref": "x",
          "y0": 0,
          "y1": 1,
          "yref": "y domain"
         },
         {
          "line": {
           "color": "gray",
           "dash": "dash"
          },
          "opacity": 0.5,
          "type": "line",
          "x0": 29191,
          "x1": 29191,
          "xref": "x",
          "y0": 0,
          "y1": 1,
          "yref": "y domain"
         },
         {
          "line": {
           "color": "gray",
           "dash": "dash"
          },
          "opacity": 0.5,
          "type": "line",
          "x0": 32520,
          "x1": 32520,
          "xref": "x",
          "y0": 0,
          "y1": 1,
          "yref": "y domain"
         },
         {
          "line": {
           "color": "gray",
           "dash": "dash"
          },
          "opacity": 0.5,
          "type": "line",
          "x0": 35849,
          "x1": 35849,
          "xref": "x",
          "y0": 0,
          "y1": 1,
          "yref": "y domain"
         },
         {
          "line": {
           "color": "gray",
           "dash": "dash"
          },
          "opacity": 0.5,
          "type": "line",
          "x0": 39178,
          "x1": 39178,
          "xref": "x",
          "y0": 0,
          "y1": 1,
          "yref": "y domain"
         },
         {
          "line": {
           "color": "green",
           "dash": "dash"
          },
          "type": "line",
          "x0": -20744,
          "x1": -20744,
          "xref": "x",
          "y0": 0,
          "y1": 1,
          "yref": "y domain"
         },
         {
          "line": {
           "color": "green",
           "dash": "dash"
          },
          "type": "line",
          "x0": -17415,
          "x1": -17415,
          "xref": "x",
          "y0": 0,
          "y1": 1,
          "yref": "y domain"
         },
         {
          "line": {
           "color": "green",
           "dash": "dash"
          },
          "type": "line",
          "x0": -14086,
          "x1": -14086,
          "xref": "x",
          "y0": 0,
          "y1": 1,
          "yref": "y domain"
         },
         {
          "line": {
           "color": "green",
           "dash": "dash"
          },
          "type": "line",
          "x0": -10757,
          "x1": -10757,
          "xref": "x",
          "y0": 0,
          "y1": 1,
          "yref": "y domain"
         },
         {
          "line": {
           "color": "green",
           "dash": "dash"
          },
          "type": "line",
          "x0": -7428,
          "x1": -7428,
          "xref": "x",
          "y0": 0,
          "y1": 1,
          "yref": "y domain"
         },
         {
          "line": {
           "color": "green",
           "dash": "dash"
          },
          "type": "line",
          "x0": -4099,
          "x1": -4099,
          "xref": "x",
          "y0": 0,
          "y1": 1,
          "yref": "y domain"
         },
         {
          "line": {
           "color": "green",
           "dash": "dash"
          },
          "type": "line",
          "x0": -770,
          "x1": -770,
          "xref": "x",
          "y0": 0,
          "y1": 1,
          "yref": "y domain"
         },
         {
          "line": {
           "color": "green",
           "dash": "dash"
          },
          "type": "line",
          "x0": 2559,
          "x1": 2559,
          "xref": "x",
          "y0": 0,
          "y1": 1,
          "yref": "y domain"
         },
         {
          "line": {
           "color": "green",
           "dash": "dash"
          },
          "type": "line",
          "x0": 5888,
          "x1": 5888,
          "xref": "x",
          "y0": 0,
          "y1": 1,
          "yref": "y domain"
         },
         {
          "line": {
           "color": "green",
           "dash": "dash"
          },
          "type": "line",
          "x0": 9217,
          "x1": 9217,
          "xref": "x",
          "y0": 0,
          "y1": 1,
          "yref": "y domain"
         },
         {
          "line": {
           "color": "green",
           "dash": "dash"
          },
          "type": "line",
          "x0": 12546,
          "x1": 12546,
          "xref": "x",
          "y0": 0,
          "y1": 1,
          "yref": "y domain"
         },
         {
          "line": {
           "color": "green",
           "dash": "dash"
          },
          "type": "line",
          "x0": 15875,
          "x1": 15875,
          "xref": "x",
          "y0": 0,
          "y1": 1,
          "yref": "y domain"
         },
         {
          "line": {
           "color": "green",
           "dash": "dash"
          },
          "type": "line",
          "x0": 19204,
          "x1": 19204,
          "xref": "x",
          "y0": 0,
          "y1": 1,
          "yref": "y domain"
         },
         {
          "line": {
           "color": "green",
           "dash": "dash"
          },
          "type": "line",
          "x0": 22533,
          "x1": 22533,
          "xref": "x",
          "y0": 0,
          "y1": 1,
          "yref": "y domain"
         },
         {
          "line": {
           "color": "red",
           "dash": "dash"
          },
          "name": "Observed b_0",
          "type": "line",
          "x0": 9217,
          "x1": 9217,
          "xref": "x",
          "y0": 0,
          "y1": 1,
          "yref": "y domain"
         },
         {
          "line": {
           "color": "orange",
           "dash": "dash"
          },
          "name": "Best candidate",
          "type": "line",
          "x0": -770,
          "x1": -770,
          "xref": "x",
          "y0": 0,
          "y1": 1,
          "yref": "y domain"
         }
        ],
        "showlegend": false,
        "template": {
         "data": {
          "bar": [
           {
            "error_x": {
             "color": "#2a3f5f"
            },
            "error_y": {
             "color": "#2a3f5f"
            },
            "marker": {
             "line": {
              "color": "#E5ECF6",
              "width": 0.5
             },
             "pattern": {
              "fillmode": "overlay",
              "size": 10,
              "solidity": 0.2
             }
            },
            "type": "bar"
           }
          ],
          "barpolar": [
           {
            "marker": {
             "line": {
              "color": "#E5ECF6",
              "width": 0.5
             },
             "pattern": {
              "fillmode": "overlay",
              "size": 10,
              "solidity": 0.2
             }
            },
            "type": "barpolar"
           }
          ],
          "carpet": [
           {
            "aaxis": {
             "endlinecolor": "#2a3f5f",
             "gridcolor": "white",
             "linecolor": "white",
             "minorgridcolor": "white",
             "startlinecolor": "#2a3f5f"
            },
            "baxis": {
             "endlinecolor": "#2a3f5f",
             "gridcolor": "white",
             "linecolor": "white",
             "minorgridcolor": "white",
             "startlinecolor": "#2a3f5f"
            },
            "type": "carpet"
           }
          ],
          "choropleth": [
           {
            "colorbar": {
             "outlinewidth": 0,
             "ticks": ""
            },
            "type": "choropleth"
           }
          ],
          "contour": [
           {
            "colorbar": {
             "outlinewidth": 0,
             "ticks": ""
            },
            "colorscale": [
             [
              0,
              "#0d0887"
             ],
             [
              0.1111111111111111,
              "#46039f"
             ],
             [
              0.2222222222222222,
              "#7201a8"
             ],
             [
              0.3333333333333333,
              "#9c179e"
             ],
             [
              0.4444444444444444,
              "#bd3786"
             ],
             [
              0.5555555555555556,
              "#d8576b"
             ],
             [
              0.6666666666666666,
              "#ed7953"
             ],
             [
              0.7777777777777778,
              "#fb9f3a"
             ],
             [
              0.8888888888888888,
              "#fdca26"
             ],
             [
              1,
              "#f0f921"
             ]
            ],
            "type": "contour"
           }
          ],
          "contourcarpet": [
           {
            "colorbar": {
             "outlinewidth": 0,
             "ticks": ""
            },
            "type": "contourcarpet"
           }
          ],
          "heatmap": [
           {
            "colorbar": {
             "outlinewidth": 0,
             "ticks": ""
            },
            "colorscale": [
             [
              0,
              "#0d0887"
             ],
             [
              0.1111111111111111,
              "#46039f"
             ],
             [
              0.2222222222222222,
              "#7201a8"
             ],
             [
              0.3333333333333333,
              "#9c179e"
             ],
             [
              0.4444444444444444,
              "#bd3786"
             ],
             [
              0.5555555555555556,
              "#d8576b"
             ],
             [
              0.6666666666666666,
              "#ed7953"
             ],
             [
              0.7777777777777778,
              "#fb9f3a"
             ],
             [
              0.8888888888888888,
              "#fdca26"
             ],
             [
              1,
              "#f0f921"
             ]
            ],
            "type": "heatmap"
           }
          ],
          "histogram": [
           {
            "marker": {
             "pattern": {
              "fillmode": "overlay",
              "size": 10,
              "solidity": 0.2
             }
            },
            "type": "histogram"
           }
          ],
          "histogram2d": [
           {
            "colorbar": {
             "outlinewidth": 0,
             "ticks": ""
            },
            "colorscale": [
             [
              0,
              "#0d0887"
             ],
             [
              0.1111111111111111,
              "#46039f"
             ],
             [
              0.2222222222222222,
              "#7201a8"
             ],
             [
              0.3333333333333333,
              "#9c179e"
             ],
             [
              0.4444444444444444,
              "#bd3786"
             ],
             [
              0.5555555555555556,
              "#d8576b"
             ],
             [
              0.6666666666666666,
              "#ed7953"
             ],
             [
              0.7777777777777778,
              "#fb9f3a"
             ],
             [
              0.8888888888888888,
              "#fdca26"
             ],
             [
              1,
              "#f0f921"
             ]
            ],
            "type": "histogram2d"
           }
          ],
          "histogram2dcontour": [
           {
            "colorbar": {
             "outlinewidth": 0,
             "ticks": ""
            },
            "colorscale": [
             [
              0,
              "#0d0887"
             ],
             [
              0.1111111111111111,
              "#46039f"
             ],
             [
              0.2222222222222222,
              "#7201a8"
             ],
             [
              0.3333333333333333,
              "#9c179e"
             ],
             [
              0.4444444444444444,
              "#bd3786"
             ],
             [
              0.5555555555555556,
              "#d8576b"
             ],
             [
              0.6666666666666666,
              "#ed7953"
             ],
             [
              0.7777777777777778,
              "#fb9f3a"
             ],
             [
              0.8888888888888888,
              "#fdca26"
             ],
             [
              1,
              "#f0f921"
             ]
            ],
            "type": "histogram2dcontour"
           }
          ],
          "mesh3d": [
           {
            "colorbar": {
             "outlinewidth": 0,
             "ticks": ""
            },
            "type": "mesh3d"
           }
          ],
          "parcoords": [
           {
            "line": {
             "colorbar": {
              "outlinewidth": 0,
              "ticks": ""
             }
            },
            "type": "parcoords"
           }
          ],
          "pie": [
           {
            "automargin": true,
            "type": "pie"
           }
          ],
          "scatter": [
           {
            "fillpattern": {
             "fillmode": "overlay",
             "size": 10,
             "solidity": 0.2
            },
            "type": "scatter"
           }
          ],
          "scatter3d": [
           {
            "line": {
             "colorbar": {
              "outlinewidth": 0,
              "ticks": ""
             }
            },
            "marker": {
             "colorbar": {
              "outlinewidth": 0,
              "ticks": ""
             }
            },
            "type": "scatter3d"
           }
          ],
          "scattercarpet": [
           {
            "marker": {
             "colorbar": {
              "outlinewidth": 0,
              "ticks": ""
             }
            },
            "type": "scattercarpet"
           }
          ],
          "scattergeo": [
           {
            "marker": {
             "colorbar": {
              "outlinewidth": 0,
              "ticks": ""
             }
            },
            "type": "scattergeo"
           }
          ],
          "scattergl": [
           {
            "marker": {
             "colorbar": {
              "outlinewidth": 0,
              "ticks": ""
             }
            },
            "type": "scattergl"
           }
          ],
          "scattermap": [
           {
            "marker": {
             "colorbar": {
              "outlinewidth": 0,
              "ticks": ""
             }
            },
            "type": "scattermap"
           }
          ],
          "scattermapbox": [
           {
            "marker": {
             "colorbar": {
              "outlinewidth": 0,
              "ticks": ""
             }
            },
            "type": "scattermapbox"
           }
          ],
          "scatterpolar": [
           {
            "marker": {
             "colorbar": {
              "outlinewidth": 0,
              "ticks": ""
             }
            },
            "type": "scatterpolar"
           }
          ],
          "scatterpolargl": [
           {
            "marker": {
             "colorbar": {
              "outlinewidth": 0,
              "ticks": ""
             }
            },
            "type": "scatterpolargl"
           }
          ],
          "scatterternary": [
           {
            "marker": {
             "colorbar": {
              "outlinewidth": 0,
              "ticks": ""
             }
            },
            "type": "scatterternary"
           }
          ],
          "surface": [
           {
            "colorbar": {
             "outlinewidth": 0,
             "ticks": ""
            },
            "colorscale": [
             [
              0,
              "#0d0887"
             ],
             [
              0.1111111111111111,
              "#46039f"
             ],
             [
              0.2222222222222222,
              "#7201a8"
             ],
             [
              0.3333333333333333,
              "#9c179e"
             ],
             [
              0.4444444444444444,
              "#bd3786"
             ],
             [
              0.5555555555555556,
              "#d8576b"
             ],
             [
              0.6666666666666666,
              "#ed7953"
             ],
             [
              0.7777777777777778,
              "#fb9f3a"
             ],
             [
              0.8888888888888888,
              "#fdca26"
             ],
             [
              1,
              "#f0f921"
             ]
            ],
            "type": "surface"
           }
          ],
          "table": [
           {
            "cells": {
             "fill": {
              "color": "#EBF0F8"
             },
             "line": {
              "color": "white"
             }
            },
            "header": {
             "fill": {
              "color": "#C8D4E3"
             },
             "line": {
              "color": "white"
             }
            },
            "type": "table"
           }
          ]
         },
         "layout": {
          "annotationdefaults": {
           "arrowcolor": "#2a3f5f",
           "arrowhead": 0,
           "arrowwidth": 1
          },
          "autotypenumbers": "strict",
          "coloraxis": {
           "colorbar": {
            "outlinewidth": 0,
            "ticks": ""
           }
          },
          "colorscale": {
           "diverging": [
            [
             0,
             "#8e0152"
            ],
            [
             0.1,
             "#c51b7d"
            ],
            [
             0.2,
             "#de77ae"
            ],
            [
             0.3,
             "#f1b6da"
            ],
            [
             0.4,
             "#fde0ef"
            ],
            [
             0.5,
             "#f7f7f7"
            ],
            [
             0.6,
             "#e6f5d0"
            ],
            [
             0.7,
             "#b8e186"
            ],
            [
             0.8,
             "#7fbc41"
            ],
            [
             0.9,
             "#4d9221"
            ],
            [
             1,
             "#276419"
            ]
           ],
           "sequential": [
            [
             0,
             "#0d0887"
            ],
            [
             0.1111111111111111,
             "#46039f"
            ],
            [
             0.2222222222222222,
             "#7201a8"
            ],
            [
             0.3333333333333333,
             "#9c179e"
            ],
            [
             0.4444444444444444,
             "#bd3786"
            ],
            [
             0.5555555555555556,
             "#d8576b"
            ],
            [
             0.6666666666666666,
             "#ed7953"
            ],
            [
             0.7777777777777778,
             "#fb9f3a"
            ],
            [
             0.8888888888888888,
             "#fdca26"
            ],
            [
             1,
             "#f0f921"
            ]
           ],
           "sequentialminus": [
            [
             0,
             "#0d0887"
            ],
            [
             0.1111111111111111,
             "#46039f"
            ],
            [
             0.2222222222222222,
             "#7201a8"
            ],
            [
             0.3333333333333333,
             "#9c179e"
            ],
            [
             0.4444444444444444,
             "#bd3786"
            ],
            [
             0.5555555555555556,
             "#d8576b"
            ],
            [
             0.6666666666666666,
             "#ed7953"
            ],
            [
             0.7777777777777778,
             "#fb9f3a"
            ],
            [
             0.8888888888888888,
             "#fdca26"
            ],
            [
             1,
             "#f0f921"
            ]
           ]
          },
          "colorway": [
           "#636efa",
           "#EF553B",
           "#00cc96",
           "#ab63fa",
           "#FFA15A",
           "#19d3f3",
           "#FF6692",
           "#B6E880",
           "#FF97FF",
           "#FECB52"
          ],
          "font": {
           "color": "#2a3f5f"
          },
          "geo": {
           "bgcolor": "white",
           "lakecolor": "white",
           "landcolor": "#E5ECF6",
           "showlakes": true,
           "showland": true,
           "subunitcolor": "white"
          },
          "hoverlabel": {
           "align": "left"
          },
          "hovermode": "closest",
          "mapbox": {
           "style": "light"
          },
          "paper_bgcolor": "white",
          "plot_bgcolor": "#E5ECF6",
          "polar": {
           "angularaxis": {
            "gridcolor": "white",
            "linecolor": "white",
            "ticks": ""
           },
           "bgcolor": "#E5ECF6",
           "radialaxis": {
            "gridcolor": "white",
            "linecolor": "white",
            "ticks": ""
           }
          },
          "scene": {
           "xaxis": {
            "backgroundcolor": "#E5ECF6",
            "gridcolor": "white",
            "gridwidth": 2,
            "linecolor": "white",
            "showbackground": true,
            "ticks": "",
            "zerolinecolor": "white"
           },
           "yaxis": {
            "backgroundcolor": "#E5ECF6",
            "gridcolor": "white",
            "gridwidth": 2,
            "linecolor": "white",
            "showbackground": true,
            "ticks": "",
            "zerolinecolor": "white"
           },
           "zaxis": {
            "backgroundcolor": "#E5ECF6",
            "gridcolor": "white",
            "gridwidth": 2,
            "linecolor": "white",
            "showbackground": true,
            "ticks": "",
            "zerolinecolor": "white"
           }
          },
          "shapedefaults": {
           "line": {
            "color": "#2a3f5f"
           }
          },
          "ternary": {
           "aaxis": {
            "gridcolor": "white",
            "linecolor": "white",
            "ticks": ""
           },
           "baxis": {
            "gridcolor": "white",
            "linecolor": "white",
            "ticks": ""
           },
           "bgcolor": "#E5ECF6",
           "caxis": {
            "gridcolor": "white",
            "linecolor": "white",
            "ticks": ""
           }
          },
          "title": {
           "x": 0.05
          },
          "xaxis": {
           "automargin": true,
           "gridcolor": "white",
           "linecolor": "white",
           "ticks": "",
           "title": {
            "standoff": 15
           },
           "zerolinecolor": "white",
           "zerolinewidth": 2
          },
          "yaxis": {
           "automargin": true,
           "gridcolor": "white",
           "linecolor": "white",
           "ticks": "",
           "title": {
            "standoff": 15
           },
           "zerolinecolor": "white",
           "zerolinewidth": 2
          }
         }
        },
        "width": 550,
        "xaxis": {
         "title": {
          "text": "R@B"
         }
        },
        "yaxis": {
         "title": {
          "text": "Density"
         }
        }
       }
      }
     },
     "metadata": {},
     "output_type": "display_data"
    },
    {
     "name": "stdout",
     "output_type": "stream",
     "text": [
      "Candidates: [-22120. -18791. -15462. -12133.  -8804.  -5475.  -2146.   1183.   4512.\n",
      "   7841.  11170.  14499.  17828.  21157.],\n",
      "Probs: [0.01119473 0.02246952 0.0402653  0.06442067 0.0920188  0.11735049\n",
      " 0.13361348 0.1358228  0.1232685  0.09988231 0.07225736 0.04666944\n",
      " 0.02691164 0.01385494]\n"
     ]
    },
    {
     "data": {
      "application/vnd.plotly.v1+json": {
       "config": {
        "plotlyServerURL": "https://plot.ly"
       },
       "data": [
        {
         "line": {
          "color": "blue"
         },
         "mode": "lines",
         "name": "Normal Distribution",
         "type": "scatter",
         "x": {
          "bdata": "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",
          "dtype": "f8"
         },
         "y": {
          "bdata": "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",
          "dtype": "f8"
         }
        }
       ],
       "layout": {
        "bargap": 0.2,
        "height": 400,
        "margin": {
         "b": 20,
         "l": 20,
         "r": 20,
         "t": 10
        },
        "shapes": [
         {
          "line": {
           "color": "yellow",
           "dash": "dash"
          },
          "name": "+4 std",
          "type": "line",
          "x0": 29658.903384987112,
          "x1": 29658.903384987112,
          "xref": "x",
          "y0": 0,
          "y1": 1,
          "yref": "y domain"
         },
         {
          "line": {
           "color": "yellow",
           "dash": "dash"
          },
          "name": "-4 std",
          "type": "line",
          "x0": -29658.903384987112,
          "x1": -29658.903384987112,
          "xref": "x",
          "y0": 0,
          "y1": 1,
          "yref": "y domain"
         },
         {
          "line": {
           "color": "gray",
           "dash": "dash"
          },
          "opacity": 0.5,
          "type": "line",
          "x0": -38765,
          "x1": -38765,
          "xref": "x",
          "y0": 0,
          "y1": 1,
          "yref": "y domain"
         },
         {
          "line": {
           "color": "gray",
           "dash": "dash"
          },
          "opacity": 0.5,
          "type": "line",
          "x0": -35436,
          "x1": -35436,
          "xref": "x",
          "y0": 0,
          "y1": 1,
          "yref": "y domain"
         },
         {
          "line": {
           "color": "gray",
           "dash": "dash"
          },
          "opacity": 0.5,
          "type": "line",
          "x0": -32107,
          "x1": -32107,
          "xref": "x",
          "y0": 0,
          "y1": 1,
          "yref": "y domain"
         },
         {
          "line": {
           "color": "gray",
           "dash": "dash"
          },
          "opacity": 0.5,
          "type": "line",
          "x0": -28778,
          "x1": -28778,
          "xref": "x",
          "y0": 0,
          "y1": 1,
          "yref": "y domain"
         },
         {
          "line": {
           "color": "gray",
           "dash": "dash"
          },
          "opacity": 0.5,
          "type": "line",
          "x0": -25449,
          "x1": -25449,
          "xref": "x",
          "y0": 0,
          "y1": 1,
          "yref": "y domain"
         },
         {
          "line": {
           "color": "gray",
           "dash": "dash"
          },
          "opacity": 0.5,
          "type": "line",
          "x0": -22120,
          "x1": -22120,
          "xref": "x",
          "y0": 0,
          "y1": 1,
          "yref": "y domain"
         },
         {
          "line": {
           "color": "gray",
           "dash": "dash"
          },
          "opacity": 0.5,
          "type": "line",
          "x0": -18791,
          "x1": -18791,
          "xref": "x",
          "y0": 0,
          "y1": 1,
          "yref": "y domain"
         },
         {
          "line": {
           "color": "gray",
           "dash": "dash"
          },
          "opacity": 0.5,
          "type": "line",
          "x0": -15462,
          "x1": -15462,
          "xref": "x",
          "y0": 0,
          "y1": 1,
          "yref": "y domain"
         },
         {
          "line": {
           "color": "gray",
           "dash": "dash"
          },
          "opacity": 0.5,
          "type": "line",
          "x0": -12133,
          "x1": -12133,
          "xref": "x",
          "y0": 0,
          "y1": 1,
          "yref": "y domain"
         },
         {
          "line": {
           "color": "gray",
           "dash": "dash"
          },
          "opacity": 0.5,
          "type": "line",
          "x0": -8804,
          "x1": -8804,
          "xref": "x",
          "y0": 0,
          "y1": 1,
          "yref": "y domain"
         },
         {
          "line": {
           "color": "gray",
           "dash": "dash"
          },
          "opacity": 0.5,
          "type": "line",
          "x0": -5475,
          "x1": -5475,
          "xref": "x",
          "y0": 0,
          "y1": 1,
          "yref": "y domain"
         },
         {
          "line": {
           "color": "gray",
           "dash": "dash"
          },
          "opacity": 0.5,
          "type": "line",
          "x0": -2146,
          "x1": -2146,
          "xref": "x",
          "y0": 0,
          "y1": 1,
          "yref": "y domain"
         },
         {
          "line": {
           "color": "gray",
           "dash": "dash"
          },
          "opacity": 0.5,
          "type": "line",
          "x0": 1183,
          "x1": 1183,
          "xref": "x",
          "y0": 0,
          "y1": 1,
          "yref": "y domain"
         },
         {
          "line": {
           "color": "gray",
           "dash": "dash"
          },
          "opacity": 0.5,
          "type": "line",
          "x0": 4512,
          "x1": 4512,
          "xref": "x",
          "y0": 0,
          "y1": 1,
          "yref": "y domain"
         },
         {
          "line": {
           "color": "gray",
           "dash": "dash"
          },
          "opacity": 0.5,
          "type": "line",
          "x0": 7841,
          "x1": 7841,
          "xref": "x",
          "y0": 0,
          "y1": 1,
          "yref": "y domain"
         },
         {
          "line": {
           "color": "gray",
           "dash": "dash"
          },
          "opacity": 0.5,
          "type": "line",
          "x0": 11170,
          "x1": 11170,
          "xref": "x",
          "y0": 0,
          "y1": 1,
          "yref": "y domain"
         },
         {
          "line": {
           "color": "gray",
           "dash": "dash"
          },
          "opacity": 0.5,
          "type": "line",
          "x0": 14499,
          "x1": 14499,
          "xref": "x",
          "y0": 0,
          "y1": 1,
          "yref": "y domain"
         },
         {
          "line": {
           "color": "gray",
           "dash": "dash"
          },
          "opacity": 0.5,
          "type": "line",
          "x0": 17828,
          "x1": 17828,
          "xref": "x",
          "y0": 0,
          "y1": 1,
          "yref": "y domain"
         },
         {
          "line": {
           "color": "gray",
           "dash": "dash"
          },
          "opacity": 0.5,
          "type": "line",
          "x0": 21157,
          "x1": 21157,
          "xref": "x",
          "y0": 0,
          "y1": 1,
          "yref": "y domain"
         },
         {
          "line": {
           "color": "gray",
           "dash": "dash"
          },
          "opacity": 0.5,
          "type": "line",
          "x0": 24486,
          "x1": 24486,
          "xref": "x",
          "y0": 0,
          "y1": 1,
          "yref": "y domain"
         },
         {
          "line": {
           "color": "gray",
           "dash": "dash"
          },
          "opacity": 0.5,
          "type": "line",
          "x0": 27815,
          "x1": 27815,
          "xref": "x",
          "y0": 0,
          "y1": 1,
          "yref": "y domain"
         },
         {
          "line": {
           "color": "gray",
           "dash": "dash"
          },
          "opacity": 0.5,
          "type": "line",
          "x0": 31144,
          "x1": 31144,
          "xref": "x",
          "y0": 0,
          "y1": 1,
          "yref": "y domain"
         },
         {
          "line": {
           "color": "gray",
           "dash": "dash"
          },
          "opacity": 0.5,
          "type": "line",
          "x0": 34473,
          "x1": 34473,
          "xref": "x",
          "y0": 0,
          "y1": 1,
          "yref": "y domain"
         },
         {
          "line": {
           "color": "gray",
           "dash": "dash"
          },
          "opacity": 0.5,
          "type": "line",
          "x0": 37802,
          "x1": 37802,
          "xref": "x",
          "y0": 0,
          "y1": 1,
          "yref": "y domain"
         },
         {
          "line": {
           "color": "green",
           "dash": "dash"
          },
          "type": "line",
          "x0": -22120,
          "x1": -22120,
          "xref": "x",
          "y0": 0,
          "y1": 1,
          "yref": "y domain"
         },
         {
          "line": {
           "color": "green",
           "dash": "dash"
          },
          "type": "line",
          "x0": -18791,
          "x1": -18791,
          "xref": "x",
          "y0": 0,
          "y1": 1,
          "yref": "y domain"
         },
         {
          "line": {
           "color": "green",
           "dash": "dash"
          },
          "type": "line",
          "x0": -15462,
          "x1": -15462,
          "xref": "x",
          "y0": 0,
          "y1": 1,
          "yref": "y domain"
         },
         {
          "line": {
           "color": "green",
           "dash": "dash"
          },
          "type": "line",
          "x0": -12133,
          "x1": -12133,
          "xref": "x",
          "y0": 0,
          "y1": 1,
          "yref": "y domain"
         },
         {
          "line": {
           "color": "green",
           "dash": "dash"
          },
          "type": "line",
          "x0": -8804,
          "x1": -8804,
          "xref": "x",
          "y0": 0,
          "y1": 1,
          "yref": "y domain"
         },
         {
          "line": {
           "color": "green",
           "dash": "dash"
          },
          "type": "line",
          "x0": -5475,
          "x1": -5475,
          "xref": "x",
          "y0": 0,
          "y1": 1,
          "yref": "y domain"
         },
         {
          "line": {
           "color": "green",
           "dash": "dash"
          },
          "type": "line",
          "x0": -2146,
          "x1": -2146,
          "xref": "x",
          "y0": 0,
          "y1": 1,
          "yref": "y domain"
         },
         {
          "line": {
           "color": "green",
           "dash": "dash"
          },
          "type": "line",
          "x0": 1183,
          "x1": 1183,
          "xref": "x",
          "y0": 0,
          "y1": 1,
          "yref": "y domain"
         },
         {
          "line": {
           "color": "green",
           "dash": "dash"
          },
          "type": "line",
          "x0": 4512,
          "x1": 4512,
          "xref": "x",
          "y0": 0,
          "y1": 1,
          "yref": "y domain"
         },
         {
          "line": {
           "color": "green",
           "dash": "dash"
          },
          "type": "line",
          "x0": 7841,
          "x1": 7841,
          "xref": "x",
          "y0": 0,
          "y1": 1,
          "yref": "y domain"
         },
         {
          "line": {
           "color": "green",
           "dash": "dash"
          },
          "type": "line",
          "x0": 11170,
          "x1": 11170,
          "xref": "x",
          "y0": 0,
          "y1": 1,
          "yref": "y domain"
         },
         {
          "line": {
           "color": "green",
           "dash": "dash"
          },
          "type": "line",
          "x0": 14499,
          "x1": 14499,
          "xref": "x",
          "y0": 0,
          "y1": 1,
          "yref": "y domain"
         },
         {
          "line": {
           "color": "green",
           "dash": "dash"
          },
          "type": "line",
          "x0": 17828,
          "x1": 17828,
          "xref": "x",
          "y0": 0,
          "y1": 1,
          "yref": "y domain"
         },
         {
          "line": {
           "color": "green",
           "dash": "dash"
          },
          "type": "line",
          "x0": 21157,
          "x1": 21157,
          "xref": "x",
          "y0": 0,
          "y1": 1,
          "yref": "y domain"
         },
         {
          "line": {
           "color": "red",
           "dash": "dash"
          },
          "name": "Observed b_0",
          "type": "line",
          "x0": 1183,
          "x1": 1183,
          "xref": "x",
          "y0": 0,
          "y1": 1,
          "yref": "y domain"
         },
         {
          "line": {
           "color": "orange",
           "dash": "dash"
          },
          "name": "Best candidate",
          "type": "line",
          "x0": 1183,
          "x1": 1183,
          "xref": "x",
          "y0": 0,
          "y1": 1,
          "yref": "y domain"
         }
        ],
        "showlegend": false,
        "template": {
         "data": {
          "bar": [
           {
            "error_x": {
             "color": "#2a3f5f"
            },
            "error_y": {
             "color": "#2a3f5f"
            },
            "marker": {
             "line": {
              "color": "#E5ECF6",
              "width": 0.5
             },
             "pattern": {
              "fillmode": "overlay",
              "size": 10,
              "solidity": 0.2
             }
            },
            "type": "bar"
           }
          ],
          "barpolar": [
           {
            "marker": {
             "line": {
              "color": "#E5ECF6",
              "width": 0.5
             },
             "pattern": {
              "fillmode": "overlay",
              "size": 10,
              "solidity": 0.2
             }
            },
            "type": "barpolar"
           }
          ],
          "carpet": [
           {
            "aaxis": {
             "endlinecolor": "#2a3f5f",
             "gridcolor": "white",
             "linecolor": "white",
             "minorgridcolor": "white",
             "startlinecolor": "#2a3f5f"
            },
            "baxis": {
             "endlinecolor": "#2a3f5f",
             "gridcolor": "white",
             "linecolor": "white",
             "minorgridcolor": "white",
             "startlinecolor": "#2a3f5f"
            },
            "type": "carpet"
           }
          ],
          "choropleth": [
           {
            "colorbar": {
             "outlinewidth": 0,
             "ticks": ""
            },
            "type": "choropleth"
           }
          ],
          "contour": [
           {
            "colorbar": {
             "outlinewidth": 0,
             "ticks": ""
            },
            "colorscale": [
             [
              0,
              "#0d0887"
             ],
             [
              0.1111111111111111,
              "#46039f"
             ],
             [
              0.2222222222222222,
              "#7201a8"
             ],
             [
              0.3333333333333333,
              "#9c179e"
             ],
             [
              0.4444444444444444,
              "#bd3786"
             ],
             [
              0.5555555555555556,
              "#d8576b"
             ],
             [
              0.6666666666666666,
              "#ed7953"
             ],
             [
              0.7777777777777778,
              "#fb9f3a"
             ],
             [
              0.8888888888888888,
              "#fdca26"
             ],
             [
              1,
              "#f0f921"
             ]
            ],
            "type": "contour"
           }
          ],
          "contourcarpet": [
           {
            "colorbar": {
             "outlinewidth": 0,
             "ticks": ""
            },
            "type": "contourcarpet"
           }
          ],
          "heatmap": [
           {
            "colorbar": {
             "outlinewidth": 0,
             "ticks": ""
            },
            "colorscale": [
             [
              0,
              "#0d0887"
             ],
             [
              0.1111111111111111,
              "#46039f"
             ],
             [
              0.2222222222222222,
              "#7201a8"
             ],
             [
              0.3333333333333333,
              "#9c179e"
             ],
             [
              0.4444444444444444,
              "#bd3786"
             ],
             [
              0.5555555555555556,
              "#d8576b"
             ],
             [
              0.6666666666666666,
              "#ed7953"
             ],
             [
              0.7777777777777778,
              "#fb9f3a"
             ],
             [
              0.8888888888888888,
              "#fdca26"
             ],
             [
              1,
              "#f0f921"
             ]
            ],
            "type": "heatmap"
           }
          ],
          "histogram": [
           {
            "marker": {
             "pattern": {
              "fillmode": "overlay",
              "size": 10,
              "solidity": 0.2
             }
            },
            "type": "histogram"
           }
          ],
          "histogram2d": [
           {
            "colorbar": {
             "outlinewidth": 0,
             "ticks": ""
            },
            "colorscale": [
             [
              0,
              "#0d0887"
             ],
             [
              0.1111111111111111,
              "#46039f"
             ],
             [
              0.2222222222222222,
              "#7201a8"
             ],
             [
              0.3333333333333333,
              "#9c179e"
             ],
             [
              0.4444444444444444,
              "#bd3786"
             ],
             [
              0.5555555555555556,
              "#d8576b"
             ],
             [
              0.6666666666666666,
              "#ed7953"
             ],
             [
              0.7777777777777778,
              "#fb9f3a"
             ],
             [
              0.8888888888888888,
              "#fdca26"
             ],
             [
              1,
              "#f0f921"
             ]
            ],
            "type": "histogram2d"
           }
          ],
          "histogram2dcontour": [
           {
            "colorbar": {
             "outlinewidth": 0,
             "ticks": ""
            },
            "colorscale": [
             [
              0,
              "#0d0887"
             ],
             [
              0.1111111111111111,
              "#46039f"
             ],
             [
              0.2222222222222222,
              "#7201a8"
             ],
             [
              0.3333333333333333,
              "#9c179e"
             ],
             [
              0.4444444444444444,
              "#bd3786"
             ],
             [
              0.5555555555555556,
              "#d8576b"
             ],
             [
              0.6666666666666666,
              "#ed7953"
             ],
             [
              0.7777777777777778,
              "#fb9f3a"
             ],
             [
              0.8888888888888888,
              "#fdca26"
             ],
             [
              1,
              "#f0f921"
             ]
            ],
            "type": "histogram2dcontour"
           }
          ],
          "mesh3d": [
           {
            "colorbar": {
             "outlinewidth": 0,
             "ticks": ""
            },
            "type": "mesh3d"
           }
          ],
          "parcoords": [
           {
            "line": {
             "colorbar": {
              "outlinewidth": 0,
              "ticks": ""
             }
            },
            "type": "parcoords"
           }
          ],
          "pie": [
           {
            "automargin": true,
            "type": "pie"
           }
          ],
          "scatter": [
           {
            "fillpattern": {
             "fillmode": "overlay",
             "size": 10,
             "solidity": 0.2
            },
            "type": "scatter"
           }
          ],
          "scatter3d": [
           {
            "line": {
             "colorbar": {
              "outlinewidth": 0,
              "ticks": ""
             }
            },
            "marker": {
             "colorbar": {
              "outlinewidth": 0,
              "ticks": ""
             }
            },
            "type": "scatter3d"
           }
          ],
          "scattercarpet": [
           {
            "marker": {
             "colorbar": {
              "outlinewidth": 0,
              "ticks": ""
             }
            },
            "type": "scattercarpet"
           }
          ],
          "scattergeo": [
           {
            "marker": {
             "colorbar": {
              "outlinewidth": 0,
              "ticks": ""
             }
            },
            "type": "scattergeo"
           }
          ],
          "scattergl": [
           {
            "marker": {
             "colorbar": {
              "outlinewidth": 0,
              "ticks": ""
             }
            },
            "type": "scattergl"
           }
          ],
          "scattermap": [
           {
            "marker": {
             "colorbar": {
              "outlinewidth": 0,
              "ticks": ""
             }
            },
            "type": "scattermap"
           }
          ],
          "scattermapbox": [
           {
            "marker": {
             "colorbar": {
              "outlinewidth": 0,
              "ticks": ""
             }
            },
            "type": "scattermapbox"
           }
          ],
          "scatterpolar": [
           {
            "marker": {
             "colorbar": {
              "outlinewidth": 0,
              "ticks": ""
             }
            },
            "type": "scatterpolar"
           }
          ],
          "scatterpolargl": [
           {
            "marker": {
             "colorbar": {
              "outlinewidth": 0,
              "ticks": ""
             }
            },
            "type": "scatterpolargl"
           }
          ],
          "scatterternary": [
           {
            "marker": {
             "colorbar": {
              "outlinewidth": 0,
              "ticks": ""
             }
            },
            "type": "scatterternary"
           }
          ],
          "surface": [
           {
            "colorbar": {
             "outlinewidth": 0,
             "ticks": ""
            },
            "colorscale": [
             [
              0,
              "#0d0887"
             ],
             [
              0.1111111111111111,
              "#46039f"
             ],
             [
              0.2222222222222222,
              "#7201a8"
             ],
             [
              0.3333333333333333,
              "#9c179e"
             ],
             [
              0.4444444444444444,
              "#bd3786"
             ],
             [
              0.5555555555555556,
              "#d8576b"
             ],
             [
              0.6666666666666666,
              "#ed7953"
             ],
             [
              0.7777777777777778,
              "#fb9f3a"
             ],
             [
              0.8888888888888888,
              "#fdca26"
             ],
             [
              1,
              "#f0f921"
             ]
            ],
            "type": "surface"
           }
          ],
          "table": [
           {
            "cells": {
             "fill": {
              "color": "#EBF0F8"
             },
             "line": {
              "color": "white"
             }
            },
            "header": {
             "fill": {
              "color": "#C8D4E3"
             },
             "line": {
              "color": "white"
             }
            },
            "type": "table"
           }
          ]
         },
         "layout": {
          "annotationdefaults": {
           "arrowcolor": "#2a3f5f",
           "arrowhead": 0,
           "arrowwidth": 1
          },
          "autotypenumbers": "strict",
          "coloraxis": {
           "colorbar": {
            "outlinewidth": 0,
            "ticks": ""
           }
          },
          "colorscale": {
           "diverging": [
            [
             0,
             "#8e0152"
            ],
            [
             0.1,
             "#c51b7d"
            ],
            [
             0.2,
             "#de77ae"
            ],
            [
             0.3,
             "#f1b6da"
            ],
            [
             0.4,
             "#fde0ef"
            ],
            [
             0.5,
             "#f7f7f7"
            ],
            [
             0.6,
             "#e6f5d0"
            ],
            [
             0.7,
             "#b8e186"
            ],
            [
             0.8,
             "#7fbc41"
            ],
            [
             0.9,
             "#4d9221"
            ],
            [
             1,
             "#276419"
            ]
           ],
           "sequential": [
            [
             0,
             "#0d0887"
            ],
            [
             0.1111111111111111,
             "#46039f"
            ],
            [
             0.2222222222222222,
             "#7201a8"
            ],
            [
             0.3333333333333333,
             "#9c179e"
            ],
            [
             0.4444444444444444,
             "#bd3786"
            ],
            [
             0.5555555555555556,
             "#d8576b"
            ],
            [
             0.6666666666666666,
             "#ed7953"
            ],
            [
             0.7777777777777778,
             "#fb9f3a"
            ],
            [
             0.8888888888888888,
             "#fdca26"
            ],
            [
             1,
             "#f0f921"
            ]
           ],
           "sequentialminus": [
            [
             0,
             "#0d0887"
            ],
            [
             0.1111111111111111,
             "#46039f"
            ],
            [
             0.2222222222222222,
             "#7201a8"
            ],
            [
             0.3333333333333333,
             "#9c179e"
            ],
            [
             0.4444444444444444,
             "#bd3786"
            ],
            [
             0.5555555555555556,
             "#d8576b"
            ],
            [
             0.6666666666666666,
             "#ed7953"
            ],
            [
             0.7777777777777778,
             "#fb9f3a"
            ],
            [
             0.8888888888888888,
             "#fdca26"
            ],
            [
             1,
             "#f0f921"
            ]
           ]
          },
          "colorway": [
           "#636efa",
           "#EF553B",
           "#00cc96",
           "#ab63fa",
           "#FFA15A",
           "#19d3f3",
           "#FF6692",
           "#B6E880",
           "#FF97FF",
           "#FECB52"
          ],
          "font": {
           "color": "#2a3f5f"
          },
          "geo": {
           "bgcolor": "white",
           "lakecolor": "white",
           "landcolor": "#E5ECF6",
           "showlakes": true,
           "showland": true,
           "subunitcolor": "white"
          },
          "hoverlabel": {
           "align": "left"
          },
          "hovermode": "closest",
          "mapbox": {
           "style": "light"
          },
          "paper_bgcolor": "white",
          "plot_bgcolor": "#E5ECF6",
          "polar": {
           "angularaxis": {
            "gridcolor": "white",
            "linecolor": "white",
            "ticks": ""
           },
           "bgcolor": "#E5ECF6",
           "radialaxis": {
            "gridcolor": "white",
            "linecolor": "white",
            "ticks": ""
           }
          },
          "scene": {
           "xaxis": {
            "backgroundcolor": "#E5ECF6",
            "gridcolor": "white",
            "gridwidth": 2,
            "linecolor": "white",
            "showbackground": true,
            "ticks": "",
            "zerolinecolor": "white"
           },
           "yaxis": {
            "backgroundcolor": "#E5ECF6",
            "gridcolor": "white",
            "gridwidth": 2,
            "linecolor": "white",
            "showbackground": true,
            "ticks": "",
            "zerolinecolor": "white"
           },
           "zaxis": {
            "backgroundcolor": "#E5ECF6",
            "gridcolor": "white",
            "gridwidth": 2,
            "linecolor": "white",
            "showbackground": true,
            "ticks": "",
            "zerolinecolor": "white"
           }
          },
          "shapedefaults": {
           "line": {
            "color": "#2a3f5f"
           }
          },
          "ternary": {
           "aaxis": {
            "gridcolor": "white",
            "linecolor": "white",
            "ticks": ""
           },
           "baxis": {
            "gridcolor": "white",
            "linecolor": "white",
            "ticks": ""
           },
           "bgcolor": "#E5ECF6",
           "caxis": {
            "gridcolor": "white",
            "linecolor": "white",
            "ticks": ""
           }
          },
          "title": {
           "x": 0.05
          },
          "xaxis": {
           "automargin": true,
           "gridcolor": "white",
           "linecolor": "white",
           "ticks": "",
           "title": {
            "standoff": 15
           },
           "zerolinecolor": "white",
           "zerolinewidth": 2
          },
          "yaxis": {
           "automargin": true,
           "gridcolor": "white",
           "linecolor": "white",
           "ticks": "",
           "title": {
            "standoff": 15
           },
           "zerolinecolor": "white",
           "zerolinewidth": 2
          }
         }
        },
        "width": 550,
        "xaxis": {
         "title": {
          "text": "R@B"
         }
        },
        "yaxis": {
         "title": {
          "text": "Density"
         }
        }
       }
      }
     },
     "metadata": {},
     "output_type": "display_data"
    }
   ],
   "source": [
    "values = [0, 46]\n",
    "modulus = params['q']\n",
    "secret = dataset.get_secret()\n",
    "A = dataset.get_A()\n",
    "b = dataset.get_B()\n",
    "\n",
    "num_std = params['approximation_std']\n",
    "\n",
    "expected_B, _, std_B = dataset.get_b_distribution()\n",
    "\n",
    "plot_only_different = False\n",
    "save_plots = False\n",
    "\n",
    "for value in values:\n",
    "    a_i = A[value]\n",
    "    b_i = b[value]\n",
    "    e_i = (b_i - a_i @ secret) % modulus\n",
    "    e_i = e_i if e_i < modulus // 2 else e_i - modulus\n",
    "    b_i = a_i @ secret + e_i\n",
    "\n",
    "    expected_b_i = expected_B[value]\n",
    "    std_b_i = std_B[value]\n",
    "    sample_b_i = dataset.best_b[value]\n",
    "\n",
    "    if plot_only_different and np.allclose(b_i, sample_b_i):\n",
    "      print(f\"Skipping value {value} because b_i and sample_b_i are the same.\")\n",
    "      continue\n",
    "\n",
    "    x = np.linspace(expected_b_i - 4 * std_b_i, expected_b_i + 4 * std_b_i, 1000)\n",
    "    pdf = norm.pdf(x, loc=expected_b_i.item(), scale=std_b_i.item())\n",
    "\n",
    "    layout = go.Layout(\n",
    "        xaxis=dict(title='R@B'),#, range=[-4e3, 4e3]),\n",
    "        yaxis=dict(title='Density'),# range=[-25e-6, 400e-6]),\n",
    "        bargap=0.2,\n",
    "        margin=dict(l=20, r=20, t=10, b=20),\n",
    "        width=550,\n",
    "        height=400,\n",
    "        showlegend=False,\n",
    "        title=None\n",
    "    )\n",
    "\n",
    "    fig = go.Figure(layout=layout)\n",
    "\n",
    "    # Normal Distribution\n",
    "    fig.add_trace(go.Scatter(x=x, y=pdf, mode='lines', name='Normal Distribution', line=dict(color='blue')))\n",
    "\n",
    "    # ±4 std\n",
    "    fig.add_vline(x=expected_b_i.item() + num_std * std_b_i.item(), line=dict(color='yellow', dash='dash'), name='+4 std')\n",
    "    fig.add_vline(x=expected_b_i.item() - num_std * std_b_i.item(), line=dict(color='yellow', dash='dash'), name='-4 std')\n",
    "\n",
    "    # Gray background lines\n",
    "    mod_b_i = b_i % modulus\n",
    "    C_min = int(x.min() / modulus) - 1\n",
    "    C_max = int(x.max() / modulus)\n",
    "    C_values = np.arange(C_min, C_max + 1)\n",
    "    for C in C_values:\n",
    "      line_value = mod_b_i + C * modulus\n",
    "      fig.add_vline(x=line_value, line=dict(color='gray', dash='dash'), opacity=0.5)\n",
    "\n",
    "    # Candidate b values\n",
    "    candidates = dataset.b_candidates[value]\n",
    "    probs = dataset.b_probs[value]\n",
    "    print(f\"Candidates: {candidates},\\nProbs: {probs}\")\n",
    "\n",
    "    for i, (candidate, prob) in enumerate(zip(candidates, probs)):\n",
    "      fig.add_vline(x=candidate, line=dict(color='green', dash='dash'))\n",
    "\n",
    "    # Observed b_0\n",
    "    fig.add_vline(x=b_i.item(), line=dict(color='red', dash='dash'), name='Observed b_0')\n",
    "\n",
    "    # Best candidate\n",
    "    fig.add_vline(x=sample_b_i, line=dict(color='orange', dash='dash'), name='Best candidate')\n",
    "\n",
    "    fig.show()\n",
    "\n",
    "    if save_plots:\n",
    "        fig.write_image(f\"B_approx_{value}.pdf\")\n"
   ]
  },
  {
   "cell_type": "markdown",
   "metadata": {},
   "source": [
    "## Reduction"
   ]
  },
  {
   "cell_type": "code",
   "execution_count": 46,
   "metadata": {},
   "outputs": [
    {
     "data": {
      "application/vnd.plotly.v1+json": {
       "config": {
        "plotlyServerURL": "https://plot.ly"
       },
       "data": [
        {
         "marker": {
          "color": "rgba(100, 150, 255, 0.7)",
          "line": {
           "color": "black",
           "width": 1
          }
         },
         "type": "histogram",
         "x": {
          "bdata": "AAAAAIAAwkAAAAAAAIKoQAAAAAAAB8FAAAAAAACWosAAAAAAAHXawAAAAAAAzKxAAAAAAACC2EAAAAAAACfDwAAAAAAA2bJAAAAAAAA0n0AAAAAAgDfKQAAAAAAANJxAAAAAAAA5wEAAAAAAAGK1wAAAAAAAmKTAAAAAAAC60EAAAAAAgL/EQAAAAAAAAMjAAAAAAIDZxcAAAAAAADC2wAAAAACAwM5AAAAAAAA8tsAAAAAAgJnAQAAAAAAACKBAAAAAAID6yEAAAAAAADCSwAAAAAAAAqxAAAAAAABEvMAAAAAAAOGxwAAAAACAY8JAAAAAAABcskAAAAAAAMTGwAAAAACAws9AAAAAAABFxcAAAAAAABq8wAAAAAAAasJAAAAAAAB6q8AAAAAAALHKQAAAAAAAwLlAAAAAAABPy0AAAAAAAHS2wAAAAAAATb9AAAAAAAAUv0AAAAAAAKa/wAAAAAAAVMbAAAAAAAAkrEAAAAAAAHiSQAAAAAAASLZAAAAAAABQikAAAAAAAHe3QAAAAACApsdAAAAAAABwv0AAAAAAAPHKwAAAAAAAUcVAAAAAAACfxkAAAAAAAMmwQAAAAAAAzKRAAAAAAMDZ0cAAAAAAAHqswAAAAAAAILVAAAAAAAAQccAAAAAAAMBvwAAAAAAATK7AAAAAAADgaMAAAAAAgOXAQAAAAAAAn7RAAAAAAAA6pcAAAAAAAMGwQAAAAAAAmcJAAAAAAEBu00AAAAAAAH62QAAAAAAAhbrAAAAAAAB1s0AAAAAAAP+wwAAAAAAAObhAAAAAAADpukAAAAAAADDKwAAAAAAAsrlAAAAAAIBHyEAAAAAAgKjYwAAAAADAGNBAAAAAAAA5vEAAAAAAAJyQQAAAAAAAIL3AAAAAAIDuw8AAAAAAAOiMQAAAAAAAfrbAAAAAAAAJt8AAAAAAAJqzQAAAAAAA5JnAAAAAAAC0tsAAAAAAAJTJwAAAAAAAU8PAAAAAAMC+08AAAAAAAAy3wAAAAAAAAcpAAAAAAAAlsMAAAAAAAACkwAAAAAAAncfAAAAAAAAitEA=",
          "dtype": "f8"
         },
         "xbins": {
          "end": 25097,
          "size": 1000,
          "start": -27092
         }
        }
       ],
       "layout": {
        "bargap": 0.2,
        "height": 400,
        "margin": {
         "b": 20,
         "l": 20,
         "r": 20,
         "t": 10
        },
        "showlegend": false,
        "template": {
         "data": {
          "bar": [
           {
            "error_x": {
             "color": "#2a3f5f"
            },
            "error_y": {
             "color": "#2a3f5f"
            },
            "marker": {
             "line": {
              "color": "#E5ECF6",
              "width": 0.5
             },
             "pattern": {
              "fillmode": "overlay",
              "size": 10,
              "solidity": 0.2
             }
            },
            "type": "bar"
           }
          ],
          "barpolar": [
           {
            "marker": {
             "line": {
              "color": "#E5ECF6",
              "width": 0.5
             },
             "pattern": {
              "fillmode": "overlay",
              "size": 10,
              "solidity": 0.2
             }
            },
            "type": "barpolar"
           }
          ],
          "carpet": [
           {
            "aaxis": {
             "endlinecolor": "#2a3f5f",
             "gridcolor": "white",
             "linecolor": "white",
             "minorgridcolor": "white",
             "startlinecolor": "#2a3f5f"
            },
            "baxis": {
             "endlinecolor": "#2a3f5f",
             "gridcolor": "white",
             "linecolor": "white",
             "minorgridcolor": "white",
             "startlinecolor": "#2a3f5f"
            },
            "type": "carpet"
           }
          ],
          "choropleth": [
           {
            "colorbar": {
             "outlinewidth": 0,
             "ticks": ""
            },
            "type": "choropleth"
           }
          ],
          "contour": [
           {
            "colorbar": {
             "outlinewidth": 0,
             "ticks": ""
            },
            "colorscale": [
             [
              0,
              "#0d0887"
             ],
             [
              0.1111111111111111,
              "#46039f"
             ],
             [
              0.2222222222222222,
              "#7201a8"
             ],
             [
              0.3333333333333333,
              "#9c179e"
             ],
             [
              0.4444444444444444,
              "#bd3786"
             ],
             [
              0.5555555555555556,
              "#d8576b"
             ],
             [
              0.6666666666666666,
              "#ed7953"
             ],
             [
              0.7777777777777778,
              "#fb9f3a"
             ],
             [
              0.8888888888888888,
              "#fdca26"
             ],
             [
              1,
              "#f0f921"
             ]
            ],
            "type": "contour"
           }
          ],
          "contourcarpet": [
           {
            "colorbar": {
             "outlinewidth": 0,
             "ticks": ""
            },
            "type": "contourcarpet"
           }
          ],
          "heatmap": [
           {
            "colorbar": {
             "outlinewidth": 0,
             "ticks": ""
            },
            "colorscale": [
             [
              0,
              "#0d0887"
             ],
             [
              0.1111111111111111,
              "#46039f"
             ],
             [
              0.2222222222222222,
              "#7201a8"
             ],
             [
              0.3333333333333333,
              "#9c179e"
             ],
             [
              0.4444444444444444,
              "#bd3786"
             ],
             [
              0.5555555555555556,
              "#d8576b"
             ],
             [
              0.6666666666666666,
              "#ed7953"
             ],
             [
              0.7777777777777778,
              "#fb9f3a"
             ],
             [
              0.8888888888888888,
              "#fdca26"
             ],
             [
              1,
              "#f0f921"
             ]
            ],
            "type": "heatmap"
           }
          ],
          "histogram": [
           {
            "marker": {
             "pattern": {
              "fillmode": "overlay",
              "size": 10,
              "solidity": 0.2
             }
            },
            "type": "histogram"
           }
          ],
          "histogram2d": [
           {
            "colorbar": {
             "outlinewidth": 0,
             "ticks": ""
            },
            "colorscale": [
             [
              0,
              "#0d0887"
             ],
             [
              0.1111111111111111,
              "#46039f"
             ],
             [
              0.2222222222222222,
              "#7201a8"
             ],
             [
              0.3333333333333333,
              "#9c179e"
             ],
             [
              0.4444444444444444,
              "#bd3786"
             ],
             [
              0.5555555555555556,
              "#d8576b"
             ],
             [
              0.6666666666666666,
              "#ed7953"
             ],
             [
              0.7777777777777778,
              "#fb9f3a"
             ],
             [
              0.8888888888888888,
              "#fdca26"
             ],
             [
              1,
              "#f0f921"
             ]
            ],
            "type": "histogram2d"
           }
          ],
          "histogram2dcontour": [
           {
            "colorbar": {
             "outlinewidth": 0,
             "ticks": ""
            },
            "colorscale": [
             [
              0,
              "#0d0887"
             ],
             [
              0.1111111111111111,
              "#46039f"
             ],
             [
              0.2222222222222222,
              "#7201a8"
             ],
             [
              0.3333333333333333,
              "#9c179e"
             ],
             [
              0.4444444444444444,
              "#bd3786"
             ],
             [
              0.5555555555555556,
              "#d8576b"
             ],
             [
              0.6666666666666666,
              "#ed7953"
             ],
             [
              0.7777777777777778,
              "#fb9f3a"
             ],
             [
              0.8888888888888888,
              "#fdca26"
             ],
             [
              1,
              "#f0f921"
             ]
            ],
            "type": "histogram2dcontour"
           }
          ],
          "mesh3d": [
           {
            "colorbar": {
             "outlinewidth": 0,
             "ticks": ""
            },
            "type": "mesh3d"
           }
          ],
          "parcoords": [
           {
            "line": {
             "colorbar": {
              "outlinewidth": 0,
              "ticks": ""
             }
            },
            "type": "parcoords"
           }
          ],
          "pie": [
           {
            "automargin": true,
            "type": "pie"
           }
          ],
          "scatter": [
           {
            "fillpattern": {
             "fillmode": "overlay",
             "size": 10,
             "solidity": 0.2
            },
            "type": "scatter"
           }
          ],
          "scatter3d": [
           {
            "line": {
             "colorbar": {
              "outlinewidth": 0,
              "ticks": ""
             }
            },
            "marker": {
             "colorbar": {
              "outlinewidth": 0,
              "ticks": ""
             }
            },
            "type": "scatter3d"
           }
          ],
          "scattercarpet": [
           {
            "marker": {
             "colorbar": {
              "outlinewidth": 0,
              "ticks": ""
             }
            },
            "type": "scattercarpet"
           }
          ],
          "scattergeo": [
           {
            "marker": {
             "colorbar": {
              "outlinewidth": 0,
              "ticks": ""
             }
            },
            "type": "scattergeo"
           }
          ],
          "scattergl": [
           {
            "marker": {
             "colorbar": {
              "outlinewidth": 0,
              "ticks": ""
             }
            },
            "type": "scattergl"
           }
          ],
          "scattermap": [
           {
            "marker": {
             "colorbar": {
              "outlinewidth": 0,
              "ticks": ""
             }
            },
            "type": "scattermap"
           }
          ],
          "scattermapbox": [
           {
            "marker": {
             "colorbar": {
              "outlinewidth": 0,
              "ticks": ""
             }
            },
            "type": "scattermapbox"
           }
          ],
          "scatterpolar": [
           {
            "marker": {
             "colorbar": {
              "outlinewidth": 0,
              "ticks": ""
             }
            },
            "type": "scatterpolar"
           }
          ],
          "scatterpolargl": [
           {
            "marker": {
             "colorbar": {
              "outlinewidth": 0,
              "ticks": ""
             }
            },
            "type": "scatterpolargl"
           }
          ],
          "scatterternary": [
           {
            "marker": {
             "colorbar": {
              "outlinewidth": 0,
              "ticks": ""
             }
            },
            "type": "scatterternary"
           }
          ],
          "surface": [
           {
            "colorbar": {
             "outlinewidth": 0,
             "ticks": ""
            },
            "colorscale": [
             [
              0,
              "#0d0887"
             ],
             [
              0.1111111111111111,
              "#46039f"
             ],
             [
              0.2222222222222222,
              "#7201a8"
             ],
             [
              0.3333333333333333,
              "#9c179e"
             ],
             [
              0.4444444444444444,
              "#bd3786"
             ],
             [
              0.5555555555555556,
              "#d8576b"
             ],
             [
              0.6666666666666666,
              "#ed7953"
             ],
             [
              0.7777777777777778,
              "#fb9f3a"
             ],
             [
              0.8888888888888888,
              "#fdca26"
             ],
             [
              1,
              "#f0f921"
             ]
            ],
            "type": "surface"
           }
          ],
          "table": [
           {
            "cells": {
             "fill": {
              "color": "#EBF0F8"
             },
             "line": {
              "color": "white"
             }
            },
            "header": {
             "fill": {
              "color": "#C8D4E3"
             },
             "line": {
              "color": "white"
             }
            },
            "type": "table"
           }
          ]
         },
         "layout": {
          "annotationdefaults": {
           "arrowcolor": "#2a3f5f",
           "arrowhead": 0,
           "arrowwidth": 1
          },
          "autotypenumbers": "strict",
          "coloraxis": {
           "colorbar": {
            "outlinewidth": 0,
            "ticks": ""
           }
          },
          "colorscale": {
           "diverging": [
            [
             0,
             "#8e0152"
            ],
            [
             0.1,
             "#c51b7d"
            ],
            [
             0.2,
             "#de77ae"
            ],
            [
             0.3,
             "#f1b6da"
            ],
            [
             0.4,
             "#fde0ef"
            ],
            [
             0.5,
             "#f7f7f7"
            ],
            [
             0.6,
             "#e6f5d0"
            ],
            [
             0.7,
             "#b8e186"
            ],
            [
             0.8,
             "#7fbc41"
            ],
            [
             0.9,
             "#4d9221"
            ],
            [
             1,
             "#276419"
            ]
           ],
           "sequential": [
            [
             0,
             "#0d0887"
            ],
            [
             0.1111111111111111,
             "#46039f"
            ],
            [
             0.2222222222222222,
             "#7201a8"
            ],
            [
             0.3333333333333333,
             "#9c179e"
            ],
            [
             0.4444444444444444,
             "#bd3786"
            ],
            [
             0.5555555555555556,
             "#d8576b"
            ],
            [
             0.6666666666666666,
             "#ed7953"
            ],
            [
             0.7777777777777778,
             "#fb9f3a"
            ],
            [
             0.8888888888888888,
             "#fdca26"
            ],
            [
             1,
             "#f0f921"
            ]
           ],
           "sequentialminus": [
            [
             0,
             "#0d0887"
            ],
            [
             0.1111111111111111,
             "#46039f"
            ],
            [
             0.2222222222222222,
             "#7201a8"
            ],
            [
             0.3333333333333333,
             "#9c179e"
            ],
            [
             0.4444444444444444,
             "#bd3786"
            ],
            [
             0.5555555555555556,
             "#d8576b"
            ],
            [
             0.6666666666666666,
             "#ed7953"
            ],
            [
             0.7777777777777778,
             "#fb9f3a"
            ],
            [
             0.8888888888888888,
             "#fdca26"
            ],
            [
             1,
             "#f0f921"
            ]
           ]
          },
          "colorway": [
           "#636efa",
           "#EF553B",
           "#00cc96",
           "#ab63fa",
           "#FFA15A",
           "#19d3f3",
           "#FF6692",
           "#B6E880",
           "#FF97FF",
           "#FECB52"
          ],
          "font": {
           "color": "#2a3f5f"
          },
          "geo": {
           "bgcolor": "white",
           "lakecolor": "white",
           "landcolor": "#E5ECF6",
           "showlakes": true,
           "showland": true,
           "subunitcolor": "white"
          },
          "hoverlabel": {
           "align": "left"
          },
          "hovermode": "closest",
          "mapbox": {
           "style": "light"
          },
          "paper_bgcolor": "white",
          "plot_bgcolor": "#E5ECF6",
          "polar": {
           "angularaxis": {
            "gridcolor": "white",
            "linecolor": "white",
            "ticks": ""
           },
           "bgcolor": "#E5ECF6",
           "radialaxis": {
            "gridcolor": "white",
            "linecolor": "white",
            "ticks": ""
           }
          },
          "scene": {
           "xaxis": {
            "backgroundcolor": "#E5ECF6",
            "gridcolor": "white",
            "gridwidth": 2,
            "linecolor": "white",
            "showbackground": true,
            "ticks": "",
            "zerolinecolor": "white"
           },
           "yaxis": {
            "backgroundcolor": "#E5ECF6",
            "gridcolor": "white",
            "gridwidth": 2,
            "linecolor": "white",
            "showbackground": true,
            "ticks": "",
            "zerolinecolor": "white"
           },
           "zaxis": {
            "backgroundcolor": "#E5ECF6",
            "gridcolor": "white",
            "gridwidth": 2,
            "linecolor": "white",
            "showbackground": true,
            "ticks": "",
            "zerolinecolor": "white"
           }
          },
          "shapedefaults": {
           "line": {
            "color": "#2a3f5f"
           }
          },
          "ternary": {
           "aaxis": {
            "gridcolor": "white",
            "linecolor": "white",
            "ticks": ""
           },
           "baxis": {
            "gridcolor": "white",
            "linecolor": "white",
            "ticks": ""
           },
           "bgcolor": "#E5ECF6",
           "caxis": {
            "gridcolor": "white",
            "linecolor": "white",
            "ticks": ""
           }
          },
          "title": {
           "x": 0.05
          },
          "xaxis": {
           "automargin": true,
           "gridcolor": "white",
           "linecolor": "white",
           "ticks": "",
           "title": {
            "standoff": 15
           },
           "zerolinecolor": "white",
           "zerolinewidth": 2
          },
          "yaxis": {
           "automargin": true,
           "gridcolor": "white",
           "linecolor": "white",
           "ticks": "",
           "title": {
            "standoff": 15
           },
           "zerolinecolor": "white",
           "zerolinewidth": 2
          }
         }
        },
        "width": 550,
        "xaxis": {
         "title": {
          "text": "A @ secret"
         }
        },
        "yaxis": {
         "title": {
          "text": "Frequency"
         }
        }
       }
      }
     },
     "metadata": {},
     "output_type": "display_data"
    },
    {
     "data": {
      "application/vnd.plotly.v1+json": {
       "config": {
        "plotlyServerURL": "https://plot.ly"
       },
       "data": [
        {
         "marker": {
          "color": "rgba(255, 100, 100, 0.7)",
          "line": {
           "color": "black",
           "width": 1
          }
         },
         "type": "histogram",
         "x": {
          "bdata": "AAAAAAAAAAAAAAAAAADwvwAAAAAAAAAAAAAAAAAAAAAAAAAAAAAAAAAAAAAAAAAAAAAAAAAA8D8AAAAAAAAAwAAAAAAAAPA/AAAAAAAA8D8AAAAAAAAAAAAAAAAAAPA/AAAAAAAAAEAAAAAAAAAAwAAAAAAAAPA/AAAAAAAA8L8AAAAAAAAAQAAAAAAAAPC/AAAAAAAAAAAAAAAAAAAAQAAAAAAAAPC/AAAAAAAA8L8AAAAAAADwPwAAAAAAAABAAAAAAAAAAAAAAAAAAADwvwAAAAAAAAAAAAAAAAAA8D8AAAAAAADwvwAAAAAAAPA/AAAAAAAAAMAAAAAAAADwPwAAAAAAAPA/AAAAAAAA8D8AAAAAAADwvwAAAAAAAAAAAAAAAAAAAAAAAAAAAAAAAAAAAAAAAAAAAAAAAAAAAAAAAAAAAAAAAAAAAAAAAPC/AAAAAAAAAAAAAAAAAADwPwAAAAAAAPC/AAAAAAAAAAAAAAAAAADwPwAAAAAAAPA/AAAAAAAAAAAAAAAAAADwPwAAAAAAAAAAAAAAAAAA8L8AAAAAAADwvwAAAAAAAPA/AAAAAAAA8D8AAAAAAADwPwAAAAAAAAAAAAAAAAAA8D8AAAAAAADwvwAAAAAAAAAAAAAAAAAA8D8AAAAAAAAAAAAAAAAAAABAAAAAAAAA8D8AAAAAAADwPwAAAAAAAAAAAAAAAAAA8L8AAAAAAADwPwAAAAAAAPC/AAAAAAAAAAAAAAAAAADwvwAAAAAAAPA/AAAAAAAA8D8AAAAAAADwvwAAAAAAAPA/AAAAAAAA8L8AAAAAAAAAAAAAAAAAAPC/AAAAAAAAAAAAAAAAAAAAAAAAAAAAAAAAAAAAAAAA8L8AAAAAAADwvwAAAAAAAPA/AAAAAAAA8L8AAAAAAADwvwAAAAAAAPC/AAAAAAAAAAAAAAAAAAAAAAAAAAAAAAAAAAAAAAAA8L8AAAAAAAAAwAAAAAAAAAAAAAAAAAAA8L8AAAAAAAAAAAAAAAAAAPA/AAAAAAAA8L8AAAAAAADwvwAAAAAAAPA/AAAAAAAAAAA=",
          "dtype": "f8"
         },
         "xbins": {
          "end": 3,
          "size": 100,
          "start": -2
         }
        }
       ],
       "layout": {
        "bargap": 0.2,
        "height": 400,
        "margin": {
         "b": 20,
         "l": 20,
         "r": 20,
         "t": 10
        },
        "showlegend": false,
        "template": {
         "data": {
          "bar": [
           {
            "error_x": {
             "color": "#2a3f5f"
            },
            "error_y": {
             "color": "#2a3f5f"
            },
            "marker": {
             "line": {
              "color": "#E5ECF6",
              "width": 0.5
             },
             "pattern": {
              "fillmode": "overlay",
              "size": 10,
              "solidity": 0.2
             }
            },
            "type": "bar"
           }
          ],
          "barpolar": [
           {
            "marker": {
             "line": {
              "color": "#E5ECF6",
              "width": 0.5
             },
             "pattern": {
              "fillmode": "overlay",
              "size": 10,
              "solidity": 0.2
             }
            },
            "type": "barpolar"
           }
          ],
          "carpet": [
           {
            "aaxis": {
             "endlinecolor": "#2a3f5f",
             "gridcolor": "white",
             "linecolor": "white",
             "minorgridcolor": "white",
             "startlinecolor": "#2a3f5f"
            },
            "baxis": {
             "endlinecolor": "#2a3f5f",
             "gridcolor": "white",
             "linecolor": "white",
             "minorgridcolor": "white",
             "startlinecolor": "#2a3f5f"
            },
            "type": "carpet"
           }
          ],
          "choropleth": [
           {
            "colorbar": {
             "outlinewidth": 0,
             "ticks": ""
            },
            "type": "choropleth"
           }
          ],
          "contour": [
           {
            "colorbar": {
             "outlinewidth": 0,
             "ticks": ""
            },
            "colorscale": [
             [
              0,
              "#0d0887"
             ],
             [
              0.1111111111111111,
              "#46039f"
             ],
             [
              0.2222222222222222,
              "#7201a8"
             ],
             [
              0.3333333333333333,
              "#9c179e"
             ],
             [
              0.4444444444444444,
              "#bd3786"
             ],
             [
              0.5555555555555556,
              "#d8576b"
             ],
             [
              0.6666666666666666,
              "#ed7953"
             ],
             [
              0.7777777777777778,
              "#fb9f3a"
             ],
             [
              0.8888888888888888,
              "#fdca26"
             ],
             [
              1,
              "#f0f921"
             ]
            ],
            "type": "contour"
           }
          ],
          "contourcarpet": [
           {
            "colorbar": {
             "outlinewidth": 0,
             "ticks": ""
            },
            "type": "contourcarpet"
           }
          ],
          "heatmap": [
           {
            "colorbar": {
             "outlinewidth": 0,
             "ticks": ""
            },
            "colorscale": [
             [
              0,
              "#0d0887"
             ],
             [
              0.1111111111111111,
              "#46039f"
             ],
             [
              0.2222222222222222,
              "#7201a8"
             ],
             [
              0.3333333333333333,
              "#9c179e"
             ],
             [
              0.4444444444444444,
              "#bd3786"
             ],
             [
              0.5555555555555556,
              "#d8576b"
             ],
             [
              0.6666666666666666,
              "#ed7953"
             ],
             [
              0.7777777777777778,
              "#fb9f3a"
             ],
             [
              0.8888888888888888,
              "#fdca26"
             ],
             [
              1,
              "#f0f921"
             ]
            ],
            "type": "heatmap"
           }
          ],
          "histogram": [
           {
            "marker": {
             "pattern": {
              "fillmode": "overlay",
              "size": 10,
              "solidity": 0.2
             }
            },
            "type": "histogram"
           }
          ],
          "histogram2d": [
           {
            "colorbar": {
             "outlinewidth": 0,
             "ticks": ""
            },
            "colorscale": [
             [
              0,
              "#0d0887"
             ],
             [
              0.1111111111111111,
              "#46039f"
             ],
             [
              0.2222222222222222,
              "#7201a8"
             ],
             [
              0.3333333333333333,
              "#9c179e"
             ],
             [
              0.4444444444444444,
              "#bd3786"
             ],
             [
              0.5555555555555556,
              "#d8576b"
             ],
             [
              0.6666666666666666,
              "#ed7953"
             ],
             [
              0.7777777777777778,
              "#fb9f3a"
             ],
             [
              0.8888888888888888,
              "#fdca26"
             ],
             [
              1,
              "#f0f921"
             ]
            ],
            "type": "histogram2d"
           }
          ],
          "histogram2dcontour": [
           {
            "colorbar": {
             "outlinewidth": 0,
             "ticks": ""
            },
            "colorscale": [
             [
              0,
              "#0d0887"
             ],
             [
              0.1111111111111111,
              "#46039f"
             ],
             [
              0.2222222222222222,
              "#7201a8"
             ],
             [
              0.3333333333333333,
              "#9c179e"
             ],
             [
              0.4444444444444444,
              "#bd3786"
             ],
             [
              0.5555555555555556,
              "#d8576b"
             ],
             [
              0.6666666666666666,
              "#ed7953"
             ],
             [
              0.7777777777777778,
              "#fb9f3a"
             ],
             [
              0.8888888888888888,
              "#fdca26"
             ],
             [
              1,
              "#f0f921"
             ]
            ],
            "type": "histogram2dcontour"
           }
          ],
          "mesh3d": [
           {
            "colorbar": {
             "outlinewidth": 0,
             "ticks": ""
            },
            "type": "mesh3d"
           }
          ],
          "parcoords": [
           {
            "line": {
             "colorbar": {
              "outlinewidth": 0,
              "ticks": ""
             }
            },
            "type": "parcoords"
           }
          ],
          "pie": [
           {
            "automargin": true,
            "type": "pie"
           }
          ],
          "scatter": [
           {
            "fillpattern": {
             "fillmode": "overlay",
             "size": 10,
             "solidity": 0.2
            },
            "type": "scatter"
           }
          ],
          "scatter3d": [
           {
            "line": {
             "colorbar": {
              "outlinewidth": 0,
              "ticks": ""
             }
            },
            "marker": {
             "colorbar": {
              "outlinewidth": 0,
              "ticks": ""
             }
            },
            "type": "scatter3d"
           }
          ],
          "scattercarpet": [
           {
            "marker": {
             "colorbar": {
              "outlinewidth": 0,
              "ticks": ""
             }
            },
            "type": "scattercarpet"
           }
          ],
          "scattergeo": [
           {
            "marker": {
             "colorbar": {
              "outlinewidth": 0,
              "ticks": ""
             }
            },
            "type": "scattergeo"
           }
          ],
          "scattergl": [
           {
            "marker": {
             "colorbar": {
              "outlinewidth": 0,
              "ticks": ""
             }
            },
            "type": "scattergl"
           }
          ],
          "scattermap": [
           {
            "marker": {
             "colorbar": {
              "outlinewidth": 0,
              "ticks": ""
             }
            },
            "type": "scattermap"
           }
          ],
          "scattermapbox": [
           {
            "marker": {
             "colorbar": {
              "outlinewidth": 0,
              "ticks": ""
             }
            },
            "type": "scattermapbox"
           }
          ],
          "scatterpolar": [
           {
            "marker": {
             "colorbar": {
              "outlinewidth": 0,
              "ticks": ""
             }
            },
            "type": "scatterpolar"
           }
          ],
          "scatterpolargl": [
           {
            "marker": {
             "colorbar": {
              "outlinewidth": 0,
              "ticks": ""
             }
            },
            "type": "scatterpolargl"
           }
          ],
          "scatterternary": [
           {
            "marker": {
             "colorbar": {
              "outlinewidth": 0,
              "ticks": ""
             }
            },
            "type": "scatterternary"
           }
          ],
          "surface": [
           {
            "colorbar": {
             "outlinewidth": 0,
             "ticks": ""
            },
            "colorscale": [
             [
              0,
              "#0d0887"
             ],
             [
              0.1111111111111111,
              "#46039f"
             ],
             [
              0.2222222222222222,
              "#7201a8"
             ],
             [
              0.3333333333333333,
              "#9c179e"
             ],
             [
              0.4444444444444444,
              "#bd3786"
             ],
             [
              0.5555555555555556,
              "#d8576b"
             ],
             [
              0.6666666666666666,
              "#ed7953"
             ],
             [
              0.7777777777777778,
              "#fb9f3a"
             ],
             [
              0.8888888888888888,
              "#fdca26"
             ],
             [
              1,
              "#f0f921"
             ]
            ],
            "type": "surface"
           }
          ],
          "table": [
           {
            "cells": {
             "fill": {
              "color": "#EBF0F8"
             },
             "line": {
              "color": "white"
             }
            },
            "header": {
             "fill": {
              "color": "#C8D4E3"
             },
             "line": {
              "color": "white"
             }
            },
            "type": "table"
           }
          ]
         },
         "layout": {
          "annotationdefaults": {
           "arrowcolor": "#2a3f5f",
           "arrowhead": 0,
           "arrowwidth": 1
          },
          "autotypenumbers": "strict",
          "coloraxis": {
           "colorbar": {
            "outlinewidth": 0,
            "ticks": ""
           }
          },
          "colorscale": {
           "diverging": [
            [
             0,
             "#8e0152"
            ],
            [
             0.1,
             "#c51b7d"
            ],
            [
             0.2,
             "#de77ae"
            ],
            [
             0.3,
             "#f1b6da"
            ],
            [
             0.4,
             "#fde0ef"
            ],
            [
             0.5,
             "#f7f7f7"
            ],
            [
             0.6,
             "#e6f5d0"
            ],
            [
             0.7,
             "#b8e186"
            ],
            [
             0.8,
             "#7fbc41"
            ],
            [
             0.9,
             "#4d9221"
            ],
            [
             1,
             "#276419"
            ]
           ],
           "sequential": [
            [
             0,
             "#0d0887"
            ],
            [
             0.1111111111111111,
             "#46039f"
            ],
            [
             0.2222222222222222,
             "#7201a8"
            ],
            [
             0.3333333333333333,
             "#9c179e"
            ],
            [
             0.4444444444444444,
             "#bd3786"
            ],
            [
             0.5555555555555556,
             "#d8576b"
            ],
            [
             0.6666666666666666,
             "#ed7953"
            ],
            [
             0.7777777777777778,
             "#fb9f3a"
            ],
            [
             0.8888888888888888,
             "#fdca26"
            ],
            [
             1,
             "#f0f921"
            ]
           ],
           "sequentialminus": [
            [
             0,
             "#0d0887"
            ],
            [
             0.1111111111111111,
             "#46039f"
            ],
            [
             0.2222222222222222,
             "#7201a8"
            ],
            [
             0.3333333333333333,
             "#9c179e"
            ],
            [
             0.4444444444444444,
             "#bd3786"
            ],
            [
             0.5555555555555556,
             "#d8576b"
            ],
            [
             0.6666666666666666,
             "#ed7953"
            ],
            [
             0.7777777777777778,
             "#fb9f3a"
            ],
            [
             0.8888888888888888,
             "#fdca26"
            ],
            [
             1,
             "#f0f921"
            ]
           ]
          },
          "colorway": [
           "#636efa",
           "#EF553B",
           "#00cc96",
           "#ab63fa",
           "#FFA15A",
           "#19d3f3",
           "#FF6692",
           "#B6E880",
           "#FF97FF",
           "#FECB52"
          ],
          "font": {
           "color": "#2a3f5f"
          },
          "geo": {
           "bgcolor": "white",
           "lakecolor": "white",
           "landcolor": "#E5ECF6",
           "showlakes": true,
           "showland": true,
           "subunitcolor": "white"
          },
          "hoverlabel": {
           "align": "left"
          },
          "hovermode": "closest",
          "mapbox": {
           "style": "light"
          },
          "paper_bgcolor": "white",
          "plot_bgcolor": "#E5ECF6",
          "polar": {
           "angularaxis": {
            "gridcolor": "white",
            "linecolor": "white",
            "ticks": ""
           },
           "bgcolor": "#E5ECF6",
           "radialaxis": {
            "gridcolor": "white",
            "linecolor": "white",
            "ticks": ""
           }
          },
          "scene": {
           "xaxis": {
            "backgroundcolor": "#E5ECF6",
            "gridcolor": "white",
            "gridwidth": 2,
            "linecolor": "white",
            "showbackground": true,
            "ticks": "",
            "zerolinecolor": "white"
           },
           "yaxis": {
            "backgroundcolor": "#E5ECF6",
            "gridcolor": "white",
            "gridwidth": 2,
            "linecolor": "white",
            "showbackground": true,
            "ticks": "",
            "zerolinecolor": "white"
           },
           "zaxis": {
            "backgroundcolor": "#E5ECF6",
            "gridcolor": "white",
            "gridwidth": 2,
            "linecolor": "white",
            "showbackground": true,
            "ticks": "",
            "zerolinecolor": "white"
           }
          },
          "shapedefaults": {
           "line": {
            "color": "#2a3f5f"
           }
          },
          "ternary": {
           "aaxis": {
            "gridcolor": "white",
            "linecolor": "white",
            "ticks": ""
           },
           "baxis": {
            "gridcolor": "white",
            "linecolor": "white",
            "ticks": ""
           },
           "bgcolor": "#E5ECF6",
           "caxis": {
            "gridcolor": "white",
            "linecolor": "white",
            "ticks": ""
           }
          },
          "title": {
           "x": 0.05
          },
          "xaxis": {
           "automargin": true,
           "gridcolor": "white",
           "linecolor": "white",
           "ticks": "",
           "title": {
            "standoff": 15
           },
           "zerolinecolor": "white",
           "zerolinewidth": 2
          },
          "yaxis": {
           "automargin": true,
           "gridcolor": "white",
           "linecolor": "white",
           "ticks": "",
           "title": {
            "standoff": 15
           },
           "zerolinecolor": "white",
           "zerolinewidth": 2
          }
         }
        },
        "width": 550,
        "xaxis": {
         "range": [
          -800,
          900
         ],
         "title": {
          "text": "Error"
         }
        },
        "yaxis": {
         "title": {
          "text": "Frequency"
         }
        }
       }
      }
     },
     "metadata": {},
     "output_type": "display_data"
    },
    {
     "data": {
      "application/vnd.plotly.v1+json": {
       "config": {
        "plotlyServerURL": "https://plot.ly"
       },
       "data": [
        {
         "marker": {
          "color": "rgba(100, 255, 100, 0.7)",
          "line": {
           "color": "black",
           "width": 1
          }
         },
         "type": "histogram",
         "x": {
          "bdata": "AAAAAAAQiMAAAAAAACBowAAAAAAA1JPAAAAAAACwjUAAAAAAAMB8wAAAAAAAUHZAAAAAAAD8l8AAAAAAAGBmQAAAAAAAZJdAAAAAAADMlMAAAAAAAMBaQAAAAAAAzJfAAAAAAADImUAAAAAAAHiSQAAAAAAAsIVAAAAAAAAgfkAAAAAAAPCDQAAAAAAADJBAAAAAAADAksAAAAAAAKCOQAAAAAAAKIzAAAAAAAAojkAAAAAAADyXwAAAAAAA7JPAAAAAAAB4gMAAAAAAADSSwAAAAAAAAHBAAAAAAAAIgsAAAAAAAISTwAAAAAAA2IHAAAAAAABklUAAAAAAAPSZQAAAAAAA8HfAAAAAAAAwjMAAAAAAAMiAwAAAAAAAeIHAAAAAAACAZ8AAAAAAAOB1QAAAAAAAgFDAAAAAAADQhEAAAAAAAHCMQAAAAAAAKJVAAAAAAABIlEAAAAAAAIyWwAAAAAAAmJbAAAAAAAAQcUAAAAAAAHySQAAAAAAAyI3AAAAAAABQikAAAAAAAFCEwAAAAAAA3JLAAAAAAAC0lUAAAAAAAPB9wAAAAAAAAI1AAAAAAADwmEAAAAAAAEiOQAAAAAAA2ITAAAAAAACEmcAAAAAAANBzwAAAAAAAiJPAAAAAAAAAccAAAAAAAMBvwAAAAAAAGIHAAAAAAADAaMAAAAAAANyUwAAAAAAAjJXAAAAAAAAYg0AAAAAAAAiOQAAAAAAAIH3AAAAAAABAU8AAAAAAACiMwAAAAAAAQGDAAAAAAADUmUAAAAAAAPiPwAAAAAAAgHzAAAAAAADAbEAAAAAAAABXwAAAAAAAQFTAAAAAAACoi8AAAAAAAJiVQAAAAAAAQGTAAAAAAACwgUAAAAAAAJiQQAAAAAAA6IjAAAAAAABga8AAAAAAAOCMQAAAAAAAGIxAAAAAAADIh0AAAAAAAKCZwAAAAAAA5JnAAAAAAABoikAAAAAAAEBrQAAAAAAAQFdAAAAAAADAbsAAAAAAALCHQAAAAAAAAPC/AAAAAAAoicAAAAAAAACIQAAAAAAALJNAAAAAAACAl8A=",
          "dtype": "f8"
         },
         "xbins": {
          "end": 1662,
          "size": 200,
          "start": -1657
         }
        }
       ],
       "layout": {
        "bargap": 0.2,
        "height": 400,
        "margin": {
         "b": 20,
         "l": 20,
         "r": 20,
         "t": 10
        },
        "showlegend": false,
        "template": {
         "data": {
          "bar": [
           {
            "error_x": {
             "color": "#2a3f5f"
            },
            "error_y": {
             "color": "#2a3f5f"
            },
            "marker": {
             "line": {
              "color": "#E5ECF6",
              "width": 0.5
             },
             "pattern": {
              "fillmode": "overlay",
              "size": 10,
              "solidity": 0.2
             }
            },
            "type": "bar"
           }
          ],
          "barpolar": [
           {
            "marker": {
             "line": {
              "color": "#E5ECF6",
              "width": 0.5
             },
             "pattern": {
              "fillmode": "overlay",
              "size": 10,
              "solidity": 0.2
             }
            },
            "type": "barpolar"
           }
          ],
          "carpet": [
           {
            "aaxis": {
             "endlinecolor": "#2a3f5f",
             "gridcolor": "white",
             "linecolor": "white",
             "minorgridcolor": "white",
             "startlinecolor": "#2a3f5f"
            },
            "baxis": {
             "endlinecolor": "#2a3f5f",
             "gridcolor": "white",
             "linecolor": "white",
             "minorgridcolor": "white",
             "startlinecolor": "#2a3f5f"
            },
            "type": "carpet"
           }
          ],
          "choropleth": [
           {
            "colorbar": {
             "outlinewidth": 0,
             "ticks": ""
            },
            "type": "choropleth"
           }
          ],
          "contour": [
           {
            "colorbar": {
             "outlinewidth": 0,
             "ticks": ""
            },
            "colorscale": [
             [
              0,
              "#0d0887"
             ],
             [
              0.1111111111111111,
              "#46039f"
             ],
             [
              0.2222222222222222,
              "#7201a8"
             ],
             [
              0.3333333333333333,
              "#9c179e"
             ],
             [
              0.4444444444444444,
              "#bd3786"
             ],
             [
              0.5555555555555556,
              "#d8576b"
             ],
             [
              0.6666666666666666,
              "#ed7953"
             ],
             [
              0.7777777777777778,
              "#fb9f3a"
             ],
             [
              0.8888888888888888,
              "#fdca26"
             ],
             [
              1,
              "#f0f921"
             ]
            ],
            "type": "contour"
           }
          ],
          "contourcarpet": [
           {
            "colorbar": {
             "outlinewidth": 0,
             "ticks": ""
            },
            "type": "contourcarpet"
           }
          ],
          "heatmap": [
           {
            "colorbar": {
             "outlinewidth": 0,
             "ticks": ""
            },
            "colorscale": [
             [
              0,
              "#0d0887"
             ],
             [
              0.1111111111111111,
              "#46039f"
             ],
             [
              0.2222222222222222,
              "#7201a8"
             ],
             [
              0.3333333333333333,
              "#9c179e"
             ],
             [
              0.4444444444444444,
              "#bd3786"
             ],
             [
              0.5555555555555556,
              "#d8576b"
             ],
             [
              0.6666666666666666,
              "#ed7953"
             ],
             [
              0.7777777777777778,
              "#fb9f3a"
             ],
             [
              0.8888888888888888,
              "#fdca26"
             ],
             [
              1,
              "#f0f921"
             ]
            ],
            "type": "heatmap"
           }
          ],
          "histogram": [
           {
            "marker": {
             "pattern": {
              "fillmode": "overlay",
              "size": 10,
              "solidity": 0.2
             }
            },
            "type": "histogram"
           }
          ],
          "histogram2d": [
           {
            "colorbar": {
             "outlinewidth": 0,
             "ticks": ""
            },
            "colorscale": [
             [
              0,
              "#0d0887"
             ],
             [
              0.1111111111111111,
              "#46039f"
             ],
             [
              0.2222222222222222,
              "#7201a8"
             ],
             [
              0.3333333333333333,
              "#9c179e"
             ],
             [
              0.4444444444444444,
              "#bd3786"
             ],
             [
              0.5555555555555556,
              "#d8576b"
             ],
             [
              0.6666666666666666,
              "#ed7953"
             ],
             [
              0.7777777777777778,
              "#fb9f3a"
             ],
             [
              0.8888888888888888,
              "#fdca26"
             ],
             [
              1,
              "#f0f921"
             ]
            ],
            "type": "histogram2d"
           }
          ],
          "histogram2dcontour": [
           {
            "colorbar": {
             "outlinewidth": 0,
             "ticks": ""
            },
            "colorscale": [
             [
              0,
              "#0d0887"
             ],
             [
              0.1111111111111111,
              "#46039f"
             ],
             [
              0.2222222222222222,
              "#7201a8"
             ],
             [
              0.3333333333333333,
              "#9c179e"
             ],
             [
              0.4444444444444444,
              "#bd3786"
             ],
             [
              0.5555555555555556,
              "#d8576b"
             ],
             [
              0.6666666666666666,
              "#ed7953"
             ],
             [
              0.7777777777777778,
              "#fb9f3a"
             ],
             [
              0.8888888888888888,
              "#fdca26"
             ],
             [
              1,
              "#f0f921"
             ]
            ],
            "type": "histogram2dcontour"
           }
          ],
          "mesh3d": [
           {
            "colorbar": {
             "outlinewidth": 0,
             "ticks": ""
            },
            "type": "mesh3d"
           }
          ],
          "parcoords": [
           {
            "line": {
             "colorbar": {
              "outlinewidth": 0,
              "ticks": ""
             }
            },
            "type": "parcoords"
           }
          ],
          "pie": [
           {
            "automargin": true,
            "type": "pie"
           }
          ],
          "scatter": [
           {
            "fillpattern": {
             "fillmode": "overlay",
             "size": 10,
             "solidity": 0.2
            },
            "type": "scatter"
           }
          ],
          "scatter3d": [
           {
            "line": {
             "colorbar": {
              "outlinewidth": 0,
              "ticks": ""
             }
            },
            "marker": {
             "colorbar": {
              "outlinewidth": 0,
              "ticks": ""
             }
            },
            "type": "scatter3d"
           }
          ],
          "scattercarpet": [
           {
            "marker": {
             "colorbar": {
              "outlinewidth": 0,
              "ticks": ""
             }
            },
            "type": "scattercarpet"
           }
          ],
          "scattergeo": [
           {
            "marker": {
             "colorbar": {
              "outlinewidth": 0,
              "ticks": ""
             }
            },
            "type": "scattergeo"
           }
          ],
          "scattergl": [
           {
            "marker": {
             "colorbar": {
              "outlinewidth": 0,
              "ticks": ""
             }
            },
            "type": "scattergl"
           }
          ],
          "scattermap": [
           {
            "marker": {
             "colorbar": {
              "outlinewidth": 0,
              "ticks": ""
             }
            },
            "type": "scattermap"
           }
          ],
          "scattermapbox": [
           {
            "marker": {
             "colorbar": {
              "outlinewidth": 0,
              "ticks": ""
             }
            },
            "type": "scattermapbox"
           }
          ],
          "scatterpolar": [
           {
            "marker": {
             "colorbar": {
              "outlinewidth": 0,
              "ticks": ""
             }
            },
            "type": "scatterpolar"
           }
          ],
          "scatterpolargl": [
           {
            "marker": {
             "colorbar": {
              "outlinewidth": 0,
              "ticks": ""
             }
            },
            "type": "scatterpolargl"
           }
          ],
          "scatterternary": [
           {
            "marker": {
             "colorbar": {
              "outlinewidth": 0,
              "ticks": ""
             }
            },
            "type": "scatterternary"
           }
          ],
          "surface": [
           {
            "colorbar": {
             "outlinewidth": 0,
             "ticks": ""
            },
            "colorscale": [
             [
              0,
              "#0d0887"
             ],
             [
              0.1111111111111111,
              "#46039f"
             ],
             [
              0.2222222222222222,
              "#7201a8"
             ],
             [
              0.3333333333333333,
              "#9c179e"
             ],
             [
              0.4444444444444444,
              "#bd3786"
             ],
             [
              0.5555555555555556,
              "#d8576b"
             ],
             [
              0.6666666666666666,
              "#ed7953"
             ],
             [
              0.7777777777777778,
              "#fb9f3a"
             ],
             [
              0.8888888888888888,
              "#fdca26"
             ],
             [
              1,
              "#f0f921"
             ]
            ],
            "type": "surface"
           }
          ],
          "table": [
           {
            "cells": {
             "fill": {
              "color": "#EBF0F8"
             },
             "line": {
              "color": "white"
             }
            },
            "header": {
             "fill": {
              "color": "#C8D4E3"
             },
             "line": {
              "color": "white"
             }
            },
            "type": "table"
           }
          ]
         },
         "layout": {
          "annotationdefaults": {
           "arrowcolor": "#2a3f5f",
           "arrowhead": 0,
           "arrowwidth": 1
          },
          "autotypenumbers": "strict",
          "coloraxis": {
           "colorbar": {
            "outlinewidth": 0,
            "ticks": ""
           }
          },
          "colorscale": {
           "diverging": [
            [
             0,
             "#8e0152"
            ],
            [
             0.1,
             "#c51b7d"
            ],
            [
             0.2,
             "#de77ae"
            ],
            [
             0.3,
             "#f1b6da"
            ],
            [
             0.4,
             "#fde0ef"
            ],
            [
             0.5,
             "#f7f7f7"
            ],
            [
             0.6,
             "#e6f5d0"
            ],
            [
             0.7,
             "#b8e186"
            ],
            [
             0.8,
             "#7fbc41"
            ],
            [
             0.9,
             "#4d9221"
            ],
            [
             1,
             "#276419"
            ]
           ],
           "sequential": [
            [
             0,
             "#0d0887"
            ],
            [
             0.1111111111111111,
             "#46039f"
            ],
            [
             0.2222222222222222,
             "#7201a8"
            ],
            [
             0.3333333333333333,
             "#9c179e"
            ],
            [
             0.4444444444444444,
             "#bd3786"
            ],
            [
             0.5555555555555556,
             "#d8576b"
            ],
            [
             0.6666666666666666,
             "#ed7953"
            ],
            [
             0.7777777777777778,
             "#fb9f3a"
            ],
            [
             0.8888888888888888,
             "#fdca26"
            ],
            [
             1,
             "#f0f921"
            ]
           ],
           "sequentialminus": [
            [
             0,
             "#0d0887"
            ],
            [
             0.1111111111111111,
             "#46039f"
            ],
            [
             0.2222222222222222,
             "#7201a8"
            ],
            [
             0.3333333333333333,
             "#9c179e"
            ],
            [
             0.4444444444444444,
             "#bd3786"
            ],
            [
             0.5555555555555556,
             "#d8576b"
            ],
            [
             0.6666666666666666,
             "#ed7953"
            ],
            [
             0.7777777777777778,
             "#fb9f3a"
            ],
            [
             0.8888888888888888,
             "#fdca26"
            ],
            [
             1,
             "#f0f921"
            ]
           ]
          },
          "colorway": [
           "#636efa",
           "#EF553B",
           "#00cc96",
           "#ab63fa",
           "#FFA15A",
           "#19d3f3",
           "#FF6692",
           "#B6E880",
           "#FF97FF",
           "#FECB52"
          ],
          "font": {
           "color": "#2a3f5f"
          },
          "geo": {
           "bgcolor": "white",
           "lakecolor": "white",
           "landcolor": "#E5ECF6",
           "showlakes": true,
           "showland": true,
           "subunitcolor": "white"
          },
          "hoverlabel": {
           "align": "left"
          },
          "hovermode": "closest",
          "mapbox": {
           "style": "light"
          },
          "paper_bgcolor": "white",
          "plot_bgcolor": "#E5ECF6",
          "polar": {
           "angularaxis": {
            "gridcolor": "white",
            "linecolor": "white",
            "ticks": ""
           },
           "bgcolor": "#E5ECF6",
           "radialaxis": {
            "gridcolor": "white",
            "linecolor": "white",
            "ticks": ""
           }
          },
          "scene": {
           "xaxis": {
            "backgroundcolor": "#E5ECF6",
            "gridcolor": "white",
            "gridwidth": 2,
            "linecolor": "white",
            "showbackground": true,
            "ticks": "",
            "zerolinecolor": "white"
           },
           "yaxis": {
            "backgroundcolor": "#E5ECF6",
            "gridcolor": "white",
            "gridwidth": 2,
            "linecolor": "white",
            "showbackground": true,
            "ticks": "",
            "zerolinecolor": "white"
           },
           "zaxis": {
            "backgroundcolor": "#E5ECF6",
            "gridcolor": "white",
            "gridwidth": 2,
            "linecolor": "white",
            "showbackground": true,
            "ticks": "",
            "zerolinecolor": "white"
           }
          },
          "shapedefaults": {
           "line": {
            "color": "#2a3f5f"
           }
          },
          "ternary": {
           "aaxis": {
            "gridcolor": "white",
            "linecolor": "white",
            "ticks": ""
           },
           "baxis": {
            "gridcolor": "white",
            "linecolor": "white",
            "ticks": ""
           },
           "bgcolor": "#E5ECF6",
           "caxis": {
            "gridcolor": "white",
            "linecolor": "white",
            "ticks": ""
           }
          },
          "title": {
           "x": 0.05
          },
          "xaxis": {
           "automargin": true,
           "gridcolor": "white",
           "linecolor": "white",
           "ticks": "",
           "title": {
            "standoff": 15
           },
           "zerolinecolor": "white",
           "zerolinewidth": 2
          },
          "yaxis": {
           "automargin": true,
           "gridcolor": "white",
           "linecolor": "white",
           "ticks": "",
           "title": {
            "standoff": 15
           },
           "zerolinecolor": "white",
           "zerolinewidth": 2
          }
         }
        },
        "width": 550,
        "xaxis": {
         "title": {
          "text": "B mod q"
         }
        },
        "yaxis": {
         "title": {
          "text": "Frequency"
         }
        }
       }
      }
     },
     "metadata": {},
     "output_type": "display_data"
    }
   ],
   "source": [
    "A = dataset.get_A()\n",
    "B = dataset.get_B()\n",
    "secret = dataset.get_secret()\n",
    "\n",
    "# Check if A @ secret == B\n",
    "A_s = A @ secret\n",
    "\n",
    "layout = go.Layout(\n",
    "        yaxis=dict(title='Frequency'),\n",
    " #       xaxis=dict(range=[-3e3, 3e3]),\n",
    "        bargap=0.2,\n",
    "        margin=dict(l=20, r=20, t=10, b=20),\n",
    "        width=550,\n",
    "        height=400,\n",
    "        showlegend=False,\n",
    "        title=None\n",
    "    )\n",
    "\n",
    "# Plot distribution of A_s\n",
    "fig1 = go.Figure(layout=layout)\n",
    "fig1.add_trace(go.Histogram(\n",
    "  x=A_s.flatten(),\n",
    "  xbins=dict(start=int(A_s.min()), end=int(A_s.max()) + 1, size=1000),\n",
    "  marker=dict(color='rgba(100, 150, 255, 0.7)', line=dict(color='black', width=1))\n",
    "))\n",
    "fig1.update_layout(\n",
    "  xaxis_title='A @ secret',\n",
    ")\n",
    "fig1.show()\n",
    "\n",
    "# Compute error vector e\n",
    "e = B - A_s\n",
    "e %= params['q']\n",
    "e[e > params['q'] // 2] -= params['q']\n",
    "\n",
    "# Plot distribution of Error Vector (e)\n",
    "fig2 = go.Figure(layout=layout)\n",
    "fig2.add_trace(go.Histogram(\n",
    "  x=e.flatten(),\n",
    "  xbins=dict(start=int(e.min()), end=int(e.max()) + 1, size=100),\n",
    "  marker=dict(color='rgba(255, 100, 100, 0.7)', line=dict(color='black', width=1))\n",
    "))\n",
    "fig2.update_layout(\n",
    "  xaxis_title='Error',\n",
    "  xaxis=dict(range=[-800, 900])\n",
    ")\n",
    "fig2.show()\n",
    "\n",
    "# Plot distribution of B\n",
    "fig3 = go.Figure(layout=layout)\n",
    "fig3.add_trace(go.Histogram(\n",
    "  x=B.flatten(),\n",
    "  xbins=dict(start=int(B.min()), end=int(B.max()) + 1, size=200),\n",
    "  marker=dict(color='rgba(100, 255, 100, 0.7)', line=dict(color='black', width=1))\n",
    "))\n",
    "fig3.update_layout(\n",
    "  xaxis_title='B mod q',\n",
    ")\n",
    "fig3.show()\n",
    "\n",
    "save_plots = True\n",
    "if save_plots:\n",
    "    fig1.write_image(\"A_s_cbd_distr.pdf\")\n",
    "    fig2.write_image(\"error_cbd_distr.pdf\")\n",
    "    fig3.write_image(\"B_cbd_distr.pdf\")"
   ]
  },
  {
   "cell_type": "code",
   "execution_count": 42,
   "metadata": {},
   "outputs": [
    {
     "name": "stdout",
     "output_type": "stream",
     "text": [
      "True B in candidate set: 97 / 100 (97.00%)\n",
      "True B is the best candidate: 9 / 100 (9.00%)\n"
     ]
    }
   ],
   "source": [
    "dataset.approximate_b()\n",
    "\n",
    "in_candidates = 0\n",
    "exact_candidates = 0\n",
    "\n",
    "secret = dataset.get_secret()\n",
    "A = dataset.get_A()\n",
    "B = dataset.get_B()\n",
    "\n",
    "for i in range(params['n']):\n",
    "    a_i = A[i]\n",
    "    b_i = B[i]\n",
    "    e_i = (b_i - a_i @ secret) % dataset.mlwe.q\n",
    "    e_i = e_i if e_i <= dataset.mlwe.q // 2 else e_i - dataset.mlwe.q\n",
    "    true_b = a_i @ secret + e_i\n",
    "\n",
    "    candidates = dataset.b_candidates[i]\n",
    "    probs = dataset.b_probs[i]\n",
    "\n",
    "    if true_b in candidates:\n",
    "        in_candidates += 1\n",
    "\n",
    "    if true_b == candidates[np.argmax(probs)]:\n",
    "        exact_candidates += 1\n",
    "\n",
    "length = params['n']\n",
    "print(f\"True B in candidate set: {in_candidates} / {length} ({100 * in_candidates / length:.2f}%)\")\n",
    "print(f\"True B is the best candidate: {exact_candidates} / {length} ({100 * exact_candidates / length:.2f}%)\")"
   ]
  },
  {
   "cell_type": "markdown",
   "metadata": {},
   "source": [
    "## A distribution"
   ]
  },
  {
   "cell_type": "code",
   "execution_count": 16,
   "metadata": {},
   "outputs": [
    {
     "name": "stdout",
     "output_type": "stream",
     "text": [
      "Empirical mean std of R@A: 23311241.08\n",
      "Theoretical std: 18565074.63\n",
      "Ratio (empirical/theoretical): 1.2557\n"
     ]
    }
   ],
   "source": [
    "import numpy as np\n",
    "\n",
    "# Parameters setup\n",
    "num_trials = 10000\n",
    "stds = []\n",
    "params = {\n",
    "    'n': 100,       # matrix dimension\n",
    "    'q': 3329,      # modulus\n",
    "}\n",
    "\n",
    "# Fixed random matrix R (n x n)\n",
    "random_matrix = np.random.randint(0, params['q'], size=(params['n'], params['n']))\n",
    "\n",
    "# Precompute row norms for theoretical calculation\n",
    "row_norms = np.linalg.norm(random_matrix, axis=1)  # ||r_i|| for each row\n",
    "average_squared_row_norm = np.mean(row_norms**2)   # E[||r_i||^2]\n",
    "\n",
    "# Theoretical std calculation (using our derivation)\n",
    "theoretical_std = (params['q'] / np.sqrt(12)) * np.sqrt(average_squared_row_norm)\n",
    "\n",
    "for _ in range(num_trials):\n",
    "    # Generate random A matrix (n x n) with uniform entries in [0, q-1]\n",
    "    A_tmp = np.random.randint(0, params['q'], size=(params['n'], params['n']))\n",
    "    \n",
    "    # Compute matrix product R @ A\n",
    "    product = random_matrix @ A_tmp\n",
    "    \n",
    "    # Compute std of all entries in the product matrix\n",
    "    stds.append(np.std(product))\n",
    "\n",
    "# Empirical mean of stds\n",
    "mean_empirical_std = np.mean(stds)\n",
    "\n",
    "print(f\"Empirical mean std of R@A: {mean_empirical_std:.2f}\")\n",
    "print(f\"Theoretical std: {theoretical_std:.2f}\")\n",
    "print(f\"Ratio (empirical/theoretical): {mean_empirical_std/theoretical_std:.4f}\")"
   ]
  },
  {
   "cell_type": "code",
   "execution_count": null,
   "metadata": {},
   "outputs": [
    {
     "data": {
      "text/plain": [
       "1.0"
      ]
     },
     "execution_count": 25,
     "metadata": {},
     "output_type": "execute_result"
    }
   ],
   "source": [
    "from ml_attack.utils import get_vector_distribution\n",
    "\n",
    "params = {\n",
    "  'n': 100,\n",
    "  'eta': 3\n",
    "}\n",
    "\n",
    "delta_0 = 1.01\n",
    "q = 3329\n",
    "w = 4\n",
    "R_norm = 100\n",
    "\n",
    "p = 0.8\n",
    "\n",
    "\n",
    "float(get_vector_distribution(params, \"cbd\")[2] / get_vector_distribution(params, \"cbd\")[2])"
   ]
  }
 ],
 "metadata": {
  "kernelspec": {
   "display_name": "mlwe",
   "language": "python",
   "name": "python3"
  },
  "language_info": {
   "codemirror_mode": {
    "name": "ipython",
    "version": 3
   },
   "file_extension": ".py",
   "mimetype": "text/x-python",
   "name": "python",
   "nbconvert_exporter": "python",
   "pygments_lexer": "ipython3",
   "version": "3.12.9"
  }
 },
 "nbformat": 4,
 "nbformat_minor": 2
}
