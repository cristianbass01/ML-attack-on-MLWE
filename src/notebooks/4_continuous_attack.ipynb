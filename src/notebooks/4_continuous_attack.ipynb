{
 "cells": [
  {
   "cell_type": "markdown",
   "metadata": {},
   "source": [
    "# Training Notebook"
   ]
  },
  {
   "cell_type": "code",
   "execution_count": null,
   "metadata": {},
   "outputs": [],
   "source": [
    "import sys\n",
    "import os\n",
    "\n",
    "# Add the parent directory to sys.path\n",
    "sys.path.append(os.path.abspath(os.path.join(os.getcwd(), '..')))\n",
    "\n",
    "from ml_attack import get_no_mod, LWEDataset, get_filename_from_params\n",
    "from ml_attack.utils import get_continuous_reduction_default_params, get_default_params, get_percentage_true_b, get_train_default_params, cmod\n",
    "\n",
    "import numpy as np\n",
    "\n",
    "from scipy.linalg import circulant\n",
    "from ml_attack.lwe import neg_circ\n",
    "\n",
    "from ml_attack.continuous_reduction import ContinuousReduction\n",
    "from concurrent.futures import ProcessPoolExecutor\n",
    "\n",
    "from itertools import product\n",
    "\n",
    "np.set_printoptions(linewidth=np.inf)"
   ]
  },
  {
   "cell_type": "markdown",
   "metadata": {},
   "source": [
    "## Dataset creation"
   ]
  },
  {
   "cell_type": "markdown",
   "metadata": {},
   "source": [
    "Training debug:"
   ]
  },
  {
   "cell_type": "code",
   "execution_count": 2,
   "metadata": {},
   "outputs": [
    {
     "name": "stdout",
     "output_type": "stream",
     "text": [
      "Generating dataset and saving to ./data_n_128_k_1_s_binary_d74b6.pkl\n",
      "Attacking 7 matrices using 8 threads.\n",
      "- Algo: bkz2.0_20 | Updated 198/198 | Mean std_B: 3896.30\n",
      "- Algo: bkz2.0_20 | Updated 198/198 | Mean std_B: 3907.79\n",
      "- Algo: bkz2.0_20 | Updated 198/198 | Mean std_B: 3937.26\n",
      "- Algo: bkz2.0_20 | Updated 198/198 | Mean std_B: 3932.59\n",
      "- Algo: bkz2.0_20 | Updated 229/229 | Mean std_B: 3272.94\n",
      "- Algo: bkz2.0_20 | Updated 198/198 | Mean std_B: 3939.11\n",
      "- Algo: bkz2.0_20 | Updated 214/214 | Mean std_B: 3677.96\n",
      "Tour 1 | Time: 53.22s | Mean std_B: 3782.26\n",
      "[BEST 10% STD] True B is the best candidate: 58 / 143 (40.56%)\n",
      "[BEST 10% STD] Expected true B is best candidate: 40.51%\n"
     ]
    },
    {
     "name": "stderr",
     "output_type": "stream",
     "text": [
      "Extension for Scikit-learn* enabled (https://github.com/uxlfoundation/scikit-learn-intelex)\n"
     ]
    },
    {
     "name": "stdout",
     "output_type": "stream",
     "text": [
      "✔️ Patched scikit-learn (once).\n",
      "[BEST 25% STD] True B is the best candidate: 143 / 358 (39.94%)\n",
      "[BEST 25% STD] Expected true B is best candidate: 38.55%\n",
      "True B is the best candidate: 506 / 1433 (35.31%)\n",
      "Expected true B is best candidate: 34.51%\n",
      "b'infinite loop in babai'\n",
      "Upgrading float type to ld\n",
      "b'infinite loop in babai'\n",
      "Upgrading float type to ld\n",
      "b'infinite loop in babai'\n",
      "Upgrading float type to ld\n",
      "b'infinite loop in babai'\n",
      "Upgrading float type to ld\n",
      "b'infinite loop in babai'\n",
      "Upgrading float type to ld\n",
      "b'infinite loop in babai'\n",
      "Upgrading float type to ld\n",
      "b'infinite loop in babai'\n",
      "Upgrading float type to ld\n",
      "- Algo: bkz2.0_20 | Updated 235/235 | Mean std_B: 3012.77\n",
      "- Algo: bkz2.0_20 | Updated 241/241 | Mean std_B: 2768.69\n",
      "- Algo: bkz2.0_20 | Updated 233/233 | Mean std_B: 3055.92\n",
      "- Algo: bkz2.0_20 | Updated 246/246 | Mean std_B: 2665.86\n",
      "- Algo: bkz2.0_20 | Updated 246/246 | Mean std_B: 2623.69\n",
      "- Algo: bkz2.0_20 | Updated 245/245 | Mean std_B: 2591.44\n",
      "- Algo: bkz2.0_20 | Updated 249/249 | Mean std_B: 2456.65\n",
      "- Algo: bkz2.0_20 | Updated 241/242 | Mean std_B: 2710.80\n",
      "- Algo: bkz2.0_20 | Updated 249/249 | Mean std_B: 2486.58\n",
      "- Algo: bkz2.0_20 | Updated 242/242 | Mean std_B: 2752.37\n",
      "- Algo: bkz2.0_20 | Updated 247/249 | Mean std_B: 2481.18\n",
      "- Algo: bkz2.0_20 | Updated 250/250 | Mean std_B: 2432.42\n",
      "- Algo: bkz2.0_20 | Updated 250/250 | Mean std_B: 2387.37\n",
      "- Algo: bkz2.0_20 | Updated 249/251 | Mean std_B: 2322.39\n",
      "Tour 2 | Time: 236.11s | Mean std_B: 2555.87\n",
      "[BEST 10% STD] True B is the best candidate: 159 / 280 (56.79%)\n",
      "[BEST 10% STD] Expected true B is best candidate: 55.58%\n",
      "[BEST 25% STD] True B is the best candidate: 378 / 700 (54.00%)\n",
      "[BEST 25% STD] Expected true B is best candidate: 53.96%\n",
      "True B is the best candidate: 1362 / 2800 (48.64%)\n",
      "Expected true B is best candidate: 49.00%\n",
      "- Algo: bkz2.0_20 | Updated 247/250 | Mean std_B: 2472.89\n",
      "- Algo: bkz2.0_20 | Updated 236/254 | Mean std_B: 2249.07\n",
      "- Algo: bkz2.0_20 | Updated 230/255 | Mean std_B: 2201.03\n",
      "- Algo: bkz2.0_20 | Updated 243/254 | Mean std_B: 2318.28\n",
      "- Algo: bkz2.0_20 | Updated 239/246 | Mean std_B: 2559.29\n",
      "- Algo: bkz2.0_20 | Updated 235/253 | Mean std_B: 2293.97\n",
      "- Algo: bkz2.0_20 | Updated 233/251 | Mean std_B: 2319.13\n",
      "- Algo: bkz2.0_20 | Updated 241/251 | Mean std_B: 2323.80\n",
      "- Algo: bkz2.0_20 | Updated 214/256 | Mean std_B: 2173.39\n",
      "- Algo: bkz2.0_20 | Updated 199/256 | Mean std_B: 2150.97\n",
      "- Algo: bkz2.0_20 | Updated 228/255 | Mean std_B: 2170.68\n",
      "- Algo: bkz2.0_20 | Updated 223/254 | Mean std_B: 2228.10\n",
      "- Algo: bkz2.0_20 | Updated 240/250 | Mean std_B: 2356.76\n",
      "- Algo: bkz2.0_20 | Updated 241/256 | Mean std_B: 2171.75\n",
      "Tour 3 | Time: 377.90s | Mean std_B: 2207.12\n",
      "[BEST 10% STD] True B is the best candidate: 158 / 280 (56.43%)\n",
      "[BEST 10% STD] Expected true B is best candidate: 61.01%\n",
      "[BEST 25% STD] True B is the best candidate: 406 / 700 (58.00%)\n",
      "[BEST 25% STD] Expected true B is best candidate: 59.35%\n",
      "True B is the best candidate: 1569 / 2800 (56.04%)\n",
      "Expected true B is best candidate: 55.40%\n",
      "- Algo: bkz2.0_20 | Updated 225/252 | Mean std_B: 2229.91\n",
      "- Algo: bkz2.0_20 | Updated 214/256 | Mean std_B: 2097.27\n",
      "- Algo: bkz2.0_20 | Updated 188/257 | Mean std_B: 2067.12\n",
      "- Algo: bkz2.0_20 | Updated 208/256 | Mean std_B: 2137.21\n",
      "- Algo: bkz2.0_20 | Updated 200/258 | Mean std_B: 2095.13\n",
      "- Algo: bkz2.0_20 | Updated 233/254 | Mean std_B: 2242.80\n",
      "- Algo: bkz2.0_20 | Updated 218/257 | Mean std_B: 2105.55\n",
      "- Algo: bkz2.0_20 | Updated 185/258 | Mean std_B: 2044.24\n",
      "- Algo: bkz2.0_20 | Updated 181/258 | Mean std_B: 2039.75\n",
      "- Algo: bkz2.0_20 | Updated 201/255 | Mean std_B: 2177.82\n",
      "- Algo: bkz2.0_20 | Updated 189/255 | Mean std_B: 2191.27\n",
      "- Algo: bkz2.0_20 | Updated 168/258 | Mean std_B: 2028.15\n",
      "- Algo: bkz2.0_20 | Updated 177/256 | Mean std_B: 2117.94\n",
      "- Algo: bkz2.0_20 | Updated 182/257 | Mean std_B: 2069.53\n",
      "Tour 4 | Time: 511.41s | Mean std_B: 2026.46\n",
      "[BEST 10% STD] True B is the best candidate: 182 / 280 (65.00%)\n",
      "[BEST 10% STD] Expected true B is best candidate: 64.02%\n",
      "[BEST 25% STD] True B is the best candidate: 449 / 700 (64.14%)\n",
      "[BEST 25% STD] Expected true B is best candidate: 62.22%\n",
      "True B is the best candidate: 1686 / 2800 (60.21%)\n",
      "Expected true B is best candidate: 58.99%\n",
      "- Algo: bkz2.0_20 | Updated 153/257 | Mean std_B: 2072.22\n",
      "- Algo: bkz2.0_20 | Updated 168/255 | Mean std_B: 2151.29\n",
      "- Algo: bkz2.0_20 | Updated 150/258 | Mean std_B: 2006.51\n",
      "- Algo: bkz2.0_20 | Updated 189/257 | Mean std_B: 2102.58\n",
      "- Algo: bkz2.0_20 | Updated 140/259 | Mean std_B: 1998.00\n",
      "- Algo: bkz2.0_20 | Updated 156/257 | Mean std_B: 2021.42\n",
      "- Algo: bkz2.0_20 | Updated 170/258 | Mean std_B: 2002.15\n",
      "- Algo: bkz2.0_20 | Updated 161/258 | Mean std_B: 2006.80\n",
      "- Algo: bkz2.0_20 | Updated 140/259 | Mean std_B: 1974.58\n",
      "- Algo: bkz2.0_20 | Updated 148/259 | Mean std_B: 1938.94\n",
      "- Algo: bkz2.0_20 | Updated 167/257 | Mean std_B: 2072.60\n",
      "- Algo: bkz2.0_20 | Updated 155/257 | Mean std_B: 2084.61\n",
      "- Algo: bkz2.0_20 | Updated 149/258 | Mean std_B: 1988.30\n",
      "- Algo: bkz2.0_20 | Updated 150/258 | Mean std_B: 1983.70\n",
      "Tour 5 | Time: 649.32s | Mean std_B: 1917.66\n",
      "[BEST 10% STD] True B is the best candidate: 174 / 280 (62.14%)\n",
      "[BEST 10% STD] Expected true B is best candidate: 66.74%\n",
      "[BEST 25% STD] True B is the best candidate: 453 / 700 (64.71%)\n",
      "[BEST 25% STD] Expected true B is best candidate: 64.96%\n",
      "True B is the best candidate: 1741 / 2800 (62.18%)\n",
      "Expected true B is best candidate: 61.52%\n",
      "- Algo: bkz2.0_20 | Updated 137/258 | Mean std_B: 1961.98\n",
      "- Algo: bkz2.0_20 | Updated 155/259 | Mean std_B: 1972.77\n",
      "- Algo: bkz2.0_20 | Updated 145/258 | Mean std_B: 2028.93\n",
      "- Algo: bkz2.0_20 | Updated 149/257 | Mean std_B: 2052.26\n",
      "- Algo: bkz2.0_20 | Updated 132/260 | Mean std_B: 1922.70\n",
      "- Algo: bkz2.0_20 | Updated 131/258 | Mean std_B: 1952.53\n",
      "- Algo: bkz2.0_20 | Updated 132/260 | Mean std_B: 1930.31\n",
      "- Algo: bkz2.0_20 | Updated 135/260 | Mean std_B: 1939.26\n",
      "- Algo: bkz2.0_20 | Updated 128/258 | Mean std_B: 2018.51\n",
      "- Algo: bkz2.0_20 | Updated 110/259 | Mean std_B: 1938.72\n",
      "- Algo: bkz2.0_20 | Updated 135/257 | Mean std_B: 2009.63\n",
      "- Algo: bkz2.0_20 | Updated 113/260 | Mean std_B: 1897.53\n",
      "- Algo: bkz2.0_20 | Updated 111/260 | Mean std_B: 1938.44\n",
      "- Algo: bkz2.0_20 | Updated 136/261 | Mean std_B: 1880.79\n",
      "Tour 6 | Time: 786.51s | Mean std_B: 1838.43\n",
      "[BEST 10% STD] True B is the best candidate: 178 / 280 (63.57%)\n",
      "[BEST 10% STD] Expected true B is best candidate: 68.66%\n",
      "[BEST 25% STD] True B is the best candidate: 459 / 700 (65.57%)\n",
      "[BEST 25% STD] Expected true B is best candidate: 66.86%\n",
      "True B is the best candidate: 1789 / 2800 (63.89%)\n",
      "Expected true B is best candidate: 63.54%\n",
      "- Algo: bkz2.0_20 | Updated 109/260 | Mean std_B: 1927.92\n",
      "- Algo: bkz2.0_20 | Updated 139/257 | Mean std_B: 1969.39\n",
      "- Algo: bkz2.0_20 | Updated 116/260 | Mean std_B: 1858.62\n",
      "- Algo: bkz2.0_20 | Updated 131/261 | Mean std_B: 1854.98\n",
      "- Algo: bkz2.0_20 | Updated 139/260 | Mean std_B: 1966.81\n",
      "- Algo: bkz2.0_20 | Updated 116/261 | Mean std_B: 1901.72\n",
      "- Algo: bkz2.0_20 | Updated 108/261 | Mean std_B: 1909.84\n",
      "- Algo: bkz2.0_20 | Updated 124/260 | Mean std_B: 1891.51\n",
      "- Algo: bkz2.0_20 | Updated 127/259 | Mean std_B: 1935.17\n",
      "- Algo: bkz2.0_20 | Updated 115/261 | Mean std_B: 1830.77\n",
      "- Algo: bkz2.0_20 | Updated 62/260 | Mean std_B: 1885.66\n",
      "- Algo: bkz2.0_20 | Updated 136/260 | Mean std_B: 1922.64\n",
      "- Algo: bkz2.0_20 | Updated 102/261 | Mean std_B: 1892.06\n",
      "- Algo: bkz2.0_20 | Updated 119/261 | Mean std_B: 1872.19\n",
      "Tour 7 | Time: 930.08s | Mean std_B: 1774.63\n",
      "[BEST 10% STD] True B is the best candidate: 204 / 280 (72.86%)\n",
      "[BEST 10% STD] Expected true B is best candidate: 70.64%\n",
      "[BEST 25% STD] True B is the best candidate: 489 / 700 (69.86%)\n",
      "[BEST 25% STD] Expected true B is best candidate: 68.52%\n",
      "True B is the best candidate: 1882 / 2800 (67.21%)\n",
      "Expected true B is best candidate: 65.44%\n",
      "b'infinite loop in babai'\n",
      "Upgrading float type to dd\n",
      "- Algo: bkz2.0_20 | Updated 77/260 | Mean std_B: 1864.39\n",
      "- Algo: bkz2.0_20 | Updated 95/260 | Mean std_B: 1893.16\n",
      "- Algo: bkz2.0_20 | Updated 121/261 | Mean std_B: 1884.69\n",
      "- Algo: bkz2.0_20 | Updated 87/261 | Mean std_B: 1877.60\n",
      "- Algo: bkz2.0_20 | Updated 90/261 | Mean std_B: 1830.56\n",
      "- Algo: bkz2.0_20 | Updated 98/259 | Mean std_B: 1937.41\n",
      "- Algo: bkz2.0_20 | Updated 107/261 | Mean std_B: 1853.30\n",
      "- Algo: bkz2.0_20 | Updated 69/260 | Mean std_B: 1858.97\n",
      "- Algo: bkz2.0_20 | Updated 73/260 | Mean std_B: 1890.89\n",
      "- Algo: bkz2.0_20 | Updated 111/261 | Mean std_B: 1875.54\n",
      "- Algo: bkz2.0_20 | Updated 87/262 | Mean std_B: 1818.75\n",
      "- Algo: bkz2.0_20 | Updated 86/261 | Mean std_B: 1851.50\n",
      "- Algo: bkz2.0_20 | Updated 110/261 | Mean std_B: 1888.13\n",
      "- Algo: bkz2.0_20 | Updated 103/261 | Mean std_B: 1836.48\n",
      "Tour 8 | Time: 1103.39s | Mean std_B: 1728.22\n",
      "[BEST 10% STD] True B is the best candidate: 212 / 280 (75.71%)\n",
      "[BEST 10% STD] Expected true B is best candidate: 71.79%\n",
      "[BEST 25% STD] True B is the best candidate: 495 / 700 (70.71%)\n",
      "[BEST 25% STD] Expected true B is best candidate: 69.93%\n",
      "True B is the best candidate: 1900 / 2800 (67.86%)\n",
      "Expected true B is best candidate: 66.65%\n",
      "- Algo: bkz2.0_20 | Updated 91/260 | Mean std_B: 1879.76\n",
      "- Algo: bkz2.0_20 | Updated 82/260 | Mean std_B: 1827.32\n",
      "- Algo: bkz2.0_20 | Updated 92/262 | Mean std_B: 1789.96\n",
      "- Algo: bkz2.0_20 | Updated 93/262 | Mean std_B: 1848.96\n",
      "- Algo: bkz2.0_20 | Updated 102/262 | Mean std_B: 1807.63\n",
      "- Algo: bkz2.0_20 | Updated 101/262 | Mean std_B: 1810.63\n",
      "- Algo: bkz2.0_20 | Updated 107/261 | Mean std_B: 1865.01\n",
      "- Algo: bkz2.0_20 | Updated 60/262 | Mean std_B: 1807.89\n",
      "- Algo: bkz2.0_20 | Updated 78/262 | Mean std_B: 1807.56\n",
      "- Algo: bkz2.0_20 | Updated 86/262 | Mean std_B: 1831.61\n",
      "- Algo: bkz2.0_20 | Updated 111/260 | Mean std_B: 1836.22\n",
      "- Algo: bkz2.0_20 | Updated 73/262 | Mean std_B: 1809.59\n",
      "- Algo: bkz2.0_20 | Updated 87/262 | Mean std_B: 1811.21\n",
      "- Algo: bkz2.0_20 | Updated 87/262 | Mean std_B: 1856.37\n",
      "Tour 9 | Time: 1238.39s | Mean std_B: 1686.76\n",
      "[BEST 10% STD] True B is the best candidate: 213 / 280 (76.07%)\n",
      "[BEST 10% STD] Expected true B is best candidate: 72.06%\n",
      "[BEST 25% STD] True B is the best candidate: 513 / 700 (73.29%)\n",
      "[BEST 25% STD] Expected true B is best candidate: 70.45%\n",
      "True B is the best candidate: 1911 / 2800 (68.25%)\n",
      "Expected true B is best candidate: 67.73%\n",
      "b'infinite loop in babai'\n",
      "Upgrading float type to dd\n",
      "- Algo: bkz2.0_20 | Updated 90/263 | Mean std_B: 1780.65\n",
      "- Algo: bkz2.0_20 | Updated 71/262 | Mean std_B: 1800.64\n",
      "- Algo: bkz2.0_20 | Updated 65/262 | Mean std_B: 1846.60\n",
      "- Algo: bkz2.0_20 | Updated 96/261 | Mean std_B: 1831.40\n",
      "- Algo: bkz2.0_20 | Updated 58/262 | Mean std_B: 1803.31\n",
      "- Algo: bkz2.0_20 | Updated 91/262 | Mean std_B: 1807.91\n",
      "- Algo: bkz2.0_20 | Updated 79/263 | Mean std_B: 1805.03\n",
      "- Algo: bkz2.0_20 | Updated 73/262 | Mean std_B: 1787.81\n",
      "- Algo: bkz2.0_20 | Updated 69/261 | Mean std_B: 1823.92\n",
      "- Algo: bkz2.0_20 | Updated 78/261 | Mean std_B: 1836.91\n",
      "- Algo: bkz2.0_20 | Updated 59/263 | Mean std_B: 1786.76\n",
      "- Algo: bkz2.0_20 | Updated 61/262 | Mean std_B: 1797.99\n",
      "- Algo: bkz2.0_20 | Updated 69/263 | Mean std_B: 1802.47\n",
      "- Algo: bkz2.0_20 | Updated 79/263 | Mean std_B: 1767.82\n",
      "Tour 10 | Time: 1385.35s | Mean std_B: 1655.07\n",
      "[BEST 10% STD] True B is the best candidate: 211 / 280 (75.36%)\n",
      "[BEST 10% STD] Expected true B is best candidate: 73.56%\n",
      "[BEST 25% STD] True B is the best candidate: 513 / 700 (73.29%)\n",
      "[BEST 25% STD] Expected true B is best candidate: 71.55%\n",
      "True B is the best candidate: 1929 / 2800 (68.89%)\n",
      "Expected true B is best candidate: 68.80%\n",
      "- Algo: bkz2.0_20 | Updated 73/263 | Mean std_B: 1787.99\n",
      "- Algo: bkz2.0_20 | Updated 67/262 | Mean std_B: 1825.12\n",
      "- Algo: bkz2.0_20 | Updated 60/262 | Mean std_B: 1779.38\n",
      "- Algo: bkz2.0_20 | Updated 88/262 | Mean std_B: 1799.32\n",
      "- Algo: bkz2.0_20 | Updated 59/263 | Mean std_B: 1775.16\n",
      "- Algo: bkz2.0_20 | Updated 60/262 | Mean std_B: 1783.24\n",
      "- Algo: bkz2.0_20 | Updated 61/263 | Mean std_B: 1787.93\n",
      "- Algo: bkz2.0_20 | Updated 67/263 | Mean std_B: 1774.02\n",
      "- Algo: bkz2.0_20 | Updated 58/262 | Mean std_B: 1786.91\n",
      "- Algo: bkz2.0_20 | Updated 72/262 | Mean std_B: 1787.35\n",
      "- Algo: bkz2.0_20 | Updated 41/262 | Mean std_B: 1789.69\n",
      "- Algo: bkz2.0_20 | Updated 68/262 | Mean std_B: 1792.07\n",
      "- Algo: bkz2.0_20 | Updated 66/263 | Mean std_B: 1768.04\n",
      "- Algo: bkz2.0_20 | Updated 73/263 | Mean std_B: 1750.15\n",
      "Tour 11 | Time: 1519.62s | Mean std_B: 1628.11\n",
      "[BEST 10% STD] True B is the best candidate: 210 / 280 (75.00%)\n",
      "[BEST 10% STD] Expected true B is best candidate: 74.55%\n",
      "[BEST 25% STD] True B is the best candidate: 514 / 700 (73.43%)\n",
      "[BEST 25% STD] Expected true B is best candidate: 72.35%\n",
      "True B is the best candidate: 1962 / 2800 (70.07%)\n",
      "Expected true B is best candidate: 69.54%\n",
      "- Algo: bkz2.0_20 | Updated 63/262 | Mean std_B: 1789.51\n",
      "- Algo: bkz2.0_20 | Updated 78/262 | Mean std_B: 1773.98\n",
      "- Algo: bkz2.0_20 | Updated 38/262 | Mean std_B: 1783.76\n",
      "- Algo: bkz2.0_20 | Updated 75/263 | Mean std_B: 1740.88\n",
      "- Algo: bkz2.0_20 | Updated 71/262 | Mean std_B: 1757.44\n",
      "- Algo: bkz2.0_20 | Updated 46/263 | Mean std_B: 1774.13\n",
      "- Algo: bkz2.0_20 | Updated 66/263 | Mean std_B: 1754.61\n",
      "- Algo: bkz2.0_20 | Updated 62/262 | Mean std_B: 1773.59\n",
      "- Algo: bkz2.0_20 | Updated 68/263 | Mean std_B: 1751.16\n",
      "- Algo: bkz2.0_20 | Updated 54/262 | Mean std_B: 1778.04\n",
      "- Algo: bkz2.0_20 | Updated 58/263 | Mean std_B: 1750.74\n",
      "- Algo: bkz2.0_20 | Updated 53/262 | Mean std_B: 1773.34\n",
      "- Algo: bkz2.0_20 | Updated 58/263 | Mean std_B: 1741.04\n",
      "- Algo: bkz2.0_20 | Updated 38/263 | Mean std_B: 1776.87\n",
      "Tour 12 | Time: 1658.77s | Mean std_B: 1605.52\n",
      "[BEST 10% STD] True B is the best candidate: 219 / 280 (78.21%)\n",
      "[BEST 10% STD] Expected true B is best candidate: 75.51%\n",
      "[BEST 25% STD] True B is the best candidate: 511 / 700 (73.00%)\n",
      "[BEST 25% STD] Expected true B is best candidate: 73.20%\n",
      "True B is the best candidate: 1976 / 2800 (70.57%)\n",
      "Expected true B is best candidate: 70.36%\n",
      "- Algo: bkz2.0_20 | Updated 46/263 | Mean std_B: 1752.72\n",
      "- Algo: bkz2.0_20 | Updated 47/262 | Mean std_B: 1775.91\n",
      "- Algo: bkz2.0_20 | Updated 67/263 | Mean std_B: 1724.43\n",
      "- Algo: bkz2.0_20 | Updated 43/263 | Mean std_B: 1766.79\n",
      "- Algo: bkz2.0_20 | Updated 59/264 | Mean std_B: 1734.13\n",
      "- Algo: bkz2.0_20 | Updated 42/262 | Mean std_B: 1767.00\n",
      "- Algo: bkz2.0_20 | Updated 76/262 | Mean std_B: 1756.49\n",
      "- Algo: bkz2.0_20 | Updated 57/264 | Mean std_B: 1720.61\n",
      "- Algo: bkz2.0_20 | Updated 51/262 | Mean std_B: 1768.30\n",
      "- Algo: bkz2.0_20 | Updated 54/263 | Mean std_B: 1732.77\n",
      "- Algo: bkz2.0_20 | Updated 41/264 | Mean std_B: 1736.64\n",
      "- Algo: bkz2.0_20 | Updated 40/263 | Mean std_B: 1758.09\n",
      "- Algo: bkz2.0_20 | Updated 53/263 | Mean std_B: 1746.89\n",
      "- Algo: bkz2.0_20 | Updated 80/262 | Mean std_B: 1747.40\n",
      "Tour 13 | Time: 1813.05s | Mean std_B: 1585.06\n",
      "[BEST 10% STD] True B is the best candidate: 215 / 280 (76.79%)\n",
      "[BEST 10% STD] Expected true B is best candidate: 76.66%\n",
      "[BEST 25% STD] True B is the best candidate: 525 / 700 (75.00%)\n",
      "[BEST 25% STD] Expected true B is best candidate: 74.22%\n",
      "True B is the best candidate: 1986 / 2800 (70.93%)\n",
      "Expected true B is best candidate: 70.93%\n",
      "- Algo: bkz2.0_20 | Updated 38/263 | Mean std_B: 1755.23\n",
      "- Algo: bkz2.0_20 | Updated 43/263 | Mean std_B: 1731.64\n",
      "- Algo: bkz2.0_20 | Updated 38/264 | Mean std_B: 1738.54\n",
      "- Algo: bkz2.0_20 | Updated 42/263 | Mean std_B: 1752.02\n",
      "- Algo: bkz2.0_20 | Updated 57/262 | Mean std_B: 1750.87\n",
      "- Algo: bkz2.0_20 | Updated 43/264 | Mean std_B: 1745.79\n",
      "- Algo: bkz2.0_20 | Updated 46/262 | Mean std_B: 1761.25\n",
      "- Algo: bkz2.0_20 | Updated 48/263 | Mean std_B: 1732.97\n",
      "- Algo: bkz2.0_20 | Updated 47/264 | Mean std_B: 1723.09\n",
      "- Algo: bkz2.0_20 | Updated 51/263 | Mean std_B: 1716.26\n",
      "- Algo: bkz2.0_20 | Updated 44/264 | Mean std_B: 1742.73\n",
      "- Algo: bkz2.0_20 | Updated 58/262 | Mean std_B: 1732.83\n",
      "- Algo: bkz2.0_20 | Updated 37/264 | Mean std_B: 1735.69\n",
      "- Algo: bkz2.0_20 | Updated 55/262 | Mean std_B: 1738.31\n",
      "Tour 14 | Time: 1952.64s | Mean std_B: 1568.49\n",
      "[BEST 10% STD] True B is the best candidate: 211 / 280 (75.36%)\n",
      "[BEST 10% STD] Expected true B is best candidate: 75.99%\n",
      "[BEST 25% STD] True B is the best candidate: 521 / 700 (74.43%)\n",
      "[BEST 25% STD] Expected true B is best candidate: 74.89%\n",
      "True B is the best candidate: 1999 / 2800 (71.39%)\n",
      "Expected true B is best candidate: 71.31%\n",
      "- Algo: bkz2.0_20 | Updated 45/262 | Mean std_B: 1741.82\n",
      "- Algo: bkz2.0_20 | Updated 44/263 | Mean std_B: 1719.81\n",
      "- Algo: bkz2.0_20 | Updated 49/264 | Mean std_B: 1718.10\n",
      "- Algo: bkz2.0_20 | Updated 41/263 | Mean std_B: 1741.73\n",
      "- Algo: bkz2.0_20 | Updated 41/263 | Mean std_B: 1750.74\n",
      "- Algo: bkz2.0_20 | Updated 42/264 | Mean std_B: 1712.19\n",
      "- Algo: bkz2.0_20 | Updated 42/264 | Mean std_B: 1726.02\n",
      "- Algo: bkz2.0_20 | Updated 53/263 | Mean std_B: 1719.42\n",
      "- Algo: bkz2.0_20 | Updated 35/263 | Mean std_B: 1724.16\n",
      "- Algo: bkz2.0_20 | Updated 42/263 | Mean std_B: 1739.92\n",
      "- Algo: bkz2.0_20 | Updated 47/264 | Mean std_B: 1711.64\n",
      "- Algo: bkz2.0_20 | Updated 47/263 | Mean std_B: 1736.02\n",
      "- Algo: bkz2.0_20 | Updated 44/264 | Mean std_B: 1709.20\n",
      "- Algo: bkz2.0_20 | Updated 47/264 | Mean std_B: 1700.41\n",
      "Tour 15 | Time: 2091.54s | Mean std_B: 1552.82\n",
      "[BEST 10% STD] True B is the best candidate: 206 / 280 (73.57%)\n",
      "[BEST 10% STD] Expected true B is best candidate: 76.32%\n",
      "[BEST 25% STD] True B is the best candidate: 529 / 700 (75.57%)\n",
      "[BEST 25% STD] Expected true B is best candidate: 75.10%\n",
      "True B is the best candidate: 2015 / 2800 (71.96%)\n",
      "Expected true B is best candidate: 71.86%\n",
      "b'infinite loop in babai'\n",
      "Upgrading float type to dd\n",
      "- Algo: bkz2.0_20 | Updated 51/263 | Mean std_B: 1712.47\n",
      "- Algo: bkz2.0_20 | Updated 27/264 | Mean std_B: 1728.65\n",
      "- Algo: bkz2.0_20 | Updated 33/264 | Mean std_B: 1715.36\n",
      "- Algo: bkz2.0_20 | Updated 56/264 | Mean std_B: 1697.72\n",
      "- Algo: bkz2.0_20 | Updated 62/263 | Mean std_B: 1709.66\n",
      "- Algo: bkz2.0_20 | Updated 31/263 | Mean std_B: 1715.05\n",
      "- Algo: bkz2.0_20 | Updated 37/263 | Mean std_B: 1735.60\n",
      "- Algo: bkz2.0_20 | Updated 46/263 | Mean std_B: 1708.31\n",
      "- Algo: bkz2.0_20 | Updated 36/264 | Mean std_B: 1719.90\n",
      "- Algo: bkz2.0_20 | Updated 55/264 | Mean std_B: 1683.71\n",
      "- Algo: bkz2.0_20 | Updated 43/264 | Mean std_B: 1711.21\n",
      "- Algo: bkz2.0_20 | Updated 33/264 | Mean std_B: 1707.84\n",
      "- Algo: bkz2.0_20 | Updated 38/263 | Mean std_B: 1708.90\n",
      "- Algo: bkz2.0_20 | Updated 34/263 | Mean std_B: 1745.51\n",
      "Tour 16 | Time: 2248.16s | Mean std_B: 1538.51\n",
      "[BEST 10% STD] True B is the best candidate: 214 / 280 (76.43%)\n",
      "[BEST 10% STD] Expected true B is best candidate: 76.80%\n",
      "[BEST 25% STD] True B is the best candidate: 534 / 700 (76.29%)\n",
      "[BEST 25% STD] Expected true B is best candidate: 75.52%\n",
      "True B is the best candidate: 2027 / 2800 (72.39%)\n",
      "Expected true B is best candidate: 72.37%\n",
      "- Algo: bkz2.0_20 | Updated 40/264 | Mean std_B: 1693.98\n",
      "- Algo: bkz2.0_20 | Updated 32/264 | Mean std_B: 1705.74\n",
      "- Algo: bkz2.0_20 | Updated 29/263 | Mean std_B: 1722.98\n",
      "- Algo: bkz2.0_20 | Updated 26/263 | Mean std_B: 1738.33\n",
      "- Algo: bkz2.0_20 | Updated 37/263 | Mean std_B: 1713.66\n",
      "- Algo: bkz2.0_20 | Updated 48/264 | Mean std_B: 1703.05\n",
      "- Algo: bkz2.0_20 | Updated 29/264 | Mean std_B: 1709.57\n",
      "- Algo: bkz2.0_20 | Updated 24/263 | Mean std_B: 1717.69\n",
      "- Algo: bkz2.0_20 | Updated 40/264 | Mean std_B: 1682.86\n",
      "- Algo: bkz2.0_20 | Updated 36/264 | Mean std_B: 1693.85\n",
      "- Algo: bkz2.0_20 | Updated 39/263 | Mean std_B: 1719.10\n",
      "- Algo: bkz2.0_20 | Updated 42/263 | Mean std_B: 1709.70\n",
      "- Algo: bkz2.0_20 | Updated 49/264 | Mean std_B: 1692.61\n",
      "- Algo: bkz2.0_20 | Updated 24/264 | Mean std_B: 1711.63\n",
      "Tour 17 | Time: 2391.78s | Mean std_B: 1526.58\n",
      "[BEST 10% STD] True B is the best candidate: 216 / 280 (77.14%)\n",
      "[BEST 10% STD] Expected true B is best candidate: 77.38%\n",
      "[BEST 25% STD] True B is the best candidate: 527 / 700 (75.29%)\n",
      "[BEST 25% STD] Expected true B is best candidate: 75.51%\n",
      "True B is the best candidate: 2035 / 2800 (72.68%)\n",
      "Expected true B is best candidate: 72.89%\n",
      "- Algo: bkz2.0_20 | Updated 27/263 | Mean std_B: 1706.11\n",
      "- Algo: bkz2.0_20 | Updated 27/263 | Mean std_B: 1726.97\n",
      "- Algo: bkz2.0_20 | Updated 33/264 | Mean std_B: 1691.54\n",
      "- Algo: bkz2.0_20 | Updated 39/264 | Mean std_B: 1703.84\n",
      "- Algo: bkz2.0_20 | Updated 57/264 | Mean std_B: 1673.72\n",
      "- Algo: bkz2.0_20 | Updated 24/264 | Mean std_B: 1710.56\n",
      "- Algo: bkz2.0_20 | Updated 31/263 | Mean std_B: 1708.08\n",
      "- Algo: bkz2.0_20 | Updated 31/263 | Mean std_B: 1728.04\n",
      "- Algo: bkz2.0_20 | Updated 27/262 | Mean std_B: 1712.82\n",
      "- Algo: bkz2.0_20 | Updated 34/264 | Mean std_B: 1683.98\n",
      "- Algo: bkz2.0_20 | Updated 45/264 | Mean std_B: 1668.95\n",
      "- Algo: bkz2.0_20 | Updated 24/264 | Mean std_B: 1696.64\n",
      "- Algo: bkz2.0_20 | Updated 23/264 | Mean std_B: 1705.75\n",
      "- Algo: bkz2.0_20 | Updated 34/263 | Mean std_B: 1697.91\n",
      "Tour 18 | Time: 2525.22s | Mean std_B: 1515.29\n",
      "[BEST 10% STD] True B is the best candidate: 220 / 280 (78.57%)\n",
      "[BEST 10% STD] Expected true B is best candidate: 77.63%\n",
      "[BEST 25% STD] True B is the best candidate: 534 / 700 (76.29%)\n",
      "[BEST 25% STD] Expected true B is best candidate: 76.08%\n",
      "True B is the best candidate: 2056 / 2800 (73.43%)\n",
      "Expected true B is best candidate: 73.21%\n",
      "- Algo: bkz2.0_20 | Updated 38/264 | Mean std_B: 1681.90\n",
      "- Algo: bkz2.0_20 | Updated 27/263 | Mean std_B: 1692.25\n",
      "- Algo: bkz2.0_20 | Updated 35/264 | Mean std_B: 1683.35\n",
      "- Algo: bkz2.0_20 | Updated 24/264 | Mean std_B: 1704.25\n",
      "- Algo: bkz2.0_20 | Updated 41/263 | Mean std_B: 1691.42\n",
      "- Algo: bkz2.0_20 | Updated 34/262 | Mean std_B: 1705.34\n",
      "- Algo: bkz2.0_20 | Updated 42/264 | Mean std_B: 1690.04\n",
      "- Algo: bkz2.0_20 | Updated 43/264 | Mean std_B: 1669.93\n",
      "- Algo: bkz2.0_20 | Updated 24/263 | Mean std_B: 1708.24\n",
      "- Algo: bkz2.0_20 | Updated 29/264 | Mean std_B: 1697.19\n",
      "- Algo: bkz2.0_20 | Updated 22/264 | Mean std_B: 1676.32\n",
      "- Algo: bkz2.0_20 | Updated 41/263 | Mean std_B: 1690.70\n",
      "- Algo: bkz2.0_20 | Updated 29/264 | Mean std_B: 1693.66\n",
      "- Algo: bkz2.0_20 | Updated 22/263 | Mean std_B: 1720.44\n",
      "Tour 19 | Time: 2658.45s | Mean std_B: 1505.13\n",
      "[BEST 10% STD] True B is the best candidate: 221 / 280 (78.93%)\n",
      "[BEST 10% STD] Expected true B is best candidate: 78.04%\n",
      "[BEST 25% STD] True B is the best candidate: 528 / 700 (75.43%)\n",
      "[BEST 25% STD] Expected true B is best candidate: 76.51%\n",
      "True B is the best candidate: 2048 / 2800 (73.14%)\n",
      "Expected true B is best candidate: 73.62%\n",
      "- Algo: bkz2.0_20 | Updated 27/264 | Mean std_B: 1671.91\n",
      "- Algo: bkz2.0_20 | Updated 23/264 | Mean std_B: 1678.83\n",
      "- Algo: bkz2.0_20 | Updated 30/263 | Mean std_B: 1696.05\n",
      "- Algo: bkz2.0_20 | Updated 45/264 | Mean std_B: 1676.12\n",
      "- Algo: bkz2.0_20 | Updated 22/263 | Mean std_B: 1711.37\n",
      "- Algo: bkz2.0_20 | Updated 25/264 | Mean std_B: 1696.73\n",
      "- Algo: bkz2.0_20 | Updated 23/263 | Mean std_B: 1710.83\n",
      "- Algo: bkz2.0_20 | Updated 32/264 | Mean std_B: 1672.99\n",
      "- Algo: bkz2.0_20 | Updated 29/264 | Mean std_B: 1680.38\n",
      "- Algo: bkz2.0_20 | Updated 24/264 | Mean std_B: 1669.62\n",
      "- Algo: bkz2.0_20 | Updated 36/264 | Mean std_B: 1685.23\n",
      "- Algo: bkz2.0_20 | Updated 25/263 | Mean std_B: 1687.68\n",
      "- Algo: bkz2.0_20 | Updated 24/264 | Mean std_B: 1688.68\n",
      "- Algo: bkz2.0_20 | Updated 19/263 | Mean std_B: 1697.71\n",
      "Tour 20 | Time: 2793.83s | Mean std_B: 1495.81\n",
      "[BEST 10% STD] True B is the best candidate: 225 / 280 (80.36%)\n",
      "[BEST 10% STD] Expected true B is best candidate: 78.43%\n",
      "[BEST 25% STD] True B is the best candidate: 536 / 700 (76.57%)\n",
      "[BEST 25% STD] Expected true B is best candidate: 77.00%\n",
      "True B is the best candidate: 2044 / 2800 (73.00%)\n",
      "Expected true B is best candidate: 73.99%\n",
      "- Algo: bkz2.0_20 | Updated 30/263 | Mean std_B: 1674.82\n",
      "- Algo: bkz2.0_20 | Updated 26/264 | Mean std_B: 1676.34\n",
      "- Algo: bkz2.0_20 | Updated 27/264 | Mean std_B: 1682.76\n",
      "- Algo: bkz2.0_20 | Updated 20/264 | Mean std_B: 1690.41\n",
      "- Algo: bkz2.0_20 | Updated 30/264 | Mean std_B: 1667.06\n",
      "- Algo: bkz2.0_20 | Updated 26/264 | Mean std_B: 1686.87\n",
      "- Algo: bkz2.0_20 | Updated 32/263 | Mean std_B: 1692.86\n",
      "- Algo: bkz2.0_20 | Updated 26/263 | Mean std_B: 1707.45\n",
      "- Algo: bkz2.0_20 | Updated 16/264 | Mean std_B: 1697.98\n",
      "- Algo: bkz2.0_20 | Updated 34/264 | Mean std_B: 1668.50\n",
      "- Algo: bkz2.0_20 | Updated 16/264 | Mean std_B: 1688.39\n",
      "- Updating BKZ block size from 20 to 25.\n",
      "- Algo: bkz2.0_20 | Updated 24/264 | Mean std_B: 1685.03\n",
      "- Algo: bkz2.0_20 | Updated 19/263 | Mean std_B: 1690.88\n",
      "- Algo: bkz2.0_20 | Updated 17/264 | Mean std_B: 1698.02\n",
      "Tour 21 | Time: 2932.22s | Mean std_B: 1488.73\n",
      "[BEST 10% STD] True B is the best candidate: 222 / 280 (79.29%)\n",
      "[BEST 10% STD] Expected true B is best candidate: 79.03%\n",
      "[BEST 25% STD] True B is the best candidate: 527 / 700 (75.29%)\n",
      "[BEST 25% STD] Expected true B is best candidate: 77.16%\n",
      "True B is the best candidate: 2046 / 2800 (73.07%)\n",
      "Expected true B is best candidate: 74.15%\n",
      "- Algo: bkz2.0_20 | Updated 30/263 | Mean std_B: 1687.15\n",
      "- Algo: bkz2.0_20 | Updated 22/264 | Mean std_B: 1678.29\n",
      "- Algo: bkz2.0_20 | Updated 27/263 | Mean std_B: 1684.30\n",
      "- Algo: bkz2.0_20 | Updated 21/264 | Mean std_B: 1679.38\n",
      "- Algo: bkz2.0_20 | Updated 29/264 | Mean std_B: 1675.74\n",
      "- Algo: bkz2.0_20 | Updated 32/264 | Mean std_B: 1680.28\n",
      "- Algo: bkz2.0_25 | Updated 16/264 | Mean std_B: 1679.41\n",
      "- Algo: bkz2.0_20 | Updated 18/263 | Mean std_B: 1690.22\n",
      "- Algo: bkz2.0_20 | Updated 20/264 | Mean std_B: 1678.20\n",
      "- Updating BKZ block size from 20 to 25.\n",
      "- Algo: bkz2.0_20 | Updated 34/264 | Mean std_B: 1674.14\n",
      "- Algo: bkz2.0_20 | Updated 19/264 | Mean std_B: 1692.82\n",
      "- Algo: bkz2.0_20 | Updated 15/263 | Mean std_B: 1688.15\n",
      "- Algo: bkz2.0_20 | Updated 24/264 | Mean std_B: 1673.02\n",
      "- Algo: bkz2.0_25 | Updated 29/264 | Mean std_B: 1686.73\n",
      "Tour 22 | Time: 3072.95s | Mean std_B: 1482.24\n",
      "[BEST 10% STD] True B is the best candidate: 217 / 280 (77.50%)\n",
      "[BEST 10% STD] Expected true B is best candidate: 78.76%\n",
      "[BEST 25% STD] True B is the best candidate: 531 / 700 (75.86%)\n",
      "[BEST 25% STD] Expected true B is best candidate: 76.94%\n",
      "True B is the best candidate: 2047 / 2800 (73.11%)\n",
      "Expected true B is best candidate: 74.16%\n",
      "- Algo: bkz2.0_25 | Updated 20/264 | Mean std_B: 1694.43\n",
      "- Algo: bkz2.0_20 | Updated 22/264 | Mean std_B: 1686.55\n",
      "- Algo: bkz2.0_25 | Updated 26/264 | Mean std_B: 1675.78\n",
      "- Algo: bkz2.0_20 | Updated 34/264 | Mean std_B: 1642.27\n",
      "- Algo: bkz2.0_20 | Updated 34/264 | Mean std_B: 1666.57\n",
      "- Algo: bkz2.0_20 | Updated 22/263 | Mean std_B: 1684.99\n",
      "- Algo: bkz2.0_20 | Updated 18/263 | Mean std_B: 1683.30\n",
      "b'infinite loop in babai'\n",
      "Upgrading float type to dd\n",
      "- Algo: bkz2.0_20 | Updated 15/264 | Mean std_B: 1695.40\n",
      "- Algo: bkz2.0_25 | Updated 24/264 | Mean std_B: 1676.93\n",
      "- Algo: bkz2.0_20 | Updated 29/264 | Mean std_B: 1645.83\n",
      "- Algo: bkz2.0_25 | Updated 15/264 | Mean std_B: 1702.51\n",
      "- Algo: bkz2.0_20 | Updated 18/263 | Mean std_B: 1682.67\n",
      "- Algo: bkz2.0_20 | Updated 21/263 | Mean std_B: 1693.80\n",
      "- Algo: bkz2.0_20 | Updated 22/264 | Mean std_B: 1652.92\n",
      "Tour 23 | Time: 3255.80s | Mean std_B: 1475.65\n",
      "[BEST 10% STD] True B is the best candidate: 214 / 280 (76.43%)\n",
      "[BEST 10% STD] Expected true B is best candidate: 78.85%\n",
      "[BEST 25% STD] True B is the best candidate: 533 / 700 (76.14%)\n",
      "[BEST 25% STD] Expected true B is best candidate: 77.27%\n",
      "True B is the best candidate: 2080 / 2800 (74.29%)\n",
      "Expected true B is best candidate: 74.45%\n",
      "- Algo: bkz2.0_20 | Updated 31/264 | Mean std_B: 1638.57\n",
      "- Algo: bkz2.0_20 | Updated 22/263 | Mean std_B: 1668.39\n",
      "- Updating BKZ block size from 20 to 25.\n",
      "- Algo: bkz2.0_20 | Updated 24/264 | Mean std_B: 1646.61\n",
      "- Algo: bkz2.0_20 | Updated 27/264 | Mean std_B: 1672.10\n",
      "- Algo: bkz2.0_25 | Updated 18/264 | Mean std_B: 1678.55\n",
      "- Algo: bkz2.0_20 | Updated 18/263 | Mean std_B: 1688.64\n",
      "- Updating BKZ block size from 20 to 25.\n",
      "- Algo: bkz2.0_25 | Updated 20/264 | Mean std_B: 1704.67\n",
      "- Algo: bkz2.0_20 | Updated 22/264 | Mean std_B: 1661.39\n",
      "- Algo: bkz2.0_25 | Updated 15/263 | Mean std_B: 1681.46\n",
      "- Algo: bkz2.0_20 | Updated 21/264 | Mean std_B: 1658.05\n",
      "- Algo: bkz2.0_20 | Updated 30/264 | Mean std_B: 1664.43\n",
      "- Algo: bkz2.0_25 | Updated 25/264 | Mean std_B: 1678.27\n",
      "- Updating BKZ block size from 25 to 30.\n",
      "- Algo: bkz2.0_25 | Updated 24/263 | Mean std_B: 1682.88\n",
      "- Algo: bkz2.0_25 | Updated 10/264 | Mean std_B: 1705.98\n",
      "- Updating BKZ block size from 25 to 30.\n",
      "Tour 24 | Time: 3400.23s | Mean std_B: 1469.50\n",
      "[BEST 10% STD] True B is the best candidate: 216 / 280 (77.14%)\n",
      "[BEST 10% STD] Expected true B is best candidate: 79.21%\n",
      "[BEST 25% STD] True B is the best candidate: 536 / 700 (76.57%)\n",
      "[BEST 25% STD] Expected true B is best candidate: 77.70%\n",
      "True B is the best candidate: 2073 / 2800 (74.04%)\n",
      "Expected true B is best candidate: 74.78%\n",
      "- Algo: bkz2.0_20 | Updated 9/264 | Mean std_B: 1672.28\n",
      "- Algo: bkz2.0_25 | Updated 12/263 | Mean std_B: 1704.30\n",
      "- Algo: bkz2.0_30 | Updated 29/264 | Mean std_B: 1667.64\n",
      "- Algo: bkz2.0_20 | Updated 21/264 | Mean std_B: 1653.10\n",
      "- Algo: bkz2.0_25 | Updated 21/263 | Mean std_B: 1699.32\n",
      "- Algo: bkz2.0_20 | Updated 22/264 | Mean std_B: 1666.00\n",
      "- Updating BKZ block size from 20 to 25.\n",
      "- Algo: bkz2.0_30 | Updated 10/264 | Mean std_B: 1715.52\n",
      "- Algo: bkz2.0_25 | Updated 10/263 | Mean std_B: 1713.84\n",
      "- Algo: bkz2.0_20 | Updated 16/264 | Mean std_B: 1649.41\n",
      "- Algo: bkz2.0_20 | Updated 15/264 | Mean std_B: 1675.19\n",
      "- Algo: bkz2.0_30 | Updated 24/264 | Mean std_B: 1678.14\n",
      "- Algo: bkz2.0_25 | Updated 14/263 | Mean std_B: 1693.75\n",
      "- Algo: bkz2.0_25 | Updated 21/264 | Mean std_B: 1661.67\n",
      "- Algo: bkz2.0_30 | Updated 11/264 | Mean std_B: 1712.18\n",
      "Tour 25 | Time: 3543.65s | Mean std_B: 1464.97\n",
      "[BEST 10% STD] True B is the best candidate: 215 / 280 (76.79%)\n",
      "[BEST 10% STD] Expected true B is best candidate: 79.58%\n",
      "[BEST 25% STD] True B is the best candidate: 539 / 700 (77.00%)\n",
      "[BEST 25% STD] Expected true B is best candidate: 77.87%\n",
      "True B is the best candidate: 2060 / 2800 (73.57%)\n",
      "Expected true B is best candidate: 74.93%\n",
      "- Algo: bkz2.0_25 | Updated 16/263 | Mean std_B: 1717.15\n",
      "- Updating BKZ block size from 25 to 30.\n",
      "- Algo: bkz2.0_20 | Updated 26/264 | Mean std_B: 1643.05\n",
      "- Updating BKZ block size from 20 to 25.\n",
      "- Algo: bkz2.0_25 | Updated 16/264 | Mean std_B: 1668.69\n",
      "- Algo: bkz2.0_20 | Updated 18/264 | Mean std_B: 1664.66\n",
      "- Algo: bkz2.0_30 | Updated 15/264 | Mean std_B: 1680.57\n",
      "- Algo: bkz2.0_25 | Updated 17/263 | Mean std_B: 1693.55\n",
      "- Updating BKZ block size from 25 to 30.\n",
      "- Algo: bkz2.0_30 | Updated 10/264 | Mean std_B: 1725.02\n"
     ]
    },
    {
     "ename": "KeyboardInterrupt",
     "evalue": "",
     "output_type": "error",
     "traceback": [
      "\u001b[0;31m---------------------------------------------------------------------------\u001b[0m",
      "\u001b[0;31mKeyboardInterrupt\u001b[0m                         Traceback (most recent call last)",
      "Cell \u001b[0;32mIn[2], line 38\u001b[0m\n\u001b[1;32m     36\u001b[0m dataset \u001b[38;5;241m=\u001b[39m LWEDataset(params)\n\u001b[1;32m     37\u001b[0m dataset\u001b[38;5;241m.\u001b[39minitialize()\n\u001b[0;32m---> 38\u001b[0m \u001b[43mdataset\u001b[49m\u001b[38;5;241;43m.\u001b[39;49m\u001b[43mattack\u001b[49m\u001b[43m(\u001b[49m\n\u001b[1;32m     39\u001b[0m \u001b[43m    \u001b[49m\u001b[43mstop_strategy\u001b[49m\u001b[38;5;241;43m=\u001b[39;49m\u001b[38;5;124;43m\"\u001b[39;49m\u001b[38;5;124;43mhour\u001b[39;49m\u001b[38;5;124;43m\"\u001b[39;49m\u001b[43m,\u001b[49m\n\u001b[1;32m     40\u001b[0m \u001b[43m    \u001b[49m\u001b[43mstop_after\u001b[49m\u001b[38;5;241;43m=\u001b[39;49m\u001b[38;5;241;43m1\u001b[39;49m\n\u001b[1;32m     41\u001b[0m \u001b[43m\u001b[49m\u001b[43m)\u001b[49m\n",
      "File \u001b[0;32m~/Documents/thesis/project/src/dataset/dataset.py:391\u001b[0m, in \u001b[0;36mLWEDataset.attack\u001b[0;34m(self, attack_strategy, attack_every, save_strategy, save_every, stop_strategy, stop_after, save_at_the_end)\u001b[0m\n\u001b[1;32m    389\u001b[0m R_reduced \u001b[38;5;241m=\u001b[39m []\n\u001b[1;32m    390\u001b[0m RC_reduced \u001b[38;5;241m=\u001b[39m []\n\u001b[0;32m--> 391\u001b[0m \u001b[43m\u001b[49m\u001b[38;5;28;43;01mfor\u001b[39;49;00m\u001b[43m \u001b[49m\u001b[43mi\u001b[49m\u001b[43m,\u001b[49m\u001b[43m \u001b[49m\u001b[43m(\u001b[49m\u001b[43mR\u001b[49m\u001b[43m,\u001b[49m\u001b[43m \u001b[49m\u001b[43marg\u001b[49m\u001b[43m)\u001b[49m\u001b[43m \u001b[49m\u001b[38;5;129;43;01min\u001b[39;49;00m\u001b[43m \u001b[49m\u001b[38;5;28;43menumerate\u001b[39;49m\u001b[43m(\u001b[49m\u001b[43mexecutor\u001b[49m\u001b[38;5;241;43m.\u001b[39;49m\u001b[43mmap\u001b[49m\u001b[43m(\u001b[49m\u001b[43mLWEDataset\u001b[49m\u001b[38;5;241;43m.\u001b[39;49m\u001b[43mcontinuous_reduction_wrapper\u001b[49m\u001b[43m,\u001b[49m\u001b[43m \u001b[49m\u001b[43margs\u001b[49m\u001b[43m)\u001b[49m\u001b[43m)\u001b[49m\u001b[43m:\u001b[49m\n\u001b[1;32m    392\u001b[0m \u001b[43m    \u001b[49m\u001b[43margs\u001b[49m\u001b[43m[\u001b[49m\u001b[43mi\u001b[49m\u001b[43m]\u001b[49m\u001b[43m \u001b[49m\u001b[38;5;241;43m=\u001b[39;49m\u001b[43m \u001b[49m\u001b[43marg\u001b[49m\n\u001b[1;32m    393\u001b[0m \u001b[43m    \u001b[49m\u001b[43mR_reduced\u001b[49m\u001b[38;5;241;43m.\u001b[39;49m\u001b[43mappend\u001b[49m\u001b[43m(\u001b[49m\u001b[43mR\u001b[49m\u001b[43m)\u001b[49m\n",
      "File \u001b[0;32m~/miniconda3/envs/mlwe/lib/python3.12/concurrent/futures/process.py:636\u001b[0m, in \u001b[0;36m_chain_from_iterable_of_lists\u001b[0;34m(iterable)\u001b[0m\n\u001b[1;32m    630\u001b[0m \u001b[38;5;28;01mdef\u001b[39;00m\u001b[38;5;250m \u001b[39m\u001b[38;5;21m_chain_from_iterable_of_lists\u001b[39m(iterable):\n\u001b[1;32m    631\u001b[0m \u001b[38;5;250m    \u001b[39m\u001b[38;5;124;03m\"\"\"\u001b[39;00m\n\u001b[1;32m    632\u001b[0m \u001b[38;5;124;03m    Specialized implementation of itertools.chain.from_iterable.\u001b[39;00m\n\u001b[1;32m    633\u001b[0m \u001b[38;5;124;03m    Each item in *iterable* should be a list.  This function is\u001b[39;00m\n\u001b[1;32m    634\u001b[0m \u001b[38;5;124;03m    careful not to keep references to yielded objects.\u001b[39;00m\n\u001b[1;32m    635\u001b[0m \u001b[38;5;124;03m    \"\"\"\u001b[39;00m\n\u001b[0;32m--> 636\u001b[0m \u001b[43m    \u001b[49m\u001b[38;5;28;43;01mfor\u001b[39;49;00m\u001b[43m \u001b[49m\u001b[43melement\u001b[49m\u001b[43m \u001b[49m\u001b[38;5;129;43;01min\u001b[39;49;00m\u001b[43m \u001b[49m\u001b[43miterable\u001b[49m\u001b[43m:\u001b[49m\n\u001b[1;32m    637\u001b[0m \u001b[43m        \u001b[49m\u001b[43melement\u001b[49m\u001b[38;5;241;43m.\u001b[39;49m\u001b[43mreverse\u001b[49m\u001b[43m(\u001b[49m\u001b[43m)\u001b[49m\n\u001b[1;32m    638\u001b[0m \u001b[43m        \u001b[49m\u001b[38;5;28;43;01mwhile\u001b[39;49;00m\u001b[43m \u001b[49m\u001b[43melement\u001b[49m\u001b[43m:\u001b[49m\n",
      "File \u001b[0;32m~/miniconda3/envs/mlwe/lib/python3.12/concurrent/futures/_base.py:619\u001b[0m, in \u001b[0;36mExecutor.map.<locals>.result_iterator\u001b[0;34m()\u001b[0m\n\u001b[1;32m    616\u001b[0m \u001b[38;5;28;01mwhile\u001b[39;00m fs:\n\u001b[1;32m    617\u001b[0m     \u001b[38;5;66;03m# Careful not to keep a reference to the popped future\u001b[39;00m\n\u001b[1;32m    618\u001b[0m     \u001b[38;5;28;01mif\u001b[39;00m timeout \u001b[38;5;129;01mis\u001b[39;00m \u001b[38;5;28;01mNone\u001b[39;00m:\n\u001b[0;32m--> 619\u001b[0m         \u001b[38;5;28;01myield\u001b[39;00m \u001b[43m_result_or_cancel\u001b[49m\u001b[43m(\u001b[49m\u001b[43mfs\u001b[49m\u001b[38;5;241;43m.\u001b[39;49m\u001b[43mpop\u001b[49m\u001b[43m(\u001b[49m\u001b[43m)\u001b[49m\u001b[43m)\u001b[49m\n\u001b[1;32m    620\u001b[0m     \u001b[38;5;28;01melse\u001b[39;00m:\n\u001b[1;32m    621\u001b[0m         \u001b[38;5;28;01myield\u001b[39;00m _result_or_cancel(fs\u001b[38;5;241m.\u001b[39mpop(), end_time \u001b[38;5;241m-\u001b[39m time\u001b[38;5;241m.\u001b[39mmonotonic())\n",
      "File \u001b[0;32m~/miniconda3/envs/mlwe/lib/python3.12/concurrent/futures/_base.py:317\u001b[0m, in \u001b[0;36m_result_or_cancel\u001b[0;34m(***failed resolving arguments***)\u001b[0m\n\u001b[1;32m    315\u001b[0m \u001b[38;5;28;01mtry\u001b[39;00m:\n\u001b[1;32m    316\u001b[0m     \u001b[38;5;28;01mtry\u001b[39;00m:\n\u001b[0;32m--> 317\u001b[0m         \u001b[38;5;28;01mreturn\u001b[39;00m \u001b[43mfut\u001b[49m\u001b[38;5;241;43m.\u001b[39;49m\u001b[43mresult\u001b[49m\u001b[43m(\u001b[49m\u001b[43mtimeout\u001b[49m\u001b[43m)\u001b[49m\n\u001b[1;32m    318\u001b[0m     \u001b[38;5;28;01mfinally\u001b[39;00m:\n\u001b[1;32m    319\u001b[0m         fut\u001b[38;5;241m.\u001b[39mcancel()\n",
      "File \u001b[0;32m~/miniconda3/envs/mlwe/lib/python3.12/concurrent/futures/_base.py:451\u001b[0m, in \u001b[0;36mFuture.result\u001b[0;34m(self, timeout)\u001b[0m\n\u001b[1;32m    448\u001b[0m \u001b[38;5;28;01melif\u001b[39;00m \u001b[38;5;28mself\u001b[39m\u001b[38;5;241m.\u001b[39m_state \u001b[38;5;241m==\u001b[39m FINISHED:\n\u001b[1;32m    449\u001b[0m     \u001b[38;5;28;01mreturn\u001b[39;00m \u001b[38;5;28mself\u001b[39m\u001b[38;5;241m.\u001b[39m__get_result()\n\u001b[0;32m--> 451\u001b[0m \u001b[38;5;28;43mself\u001b[39;49m\u001b[38;5;241;43m.\u001b[39;49m\u001b[43m_condition\u001b[49m\u001b[38;5;241;43m.\u001b[39;49m\u001b[43mwait\u001b[49m\u001b[43m(\u001b[49m\u001b[43mtimeout\u001b[49m\u001b[43m)\u001b[49m\n\u001b[1;32m    453\u001b[0m \u001b[38;5;28;01mif\u001b[39;00m \u001b[38;5;28mself\u001b[39m\u001b[38;5;241m.\u001b[39m_state \u001b[38;5;129;01min\u001b[39;00m [CANCELLED, CANCELLED_AND_NOTIFIED]:\n\u001b[1;32m    454\u001b[0m     \u001b[38;5;28;01mraise\u001b[39;00m CancelledError()\n",
      "File \u001b[0;32m~/miniconda3/envs/mlwe/lib/python3.12/threading.py:355\u001b[0m, in \u001b[0;36mCondition.wait\u001b[0;34m(self, timeout)\u001b[0m\n\u001b[1;32m    353\u001b[0m \u001b[38;5;28;01mtry\u001b[39;00m:    \u001b[38;5;66;03m# restore state no matter what (e.g., KeyboardInterrupt)\u001b[39;00m\n\u001b[1;32m    354\u001b[0m     \u001b[38;5;28;01mif\u001b[39;00m timeout \u001b[38;5;129;01mis\u001b[39;00m \u001b[38;5;28;01mNone\u001b[39;00m:\n\u001b[0;32m--> 355\u001b[0m         \u001b[43mwaiter\u001b[49m\u001b[38;5;241;43m.\u001b[39;49m\u001b[43macquire\u001b[49m\u001b[43m(\u001b[49m\u001b[43m)\u001b[49m\n\u001b[1;32m    356\u001b[0m         gotit \u001b[38;5;241m=\u001b[39m \u001b[38;5;28;01mTrue\u001b[39;00m\n\u001b[1;32m    357\u001b[0m     \u001b[38;5;28;01melse\u001b[39;00m:\n",
      "\u001b[0;31mKeyboardInterrupt\u001b[0m: "
     ]
    }
   ],
   "source": [
    "params = get_default_params()\n",
    "params.update(get_continuous_reduction_default_params())\n",
    "params.update(get_train_default_params())\n",
    "params.update({\n",
    "    'n': 128,\n",
    "    'q': 3329,\n",
    "    'secret_type': 'binary',\n",
    "\n",
    "    'num_gen': 4,\n",
    "    'seed': 0,\n",
    "\n",
    "    'num_matrices': 7,\n",
    "    'reduction_max_size': 400,\n",
    "    'float_type': 'd',\n",
    "    'matrix_config': 'original',\n",
    "    'reduction_factor': None,\n",
    "    'reduction_resampling': True,\n",
    "    'warmup_steps': 1,\n",
    "    'bkz_block_sizes': \"20:45:5\",\n",
    "    \n",
    "    'penalty': 4,\n",
    "    'verbose': True,\n",
    "\n",
    "    \"train_percentages\": [0.1, 0.25, 1],\n",
    "})\n",
    "\n",
    "filename = get_filename_from_params(params)\n",
    "\n",
    "reload = True\n",
    "if os.path.exists(filename) and reload:\n",
    "    print(f\"Loading dataset from {filename}\")\n",
    "    dataset = LWEDataset.load_reduced(filename)\n",
    "    params = dataset.params\n",
    "else:\n",
    "    print(f\"Generating dataset and saving to {filename}\")\n",
    "    dataset = LWEDataset(params)\n",
    "    dataset.initialize()\n",
    "    dataset.attack(\n",
    "        stop_strategy=\"hour\",\n",
    "        stop_after=1\n",
    "    )"
   ]
  },
  {
   "cell_type": "code",
   "execution_count": 3,
   "metadata": {},
   "outputs": [
    {
     "name": "stdout",
     "output_type": "stream",
     "text": [
      "True B is the best candidate: 1308 / 1309 (99.92%)\n"
     ]
    },
    {
     "data": {
      "text/plain": [
       "np.float64(0.9992360580595875)"
      ]
     },
     "execution_count": 3,
     "metadata": {},
     "output_type": "execute_result"
    }
   ],
   "source": [
    "get_percentage_true_b(dataset, verbose=True)"
   ]
  },
  {
   "cell_type": "code",
   "execution_count": 4,
   "metadata": {},
   "outputs": [],
   "source": [
    "num_gen = dataset.params['num_gen']\n",
    "n = dataset.params['n']\n",
    "k = dataset.params['k']\n",
    "q = dataset.params['q']"
   ]
  },
  {
   "cell_type": "code",
   "execution_count": 5,
   "metadata": {},
   "outputs": [
    {
     "data": {
      "text/plain": [
       "(256, 64)"
      ]
     },
     "execution_count": 5,
     "metadata": {},
     "output_type": "execute_result"
    }
   ],
   "source": [
    "dataset.A.shape"
   ]
  },
  {
   "cell_type": "code",
   "execution_count": 6,
   "metadata": {},
   "outputs": [
    {
     "data": {
      "text/plain": [
       "array([[-1570.,   152.,   401., ...,   669.,  1408.,  1553.],\n",
       "       [-1553., -1570.,   152., ...,    41.,   669.,  1408.],\n",
       "       [-1408., -1553., -1570., ...,  1428.,    41.,   669.],\n",
       "       ...,\n",
       "       [  462.,   814.,   151., ...,   341.,  -916., -1631.],\n",
       "       [ 1631.,   462.,   814., ..., -1604.,   341.,  -916.],\n",
       "       [  916.,  1631.,   462., ...,    66., -1604.,   341.]])"
      ]
     },
     "execution_count": 6,
     "metadata": {},
     "output_type": "execute_result"
    }
   ],
   "source": [
    "dataset.A"
   ]
  },
  {
   "cell_type": "code",
   "execution_count": 17,
   "metadata": {},
   "outputs": [],
   "source": [
    "import numpy as np\n",
    "from scipy.linalg import qr\n",
    "\n",
    "def extract_invertible_submatrix(R):\n",
    "    # Ensure R is 2n x n\n",
    "    rows, cols = R.shape\n",
    "    \n",
    "    # QR decomposition with row pivoting (on R^T to pivot rows of R)\n",
    "    Q, R_qr, row_pivots = qr(R.T, pivoting=True)\n",
    "\n",
    "    # Get the indices of the first n pivoted rows\n",
    "    selected_rows = row_pivots[:cols]\n",
    "\n",
    "    # Extract the square submatrix\n",
    "    R_sub = R[selected_rows, :]\n",
    "\n",
    "    # Check if the submatrix is invertible\n",
    "    if np.linalg.matrix_rank(R_sub) == cols:\n",
    "        return R_sub, selected_rows\n",
    "    else:\n",
    "        raise ValueError(\"Could not find invertible submatrix.\")"
   ]
  },
  {
   "cell_type": "code",
   "execution_count": 9,
   "metadata": {},
   "outputs": [
    {
     "data": {
      "text/plain": [
       "array([ 3., -1., -6., 11.,  8.,  2.,  6., 18., -6.,  4., -4., -4., -3., -1.,  7.,  6.])"
      ]
     },
     "execution_count": 9,
     "metadata": {},
     "output_type": "execute_result"
    }
   ],
   "source": [
    "dataset.R[0][0]"
   ]
  },
  {
   "cell_type": "code",
   "execution_count": 8,
   "metadata": {},
   "outputs": [
    {
     "data": {
      "text/plain": [
       "array([[  3.,  -1.,  -6.,  11.,   8.,   2.,   6.,  18.,  -6.,   4.,  -4.,  -4.,  -3.,  -1.,   7.,   6.],\n",
       "       [ -6.,   3.,  -1.,  -6.,  11.,   8.,   2.,   6.,  18.,  -6.,   4.,  -4.,  -4.,  -3.,  -1.,   7.],\n",
       "       [ -7.,  -6.,   3.,  -1.,  -6.,  11.,   8.,   2.,   6.,  18.,  -6.,   4.,  -4.,  -4.,  -3.,  -1.],\n",
       "       [  1.,  -7.,  -6.,   3.,  -1.,  -6.,  11.,   8.,   2.,   6.,  18.,  -6.,   4.,  -4.,  -4.,  -3.],\n",
       "       [  3.,   1.,  -7.,  -6.,   3.,  -1.,  -6.,  11.,   8.,   2.,   6.,  18.,  -6.,   4.,  -4.,  -4.],\n",
       "       [  4.,   3.,   1.,  -7.,  -6.,   3.,  -1.,  -6.,  11.,   8.,   2.,   6.,  18.,  -6.,   4.,  -4.],\n",
       "       [  4.,   4.,   3.,   1.,  -7.,  -6.,   3.,  -1.,  -6.,  11.,   8.,   2.,   6.,  18.,  -6.,   4.],\n",
       "       [ -4.,   4.,   4.,   3.,   1.,  -7.,  -6.,   3.,  -1.,  -6.,  11.,   8.,   2.,   6.,  18.,  -6.],\n",
       "       [  6.,  -4.,   4.,   4.,   3.,   1.,  -7.,  -6.,   3.,  -1.,  -6.,  11.,   8.,   2.,   6.,  18.],\n",
       "       [-18.,   6.,  -4.,   4.,   4.,   3.,   1.,  -7.,  -6.,   3.,  -1.,  -6.,  11.,   8.,   2.,   6.],\n",
       "       [ -6., -18.,   6.,  -4.,   4.,   4.,   3.,   1.,  -7.,  -6.,   3.,  -1.,  -6.,  11.,   8.,   2.],\n",
       "       [ -2.,  -6., -18.,   6.,  -4.,   4.,   4.,   3.,   1.,  -7.,  -6.,   3.,  -1.,  -6.,  11.,   8.],\n",
       "       [ -8.,  -2.,  -6., -18.,   6.,  -4.,   4.,   4.,   3.,   1.,  -7.,  -6.,   3.,  -1.,  -6.,  11.],\n",
       "       [-11.,  -8.,  -2.,  -6., -18.,   6.,  -4.,   4.,   4.,   3.,   1.,  -7.,  -6.,   3.,  -1.,  -6.],\n",
       "       [  6., -11.,  -8.,  -2.,  -6., -18.,   6.,  -4.,   4.,   4.,   3.,   1.,  -7.,  -6.,   3.,  -1.],\n",
       "       [  1.,   6., -11.,  -8.,  -2.,  -6., -18.,   6.,  -4.,   4.,   4.,   3.,   1.,  -7.,  -6.,   3.]])"
      ]
     },
     "execution_count": 8,
     "metadata": {},
     "output_type": "execute_result"
    }
   ],
   "source": [
    "neg_circ(dataset.R[0][0]).T"
   ]
  },
  {
   "cell_type": "code",
   "execution_count": 123,
   "metadata": {},
   "outputs": [
    {
     "data": {
      "text/plain": [
       "array([[-15., -51., -41., -22., -21., -62., -34.,  49., -14.,  11., -43.,  -4.,  52.,  49.,  17., -35.],\n",
       "       [ 35., -15., -51., -41., -22., -21., -62., -34.,  49., -14.,  11., -43.,  -4.,  52.,  49.,  17.],\n",
       "       [-17.,  35., -15., -51., -41., -22., -21., -62., -34.,  49., -14.,  11., -43.,  -4.,  52.,  49.],\n",
       "       [-49., -17.,  35., -15., -51., -41., -22., -21., -62., -34.,  49., -14.,  11., -43.,  -4.,  52.],\n",
       "       [-52., -49., -17.,  35., -15., -51., -41., -22., -21., -62., -34.,  49., -14.,  11., -43.,  -4.],\n",
       "       [  4., -52., -49., -17.,  35., -15., -51., -41., -22., -21., -62., -34.,  49., -14.,  11., -43.],\n",
       "       [ 43.,   4., -52., -49., -17.,  35., -15., -51., -41., -22., -21., -62., -34.,  49., -14.,  11.],\n",
       "       [-11.,  43.,   4., -52., -49., -17.,  35., -15., -51., -41., -22., -21., -62., -34.,  49., -14.],\n",
       "       [ 14., -11.,  43.,   4., -52., -49., -17.,  35., -15., -51., -41., -22., -21., -62., -34.,  49.],\n",
       "       [-49.,  14., -11.,  43.,   4., -52., -49., -17.,  35., -15., -51., -41., -22., -21., -62., -34.],\n",
       "       [ 34., -49.,  14., -11.,  43.,   4., -52., -49., -17.,  35., -15., -51., -41., -22., -21., -62.],\n",
       "       [ 62.,  34., -49.,  14., -11.,  43.,   4., -52., -49., -17.,  35., -15., -51., -41., -22., -21.],\n",
       "       [ 21.,  62.,  34., -49.,  14., -11.,  43.,   4., -52., -49., -17.,  35., -15., -51., -41., -22.],\n",
       "       [ 22.,  21.,  62.,  34., -49.,  14., -11.,  43.,   4., -52., -49., -17.,  35., -15., -51., -41.],\n",
       "       [ 41.,  22.,  21.,  62.,  34., -49.,  14., -11.,  43.,   4., -52., -49., -17.,  35., -15., -51.],\n",
       "       [ 51.,  41.,  22.,  21.,  62.,  34., -49.,  14., -11.,  43.,   4., -52., -49., -17.,  35., -15.]])"
      ]
     },
     "execution_count": 123,
     "metadata": {},
     "output_type": "execute_result"
    }
   ],
   "source": [
    "cmod(neg_circ(dataset.R[0][0]).T @ dataset.A, q)"
   ]
  },
  {
   "cell_type": "code",
   "execution_count": 115,
   "metadata": {},
   "outputs": [
    {
     "data": {
      "text/plain": [
       "array([[ -15.,  -51.,  -41.,  -22.,  -21.,  -62.,  -34.,   49.,  -14.,   11.,  -43.,   -4.,   52.,   49.,   17.,  -35.],\n",
       "       [ -28.,  -60.,  -16.,   21.,   -4.,  119.,  -10.,  -28.,  -31.,   -9.,  -17.,   34.,   18.,  -42.,   19.,   69.],\n",
       "       [   1.,  -75.,  -22.,   18.,   43.,  -15.,  -66.,   18.,  -21.,    3.,  -35.,  -39.,   63.,  -75.,  -15.,    2.],\n",
       "       [  21.,   62.,   34.,  -49.,   14.,  -11.,   43.,    4.,  -52.,  -49.,  -17.,   35.,  -15.,  -51.,  -41.,  -22.],\n",
       "       [  -4.,  119.,  -10.,  -28.,  -31.,   -9.,  -17.,   34.,   18.,  -42.,   19.,   69.,   28.,   60.,   16.,  -21.],\n",
       "       [ -26.,  -29.,   66.,   20.,   -2.,  -95.,   16.,   -3.,    1.,    7.,   14.,   -1.,  -59.,   54.,  -92.,   15.],\n",
       "       [  46.,  -23.,  -28.,  -50.,   39.,  -30.,   48.,   89.,  -56.,   -3.,  -35.,  -48.,   20.,   40.,   24.,  -64.],\n",
       "       [ -24.,   74.,  -41.,   59.,  -42.,   53.,   32.,    0.,   28.,   24.,  -61.,  -26.,    5.,   21.,   71.,  -41.],\n",
       "       [ -18.,   21.,   -3.,   35.,   39.,  -63.,   75.,   15.,   -2.,    1.,  -75.,  -22.,   18.,   43.,  -15.,  -66.],\n",
       "       [  37.,  -19.,   81.,  -50.,    5.,    1.,   82.,  -32.,   53.,  -23.,   71.,  -52.,  -43.,   22.,  -72.,  -43.],\n",
       "       [  20.,   40.,   24.,  -64.,  -46.,   23.,   28.,   50.,  -39.,   30.,  -48.,  -89.,   56.,    3.,   35.,   48.],\n",
       "       [ -28.,  -31.,   -9.,  -17.,   34.,   18.,  -42.,   19.,   69.,   28.,   60.,   16.,  -21.,    4., -119.,   10.],\n",
       "       [  66.,  -18.,   21.,   -3.,   35.,   39.,  -63.,   75.,   15.,   -2.,    1.,  -75.,  -22.,   18.,   43.,  -15.],\n",
       "       [ -52.,  -49.,  -17.,   35.,  -15.,  -51.,  -41.,  -22.,  -21.,  -62.,  -34.,   49.,  -14.,   11.,  -43.,   -4.],\n",
       "       [  51.,   41.,   22.,   21.,   62.,   34.,  -49.,   14.,  -11.,   43.,    4.,  -52.,  -49.,  -17.,   35.,  -15.],\n",
       "       [ -54.,   28.,    7.,    2.,  -38.,   13.,   22.,   27.,    4.,   58.,  -33.,   28.,   46.,   78.,   30.,    8.],\n",
       "       [  11.,   44.,  -41.,   22.,   47.,   40.,  -15.,   45.,   19.,   56.,  -34.,    9.,  -47.,  -91.,   82.,  -31.],\n",
       "       [ -13.,   72.,  -57.,   63.,   58.,  -30.,  -40.,  -13.,   37.,  -15.,   11.,   -3.,   12.,   44.,  -16., -102.],\n",
       "       [ -17.,  -40.,   -6.,  -17.,    6.,   -6.,   32.,  -13.,   40.,   59.,  -27.,  -59.,   54.,  -30.,  -47.,   23.],\n",
       "       [ -71.,   29.,    7.,  -15.,   16.,   26.,   33.,    7.,  -79.,  -36.,  -44.,   12.,   59.,   65.,   55.,  -22.],\n",
       "       [  -7.,  -82.,  -51.,  -32.,  -44.,  -36.,  -35.,  -19.,  -68.,   72.,   22.,    3.,  -24.,   -1.,  -25.,   69.],\n",
       "       [   6.,  -32.,   13.,  -40.,  -59.,   27.,   59.,  -54.,   30.,   47.,  -23.,  -17.,  -40.,   -6.,  -17.,    6.],\n",
       "       [  50.,  -21.,   67.,   46.,   -7.,   20.,  -26.,   19.,   61.,  -96.,   60.,   -4.,   55.,   -6.,   39.,   37.],\n",
       "       [ -19.,   10.,   66.,   11.,   66.,   17.,   64.,   62.,  -51.,  -28.,  -16.,   33.,  -43.,  -38.,  -20.,   39.],\n",
       "       [ -20.,    2.,   95.,  -16.,    3.,   -1.,   -7.,  -14.,    1.,   59.,  -54.,   92.,  -15.,  -26.,  -29.,   66.],\n",
       "       [  22.,  100.,    6.,  -64.,    8.,  -18.,   62.,  -27.,   91.,   82.,  -36.,    2.,    0.,  -17.,   15.,  -27.],\n",
       "       [  -3.,   10.,   29.,   45.,  -61.,   52.,  -78.,  -47.,   57.,   12.,  -21.,  -22.,   71.,   38.,  -13.,   -1.],\n",
       "       [   2.,   95.,  -16.,    3.,   -1.,   -7.,  -14.,    1.,   59.,  -54.,   92.,  -15.,  -26.,  -29.,   66.,   20.],\n",
       "       [  25.,    5.,   12.,  -12.,   23.,    9.,   46.,  -62.,   30.,   27.,  -42.,   20.,   10.,   -6.,   23.,  -50.],\n",
       "       [  -3.,   20.,   71.,  -22.,  -76.,  -50.,   16.,   19.,    8.,    5.,  -22.,  -24.,   -4.,  -76.,  -40.,  -34.],\n",
       "       [ -17.,   63.,  -46.,   30.,   72.,   31.,  -66.,  -23.,    8.,    7.,  -49.,  -48.,    8.,   49.,   34.,   40.],\n",
       "       [   1.,   22.,  -94.,  -10.,    5.,   34.,   40.,   24.,    9.,  102.,   23.,   20.,   89.,   49.,   24.,   13.]])"
      ]
     },
     "execution_count": 115,
     "metadata": {},
     "output_type": "execute_result"
    }
   ],
   "source": [
    "cmod(dataset.R[0] @ dataset.A, q)"
   ]
  },
  {
   "cell_type": "markdown",
   "metadata": {},
   "source": [
    "## Recurrent Reduction (not working)"
   ]
  },
  {
   "cell_type": "code",
   "execution_count": 70,
   "metadata": {},
   "outputs": [
    {
     "data": {
      "text/plain": [
       "array([[[-1116.,   914., -1098.,   943.,  -983.,   655.,  -399.,   360.,   -22.,  1322.,    32.,   828.,  1325.,  1233.,  -861.,   386.],\n",
       "        [ -938., -1116.,   914., -1098.,   943.,  -983.,   655.,  -399.,   360.,   -22.,  1322.,    32.,   828.,  1325.,  1233.,  -861.],\n",
       "        [  297.,  -938., -1116.,   914., -1098.,   943.,  -983.,   655.,  -399.,   360.,   -22.,  1322.,    32.,   828.,  1325.,  1233.],\n",
       "        [  204.,   297.,  -938., -1116.,   914., -1098.,   943.,  -983.,   655.,  -399.,   360.,   -22.,  1322.,    32.,   828.,  1325.],\n",
       "        [ -180.,   204.,   297.,  -938., -1116.,   914., -1098.,   943.,  -983.,   655.,  -399.,   360.,   -22.,  1322.,    32.,   828.],\n",
       "        [ 1631.,  -180.,   204.,   297.,  -938., -1116.,   914., -1098.,   943.,  -983.,   655.,  -399.,   360.,   -22.,  1322.,    32.],\n",
       "        [  123.,  1631.,  -180.,   204.,   297.,  -938., -1116.,   914., -1098.,   943.,  -983.,   655.,  -399.,   360.,   -22.,  1322.],\n",
       "        [ 1287.,   123.,  1631.,  -180.,   204.,   297.,  -938., -1116.,   914., -1098.,   943.,  -983.,   655.,  -399.,   360.,   -22.],\n",
       "        [-1338.,  1287.,   123.,  1631.,  -180.,   204.,   297.,  -938., -1116.,   914., -1098.,   943.,  -983.,   655.,  -399.,   360.],\n",
       "        [  171., -1338.,  1287.,   123.,  1631.,  -180.,   204.,   297.,  -938., -1116.,   914., -1098.,   943.,  -983.,   655.,  -399.],\n",
       "        [  543.,   171., -1338.,  1287.,   123.,  1631.,  -180.,   204.,   297.,  -938., -1116.,   914., -1098.,   943.,  -983.,   655.],\n",
       "        [ -328.,   543.,   171., -1338.,  1287.,   123.,  1631.,  -180.,   204.,   297.,  -938., -1116.,   914., -1098.,   943.,  -983.],\n",
       "        [ -544.,  -328.,   543.,   171., -1338.,  1287.,   123.,  1631.,  -180.,   204.,   297.,  -938., -1116.,   914., -1098.,   943.],\n",
       "        [  242.,  -544.,  -328.,   543.,   171., -1338.,  1287.,   123.,  1631.,  -180.,   204.,   297.,  -938., -1116.,   914., -1098.],\n",
       "        [-1429.,   242.,  -544.,  -328.,   543.,   171., -1338.,  1287.,   123.,  1631.,  -180.,   204.,   297.,  -938., -1116.,   914.],\n",
       "        [ 1497., -1429.,   242.,  -544.,  -328.,   543.,   171., -1338.,  1287.,   123.,  1631.,  -180.,   204.,   297.,  -938., -1116.]],\n",
       "\n",
       "       [[ -461., -1497.,  1429.,  -242.,   544.,   328.,  -543.,  -171.,  1338., -1287.,  -123., -1631.,   180.,  -204.,  -297.,   938.],\n",
       "        [  386.,  -461., -1497.,  1429.,  -242.,   544.,   328.,  -543.,  -171.,  1338., -1287.,  -123., -1631.,   180.,  -204.,  -297.],\n",
       "        [ -861.,   386.,  -461., -1497.,  1429.,  -242.,   544.,   328.,  -543.,  -171.,  1338., -1287.,  -123., -1631.,   180.,  -204.],\n",
       "        [ 1233.,  -861.,   386.,  -461., -1497.,  1429.,  -242.,   544.,   328.,  -543.,  -171.,  1338., -1287.,  -123., -1631.,   180.],\n",
       "        [ 1325.,  1233.,  -861.,   386.,  -461., -1497.,  1429.,  -242.,   544.,   328.,  -543.,  -171.,  1338., -1287.,  -123., -1631.],\n",
       "        [  828.,  1325.,  1233.,  -861.,   386.,  -461., -1497.,  1429.,  -242.,   544.,   328.,  -543.,  -171.,  1338., -1287.,  -123.],\n",
       "        [   32.,   828.,  1325.,  1233.,  -861.,   386.,  -461., -1497.,  1429.,  -242.,   544.,   328.,  -543.,  -171.,  1338., -1287.],\n",
       "        [ 1322.,    32.,   828.,  1325.,  1233.,  -861.,   386.,  -461., -1497.,  1429.,  -242.,   544.,   328.,  -543.,  -171.,  1338.],\n",
       "        [  -22.,  1322.,    32.,   828.,  1325.,  1233.,  -861.,   386.,  -461., -1497.,  1429.,  -242.,   544.,   328.,  -543.,  -171.],\n",
       "        [  360.,   -22.,  1322.,    32.,   828.,  1325.,  1233.,  -861.,   386.,  -461., -1497.,  1429.,  -242.,   544.,   328.,  -543.],\n",
       "        [ -399.,   360.,   -22.,  1322.,    32.,   828.,  1325.,  1233.,  -861.,   386.,  -461., -1497.,  1429.,  -242.,   544.,   328.],\n",
       "        [  655.,  -399.,   360.,   -22.,  1322.,    32.,   828.,  1325.,  1233.,  -861.,   386.,  -461., -1497.,  1429.,  -242.,   544.],\n",
       "        [ -983.,   655.,  -399.,   360.,   -22.,  1322.,    32.,   828.,  1325.,  1233.,  -861.,   386.,  -461., -1497.,  1429.,  -242.],\n",
       "        [  943.,  -983.,   655.,  -399.,   360.,   -22.,  1322.,    32.,   828.,  1325.,  1233.,  -861.,   386.,  -461., -1497.,  1429.],\n",
       "        [-1098.,   943.,  -983.,   655.,  -399.,   360.,   -22.,  1322.,    32.,   828.,  1325.,  1233.,  -861.,   386.,  -461., -1497.],\n",
       "        [  914., -1098.,   943.,  -983.,   655.,  -399.,   360.,   -22.,  1322.,    32.,   828.,  1325.,  1233.,  -861.,   386.,  -461.]]])"
      ]
     },
     "execution_count": 70,
     "metadata": {},
     "output_type": "execute_result"
    }
   ],
   "source": [
    "A = dataset.A.reshape((num_gen, k*n, k*n))\n",
    "A_blocks = A.reshape(num_gen, k, n, k, n).transpose(0, 1, 3, 2, 4)\n",
    "# Shape: (batches, k, k, n, n)\n",
    "l = 2  # provided divisor of n\n",
    "A_rlwe_split = A_blocks.reshape(num_gen, k, k, l, n//l, l, n//l).transpose(0, 1, 2, 3, 5, 4, 6)\n",
    "# Shape: (batches, k, k, l, l, n//l, n//l)\n",
    "first_row_blocks = A_rlwe_split[:, :, :, 0, :, :, :]  # Take l matrices from the 0th row\n",
    "# Shape: (batches, k, k, l, n//l, n//l)\n",
    "# Reshape to combine all (num_gen, k, k, l, n//l, n//l) blocks into a single array of matrices (total_blocks, n//l, n//l)\n",
    "all_blocks = first_row_blocks.reshape(-1, n // l, n // l)\n",
    "all_blocks"
   ]
  },
  {
   "cell_type": "code",
   "execution_count": 71,
   "metadata": {},
   "outputs": [
    {
     "name": "stdout",
     "output_type": "stream",
     "text": [
      "Total number of matrices to reduce: 2\n",
      "- Running Flatter with alpha 0.001...- Running Flatter with alpha 0.001...\n",
      "\n",
      "- Saving initial best stds (Mean std_B 86.79703479930672)\n",
      "- Saving initial best stds (Mean std_B 85.8463167011379)\n"
     ]
    }
   ],
   "source": [
    "num_matrices = all_blocks.shape[0]\n",
    "print(f\"Total number of matrices to reduce: {num_matrices}\")\n",
    "args = []\n",
    "for i in range(num_matrices):\n",
    "    reduction = ContinuousReduction(params)\n",
    "    args.append((reduction.to_state_dict(), all_blocks[i], 1))\n",
    "\n",
    "def continuous_reduction_worker(args):\n",
    "    reduction_state, matrix_to_reduce, times = args\n",
    "    reduction = ContinuousReduction.from_state_dict(reduction_state)\n",
    "    R, matrix_to_reduce = reduction.reduce(matrix_to_reduce, times=times)\n",
    "    return R, [reduction.to_state_dict(), matrix_to_reduce, times]\n",
    "\n",
    "n_jobs = 4  # Adjust based on your system's capabilities\n",
    "with ProcessPoolExecutor(max_workers=n_jobs) as executor:\n",
    "    R_reduced = []\n",
    "    for i, (R, result) in enumerate(executor.map(continuous_reduction_worker, args)):\n",
    "        R_reduced.append(R)\n",
    "        args[i] = result\n",
    "\n",
    "R_reduced = np.stack(R_reduced)"
   ]
  },
  {
   "cell_type": "code",
   "execution_count": 73,
   "metadata": {},
   "outputs": [
    {
     "data": {
      "text/plain": [
       "array([[-1116.,   914., -1098.,   943.,  -983.,   655.,  -399.,   360.,   -22.,  1322.,    32.,   828.,  1325.,  1233.,  -861.,   386.],\n",
       "       [ -938., -1116.,   914., -1098.,   943.,  -983.,   655.,  -399.,   360.,   -22.,  1322.,    32.,   828.,  1325.,  1233.,  -861.],\n",
       "       [  297.,  -938., -1116.,   914., -1098.,   943.,  -983.,   655.,  -399.,   360.,   -22.,  1322.,    32.,   828.,  1325.,  1233.],\n",
       "       [  204.,   297.,  -938., -1116.,   914., -1098.,   943.,  -983.,   655.,  -399.,   360.,   -22.,  1322.,    32.,   828.,  1325.],\n",
       "       [ -180.,   204.,   297.,  -938., -1116.,   914., -1098.,   943.,  -983.,   655.,  -399.,   360.,   -22.,  1322.,    32.,   828.],\n",
       "       [ 1631.,  -180.,   204.,   297.,  -938., -1116.,   914., -1098.,   943.,  -983.,   655.,  -399.,   360.,   -22.,  1322.,    32.],\n",
       "       [  123.,  1631.,  -180.,   204.,   297.,  -938., -1116.,   914., -1098.,   943.,  -983.,   655.,  -399.,   360.,   -22.,  1322.],\n",
       "       [ 1287.,   123.,  1631.,  -180.,   204.,   297.,  -938., -1116.,   914., -1098.,   943.,  -983.,   655.,  -399.,   360.,   -22.],\n",
       "       [-1338.,  1287.,   123.,  1631.,  -180.,   204.,   297.,  -938., -1116.,   914., -1098.,   943.,  -983.,   655.,  -399.,   360.],\n",
       "       [  171., -1338.,  1287.,   123.,  1631.,  -180.,   204.,   297.,  -938., -1116.,   914., -1098.,   943.,  -983.,   655.,  -399.],\n",
       "       [  543.,   171., -1338.,  1287.,   123.,  1631.,  -180.,   204.,   297.,  -938., -1116.,   914., -1098.,   943.,  -983.,   655.],\n",
       "       [ -328.,   543.,   171., -1338.,  1287.,   123.,  1631.,  -180.,   204.,   297.,  -938., -1116.,   914., -1098.,   943.,  -983.],\n",
       "       [ -544.,  -328.,   543.,   171., -1338.,  1287.,   123.,  1631.,  -180.,   204.,   297.,  -938., -1116.,   914., -1098.,   943.],\n",
       "       [  242.,  -544.,  -328.,   543.,   171., -1338.,  1287.,   123.,  1631.,  -180.,   204.,   297.,  -938., -1116.,   914., -1098.],\n",
       "       [-1429.,   242.,  -544.,  -328.,   543.,   171., -1338.,  1287.,   123.,  1631.,  -180.,   204.,   297.,  -938., -1116.,   914.],\n",
       "       [ 1497., -1429.,   242.,  -544.,  -328.,   543.,   171., -1338.,  1287.,   123.,  1631.,  -180.,   204.,   297.,  -938., -1116.]])"
      ]
     },
     "execution_count": 73,
     "metadata": {},
     "output_type": "execute_result"
    }
   ],
   "source": [
    "all_blocks[0]"
   ]
  },
  {
   "cell_type": "code",
   "execution_count": 81,
   "metadata": {},
   "outputs": [
    {
     "data": {
      "text/plain": [
       "array([[  -30.,    19.,   -21.,   -35.,    15.,   -36.,    36.,   -18.,   -70.,     4.,    -7.,   -42.,   -18.,    29.,    31.,    21.],\n",
       "       [  975., -1180., -1464.,  -473.,  -860.,  1382.,  -900.,   179.,  1484.,   921.,  -926., -1445.,  -254.,  1347.,    84.,    14.],\n",
       "       [-1140.,  1550.,  1226., -1238.,  1604.,   121., -1515.,   693.,  -572.,  -676.,  1386.,  -207., -1339.,   728.,  -345., -1572.],\n",
       "       [  698.,   696.,   -54., -1144., -1513.,   950.,  -167.,   752.,    84.,   868.,  -986.,  -203.,   832.,  -884., -1473.,   759.],\n",
       "       [ -426.,  1041.,   817., -1465.,  1635.,   508.,   374.,  1038.,  -466.,  -365.,   248.,  -835., -1454., -1587.,  1372.,   735.],\n",
       "       [ -453.,   -83.,  1162.,  -594.,  1314.,   327.,   -68.,  1579.,  -180.,  -915.,  -985.,   399.,  1243.,  -544.,   669.,   251.],\n",
       "       [-1370., -1371.,   719.,  -982.,  1208.,  1641.,   471.,   463.,   219.,  -900.,  -760.,  1474.,  1544.,  -649., -1108.,   117.],\n",
       "       [  -53.,  -906.,  -130.,   664.,   943.,  -872.,   328.,  1247.,  1397.,   126.,  1270.,   376.,   859., -1641.,  1442.,  1151.],\n",
       "       [  326.,   865.,  1621., -1315., -1138.,   616., -1016.,  -203.,  -722., -1212.,   -29., -1189.,  -769.,  -578., -1077., -1335.],\n",
       "       [ 1356., -1510.,  -860.,   662., -1040.,  -484.,   904.,    46.,   406.,  1167.,  -902.,  1560.,  1101., -1224.,  1623.,  1148.],\n",
       "       [  335., -1630., -1389.,  1058.,   112.,   981., -1060., -1220., -1172.,   -43.,   547.,  -751.,   309., -1318.,  1032.,   502.],\n",
       "       [  591., -1390.,  1139.,  1262.,  1485.,   498.,  -315.,   819.,  1033., -1350., -1438., -1610., -1069.,   692.,   429.,  -658.],\n",
       "       [ -754.,  -216.,   577.,  -724.,  -113.,  1544.,  -942.,  1033.,  1103.,  1575.,   429.,   604.,   256.,  1206.,  -326.,  -709.],\n",
       "       [-1056.,   850.,  -776.,  -101.,  -297.,   273.,   248.,   937.,   -43.,   925.,   180.,  1601.,   286.,   639.,  -376.,  1313.],\n",
       "       [   36., -1167.,  -315., -1057.,  -253.,   -29., -1472.,  -569.,  -707., -1305.,  -699.,   597.,   880.,  -552.,  1093.,   210.],\n",
       "       [   92.,  1186.,   316.,   137.,  -232., -1620.,   835., -1615.,  1258.,  1631.,  -375.,   739.,   809.,  -485.,  -607.,  1110.]])"
      ]
     },
     "execution_count": 81,
     "metadata": {},
     "output_type": "execute_result"
    }
   ],
   "source": [
    "RA = neg_circ(R_reduced[0][0]).T @ all_blocks[0] % q\n",
    "RA[RA > q // 2] -= q\n",
    "RA"
   ]
  },
  {
   "cell_type": "code",
   "execution_count": 38,
   "metadata": {},
   "outputs": [
    {
     "data": {
      "text/plain": [
       "array([[[[[[ -6.,  13.,   7.,   7.],\n",
       "           [ 10.,  -4.,   0.,   0.],\n",
       "           [  3.,   9.,   7.,  10.],\n",
       "           [ -3.,   8.,  16., -18.],\n",
       "           [  1.,  -6.,  -4.,   1.],\n",
       "           [ 18.,  16.,   0.,   5.],\n",
       "           [ -6.,   2., -17., -15.],\n",
       "           [  0., -20.,   8.,  -5.]],\n",
       "\n",
       "          [[  2.,   6.,  16.,   1.],\n",
       "           [ 16.,   2.,  -8.,   2.],\n",
       "           [-10., -11.,   3.,  13.],\n",
       "           [ -4.,  16., -11.,   2.],\n",
       "           [-14.,   8., -17.,   6.],\n",
       "           [ -4.,  -2., -13.,  16.],\n",
       "           [ 17.,   0.,  -9.,  16.],\n",
       "           [  2.,  14.,  12.,   7.]]]]]])"
      ]
     },
     "execution_count": 38,
     "metadata": {},
     "output_type": "execute_result"
    }
   ],
   "source": [
    "num_rows = 2 * (n // l)\n",
    "block_size = n // l\n",
    "R_reshaped = R_reduced.reshape((num_gen, k, k, l, num_rows, block_size))  # [b, k, k, l, 2n/l, n/l]\n",
    "R_reshaped"
   ]
  },
  {
   "cell_type": "code",
   "execution_count": 43,
   "metadata": {},
   "outputs": [],
   "source": [
    "for b in range(num_gen):\n",
    "  # Precompute neg_circ matrices for all (i,j,li,row_idx)\n",
    "  negcirc_dict = {}\n",
    "  for i in range(k):\n",
    "      for j in range(k):\n",
    "          for li in range(l):\n",
    "              for r in range(num_rows):\n",
    "                  vec = R_reshaped[b, i, j, li, r]\n",
    "                  negcirc_dict[(i, j, li, r)] = neg_circ(vec).T\n",
    "\n",
    "choosen_matrix_0 = negcirc_dict[(0, 0, 0, 0)]\n",
    "choosen_matrix_1 = negcirc_dict[(0, 0, 1, 0)]"
   ]
  },
  {
   "cell_type": "code",
   "execution_count": 44,
   "metadata": {},
   "outputs": [
    {
     "data": {
      "text/plain": [
       "(array([[ -6.,  13.,   7.,   7.],\n",
       "        [ -7.,  -6.,  13.,   7.],\n",
       "        [ -7.,  -7.,  -6.,  13.],\n",
       "        [-13.,  -7.,  -7.,  -6.]]),\n",
       " array([[  2.,   6.,  16.,   1.],\n",
       "        [ -1.,   2.,   6.,  16.],\n",
       "        [-16.,  -1.,   2.,   6.],\n",
       "        [ -6., -16.,  -1.,   2.]]))"
      ]
     },
     "execution_count": 44,
     "metadata": {},
     "output_type": "execute_result"
    }
   ],
   "source": [
    "choosen_matrix_0, choosen_matrix_1"
   ]
  },
  {
   "cell_type": "code",
   "execution_count": null,
   "metadata": {},
   "outputs": [],
   "source": [
    "def build_twisted_matrix(blocks):\n",
    "    \"\"\"\n",
    "    Given a list of l matrices (R1', R2', ..., Rl'), construct the twisted RLWE matrix.\n",
    "    \"\"\"\n",
    "    l = len(blocks)\n",
    "    block_size = blocks[0].shape[0]\n",
    "    full_size = l * block_size\n",
    "    result = np.zeros((full_size, full_size))\n",
    "\n",
    "    for i in range(l):\n",
    "        for j in range(l):\n",
    "            idx = (j - i) % l\n",
    "            sign = (-1) ** ((j - i) < 0)\n",
    "            result[i*block_size:(i+1)*block_size, j*block_size:(j+1)*block_size] = sign * blocks[idx]\n",
    "    return result"
   ]
  },
  {
   "cell_type": "code",
   "execution_count": 47,
   "metadata": {},
   "outputs": [
    {
     "data": {
      "text/plain": [
       "array([[ -6.,  13.,   7.,   7.,   2.,   6.,  16.,   1.],\n",
       "       [ -7.,  -6.,  13.,   7.,  -1.,   2.,   6.,  16.],\n",
       "       [ -7.,  -7.,  -6.,  13., -16.,  -1.,   2.,   6.],\n",
       "       [-13.,  -7.,  -7.,  -6.,  -6., -16.,  -1.,   2.],\n",
       "       [ -2.,  -6., -16.,  -1.,  -6.,  13.,   7.,   7.],\n",
       "       [  1.,  -2.,  -6., -16.,  -7.,  -6.,  13.,   7.],\n",
       "       [ 16.,   1.,  -2.,  -6.,  -7.,  -7.,  -6.,  13.],\n",
       "       [  6.,  16.,   1.,  -2., -13.,  -7.,  -7.,  -6.]])"
      ]
     },
     "execution_count": 47,
     "metadata": {},
     "output_type": "execute_result"
    }
   ],
   "source": [
    "twisted_block = build_twisted_matrix([choosen_matrix_0, choosen_matrix_1])\n",
    "twisted_block"
   ]
  },
  {
   "cell_type": "code",
   "execution_count": 51,
   "metadata": {},
   "outputs": [
    {
     "data": {
      "text/plain": [
       "array([[ -6.,  13.,   7.,   7.,   2.,   6.,  16.,   1.],\n",
       "       [ -7.,  -6.,  13.,   7.,  -1.,   2.,   6.,  16.],\n",
       "       [ -7.,  -7.,  -6.,  13., -16.,  -1.,   2.,   6.],\n",
       "       [-13.,  -7.,  -7.,  -6.,  -6., -16.,  -1.,   2.],\n",
       "       [ -2.,  -6., -16.,  -1.,  -6.,  13.,   7.,   7.],\n",
       "       [  1.,  -2.,  -6., -16.,  -7.,  -6.,  13.,   7.],\n",
       "       [ 16.,   1.,  -2.,  -6.,  -7.,  -7.,  -6.,  13.],\n",
       "       [  6.,  16.,   1.,  -2., -13.,  -7.,  -7.,  -6.]])"
      ]
     },
     "execution_count": 51,
     "metadata": {},
     "output_type": "execute_result"
    }
   ],
   "source": [
    "twisted_block"
   ]
  },
  {
   "cell_type": "code",
   "execution_count": 30,
   "metadata": {},
   "outputs": [],
   "source": [
    "def sample_unique_indices(base, length, num_samples, seed=None):\n",
    "    \"\"\"\n",
    "    Samples unique integers in [0, base**length) and returns base-B representations.\n",
    "    \"\"\"\n",
    "    rng = np.random.default_rng(seed)\n",
    "    total = base ** length\n",
    "\n",
    "    if num_samples > total:\n",
    "        raise ValueError(\"Requested more unique samples than the total possible combinations.\")\n",
    "\n",
    "    sampled = rng.choice(total, size=num_samples, replace=False)\n",
    "    # Convert each to base `base` representation of length `length`\n",
    "    def to_base(x):\n",
    "        digits = []\n",
    "        for _ in range(length):\n",
    "            digits.append(x % base)\n",
    "            x //= base\n",
    "        return digits[::-1]  # Most significant first\n",
    "\n",
    "    return [to_base(idx) for idx in sampled]\n",
    "\n",
    "def sample_full_R_matrices_no_repeat(R_raw, batches, k, l, n, num_samples, seed=None):\n",
    "    \"\"\"\n",
    "    Samples num_samples unique R matrices (shape k*n, k*n) per batch without repetition.\n",
    "    \"\"\"\n",
    "    rng = np.random.default_rng(seed)\n",
    "    num_rows = 2 * (n // l)\n",
    "    block_size = n // l\n",
    "    R_reshaped = R_raw.reshape((batches, k, k, l, num_rows, block_size))  # [b, k, k, l, 2n/l, n/l]\n",
    "\n",
    "    base = num_rows ** l               # choices per (i,j)\n",
    "    length = k * k                     # number of blocks per matrix\n",
    "    total_combinations = base ** length\n",
    "\n",
    "    all_batched_R = []\n",
    "\n",
    "    for b in range(batches):\n",
    "        # Precompute neg_circ matrices for all (i,j,li,row_idx)\n",
    "        negcirc_dict = {}\n",
    "        for i in range(k):\n",
    "            for j in range(k):\n",
    "                for li in range(l):\n",
    "                    for r in range(num_rows):\n",
    "                        vec = R_reshaped[b, i, j, li, r]\n",
    "                        negcirc_dict[(i, j, li, r)] = neg_circ(vec).T\n",
    "\n",
    "        sampled_index_vectors = sample_unique_indices(base, length, num_samples, seed + b if seed else None)\n",
    "\n",
    "        sampled_Rs = []\n",
    "        for idx_vec in sampled_index_vectors:\n",
    "            full_R = np.zeros((k * n, k * n))\n",
    "            for block_idx, (i, j) in enumerate(product(range(k), repeat=2)):\n",
    "                flat_index = idx_vec[block_idx]\n",
    "\n",
    "                # Decode flat_index → l row indices (base `num_rows`)\n",
    "                row_choices = []\n",
    "                x = flat_index\n",
    "                for _ in range(l):\n",
    "                    row_choices.append(x % num_rows)\n",
    "                    x //= num_rows\n",
    "                row_choices = row_choices[::-1]\n",
    "\n",
    "                parts = [\n",
    "                    negcirc_dict[(i, j, li, row_choices[li])]\n",
    "                    for li in range(l)\n",
    "                ]\n",
    "                twisted_block = build_twisted_matrix(parts)\n",
    "                full_R[i*n:(i+1)*n, j*n:(j+1)*n] = twisted_block\n",
    "\n",
    "            sampled_Rs.append(full_R)\n",
    "\n",
    "        all_batched_R.append(sampled_Rs)\n",
    "\n",
    "    return np.stack(all_batched_R)\n"
   ]
  },
  {
   "cell_type": "code",
   "execution_count": 31,
   "metadata": {},
   "outputs": [
    {
     "name": "stdout",
     "output_type": "stream",
     "text": [
      "Total number of different full R matrices: 64\n"
     ]
    }
   ],
   "source": [
    "def count_total_R_matrices(n, l, k):\n",
    "    \"\"\"\n",
    "    Calculates the total number of different full R matrices generated\n",
    "    from R_raw with parameters:\n",
    "    \n",
    "    n: polynomial degree\n",
    "    l: number of RLWE splits per LWE block\n",
    "    k: module rank\n",
    "\n",
    "    Returns: total number of (k*n, k*n) R matrices\n",
    "    \"\"\"\n",
    "    num_rows_per_block = 2 * (n // l)\n",
    "    num_combinations_per_block = num_rows_per_block ** l\n",
    "    total_blocks = k * k  # each full matrix has k^2 (i,j) blocks\n",
    "    total_combinations = num_combinations_per_block ** total_blocks\n",
    "    return total_combinations\n",
    "\n",
    "total_R_matrices = count_total_R_matrices(n, l, k)\n",
    "print(f\"Total number of different full R matrices: {total_R_matrices}\")"
   ]
  },
  {
   "cell_type": "code",
   "execution_count": 32,
   "metadata": {},
   "outputs": [],
   "source": [
    "# Generate all twisted R matrices\n",
    "total_R_matrices = 1\n",
    "twisted_matrices = sample_full_R_matrices_no_repeat(R_reduced, num_gen, k, l, n, total_R_matrices, seed=42)"
   ]
  },
  {
   "cell_type": "code",
   "execution_count": 33,
   "metadata": {},
   "outputs": [
    {
     "data": {
      "text/plain": [
       "array([[[[ -6.,  13.,   7.,   7.,  -4.,  -2., -13.,  16.],\n",
       "         [ -7.,  -6.,  13.,   7., -16.,  -4.,  -2., -13.],\n",
       "         [ -7.,  -7.,  -6.,  13.,  13., -16.,  -4.,  -2.],\n",
       "         [-13.,  -7.,  -7.,  -6.,   2.,  13., -16.,  -4.],\n",
       "         [  4.,   2.,  13., -16.,  -6.,  13.,   7.,   7.],\n",
       "         [ 16.,   4.,   2.,  13.,  -7.,  -6.,  13.,   7.],\n",
       "         [-13.,  16.,   4.,   2.,  -7.,  -7.,  -6.,  13.],\n",
       "         [ -2., -13.,  16.,   4., -13.,  -7.,  -7.,  -6.]]]])"
      ]
     },
     "execution_count": 33,
     "metadata": {},
     "output_type": "execute_result"
    }
   ],
   "source": [
    "twisted_matrices"
   ]
  },
  {
   "cell_type": "code",
   "execution_count": 34,
   "metadata": {},
   "outputs": [],
   "source": [
    "import numpy as np\n",
    "\n",
    "def multiply_sampled_Rs_by_A_vectorized(A, sampled_Rs):\n",
    "    \"\"\"\n",
    "    A: ndarray of shape (batches, kn, kn)\n",
    "    sampled_Rs: list of [batches][num_samples] with each R ∈ (kn, kn)\n",
    "\n",
    "    Returns:\n",
    "        result: ndarray of shape (batches, num_samples, kn, kn)\n",
    "    \"\"\"\n",
    "    sampled_Rs_array = np.array(sampled_Rs)  # (batches, num_samples, kn, kn)\n",
    "\n",
    "    # We want to do: result[b, s] = sampled_Rs[b, s] @ A[b]\n",
    "    # A needs to be broadcasted to (batches, num_samples, kn, kn)\n",
    "    batches, num_samples, kn, _ = sampled_Rs_array.shape\n",
    "    A_expanded = A[:, None, :, :]  # (batches, 1, kn, kn)\n",
    "\n",
    "    # Broadcasted matrix multiplication\n",
    "    result = sampled_Rs_array @ A_expanded  # shape: (batches, num_samples, kn, kn)\n",
    "\n",
    "    return result\n"
   ]
  },
  {
   "cell_type": "code",
   "execution_count": 35,
   "metadata": {},
   "outputs": [
    {
     "name": "stdout",
     "output_type": "stream",
     "text": [
      "Shape of RA: (1, 1, 8, 8)\n"
     ]
    }
   ],
   "source": [
    "RA = multiply_sampled_Rs_by_A_vectorized(A, twisted_matrices)\n",
    "RA %= q\n",
    "RA[RA > q // 2] -= q\n",
    "\n",
    "print(f\"Shape of RA: {RA.shape}\")  # Should be (batches * num_samples, kn, kn)"
   ]
  },
  {
   "cell_type": "code",
   "execution_count": 36,
   "metadata": {},
   "outputs": [
    {
     "data": {
      "text/plain": [
       "array([[[[   49.,    96.,  -140.,     2.,   558., -1464.,   349.,   368.],\n",
       "         [-1655.,  1043.,   308.,  1461.,  1161., -1584.,    76.,  1374.],\n",
       "         [ -914., -1274., -1568.,  1640.,  -797., -1320.,   299.,   790.],\n",
       "         [ 1551.,   688.,   903.,  -414.,   236.,  -636.,   308.,  -417.],\n",
       "         [ -558.,  1464.,  -349.,  -368.,    49.,    96.,  -140.,     2.],\n",
       "         [-1161.,  1584.,   -76., -1374., -1655.,  1043.,   308.,  1461.],\n",
       "         [  797.,  1320.,  -299.,  -790.,  -914., -1274., -1568.,  1640.],\n",
       "         [ -236.,   636.,  -308.,   417.,  1551.,   688.,   903.,  -414.]]]])"
      ]
     },
     "execution_count": 36,
     "metadata": {},
     "output_type": "execute_result"
    }
   ],
   "source": [
    "RA"
   ]
  },
  {
   "cell_type": "markdown",
   "metadata": {},
   "source": [
    "## Enhancing RLWE (not working for MLWE)"
   ]
  },
  {
   "cell_type": "code",
   "execution_count": 24,
   "metadata": {},
   "outputs": [
    {
     "data": {
      "text/plain": [
       "(2, 32, 16)"
      ]
     },
     "execution_count": 24,
     "metadata": {},
     "output_type": "execute_result"
    }
   ],
   "source": [
    "dataset.R.squeeze().shape"
   ]
  },
  {
   "cell_type": "code",
   "execution_count": 25,
   "metadata": {},
   "outputs": [
    {
     "data": {
      "text/plain": [
       "array([[[[ 13.,  15.,   3., ...,  -7., -11., -11.],\n",
       "         [  7.,   2.,   7., ...,   4.,  -7.,   1.],\n",
       "         [  2.,   7., -16., ...,  -7.,   1.,  -7.],\n",
       "         ...,\n",
       "         [  1.,  12.,  10., ...,  -3.,   0.,   4.],\n",
       "         [ -4.,   7.,  -1., ...,   7., -16.,   9.],\n",
       "         [ -3., -11., -14., ...,  -6.,  -7.,  10.]],\n",
       "\n",
       "        [[  5.,  -3.,  -1., ...,   2.,   1.,  10.],\n",
       "         [  3.,  -3.,   3., ...,  -1., -10.,  -2.],\n",
       "         [ -3.,   3.,  12., ..., -10.,  -2.,  -3.],\n",
       "         ...,\n",
       "         [  7.,   8.,  -7., ...,  15., -11.,   0.],\n",
       "         [  1.,  10.,   2., ...,   3.,  12.,  11.],\n",
       "         [ -2.,   0.,  -4., ...,  -2.,   3.,   3.]],\n",
       "\n",
       "        [[  7.,  -8.,  -1., ...,   1.,   1.,   0.],\n",
       "         [  5.,  -1.,  -6., ...,  10.,   7., -17.],\n",
       "         [ -2.,   5.,   2., ...,  -4.,  -3.,  15.],\n",
       "         ...,\n",
       "         [  8.,  -2.,   1., ...,   6.,  -4.,   8.],\n",
       "         [ 14.,   9.,  21., ...,   9.,   3.,   3.],\n",
       "         [ 12.,  -9.,  -2., ...,  -6.,   2.,  11.]],\n",
       "\n",
       "        [[  0.,  -6.,  -2., ...,   7.,   9.,   7.],\n",
       "         [ -3.,  -3.,   7., ...,   7.,  -1.,  -4.],\n",
       "         [  8.,   1.,   2., ...,  18.,  10.,   5.],\n",
       "         ...,\n",
       "         [ 17.,   4.,   2., ...,   4.,  -6.,   8.],\n",
       "         [ -1.,  -4., -14., ...,  -1.,  -5.,  -1.],\n",
       "         [ -2., -16.,  -3., ..., -15.,  -2.,  -8.]]],\n",
       "\n",
       "\n",
       "       [[[  0.,  -4., -13., ...,  -4.,   3.,   9.],\n",
       "         [ -9.,   0.,  -4., ...,  -8.,  -4.,   3.],\n",
       "         [  4.,   0., -13., ..., -16., -13.,  -4.],\n",
       "         ...,\n",
       "         [  0.,  -9.,  18., ...,  -3.,   3.,   1.],\n",
       "         [ -6., -13.,   3., ...,  16.,  -1.,   9.],\n",
       "         [-13.,  -6.,  -6., ...,  -8.,   2.,  10.]],\n",
       "\n",
       "        [[-16.,  12.,  -4., ...,   8.,   1.,  -1.],\n",
       "         [  1., -16.,  12., ...,   0.,   8.,   1.],\n",
       "         [-15.,  -3.,  -7., ...,  -1.,   0.,  -1.],\n",
       "         ...,\n",
       "         [  7.,   0.,   3., ...,   3.,   7.,  -1.],\n",
       "         [ -4.,  -5.,  14., ...,   7.,  12.,   9.],\n",
       "         [ -2.,   9., -12., ...,   3.,   1.,  13.]],\n",
       "\n",
       "        [[  4.,  -8.,  -1., ...,  14.,  15.,  10.],\n",
       "         [ -9.,   7.,  10., ..., -13.,  -7.,  -7.],\n",
       "         [ 12.,   6.,   9., ...,  -5., -12.,  -9.],\n",
       "         ...,\n",
       "         [ -6.,  -9., -12., ...,  -2.,  -2.,  10.],\n",
       "         [-11., -15.,  11., ...,  -2.,  -6.,   3.],\n",
       "         [ -3.,   6.,   8., ...,  -6.,  21.,  -1.]],\n",
       "\n",
       "        [[ -5.,  -2.,  -6., ...,   3.,  -4.,  -6.],\n",
       "         [ -4.,  -1.,  -2., ...,   3.,   8.,   4.],\n",
       "         [ 16.,  13.,  -2., ...,  -4.,  -9.,  -4.],\n",
       "         ...,\n",
       "         [ 12.,   0.,   3., ..., -12.,  -6.,  19.],\n",
       "         [ -8.,  15.,  -4., ...,   5.,   7.,  -6.],\n",
       "         [ 10.,   1.,   1., ...,   5.,  -9.,   1.]]]])"
      ]
     },
     "execution_count": 25,
     "metadata": {},
     "output_type": "execute_result"
    }
   ],
   "source": [
    "R_reshaped = dataset.R.squeeze().reshape(num_gen, k, 2*n, k, n).transpose(0, 1, 3, 2, 4).reshape(num_gen, k * k, 2*n, n).squeeze()\n",
    "R_reshaped"
   ]
  },
  {
   "cell_type": "code",
   "execution_count": 26,
   "metadata": {},
   "outputs": [
    {
     "data": {
      "text/plain": [
       "(2, 32, 16)"
      ]
     },
     "execution_count": 26,
     "metadata": {},
     "output_type": "execute_result"
    }
   ],
   "source": [
    "dataset.R.squeeze().shape"
   ]
  },
  {
   "cell_type": "code",
   "execution_count": 9,
   "metadata": {},
   "outputs": [
    {
     "data": {
      "text/plain": [
       "array([[[ 18., -22.,  82., ..., -31., -11.,  29.],\n",
       "        [ 46.,  18., -22., ..., -52., -31., -11.],\n",
       "        [-47.,   7., -22., ...,  10., -31.,  35.],\n",
       "        ...,\n",
       "        [-46.,  88.,  17., ...,  -4.,  87.,  23.],\n",
       "        [-10., -49., -14., ...,  -1.,  78.,  -9.],\n",
       "        [ 72.,  16.,  35., ...,  86., -43.,  82.]],\n",
       "\n",
       "       [[ 22., -33.,  -3., ...,  12.,  18., -27.],\n",
       "        [ 12., -16., -28., ..., -11., -31., -17.],\n",
       "        [ 16.,  17.,  -8., ...,  26., -97.,   9.],\n",
       "        ...,\n",
       "        [-23., -62.,  68., ...,  31.,  25., -20.],\n",
       "        [ 41.,  43.,   0., ...,  67.,  61.,  10.],\n",
       "        [ 59., -46., -21., ...,  14.,  14.,  14.]]])"
      ]
     },
     "execution_count": 9,
     "metadata": {},
     "output_type": "execute_result"
    }
   ],
   "source": [
    "RA = cmod(dataset.R.squeeze() @ dataset.A.reshape(num_gen, k*n, k*n), q)\n",
    "RA"
   ]
  },
  {
   "cell_type": "code",
   "execution_count": 5,
   "metadata": {},
   "outputs": [],
   "source": [
    "B = dataset.B.reshape(num_gen, -1)"
   ]
  },
  {
   "cell_type": "code",
   "execution_count": 6,
   "metadata": {},
   "outputs": [
    {
     "data": {
      "text/plain": [
       "array([[[  70.],\n",
       "        [ 291.],\n",
       "        [-188.],\n",
       "        [ -50.],\n",
       "        [-106.],\n",
       "        [  42.],\n",
       "        [ -36.],\n",
       "        [-251.],\n",
       "        [ -56.],\n",
       "        [ 120.],\n",
       "        [ 344.],\n",
       "        [ 158.],\n",
       "        [ -78.],\n",
       "        [-200.],\n",
       "        [ 193.],\n",
       "        [  11.],\n",
       "        [  83.],\n",
       "        [-103.],\n",
       "        [-149.],\n",
       "        [  32.],\n",
       "        [-178.],\n",
       "        [ 189.],\n",
       "        [ -73.],\n",
       "        [ 118.],\n",
       "        [  12.],\n",
       "        [  89.],\n",
       "        [ 147.],\n",
       "        [-130.],\n",
       "        [ -82.],\n",
       "        [ 157.],\n",
       "        [  57.],\n",
       "        [ 262.]],\n",
       "\n",
       "       [[  74.],\n",
       "        [ 134.],\n",
       "        [ -30.],\n",
       "        [-161.],\n",
       "        [  62.],\n",
       "        [   2.],\n",
       "        [ -98.],\n",
       "        [ 116.],\n",
       "        [-215.],\n",
       "        [ 188.],\n",
       "        [  -5.],\n",
       "        [-105.],\n",
       "        [ 204.],\n",
       "        [ 158.],\n",
       "        [ 138.],\n",
       "        [-273.],\n",
       "        [ -42.],\n",
       "        [  27.],\n",
       "        [-296.],\n",
       "        [-233.],\n",
       "        [  91.],\n",
       "        [ 169.],\n",
       "        [-139.],\n",
       "        [  70.],\n",
       "        [ -58.],\n",
       "        [ -97.],\n",
       "        [  14.],\n",
       "        [ 149.],\n",
       "        [-121.],\n",
       "        [-208.],\n",
       "        [ 186.],\n",
       "        [ 125.]]])"
      ]
     },
     "execution_count": 6,
     "metadata": {},
     "output_type": "execute_result"
    }
   ],
   "source": [
    "RB = cmod(dataset.R.squeeze() @ B[..., None], q)\n",
    "RB"
   ]
  },
  {
   "cell_type": "code",
   "execution_count": 10,
   "metadata": {},
   "outputs": [
    {
     "data": {
      "text/plain": [
       "array([ 18., -22.,  82., -50.,   9.,  62.,  38., -46., 100., -15., -12.,  44., -52., -31., -11.,  29.])"
      ]
     },
     "execution_count": 10,
     "metadata": {},
     "output_type": "execute_result"
    }
   ],
   "source": [
    "RA[0, 0]"
   ]
  },
  {
   "cell_type": "code",
   "execution_count": null,
   "metadata": {},
   "outputs": [
    {
     "data": {
      "text/plain": [
       "np.float64(3.0)"
      ]
     },
     "execution_count": 153,
     "metadata": {},
     "output_type": "execute_result"
    }
   ],
   "source": [
    "RA_s = dataset.R[0, 0] @ dataset.A[:, 0] % q\n",
    "RA_s "
   ]
  },
  {
   "cell_type": "code",
   "execution_count": null,
   "metadata": {},
   "outputs": [
    {
     "data": {
      "text/plain": [
       "np.float64(3.0)"
      ]
     },
     "execution_count": 154,
     "metadata": {},
     "output_type": "execute_result"
    }
   ],
   "source": [
    "rolled = np.roll(dataset.R[0, 0], shift=2)\n",
    "rolled[0] = -rolled[0]\n",
    "rolled[1] = -rolled[1]\n",
    "RA_s = rolled @ dataset.A[:, 2] % q\n",
    "RA_s"
   ]
  },
  {
   "cell_type": "code",
   "execution_count": null,
   "metadata": {},
   "outputs": [
    {
     "data": {
      "text/plain": [
       "array([[  7.,  -1.,  12.,  -2.,  -1., -13.,  -5.,  -3.,  -5.,   9.,   9.,\n",
       "         -7.,   1.,  -6.,   7.,   3.],\n",
       "       [  3.,   7.,  -1.,  12.,  -2.,  -1., -13.,  -5.,   3.,  -5.,   9.,\n",
       "          9.,  -7.,   1.,  -6.,   7.],\n",
       "       [  7.,   3.,   7.,  -1.,  12.,  -2.,  -1., -13.,   5.,   3.,  -5.,\n",
       "          9.,   9.,  -7.,   1.,  -6.],\n",
       "       [ -6.,   7.,   3.,   7.,  -1.,  12.,  -2.,  -1.,  13.,   5.,   3.,\n",
       "         -5.,   9.,   9.,  -7.,   1.],\n",
       "       [  1.,  -6.,   7.,   3.,   7.,  -1.,  12.,  -2.,   1.,  13.,   5.,\n",
       "          3.,  -5.,   9.,   9.,  -7.],\n",
       "       [ -7.,   1.,  -6.,   7.,   3.,   7.,  -1.,  12.,   2.,   1.,  13.,\n",
       "          5.,   3.,  -5.,   9.,   9.],\n",
       "       [  9.,  -7.,   1.,  -6.,   7.,   3.,   7.,  -1., -12.,   2.,   1.,\n",
       "         13.,   5.,   3.,  -5.,   9.],\n",
       "       [  9.,   9.,  -7.,   1.,  -6.,   7.,   3.,   7.,   1., -12.,   2.,\n",
       "          1.,  13.,   5.,   3.,  -5.],\n",
       "       [ -5.,   9.,   9.,  -7.,   1.,  -6.,   7.,   3.,   7.,   1., -12.,\n",
       "          2.,   1.,  13.,   5.,   3.],\n",
       "       [  3.,  -5.,   9.,   9.,  -7.,   1.,  -6.,   7.,   3.,   7.,   1.,\n",
       "        -12.,   2.,   1.,  13.,   5.],\n",
       "       [  5.,   3.,  -5.,   9.,   9.,  -7.,   1.,  -6.,   7.,   3.,   7.,\n",
       "          1., -12.,   2.,   1.,  13.],\n",
       "       [ 13.,   5.,   3.,  -5.,   9.,   9.,  -7.,   1.,  -6.,   7.,   3.,\n",
       "          7.,   1., -12.,   2.,   1.],\n",
       "       [  1.,  13.,   5.,   3.,  -5.,   9.,   9.,  -7.,   1.,  -6.,   7.,\n",
       "          3.,   7.,   1., -12.,   2.],\n",
       "       [  2.,   1.,  13.,   5.,   3.,  -5.,   9.,   9.,  -7.,   1.,  -6.,\n",
       "          7.,   3.,   7.,   1., -12.],\n",
       "       [-12.,   2.,   1.,  13.,   5.,   3.,  -5.,   9.,   9.,  -7.,   1.,\n",
       "         -6.,   7.,   3.,   7.,   1.],\n",
       "       [  1., -12.,   2.,   1.,  13.,   5.,   3.,  -5.,   9.,   9.,  -7.,\n",
       "          1.,  -6.,   7.,   3.,   7.]])"
      ]
     },
     "execution_count": 10,
     "metadata": {},
     "output_type": "execute_result"
    }
   ],
   "source": [
    "R = circulant(dataset.R[0, 1])\n",
    "tri = np.triu_indices(n, 1)\n",
    "R[tri] *= -1\n",
    "R"
   ]
  },
  {
   "cell_type": "code",
   "execution_count": null,
   "metadata": {},
   "outputs": [
    {
     "data": {
      "text/plain": [
       "array([[ 1534.,   -18.,   248.,  -134.,   699.,   607.,  1578.,  -907.],\n",
       "       [  913.,   303.,    99.,   523.,  -217.,   325.,  1575.,   596.],\n",
       "       [   -6.,  -168.,  -859., -1476.,   755.,  1097.,   737.,  1389.],\n",
       "       [ -716.,  -970., -1621.,  1655.,  -506.,   431., -1596.,   846.]])"
      ]
     },
     "execution_count": 60,
     "metadata": {},
     "output_type": "execute_result"
    }
   ],
   "source": [
    "RA = R.T @ dataset.A % q\n",
    "RA[RA > q // 2] -= q\n",
    "RA"
   ]
  },
  {
   "cell_type": "code",
   "execution_count": null,
   "metadata": {},
   "outputs": [
    {
     "data": {
      "text/plain": [
       "array([ 28.,  25., -93., -22., -59.,  90.,  65.,  39.])"
      ]
     },
     "execution_count": 167,
     "metadata": {},
     "output_type": "execute_result"
    }
   ],
   "source": [
    "RB = R.T @ dataset.B % q\n",
    "RB[RB > q // 2] -= q\n",
    "RB"
   ]
  },
  {
   "cell_type": "code",
   "execution_count": 11,
   "metadata": {},
   "outputs": [
    {
     "data": {
      "text/plain": [
       "(64, 16, 16)"
      ]
     },
     "execution_count": 11,
     "metadata": {},
     "output_type": "execute_result"
    }
   ],
   "source": [
    "big_R = np.stack([neg_circ(row).T for reduced_matrix in dataset.R for row in reduced_matrix])\n",
    "big_R.shape"
   ]
  },
  {
   "cell_type": "code",
   "execution_count": null,
   "metadata": {},
   "outputs": [
    {
     "data": {
      "text/plain": [
       "array([[[  3.,   9.,  54., ..., -72.,   2., -14.],\n",
       "        [ 14.,   3.,   9., ..., -54., -72.,   2.],\n",
       "        [ -2.,  14.,   3., ..., -10., -54., -72.],\n",
       "        ...,\n",
       "        [ 10.,  54.,  72., ...,   3.,   9.,  54.],\n",
       "        [-54.,  10.,  54., ...,  14.,   3.,   9.],\n",
       "        [ -9., -54.,  10., ...,  -2.,  14.,   3.]],\n",
       "\n",
       "       [[ 37., -40., -77., ...,  97.,  73.,  12.],\n",
       "        [-12.,  37., -40., ...,  31.,  97.,  73.],\n",
       "        [-73., -12.,  37., ...,   7.,  31.,  97.],\n",
       "        ...,\n",
       "        [ -7., -31., -97., ...,  37., -40., -77.],\n",
       "        [ 77.,  -7., -31., ..., -12.,  37., -40.],\n",
       "        [ 40.,  77.,  -7., ..., -73., -12.,  37.]],\n",
       "\n",
       "       [[ 52., -68.,  17., ...,  -6., -22., -75.],\n",
       "        [ 75.,  52., -68., ..., -30.,  -6., -22.],\n",
       "        [ 22.,  75.,  52., ...,  74., -30.,  -6.],\n",
       "        ...,\n",
       "        [-74.,  30.,   6., ...,  52., -68.,  17.],\n",
       "        [-17., -74.,  30., ...,  75.,  52., -68.],\n",
       "        [ 68., -17., -74., ...,  22.,  75.,  52.]],\n",
       "\n",
       "       ...,\n",
       "\n",
       "       [[  2.,  40., -31., ..., -23.,  25.,  75.],\n",
       "        [-75.,   2.,  40., ...,  -3., -23.,  25.],\n",
       "        [-25., -75.,   2., ..., -23.,  -3., -23.],\n",
       "        ...,\n",
       "        [ 23.,   3.,  23., ...,   2.,  40., -31.],\n",
       "        [ 31.,  23.,   3., ..., -75.,   2.,  40.],\n",
       "        [-40.,  31.,  23., ..., -25., -75.,   2.]],\n",
       "\n",
       "       [[ 38.,  14., -28., ..., -22., -17., -34.],\n",
       "        [ 34.,  38.,  14., ...,  43., -22., -17.],\n",
       "        [ 17.,  34.,  38., ...,  17.,  43., -22.],\n",
       "        ...,\n",
       "        [-17., -43.,  22., ...,  38.,  14., -28.],\n",
       "        [ 28., -17., -43., ...,  34.,  38.,  14.],\n",
       "        [-14.,  28., -17., ...,  17.,  34.,  38.]],\n",
       "\n",
       "       [[-37.,  11., -86., ...,  37.,  26., -73.],\n",
       "        [ 73., -37.,  11., ..., -36.,  37.,  26.],\n",
       "        [-26.,  73., -37., ...,  89., -36.,  37.],\n",
       "        ...,\n",
       "        [-89.,  36., -37., ..., -37.,  11., -86.],\n",
       "        [ 86., -89.,  36., ...,  73., -37.,  11.],\n",
       "        [-11.,  86., -89., ..., -26.,  73., -37.]]])"
      ]
     },
     "execution_count": 159,
     "metadata": {},
     "output_type": "execute_result"
    }
   ],
   "source": [
    "big_RA = big_R @ dataset.A % q\n",
    "big_RA[big_RA > q // 2] -= q\n",
    "big_RA"
   ]
  },
  {
   "cell_type": "code",
   "execution_count": null,
   "metadata": {},
   "outputs": [
    {
     "data": {
      "text/plain": [
       "array([[36.34126442, 37.15087482, 37.05654463, 36.19651226, 28.94283158,\n",
       "        26.64934333, 35.35799061, 36.12132334],\n",
       "       [52.84411036, 53.74476719, 55.53996309, 48.11184885, 42.66951488,\n",
       "        41.14000486, 52.58980414, 55.05168027],\n",
       "       [49.64561914, 48.83646179, 47.20434302, 46.63689527, 42.90978909,\n",
       "        49.60846702, 50.06683034, 45.90411202],\n",
       "       [55.05168027, 52.84411036, 53.74476719, 55.53996309, 48.11184885,\n",
       "        42.66951488, 41.14000486, 52.58980414],\n",
       "       [41.63231918, 49.61791511, 49.88925235, 48.93298989, 48.55151903,\n",
       "        40.05543034, 47.08768416, 41.63231918],\n",
       "       [36.12132334, 36.34126442, 37.15087482, 37.05654463, 36.19651226,\n",
       "        28.94283158, 26.64934333, 35.35799061],\n",
       "       [35.73776014, 36.01648928, 37.72515739, 37.61648575, 41.03885354,\n",
       "        41.06930119, 32.78242669, 36.28618883],\n",
       "       [59.75457618, 60.59999484, 57.59218154, 58.55753047, 58.06233181,\n",
       "        60.40992779, 55.03848086, 60.1860397 ],\n",
       "       [26.66429026, 26.66429026, 25.26824836, 26.68537755, 24.70545233,\n",
       "        25.73148606, 26.33883777, 25.92748301],\n",
       "       [34.78864757, 35.03837182, 34.3902239 , 34.28100786, 33.38038346,\n",
       "        30.62168349, 33.21144381, 33.46173187],\n",
       "       [47.08768416, 41.63231918, 41.63231918, 49.61791511, 49.88925235,\n",
       "        48.93298989, 48.55151903, 40.05543034],\n",
       "       [49.60846702, 50.06683034, 45.90411202, 49.64561914, 48.83646179,\n",
       "        47.20434302, 46.63689527, 42.90978909],\n",
       "       [42.90978909, 49.60846702, 50.06683034, 45.90411202, 49.64561914,\n",
       "        48.83646179, 47.20434302, 46.63689527],\n",
       "       [34.28100786, 33.38038346, 30.62168349, 33.21144381, 33.46173187,\n",
       "        34.78864757, 35.03837182, 34.3902239 ],\n",
       "       [28.45143889, 26.71814692, 24.73579138, 20.64544441, 27.06675775,\n",
       "        28.10666069, 26.00450682, 27.30127057],\n",
       "       [55.7694753 , 55.6056146 , 56.34589049, 56.09910316, 56.35919956,\n",
       "        53.00221104, 56.39245849, 56.42902068]])"
      ]
     },
     "execution_count": 160,
     "metadata": {},
     "output_type": "execute_result"
    }
   ],
   "source": [
    "np.std(big_RA, axis=-1)"
   ]
  },
  {
   "cell_type": "code",
   "execution_count": null,
   "metadata": {},
   "outputs": [
    {
     "data": {
      "text/plain": [
       "array([[  28.,   25.,  -93.,  -22.,  -59.,   90.,   65.,   39.],\n",
       "       [ -89.,   26.,  152.,    2.,  -86., -192.,  -82.,   46.],\n",
       "       [ -87., -101.,   57.,   66.,   47.,  -20.,  -63.,   -4.],\n",
       "       [ -46.,  -89.,   26.,  152.,    2.,  -86., -192.,  -82.],\n",
       "       [ -39.,  -69.,  -37.,  124.,  -64.,  104.,  -24.,   64.],\n",
       "       [ -39.,   28.,   25.,  -93.,  -22.,  -59.,   90.,   65.],\n",
       "       [-125.,   12.,  -10.,  -57.,  -21., -166.,   87.,   61.],\n",
       "       [-141.,  146.,    1.,   31., -123.,  -76.,   94.,   55.],\n",
       "       [   4.,  -89.,   28.,   23.,   36.,  -56.,  -89.,  -13.],\n",
       "       [ -17.,   85.,   61.,  -51.,  -59.,   20.,  145.,  102.],\n",
       "       [  24.,  -64.,  -39.,  -69.,  -37.,  124.,  -64.,  104.],\n",
       "       [  20.,   63.,    4.,  -87., -101.,   57.,   66.,   47.],\n",
       "       [ -47.,   20.,   63.,    4.,  -87., -101.,   57.,   66.],\n",
       "       [  51.,   59.,  -20., -145., -102.,  -17.,   85.,   61.],\n",
       "       [ -65.,    1.,  -23.,   34.,  -24.,   26.,  -32.,   64.],\n",
       "       [-181.,   35.,  -30.,   16.,   73.,  -98.,   31., -125.]])"
      ]
     },
     "execution_count": 161,
     "metadata": {},
     "output_type": "execute_result"
    }
   ],
   "source": [
    "big_RB = big_R @ dataset.B % q\n",
    "big_RB[big_RB > q // 2] -= q\n",
    "big_RB"
   ]
  },
  {
   "cell_type": "code",
   "execution_count": null,
   "metadata": {},
   "outputs": [
    {
     "data": {
      "text/plain": [
       "array([[  28.,   25.,  -93.,  -22.,  -59.,   90.,   65.,   39.],\n",
       "       [ -89.,   26.,  152.,    2.,  -86., -192.,  -82.,   46.],\n",
       "       [ -87., -101.,   57.,   66.,   47.,  -20.,  -63.,   -4.],\n",
       "       [ -46.,  -89.,   26.,  152.,    2.,  -86., -192.,  -82.],\n",
       "       [ -39.,  -69.,  -37.,  124.,  -64.,  104.,  -24.,   64.],\n",
       "       [ -39.,   28.,   25.,  -93.,  -22.,  -59.,   90.,   65.],\n",
       "       [-125.,   12.,  -10.,  -57.,  -21., -166.,   87.,   61.],\n",
       "       [-141.,  146.,    1.,   31., -123.,  -76.,   94.,   55.],\n",
       "       [   4.,  -89.,   28.,   23.,   36.,  -56.,  -89.,  -13.],\n",
       "       [ -17.,   85.,   61.,  -51.,  -59.,   20.,  145.,  102.],\n",
       "       [  24.,  -64.,  -39.,  -69.,  -37.,  124.,  -64.,  104.],\n",
       "       [  20.,   63.,    4.,  -87., -101.,   57.,   66.,   47.],\n",
       "       [ -47.,   20.,   63.,    4.,  -87., -101.,   57.,   66.],\n",
       "       [  51.,   59.,  -20., -145., -102.,  -17.,   85.,   61.],\n",
       "       [ -65.,    1.,  -23.,   34.,  -24.,   26.,  -32.,   64.],\n",
       "       [-181.,   35.,  -30.,   16.,   73.,  -98.,   31., -125.]])"
      ]
     },
     "execution_count": 162,
     "metadata": {},
     "output_type": "execute_result"
    }
   ],
   "source": [
    "get_no_mod(params, big_RA, dataset.secret, big_RB)"
   ]
  },
  {
   "cell_type": "code",
   "execution_count": null,
   "metadata": {},
   "outputs": [
    {
     "data": {
      "text/plain": [
       "array([[-12.,  14., -24.,  18., -47., -36.,   2.,  26.],\n",
       "       [-24.,  -7.,  18., -17., -20., -18., -11.,  16.],\n",
       "       [-29., -11.,  11.,  21., -49., -43., -25.,  18.],\n",
       "       [-16., -24.,  -7.,  18., -17., -20., -18., -11.],\n",
       "       [ -3.,  -1.,  -1.,  42., -15.,  15.,  13.,  -9.],\n",
       "       [-26., -12.,  14., -24.,  18., -47., -36.,   2.],\n",
       "       [-27.,   4.,  -7.,   0., -25., -69.,   6.,  55.],\n",
       "       [ 17.,   1.,  26., -13.,  -1.,  32.,  28.,  17.],\n",
       "       [ 15., -57.,  21., -14.,   8.,  -7., -60.,   6.],\n",
       "       [ -9.,  42.,  36.,  -7.,   6.,  -1.,  67.,  54.],\n",
       "       [-13.,   9.,  -3.,  -1.,  -1.,  42., -15.,  15.],\n",
       "       [ 43.,  25., -18., -29., -11.,  11.,  21., -49.],\n",
       "       [ 49.,  43.,  25., -18., -29., -11.,  11.,  21.],\n",
       "       [  7.,  -6.,   1., -67., -54.,  -9.,  42.,  36.],\n",
       "       [ -3.,   4., -39., -43., -58.,  32.,  -3.,  43.],\n",
       "       [-22.,  -2., -30., -21.,  10.,  25., -16.,   1.]])"
      ]
     },
     "execution_count": 163,
     "metadata": {},
     "output_type": "execute_result"
    }
   ],
   "source": [
    "A_s = big_RA @ dataset.secret\n",
    "e = (big_RB - A_s) % q\n",
    "e[e > q // 2] -= q\n",
    "e"
   ]
  },
  {
   "cell_type": "code",
   "execution_count": null,
   "metadata": {},
   "outputs": [
    {
     "name": "stdout",
     "output_type": "stream",
     "text": [
      "RA shape: (8, 8)\n",
      "dataset.A shape: (8, 8)\n",
      "dataset.R shape: (1, 16, 8)\n",
      "dataset.secret shape: (8,)\n"
     ]
    }
   ],
   "source": [
    "print(\"RA shape:\", RA.shape)\n",
    "print(\"dataset.A shape:\", dataset.A.shape)\n",
    "print(\"dataset.R shape:\", dataset.R.shape)\n",
    "print(\"dataset.secret shape:\", dataset.secret.shape)"
   ]
  }
 ],
 "metadata": {
  "kernelspec": {
   "display_name": "mlwe",
   "language": "python",
   "name": "python3"
  },
  "language_info": {
   "codemirror_mode": {
    "name": "ipython",
    "version": 3
   },
   "file_extension": ".py",
   "mimetype": "text/x-python",
   "name": "python",
   "nbconvert_exporter": "python",
   "pygments_lexer": "ipython3",
   "version": "3.12.9"
  }
 },
 "nbformat": 4,
 "nbformat_minor": 2
}
