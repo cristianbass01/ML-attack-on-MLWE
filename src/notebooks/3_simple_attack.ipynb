{
 "cells": [
  {
   "cell_type": "markdown",
   "metadata": {},
   "source": [
    "# Training Notebook"
   ]
  },
  {
   "cell_type": "code",
   "execution_count": 1,
   "metadata": {},
   "outputs": [
    {
     "name": "stderr",
     "output_type": "stream",
     "text": [
      "/home/cristian/miniconda3/envs/mlwe/lib/python3.12/site-packages/g6k/__init__.py:23: UserWarning: pkg_resources is deprecated as an API. See https://setuptools.pypa.io/en/latest/pkg_resources.html. The pkg_resources package is slated for removal as early as 2025-11-30. Refrain from using this package or pin to Setuptools<81.\n",
      "  from .siever_params import SieverParams  # noqa\n"
     ]
    }
   ],
   "source": [
    "import sys\n",
    "import os\n",
    "\n",
    "# Add the parent directory to sys.path\n",
    "sys.path.append(os.path.abspath(os.path.join(os.getcwd(), '..')))\n",
    "\n",
    "from kyber.mlwe import MLWE\n",
    "from ml_attack import check_secret, clean_secret, get_no_mod, LWEDataset, get_filename_from_params\n",
    "from ml_attack.utils import get_lwe_default_params, get_reduction_default_params, get_continuous_reduction_default_params, get_default_params, get_b_distribution, get_percentage_true_b, get_true_mask, \\\n",
    "    get_vector_distribution\n",
    "from ml_attack.train import LinearComplex, train_until_stall\n",
    "\n",
    "import numpy as np\n",
    "import torch\n",
    "import torch.nn as nn\n",
    "\n",
    "from sklearn.metrics import confusion_matrix, classification_report\n",
    "from sklearn.linear_model import HuberRegressor"
   ]
  },
  {
   "cell_type": "markdown",
   "metadata": {},
   "source": [
    "## Dataset creation"
   ]
  },
  {
   "cell_type": "markdown",
   "metadata": {},
   "source": [
    "Training debug:"
   ]
  },
  {
   "cell_type": "code",
   "execution_count": 4,
   "metadata": {},
   "outputs": [
    {
     "name": "stdout",
     "output_type": "stream",
     "text": [
      "Generating dataset and saving to ./../data/data_n_32_k_1_s_binary_a081a.pkl\n",
      "Reducing 39 matrices using 8 threads.\n",
      " - Starting std: 1.0381403665259166\n",
      "Starting new flatter run.\n",
      " - Starting std: 1.0479145484710382\n",
      "Starting new flatter run.\n",
      " - Starting std: 1.0256035579943001\n",
      "Starting new flatter run.\n",
      " - Starting std: 1.0623034874305537\n",
      "Starting new flatter run.\n",
      " - Starting std: 1.0424691987224404\n",
      "Starting new flatter run.\n",
      " - Starting std: 1.022070646549283\n",
      "Starting new flatter run.\n",
      " - Starting std: 1.0318361839234185\n",
      "Starting new flatter run.\n",
      " - Starting std: 1.04455331701888\n",
      "Starting new flatter run.\n",
      " - Solvable for: 60 out of 60\n",
      "Reduction is solvable.\n",
      " - Starting std: 1.0401050038409954\n",
      "Starting new flatter run.\n",
      " - Solvable for: 60 out of 60\n",
      "Reduction is solvable.\n",
      " - Starting std: 1.0473287851852748\n",
      "Starting new flatter run.\n",
      " - Solvable for: 60 out of 60\n",
      "Reduction is solvable.\n",
      " - Starting std: 1.0474728674522353\n",
      "Starting new flatter run.\n",
      " - Solvable for: 60 out of 60\n",
      "Reduction is solvable.\n",
      " - Starting std: 1.0414270597222963\n",
      "Starting new flatter run.\n",
      " - Solvable for: 60 out of 60\n",
      "Reduction is solvable.\n",
      " - Starting std: 1.0425121101898087\n",
      "Starting new flatter run.\n",
      " - Solvable for: 60 out of 60\n",
      "Reduction is solvable.\n",
      " - Starting std: 1.049026942224475\n",
      "Starting new flatter run.\n",
      " - Solvable for: 60 out of 60\n",
      "Reduction is solvable.\n",
      " - Starting std: 1.0364515807494545\n",
      "Starting new flatter run.\n",
      " - Solvable for: 60 out of 60\n",
      "Reduction is solvable.\n",
      " - Starting std: 1.0200065312015714\n",
      "Starting new flatter run.\n",
      " - Solvable for: 60 out of 60\n",
      "Reduction is solvable.\n",
      " - Starting std: 1.0388283061886547\n",
      "Starting new flatter run.\n",
      " - Solvable for: 60 out of 60\n",
      "Reduction is solvable.\n",
      " - Starting std: 1.0348934051683236\n",
      "Starting new flatter run.\n",
      " - Solvable for: 60 out of 60\n",
      "Reduction is solvable.\n",
      " - Starting std: 1.045220854800579\n",
      "Starting new flatter run.\n",
      " - Solvable for: 60 out of 60\n",
      "Reduction is solvable.\n",
      " - Starting std: 1.0362904169088256\n",
      "Starting new flatter run.\n",
      " - Solvable for: 60 out of 60\n",
      "Reduction is solvable.\n",
      " - Starting std: 1.0409920965421753\n",
      "Starting new flatter run.\n",
      " - Solvable for: 60 out of 60\n",
      "Reduction is solvable.\n",
      " - Starting std: 1.0312830294702398\n",
      "Starting new flatter run.\n",
      " - Solvable for: 60 out of 60\n",
      "Reduction is solvable.\n",
      " - Starting std: 1.0361657841361513\n",
      "Starting new flatter run.\n",
      " - Solvable for: 60 out of 60\n",
      "Reduction is solvable.\n",
      " - Starting std: 1.0597782212993452\n",
      "Starting new flatter run.\n",
      " - Solvable for: 60 out of 60\n",
      "Reduction is solvable.\n",
      " - Starting std: 1.0362364838140052\n",
      "Starting new flatter run.\n",
      " - Solvable for: 60 out of 60\n",
      "Reduction is solvable.\n",
      " - Starting std: 1.049096659311241\n",
      "Starting new flatter run.\n",
      " - Solvable for: 60 out of 60\n",
      "Reduction is solvable.\n",
      " - Starting std: 1.0401985973067565\n",
      "Starting new flatter run.\n",
      " - Solvable for: 60 out of 60\n",
      "Reduction is solvable.\n",
      " - Starting std: 1.0284237674870529\n",
      "Starting new flatter run.\n",
      " - Solvable for: 60 out of 60\n",
      "Reduction is solvable.\n",
      " - Starting std: 1.0376143396542934\n",
      "Starting new flatter run.\n",
      " - Solvable for: 60 out of 60\n",
      "Reduction is solvable.\n",
      " - Starting std: 1.034549748760383\n",
      "Starting new flatter run.\n",
      " - Solvable for: 60 out of 60\n",
      "Reduction is solvable.\n",
      " - Starting std: 1.0381353679320025\n",
      "Starting new flatter run.\n",
      " - Solvable for: 60 out of 60\n",
      "Reduction is solvable.\n",
      " - Starting std: 1.0254736857112798\n",
      "Starting new flatter run.\n",
      " - Solvable for: 60 out of 60\n",
      "Reduction is solvable.\n",
      " - Starting std: 1.0457064547658894\n",
      "Starting new flatter run.\n",
      " - Solvable for: 60 out of 60\n",
      "Reduction is solvable.\n",
      " - Starting std: 1.0518277454187588\n",
      "Starting new flatter run.\n",
      " - Solvable for: 60 out of 60\n",
      "Reduction is solvable.\n",
      " - Starting std: 1.0299287543080229\n",
      "Starting new flatter run.\n",
      " - Solvable for: 60 out of 60\n",
      "Reduction is solvable.\n",
      " - Starting std: 1.0364275736527406\n",
      "Starting new flatter run.\n",
      " - Solvable for: 60 out of 60\n",
      "Reduction is solvable.\n",
      " - Starting std: 1.0348411914256581\n",
      "Starting new flatter run.\n",
      " - Solvable for: 60 out of 60\n",
      "Reduction is solvable.\n",
      " - Starting std: 1.043138476756372\n",
      "Starting new flatter run.\n",
      " - Solvable for: 60 out of 60\n",
      "Reduction is solvable.\n",
      " - Starting std: 1.0242685840000954\n",
      "Starting new flatter run.\n",
      " - Solvable for: 60 out of 60\n",
      "Reduction is solvable.\n",
      " - Solvable for: 60 out of 60\n",
      "Reduction is solvable.\n",
      " - Solvable for: 60 out of 60\n",
      "Reduction is solvable.\n",
      " - Solvable for: 60 out of 60\n",
      "Reduction is solvable.\n",
      " - Solvable for: 60 out of 60\n",
      "Reduction is solvable.\n",
      " - Solvable for: 60 out of 60\n",
      "Reduction is solvable.\n",
      " - Solvable for: 60 out of 60\n",
      "Reduction is solvable.\n",
      " - Solvable for: 60 out of 60\n",
      "Reduction is solvable.\n",
      "Mean overall std_B: 199.62634219240525\n",
      "Dataset saved to ./../data/data_n_32_k_1_s_binary_a081a.pkl\n"
     ]
    }
   ],
   "source": [
    "params = get_default_params()\n",
    "params.update(get_reduction_default_params())\n",
    "params.update({\n",
    "    'n': 32,\n",
    "    'q': 3329,\n",
    "    'secret_type': 'binary',\n",
    "\n",
    "    'num_gen': 4,\n",
    "    'seed': 0,\n",
    "\n",
    "    'reduction_std': 2,\n",
    "    'reduction_factor': 0.875,\n",
    "    'reduction_resampling': True,\n",
    "    'approximation_std': 3,\n",
    "    \n",
    "    'penalty': 4,\n",
    "    'verbose': True,\n",
    "    \"save_to\": \"./../data/\"\n",
    "})\n",
    "\n",
    "filename = get_filename_from_params(params)\n",
    "\n",
    "#filename = \"./../data/data_n_150_k_1_s_binary_ff7b0.pkl\"\n",
    "\n",
    "reload = False\n",
    "if os.path.exists(filename) and reload:\n",
    "    print(f\"Loading dataset from {filename}\")\n",
    "    dataset = LWEDataset.load_reduced(filename)\n",
    "    params = dataset.params\n",
    "else:\n",
    "    print(f\"Generating dataset and saving to {filename}\")\n",
    "    dataset = LWEDataset(params)\n",
    "    dataset.initialize()\n",
    "    dataset.reduction()\n",
    "    dataset.approximate_b()\n",
    "    dataset.save_reduced()"
   ]
  },
  {
   "cell_type": "code",
   "execution_count": 29,
   "metadata": {},
   "outputs": [
    {
     "name": "stdout",
     "output_type": "stream",
     "text": [
      "True B is the best candidate: 2340 / 2340 (100.00%)\n"
     ]
    },
    {
     "data": {
      "text/plain": [
       "np.float64(1.0)"
      ]
     },
     "execution_count": 29,
     "metadata": {},
     "output_type": "execute_result"
    }
   ],
   "source": [
    "get_percentage_true_b(dataset, verbose=True)"
   ]
  },
  {
   "cell_type": "code",
   "execution_count": 7,
   "metadata": {},
   "outputs": [],
   "source": [
    "#for idx, value in enumerate(b_real):\n",
    "#  print(f\"Index {idx}: True B = {value}, best_b = {dataset.b_candidates[idx][np.argmax(dataset.b_probs[idx])]}, prob = {np.max(dataset.b_probs[idx]):.4f}\")"
   ]
  },
  {
   "cell_type": "code",
   "execution_count": 8,
   "metadata": {},
   "outputs": [
    {
     "name": "stdout",
     "output_type": "stream",
     "text": [
      "Secret guessed correctly!\n"
     ]
    }
   ],
   "source": [
    "A_reduced = dataset.get_A()\n",
    "best_b = np.array(dataset.best_b)\n",
    "\n",
    "# 1) Train until stall\n",
    "use_gradient = False\n",
    "if use_gradient:\n",
    "    lr = 1e-3\n",
    "    check_every = 10\n",
    "\n",
    "    # Check if GPU is available and use it if possible\n",
    "    device = torch.device(\"cuda\" if torch.cuda.is_available() else \"cpu\")\n",
    "    model = LinearComplex(params).to(device)\n",
    "    A_reduced = torch.tensor(A_reduced, dtype=torch.float).to(device)\n",
    "    best_b = torch.tensor(best_b, dtype=torch.float).to(device)\n",
    "\n",
    "    epoch = 0\n",
    "    loss, epoch = train_until_stall(model, A_reduced, best_b, dataset, epoch=epoch)\n",
    "    if loss == 0:\n",
    "        print(\"Secret guessed correctly at epoch {}!\".format(epoch))\n",
    "    else:\n",
    "        print(f\"Stalling detected at loss {loss:.4f}.\")\n",
    "\n",
    "    raw_guessed_secret = model.guessed_secret.detach().cpu()\n",
    "else:\n",
    "    model = HuberRegressor(fit_intercept=True, max_iter=10000, alpha=0.0001, epsilon=1.25)\n",
    "    raw_guessed_secret = model.fit(A_reduced, best_b).coef_\n",
    "\n",
    "    guessed_secret = clean_secret(raw_guessed_secret, params)\n",
    "    if check_secret(guessed_secret, dataset.A, dataset.B, params):\n",
    "        print(\"Secret guessed correctly!\")\n",
    "    else:\n",
    "        print(\"Wrong secret guessed!\")"
   ]
  },
  {
   "cell_type": "code",
   "execution_count": 9,
   "metadata": {},
   "outputs": [
    {
     "name": "stdout",
     "output_type": "stream",
     "text": [
      "Number of outliers detected by model: 1117\n",
      "Number of actual outliers among detected: 0\n",
      "Fraction of detected outliers that are actual: 0.00%\n"
     ]
    }
   ],
   "source": [
    "real_mask = get_true_mask(dataset)\n",
    "outlier_mask = model.outliers_\n",
    "# Compare not mask to outlier_mask to see how many outliers are actual outliers\n",
    "num_outliers = np.sum(outlier_mask)\n",
    "num_actual_outliers = np.sum(outlier_mask & (~real_mask))\n",
    "print(f\"Number of outliers detected by model: {num_outliers}\")\n",
    "print(f\"Number of actual outliers among detected: {num_actual_outliers}\")\n",
    "if num_outliers > 0:\n",
    "  print(f\"Fraction of detected outliers that are actual: {num_actual_outliers / num_outliers:.2%}\")"
   ]
  },
  {
   "cell_type": "code",
   "execution_count": 10,
   "metadata": {},
   "outputs": [
    {
     "name": "stdout",
     "output_type": "stream",
     "text": [
      "True B is the best candidate: 1223 / 1223 (100.00%)\n"
     ]
    },
    {
     "data": {
      "text/plain": [
       "np.float64(1.0)"
      ]
     },
     "execution_count": 10,
     "metadata": {},
     "output_type": "execute_result"
    }
   ],
   "source": [
    "non_outlier_indices = np.where(~outlier_mask)[0]\n",
    "get_percentage_true_b(dataset, verbose=True, indices=non_outlier_indices)"
   ]
  },
  {
   "cell_type": "code",
   "execution_count": 11,
   "metadata": {},
   "outputs": [
    {
     "name": "stdout",
     "output_type": "stream",
     "text": [
      "Raw Guessed secret: [-0.08226637  1.04515821  0.97493014  1.0288899  -0.02086501  0.05166768\n",
      "  1.06212252 -0.04446577  1.00778634  0.94790364  0.97576549  0.05087982\n",
      "  0.02434674  0.97663085 -0.04844022  0.00364799  0.94075949  0.93244438\n",
      "  0.94255363 -0.05538213  0.01427396  0.94886504  0.98788517  1.01927622\n",
      "  0.00538173  1.01750243  0.03316809  0.94129635 -0.05706733 -0.0177757\n",
      "  1.02416635  0.00304447]\n",
      "Guessed secret: [0. 1. 1. 1. 0. 0. 1. 0. 1. 1. 1. 0. 0. 1. 0. 0. 1. 1. 1. 0. 0. 1. 1. 1.\n",
      " 0. 1. 0. 1. 0. 0. 1. 0.]\n",
      "Actual secret: [0 1 1 1 0 0 1 0 1 1 1 0 0 1 0 0 1 1 1 0 0 1 1 1 0 1 0 1 0 0 1 0]\n"
     ]
    }
   ],
   "source": [
    "# Check the guessed secret\n",
    "raw_guessed_secret = raw_guessed_secret.cpu().detach().numpy() if use_gradient else raw_guessed_secret\n",
    "guessed_secret = clean_secret(raw_guessed_secret, params)\n",
    "\n",
    "real_secret = dataset.get_secret()\n",
    "\n",
    "print(\"Raw Guessed secret:\", raw_guessed_secret)\n",
    "print(\"Guessed secret:\", guessed_secret)\n",
    "print(\"Actual secret:\", real_secret)"
   ]
  },
  {
   "cell_type": "code",
   "execution_count": 12,
   "metadata": {},
   "outputs": [],
   "source": [
    "# Check the differences between the guessed and actual secret\n",
    "diff = guessed_secret - real_secret\n",
    "raw_diff = raw_guessed_secret[diff != 0]\n",
    "raw_diff[raw_diff > params['q'] // 2] -= params['q']\n",
    "diff_indices = np.nonzero(diff)\n",
    "if len(diff[diff != 0]) > 0:\n",
    "    print(\"Number of differences:\", len(diff[diff != 0]))\n",
    "    print(\"Difference:\", raw_diff)\n",
    "    print(\"real_secret:\", real_secret[diff != 0])\n",
    "    print(\"guessed_secret:\", guessed_secret[diff != 0])\n",
    "    print(\"Indices of differences:\", diff_indices)"
   ]
  },
  {
   "cell_type": "code",
   "execution_count": 13,
   "metadata": {},
   "outputs": [
    {
     "name": "stdout",
     "output_type": "stream",
     "text": [
      "Sorted uncertain indices: [ 0 17  6 16 27 18 28 19  9  5 21 11 14  1  7 26  3  2 12 10 30 13  4 23\n",
      " 29 25 20 22  8 24 15 31]\n",
      "Sorted uncertain values: [0.082 0.068 0.062 0.059 0.059 0.057 0.057 0.055 0.052 0.052 0.051 0.051\n",
      " 0.048 0.045 0.044 0.033 0.029 0.025 0.024 0.024 0.024 0.023 0.021 0.019\n",
      " 0.018 0.018 0.014 0.012 0.008 0.005 0.004 0.003]\n"
     ]
    }
   ],
   "source": [
    "close_to_integer = np.abs(raw_guessed_secret - np.round(raw_guessed_secret))\n",
    "sorted_indices = np.argsort(-close_to_integer)\n",
    "print(\"Sorted uncertain indices:\", sorted_indices)\n",
    "print(\"Sorted uncertain values:\", np.round(close_to_integer[sorted_indices], 3))\n",
    "\n",
    "if len(diff_indices[0]) > 0:\n",
    "  diff_indices_in_sorted = [np.where(sorted_indices == i)[0][0] for i in diff_indices[0]]\n",
    "  print(\"Worst case scenario:\", max(diff_indices_in_sorted))"
   ]
  },
  {
   "cell_type": "code",
   "execution_count": 14,
   "metadata": {},
   "outputs": [
    {
     "name": "stdout",
     "output_type": "stream",
     "text": [
      "Number of uncertain values: 0\n",
      "Number of brute force attempts required: 1\n",
      "Real uncertain secret: []\n"
     ]
    }
   ],
   "source": [
    "from itertools import product\n",
    "\n",
    "# Find values in raw_guessed_secret that are within ±0.1 of an integer\n",
    "close_to_integer = np.abs(raw_guessed_secret - np.round(raw_guessed_secret)) < 0.2\n",
    "uncertain_count = np.sum(~close_to_integer)\n",
    "print(\"Number of uncertain values:\", uncertain_count)\n",
    "\n",
    "# Calculate the number of brute force attacks to perform\n",
    "brute_force_attempts = 2 ** uncertain_count\n",
    "print(\"Number of brute force attempts required:\", brute_force_attempts)\n",
    "\n",
    "# Get the indices of uncertain values\n",
    "uncertain_indices = np.where(~close_to_integer)[0]\n",
    "\n",
    "real_uncertain_secret = real_secret[uncertain_indices]\n",
    "print(\"Real uncertain secret:\", real_uncertain_secret)\n",
    "\n",
    "# Perform brute force attack\n",
    "raw_uncertain_secret = raw_guessed_secret[uncertain_indices]\n",
    "raw_uncertain_secret[raw_uncertain_secret > params['q'] // 2] -= params['q']\n",
    "raw_uncertain_secret = raw_uncertain_secret[np.abs(raw_uncertain_secret) <= params['eta']]\n",
    "\n",
    "lower_values = np.floor(raw_uncertain_secret)\n",
    "upper_values = np.ceil(raw_uncertain_secret)\n",
    "\n",
    "#values = product(*zip(lower_values, upper_values))\n",
    "\n",
    "#for value in values:\n",
    "#    print(\"Trying values:\", value)\n",
    "    # Create a copy of the guessed secret\n",
    "#    brute_force_secret = copy.deepcopy(guessed_secret)\n",
    "    # Update the uncertain values with the current combination\n",
    "#    for idx, val in zip(uncertain_indices, value):\n",
    "#        brute_force_secret[idx] = val\n",
    "    # Check if the guessed secret is correct\n",
    "#    if check_secret(brute_force_secret, dataset.A, dataset.B, params):\n",
    "#        print(\"Brute force attack successful! Guessed secret:\", brute_force_secret)\n",
    "#        break"
   ]
  },
  {
   "cell_type": "code",
   "execution_count": 15,
   "metadata": {},
   "outputs": [
    {
     "name": "stdout",
     "output_type": "stream",
     "text": [
      "Confusion Matrix:\n",
      "       |   0.0   1.0 | Accuracy\n",
      "-------------------------------\n",
      "   0.0 |    15     0 | 100.0%\n",
      "   1.0 |     0    17 | 100.0%\n",
      "\n",
      "Classification Report:\n",
      "              precision    recall  f1-score   support\n",
      "\n",
      "           0       1.00      1.00      1.00        15\n",
      "           1       1.00      1.00      1.00        17\n",
      "\n",
      "    accuracy                           1.00        32\n",
      "   macro avg       1.00      1.00      1.00        32\n",
      "weighted avg       1.00      1.00      1.00        32\n",
      "\n"
     ]
    }
   ],
   "source": [
    "def report(real_secret, guessed_secret):\n",
    "    \"\"\"\n",
    "    Print classification report and confusion matrix.\n",
    "    \"\"\"\n",
    "  \n",
    "    # Get unique sorted labels and compute confusion matrix\n",
    "    labels = np.unique(np.concatenate((real_secret, guessed_secret)))\n",
    "    cm = confusion_matrix(real_secret, guessed_secret, labels=labels)\n",
    "\n",
    "    # Header\n",
    "    header = \"       |\" + \"\".join([f\"{l:>6}\" for l in labels]) + \" | Accuracy\"\n",
    "    print(\"Confusion Matrix:\")\n",
    "    print(header)\n",
    "    print(\"-\" * len(header))\n",
    "\n",
    "    # Rows\n",
    "    for i, row in enumerate(cm):\n",
    "        label = f\"{labels[i]:>6} |\"\n",
    "        values = \"\".join([f\"{v:6}\" for v in row])\n",
    "\n",
    "        correct = row[i]\n",
    "        total = row.sum()\n",
    "        acc = correct / total if total > 0 else 0.0\n",
    "        print(label + values + f\" | {acc:4.1%}\")\n",
    "\n",
    "    # Print classification report\n",
    "    print(\"\\nClassification Report:\")\n",
    "    print(classification_report(real_secret, guessed_secret, zero_division=0))\n",
    "\n",
    "report(real_secret, guessed_secret)"
   ]
  }
 ],
 "metadata": {
  "kernelspec": {
   "display_name": "mlwe",
   "language": "python",
   "name": "python3"
  },
  "language_info": {
   "codemirror_mode": {
    "name": "ipython",
    "version": 3
   },
   "file_extension": ".py",
   "mimetype": "text/x-python",
   "name": "python",
   "nbconvert_exporter": "python",
   "pygments_lexer": "ipython3",
   "version": "3.12.9"
  }
 },
 "nbformat": 4,
 "nbformat_minor": 2
}
